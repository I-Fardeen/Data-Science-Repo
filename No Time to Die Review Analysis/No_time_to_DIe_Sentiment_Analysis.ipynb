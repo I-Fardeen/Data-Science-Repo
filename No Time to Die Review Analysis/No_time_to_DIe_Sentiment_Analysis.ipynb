{
  "nbformat": 4,
  "nbformat_minor": 0,
  "metadata": {
    "colab": {
      "provenance": []
    },
    "kernelspec": {
      "name": "python3",
      "display_name": "Python 3"
    },
    "language_info": {
      "name": "python"
    }
  },
  "cells": [
    {
      "cell_type": "markdown",
      "source": [
        "# Project Title: No Time to DIe (2021) Reviews Analysis 🎬📊\n",
        "\n",
        "## Project Description:\n",
        "\n",
        "Welcome to the captivating world of **\"No Time to DIe\" (2021) Reviews Analysis** 🌟 by Fardeen Ahmad Khan! 🚀 In this exhilarating NLP project, I take you on a journey through the realm of natural language processing, diving deep into the sentiments and emotions hidden within the reviews of the movie \"No Time to Die.\"\n",
        "\n",
        "## Project Stages:\n",
        "\n",
        "### 1. Data Collection: Scraping from IMDB 🕵️‍♂️📈\n",
        "To kick-start this adventure, I embarked on a daring quest to scrape valuable textual data from IMDB. From intricate details to heartfelt reviews, I gathered a treasure trove of information to fuel my analysis.\n",
        "\n",
        "### 2. Reading the Dataset and Initial Checks 📚🔍\n",
        "With my data hoard at hand, I began the thrilling process of reading and inspecting the dataset. This crucial phase involved meticulous checks to ensure data integrity.\n",
        "\n",
        "- **2.1 Prepare the Data for Analysis** 📊✨\n",
        "   I rolled up my sleeves and whipped the raw data into shape, preparing it for the analytical magic that awaited.\n",
        "\n",
        "- **2.2 Remove Unnecessary Symbols and Tags** ❌🏷️\n",
        "   Bid farewell to pesky symbols and unnecessary HTML tags that cluttered my data landscape.\n",
        "\n",
        "- **2.3 Remove Stopwords** 🛑🗑️\n",
        "   Those mundane stopwords had to take a backseat, clearing the stage for the real stars of the show.\n",
        "\n",
        "- **2.4 Convert All Text to Lowercase** ⬇️🔠\n",
        "   To avoid any textual confusion, I ensured that everything was presented in consistent lowercase attire.\n",
        "\n",
        "- **2.5 Vader Sentiment Analysis** 😃😔\n",
        "   I harnessed the power of VADER to analyze and score each sentence's sentiment, unveiling the emotional rollercoaster within the text.\n",
        "\n",
        "- **2.6 Stemming** 🌱🪴\n",
        "   The words received a trimming to their root forms, aligning them for more coherent analysis.\n",
        "\n",
        "- **2.7 Lemmatization** 📘🧪\n",
        "   A magical transformation unfolded as words assumed their base forms, enhancing the semantics for analysis.\n",
        "\n",
        "- **2.8 Count Vectorization using Tf-Idf** 📊🎚️\n",
        "   Text metamorphosed into numerical data through the enchantment of Tf-Idf, laying the groundwork for machine learning.\n",
        "\n",
        "- **2.9 Train-Test Split** 🚂🧩\n",
        "   I embarked on partitioning the dataset into a training and testing ensemble, a crucial act in the grand play of model evaluation.\n",
        "\n",
        "- **2.10 Model Building** 🏗️🤖\n",
        "   Behold the pinnacle of this journey—building machine learning models, including sentiment classifiers, to decode the emotions within the text.\n",
        "\n",
        "## Conclusion:\n",
        "\n",
        "As the curtains fall on this enthralling project, remember that \"No Time to DIe\" Reviews Analysis 🎬📊 isn't just a tale of data and algorithms; it's an expedition fueled by my insatiable curiosity. If you're eager to embark on more adventures with me, check out my [GitHub profile](https://github.com/I-Fardeen). Who knows what secrets and emotions we'll unravel next? Stay curious, stay amazed! 🌟🔍🔥"
      ],
      "metadata": {
        "id": "PHxoqdyJGJZH"
      }
    },
    {
      "cell_type": "markdown",
      "source": [
        "# 1. Starting with scraping the data from IMDB."
      ],
      "metadata": {
        "id": "iYKubnEIOwG-"
      }
    },
    {
      "cell_type": "code",
      "execution_count": null,
      "metadata": {
        "id": "tyQO8IfPOCig"
      },
      "outputs": [],
      "source": [
        "from bs4 import BeautifulSoup\n",
        "import requests\n",
        "import pandas as pd"
      ]
    },
    {
      "cell_type": "code",
      "source": [
        "response = requests.request('GET','https://www.imdb.com/title/tt2382320/reviews?sort=curated&dir=desc&ratingFilter=0')\n",
        "soup = BeautifulSoup(response.content,'html5lib')\n",
        "soup.prettify()\n",
        "#<div class=\"text show-more__control\"></div>\n",
        "\n",
        "table = soup.find('div', attrs = {'class':'lister-list'})\n",
        "review_list = []\n",
        "for i in table.findAll('div',attrs={'class':'text show-more__control'}):\n",
        "  print(i.contents)\n",
        "  review_list.append(i)"
      ],
      "metadata": {
        "id": "SiKaaSvYUnXH"
      },
      "execution_count": null,
      "outputs": []
    },
    {
      "cell_type": "code",
      "source": [
        "len(review_list)"
      ],
      "metadata": {
        "colab": {
          "base_uri": "https://localhost:8080/"
        },
        "id": "IO6zMqETU8FY",
        "outputId": "697aedbd-e4f1-4857-d431-ead940ba8c9f"
      },
      "execution_count": null,
      "outputs": [
        {
          "output_type": "execute_result",
          "data": {
            "text/plain": [
              "25"
            ]
          },
          "metadata": {},
          "execution_count": 33
        }
      ]
    },
    {
      "cell_type": "code",
      "source": [
        "response = requests.request('GET','https://www.imdb.com/title/tt2382320/reviews?sort=submissionDate&dir=desc&ratingFilter=0')\n",
        "soup = BeautifulSoup(response.content,'html5lib')\n",
        "#soup.prettify()\n",
        "#<div class=\"text show-more__control\"></div>\n",
        "\n",
        "table = soup.find('div', attrs = {'class':'lister-list'})\n",
        "for i in table.findAll('div',attrs={'class':'text show-more__control'}):\n",
        "  print(i.contents)\n",
        "  review_list.append(i)"
      ],
      "metadata": {
        "id": "2cfy8TtoQjwS"
      },
      "execution_count": null,
      "outputs": []
    },
    {
      "cell_type": "code",
      "source": [
        "len(review_list)"
      ],
      "metadata": {
        "colab": {
          "base_uri": "https://localhost:8080/"
        },
        "id": "LQgVbMlJWe8C",
        "outputId": "5ef244bb-a170-417d-d938-05e40efbfccb"
      },
      "execution_count": null,
      "outputs": [
        {
          "output_type": "execute_result",
          "data": {
            "text/plain": [
              "50"
            ]
          },
          "metadata": {},
          "execution_count": 36
        }
      ]
    },
    {
      "cell_type": "code",
      "source": [
        "response = requests.request('GET','https://www.imdb.com/title/tt2382320/reviews?sort=totalVotes&dir=desc&ratingFilter=0')\n",
        "soup = BeautifulSoup(response.content,'html5lib')\n",
        "\n",
        "table = soup.find('div', attrs = {'class':'pagecontent'})\n",
        "for i in table.findAll('div',attrs={'class':'text show-more__control'}):\n",
        "  print(i.contents)\n",
        "  review_list.append(i)"
      ],
      "metadata": {
        "id": "jJi7NctVWgsm"
      },
      "execution_count": null,
      "outputs": []
    },
    {
      "cell_type": "code",
      "source": [
        "len(review_list)"
      ],
      "metadata": {
        "colab": {
          "base_uri": "https://localhost:8080/"
        },
        "id": "0aYir5fwX2Lc",
        "outputId": "4da37280-9e35-45a5-af3b-d5a435c2a5b1"
      },
      "execution_count": null,
      "outputs": [
        {
          "output_type": "execute_result",
          "data": {
            "text/plain": [
              "75"
            ]
          },
          "metadata": {},
          "execution_count": 42
        }
      ]
    },
    {
      "cell_type": "code",
      "source": [
        "response = requests.request('GET','https://www.imdb.com/title/tt2382320/reviews?sort=reviewVolume&dir=desc&ratingFilter=0')\n",
        "soup = BeautifulSoup(response.content,'html5lib')\n",
        "\n",
        "table = soup.find('div', attrs = {'class':'pagecontent'})\n",
        "for i in table.findAll('div',attrs={'class':'text show-more__control'}):\n",
        "  print(i.contents)\n",
        "  review_list.append(i)"
      ],
      "metadata": {
        "id": "3hoZu1okX4SV"
      },
      "execution_count": null,
      "outputs": []
    },
    {
      "cell_type": "code",
      "source": [
        "len(review_list)"
      ],
      "metadata": {
        "colab": {
          "base_uri": "https://localhost:8080/"
        },
        "id": "aEdV57A3Yq2f",
        "outputId": "7e7b33f0-462b-4461-82a5-292277c10e6c"
      },
      "execution_count": null,
      "outputs": [
        {
          "output_type": "execute_result",
          "data": {
            "text/plain": [
              "100"
            ]
          },
          "metadata": {},
          "execution_count": 45
        }
      ]
    },
    {
      "cell_type": "code",
      "source": [
        "response = requests.request('GET','https://www.imdb.com/title/tt2382320/reviews?sort=userRating&dir=desc&ratingFilter=0')\n",
        "soup = BeautifulSoup(response.content,'html5lib')\n",
        "\n",
        "table = soup.find('div', attrs = {'class':'pagecontent'})\n",
        "for i in table.findAll('div',attrs={'class':'text show-more__control'}):\n",
        "  print(i.contents)\n",
        "  review_list.append(i)"
      ],
      "metadata": {
        "id": "UDX2Mm3PYsdr"
      },
      "execution_count": null,
      "outputs": []
    },
    {
      "cell_type": "code",
      "source": [
        "len(review_list)"
      ],
      "metadata": {
        "colab": {
          "base_uri": "https://localhost:8080/"
        },
        "id": "Yw1LC4d7Y4H1",
        "outputId": "f7ff5c39-6a72-4634-df12-678b2c3c43b4"
      },
      "execution_count": null,
      "outputs": [
        {
          "output_type": "execute_result",
          "data": {
            "text/plain": [
              "125"
            ]
          },
          "metadata": {},
          "execution_count": 48
        }
      ]
    },
    {
      "cell_type": "code",
      "source": [
        "response = requests.request('GET','https://www.imdb.com/title/tt2382320/reviews?sort=userRating&dir=desc&ratingFilter=5')\n",
        "soup = BeautifulSoup(response.content,'html5lib')\n",
        "\n",
        "table = soup.find('div', attrs = {'class':'pagecontent'})\n",
        "for i in table.findAll('div',attrs={'class':'text show-more__control'}):\n",
        "  print(i.contents)\n",
        "  review_list.append(i)"
      ],
      "metadata": {
        "id": "MYavwD1cZBq1"
      },
      "execution_count": null,
      "outputs": []
    },
    {
      "cell_type": "code",
      "source": [
        "len(review_list)"
      ],
      "metadata": {
        "colab": {
          "base_uri": "https://localhost:8080/"
        },
        "id": "Gcf6hIIXZ5_R",
        "outputId": "66bafa6c-e424-44f0-8d1c-1d0637ba12f7"
      },
      "execution_count": null,
      "outputs": [
        {
          "output_type": "execute_result",
          "data": {
            "text/plain": [
              "150"
            ]
          },
          "metadata": {},
          "execution_count": 51
        }
      ]
    },
    {
      "cell_type": "code",
      "source": [
        "data = pd.DataFrame(review_list,columns=['Review'])"
      ],
      "metadata": {
        "colab": {
          "base_uri": "https://localhost:8080/"
        },
        "id": "bj4ShhZPZ7nF",
        "outputId": "c7caf2d7-e082-4422-e6c3-a10f658a860d"
      },
      "execution_count": null,
      "outputs": [
        {
          "output_type": "stream",
          "name": "stderr",
          "text": [
            "/usr/local/lib/python3.10/dist-packages/pandas/core/internals/construction.py:568: VisibleDeprecationWarning: Creating an ndarray from ragged nested sequences (which is a list-or-tuple of lists-or-tuples-or ndarrays with different lengths or shapes) is deprecated. If you meant to do this, you must specify 'dtype=object' when creating the ndarray.\n",
            "  values = np.array([convert(v) for v in values])\n"
          ]
        }
      ]
    },
    {
      "cell_type": "code",
      "source": [
        "data.head()"
      ],
      "metadata": {
        "colab": {
          "base_uri": "https://localhost:8080/",
          "height": 206
        },
        "id": "ElZ__U-6aOdw",
        "outputId": "3355b773-73a6-410c-ff57-e4838073ed05"
      },
      "execution_count": null,
      "outputs": [
        {
          "output_type": "execute_result",
          "data": {
            "text/plain": [
              "                                              Review\n",
              "0  [Well, that was not very good., [], [], This i...\n",
              "1  [One hardly knows where to begin to dissect th...\n",
              "2  [This Bond movie was a confusing and rather te...\n",
              "3  [It's slow, it's serious, it's moody, it's sul...\n",
              "4  [When I go to see a Bond movie I'm looking for..."
            ],
            "text/html": [
              "\n",
              "  <div id=\"df-d596a1e3-c453-4c9e-9e52-dafe2f58d37b\" class=\"colab-df-container\">\n",
              "    <div>\n",
              "<style scoped>\n",
              "    .dataframe tbody tr th:only-of-type {\n",
              "        vertical-align: middle;\n",
              "    }\n",
              "\n",
              "    .dataframe tbody tr th {\n",
              "        vertical-align: top;\n",
              "    }\n",
              "\n",
              "    .dataframe thead th {\n",
              "        text-align: right;\n",
              "    }\n",
              "</style>\n",
              "<table border=\"1\" class=\"dataframe\">\n",
              "  <thead>\n",
              "    <tr style=\"text-align: right;\">\n",
              "      <th></th>\n",
              "      <th>Review</th>\n",
              "    </tr>\n",
              "  </thead>\n",
              "  <tbody>\n",
              "    <tr>\n",
              "      <th>0</th>\n",
              "      <td>[Well, that was not very good., [], [], This i...</td>\n",
              "    </tr>\n",
              "    <tr>\n",
              "      <th>1</th>\n",
              "      <td>[One hardly knows where to begin to dissect th...</td>\n",
              "    </tr>\n",
              "    <tr>\n",
              "      <th>2</th>\n",
              "      <td>[This Bond movie was a confusing and rather te...</td>\n",
              "    </tr>\n",
              "    <tr>\n",
              "      <th>3</th>\n",
              "      <td>[It's slow, it's serious, it's moody, it's sul...</td>\n",
              "    </tr>\n",
              "    <tr>\n",
              "      <th>4</th>\n",
              "      <td>[When I go to see a Bond movie I'm looking for...</td>\n",
              "    </tr>\n",
              "  </tbody>\n",
              "</table>\n",
              "</div>\n",
              "    <div class=\"colab-df-buttons\">\n",
              "\n",
              "  <div class=\"colab-df-container\">\n",
              "    <button class=\"colab-df-convert\" onclick=\"convertToInteractive('df-d596a1e3-c453-4c9e-9e52-dafe2f58d37b')\"\n",
              "            title=\"Convert this dataframe to an interactive table.\"\n",
              "            style=\"display:none;\">\n",
              "\n",
              "  <svg xmlns=\"http://www.w3.org/2000/svg\" height=\"24px\" viewBox=\"0 -960 960 960\">\n",
              "    <path d=\"M120-120v-720h720v720H120Zm60-500h600v-160H180v160Zm220 220h160v-160H400v160Zm0 220h160v-160H400v160ZM180-400h160v-160H180v160Zm440 0h160v-160H620v160ZM180-180h160v-160H180v160Zm440 0h160v-160H620v160Z\"/>\n",
              "  </svg>\n",
              "    </button>\n",
              "\n",
              "  <style>\n",
              "    .colab-df-container {\n",
              "      display:flex;\n",
              "      gap: 12px;\n",
              "    }\n",
              "\n",
              "    .colab-df-convert {\n",
              "      background-color: #E8F0FE;\n",
              "      border: none;\n",
              "      border-radius: 50%;\n",
              "      cursor: pointer;\n",
              "      display: none;\n",
              "      fill: #1967D2;\n",
              "      height: 32px;\n",
              "      padding: 0 0 0 0;\n",
              "      width: 32px;\n",
              "    }\n",
              "\n",
              "    .colab-df-convert:hover {\n",
              "      background-color: #E2EBFA;\n",
              "      box-shadow: 0px 1px 2px rgba(60, 64, 67, 0.3), 0px 1px 3px 1px rgba(60, 64, 67, 0.15);\n",
              "      fill: #174EA6;\n",
              "    }\n",
              "\n",
              "    .colab-df-buttons div {\n",
              "      margin-bottom: 4px;\n",
              "    }\n",
              "\n",
              "    [theme=dark] .colab-df-convert {\n",
              "      background-color: #3B4455;\n",
              "      fill: #D2E3FC;\n",
              "    }\n",
              "\n",
              "    [theme=dark] .colab-df-convert:hover {\n",
              "      background-color: #434B5C;\n",
              "      box-shadow: 0px 1px 3px 1px rgba(0, 0, 0, 0.15);\n",
              "      filter: drop-shadow(0px 1px 2px rgba(0, 0, 0, 0.3));\n",
              "      fill: #FFFFFF;\n",
              "    }\n",
              "  </style>\n",
              "\n",
              "    <script>\n",
              "      const buttonEl =\n",
              "        document.querySelector('#df-d596a1e3-c453-4c9e-9e52-dafe2f58d37b button.colab-df-convert');\n",
              "      buttonEl.style.display =\n",
              "        google.colab.kernel.accessAllowed ? 'block' : 'none';\n",
              "\n",
              "      async function convertToInteractive(key) {\n",
              "        const element = document.querySelector('#df-d596a1e3-c453-4c9e-9e52-dafe2f58d37b');\n",
              "        const dataTable =\n",
              "          await google.colab.kernel.invokeFunction('convertToInteractive',\n",
              "                                                    [key], {});\n",
              "        if (!dataTable) return;\n",
              "\n",
              "        const docLinkHtml = 'Like what you see? Visit the ' +\n",
              "          '<a target=\"_blank\" href=https://colab.research.google.com/notebooks/data_table.ipynb>data table notebook</a>'\n",
              "          + ' to learn more about interactive tables.';\n",
              "        element.innerHTML = '';\n",
              "        dataTable['output_type'] = 'display_data';\n",
              "        await google.colab.output.renderOutput(dataTable, element);\n",
              "        const docLink = document.createElement('div');\n",
              "        docLink.innerHTML = docLinkHtml;\n",
              "        element.appendChild(docLink);\n",
              "      }\n",
              "    </script>\n",
              "  </div>\n",
              "\n",
              "\n",
              "<div id=\"df-b2d4e8b0-500a-4cf2-b952-ac5401b5f504\">\n",
              "  <button class=\"colab-df-quickchart\" onclick=\"quickchart('df-b2d4e8b0-500a-4cf2-b952-ac5401b5f504')\"\n",
              "            title=\"Suggest charts.\"\n",
              "            style=\"display:none;\">\n",
              "\n",
              "<svg xmlns=\"http://www.w3.org/2000/svg\" height=\"24px\"viewBox=\"0 0 24 24\"\n",
              "     width=\"24px\">\n",
              "    <g>\n",
              "        <path d=\"M19 3H5c-1.1 0-2 .9-2 2v14c0 1.1.9 2 2 2h14c1.1 0 2-.9 2-2V5c0-1.1-.9-2-2-2zM9 17H7v-7h2v7zm4 0h-2V7h2v10zm4 0h-2v-4h2v4z\"/>\n",
              "    </g>\n",
              "</svg>\n",
              "  </button>\n",
              "\n",
              "<style>\n",
              "  .colab-df-quickchart {\n",
              "    background-color: #E8F0FE;\n",
              "    border: none;\n",
              "    border-radius: 50%;\n",
              "    cursor: pointer;\n",
              "    display: none;\n",
              "    fill: #1967D2;\n",
              "    height: 32px;\n",
              "    padding: 0 0 0 0;\n",
              "    width: 32px;\n",
              "  }\n",
              "\n",
              "  .colab-df-quickchart:hover {\n",
              "    background-color: #E2EBFA;\n",
              "    box-shadow: 0px 1px 2px rgba(60, 64, 67, 0.3), 0px 1px 3px 1px rgba(60, 64, 67, 0.15);\n",
              "    fill: #174EA6;\n",
              "  }\n",
              "\n",
              "  [theme=dark] .colab-df-quickchart {\n",
              "    background-color: #3B4455;\n",
              "    fill: #D2E3FC;\n",
              "  }\n",
              "\n",
              "  [theme=dark] .colab-df-quickchart:hover {\n",
              "    background-color: #434B5C;\n",
              "    box-shadow: 0px 1px 3px 1px rgba(0, 0, 0, 0.15);\n",
              "    filter: drop-shadow(0px 1px 2px rgba(0, 0, 0, 0.3));\n",
              "    fill: #FFFFFF;\n",
              "  }\n",
              "</style>\n",
              "\n",
              "  <script>\n",
              "    async function quickchart(key) {\n",
              "      const charts = await google.colab.kernel.invokeFunction(\n",
              "          'suggestCharts', [key], {});\n",
              "    }\n",
              "    (() => {\n",
              "      let quickchartButtonEl =\n",
              "        document.querySelector('#df-b2d4e8b0-500a-4cf2-b952-ac5401b5f504 button');\n",
              "      quickchartButtonEl.style.display =\n",
              "        google.colab.kernel.accessAllowed ? 'block' : 'none';\n",
              "    })();\n",
              "  </script>\n",
              "</div>\n",
              "    </div>\n",
              "  </div>\n"
            ]
          },
          "metadata": {},
          "execution_count": 55
        }
      ]
    },
    {
      "cell_type": "code",
      "source": [
        "data.to_excel('/content/drive/MyDrive/Code Practice/Scrapped Dataset/bond.xlsx')"
      ],
      "metadata": {
        "id": "xaIkMbgoaP1c"
      },
      "execution_count": null,
      "outputs": []
    },
    {
      "cell_type": "code",
      "source": [
        "new_data = pd.read_excel('/content/drive/MyDrive/Code Practice/Scrapped Dataset/bond.xlsx')\n",
        "new_data.head()\n",
        "data = new_data.copy()"
      ],
      "metadata": {
        "id": "4Ecx8Ck1ak5K"
      },
      "execution_count": null,
      "outputs": []
    },
    {
      "cell_type": "markdown",
      "source": [
        "# 2. Reading the dataset and initial checks"
      ],
      "metadata": {
        "id": "txHcotyAbmGs"
      }
    },
    {
      "cell_type": "code",
      "source": [
        "data.head()"
      ],
      "metadata": {
        "colab": {
          "base_uri": "https://localhost:8080/",
          "height": 206
        },
        "id": "2gvuHTbBbrUN",
        "outputId": "0d56ad7c-8f0c-4d1d-d0ce-d5e8f21baf66"
      },
      "execution_count": null,
      "outputs": [
        {
          "output_type": "execute_result",
          "data": {
            "text/plain": [
              "   Unnamed: 0                                             Review\n",
              "0           0  <div class=\"text show-more__control\">Well, tha...\n",
              "1           1  <div class=\"text show-more__control\">One hardl...\n",
              "2           2  <div class=\"text show-more__control\">This Bond...\n",
              "3           3  <div class=\"text show-more__control\">It's slow...\n",
              "4           4  <div class=\"text show-more__control\">When I go..."
            ],
            "text/html": [
              "\n",
              "  <div id=\"df-7fde4eca-e5fe-416b-ae5d-ad53e89b6100\" class=\"colab-df-container\">\n",
              "    <div>\n",
              "<style scoped>\n",
              "    .dataframe tbody tr th:only-of-type {\n",
              "        vertical-align: middle;\n",
              "    }\n",
              "\n",
              "    .dataframe tbody tr th {\n",
              "        vertical-align: top;\n",
              "    }\n",
              "\n",
              "    .dataframe thead th {\n",
              "        text-align: right;\n",
              "    }\n",
              "</style>\n",
              "<table border=\"1\" class=\"dataframe\">\n",
              "  <thead>\n",
              "    <tr style=\"text-align: right;\">\n",
              "      <th></th>\n",
              "      <th>Unnamed: 0</th>\n",
              "      <th>Review</th>\n",
              "    </tr>\n",
              "  </thead>\n",
              "  <tbody>\n",
              "    <tr>\n",
              "      <th>0</th>\n",
              "      <td>0</td>\n",
              "      <td>&lt;div class=\"text show-more__control\"&gt;Well, tha...</td>\n",
              "    </tr>\n",
              "    <tr>\n",
              "      <th>1</th>\n",
              "      <td>1</td>\n",
              "      <td>&lt;div class=\"text show-more__control\"&gt;One hardl...</td>\n",
              "    </tr>\n",
              "    <tr>\n",
              "      <th>2</th>\n",
              "      <td>2</td>\n",
              "      <td>&lt;div class=\"text show-more__control\"&gt;This Bond...</td>\n",
              "    </tr>\n",
              "    <tr>\n",
              "      <th>3</th>\n",
              "      <td>3</td>\n",
              "      <td>&lt;div class=\"text show-more__control\"&gt;It's slow...</td>\n",
              "    </tr>\n",
              "    <tr>\n",
              "      <th>4</th>\n",
              "      <td>4</td>\n",
              "      <td>&lt;div class=\"text show-more__control\"&gt;When I go...</td>\n",
              "    </tr>\n",
              "  </tbody>\n",
              "</table>\n",
              "</div>\n",
              "    <div class=\"colab-df-buttons\">\n",
              "\n",
              "  <div class=\"colab-df-container\">\n",
              "    <button class=\"colab-df-convert\" onclick=\"convertToInteractive('df-7fde4eca-e5fe-416b-ae5d-ad53e89b6100')\"\n",
              "            title=\"Convert this dataframe to an interactive table.\"\n",
              "            style=\"display:none;\">\n",
              "\n",
              "  <svg xmlns=\"http://www.w3.org/2000/svg\" height=\"24px\" viewBox=\"0 -960 960 960\">\n",
              "    <path d=\"M120-120v-720h720v720H120Zm60-500h600v-160H180v160Zm220 220h160v-160H400v160Zm0 220h160v-160H400v160ZM180-400h160v-160H180v160Zm440 0h160v-160H620v160ZM180-180h160v-160H180v160Zm440 0h160v-160H620v160Z\"/>\n",
              "  </svg>\n",
              "    </button>\n",
              "\n",
              "  <style>\n",
              "    .colab-df-container {\n",
              "      display:flex;\n",
              "      gap: 12px;\n",
              "    }\n",
              "\n",
              "    .colab-df-convert {\n",
              "      background-color: #E8F0FE;\n",
              "      border: none;\n",
              "      border-radius: 50%;\n",
              "      cursor: pointer;\n",
              "      display: none;\n",
              "      fill: #1967D2;\n",
              "      height: 32px;\n",
              "      padding: 0 0 0 0;\n",
              "      width: 32px;\n",
              "    }\n",
              "\n",
              "    .colab-df-convert:hover {\n",
              "      background-color: #E2EBFA;\n",
              "      box-shadow: 0px 1px 2px rgba(60, 64, 67, 0.3), 0px 1px 3px 1px rgba(60, 64, 67, 0.15);\n",
              "      fill: #174EA6;\n",
              "    }\n",
              "\n",
              "    .colab-df-buttons div {\n",
              "      margin-bottom: 4px;\n",
              "    }\n",
              "\n",
              "    [theme=dark] .colab-df-convert {\n",
              "      background-color: #3B4455;\n",
              "      fill: #D2E3FC;\n",
              "    }\n",
              "\n",
              "    [theme=dark] .colab-df-convert:hover {\n",
              "      background-color: #434B5C;\n",
              "      box-shadow: 0px 1px 3px 1px rgba(0, 0, 0, 0.15);\n",
              "      filter: drop-shadow(0px 1px 2px rgba(0, 0, 0, 0.3));\n",
              "      fill: #FFFFFF;\n",
              "    }\n",
              "  </style>\n",
              "\n",
              "    <script>\n",
              "      const buttonEl =\n",
              "        document.querySelector('#df-7fde4eca-e5fe-416b-ae5d-ad53e89b6100 button.colab-df-convert');\n",
              "      buttonEl.style.display =\n",
              "        google.colab.kernel.accessAllowed ? 'block' : 'none';\n",
              "\n",
              "      async function convertToInteractive(key) {\n",
              "        const element = document.querySelector('#df-7fde4eca-e5fe-416b-ae5d-ad53e89b6100');\n",
              "        const dataTable =\n",
              "          await google.colab.kernel.invokeFunction('convertToInteractive',\n",
              "                                                    [key], {});\n",
              "        if (!dataTable) return;\n",
              "\n",
              "        const docLinkHtml = 'Like what you see? Visit the ' +\n",
              "          '<a target=\"_blank\" href=https://colab.research.google.com/notebooks/data_table.ipynb>data table notebook</a>'\n",
              "          + ' to learn more about interactive tables.';\n",
              "        element.innerHTML = '';\n",
              "        dataTable['output_type'] = 'display_data';\n",
              "        await google.colab.output.renderOutput(dataTable, element);\n",
              "        const docLink = document.createElement('div');\n",
              "        docLink.innerHTML = docLinkHtml;\n",
              "        element.appendChild(docLink);\n",
              "      }\n",
              "    </script>\n",
              "  </div>\n",
              "\n",
              "\n",
              "<div id=\"df-91b6f013-1d6e-4843-a27a-c0c82751172b\">\n",
              "  <button class=\"colab-df-quickchart\" onclick=\"quickchart('df-91b6f013-1d6e-4843-a27a-c0c82751172b')\"\n",
              "            title=\"Suggest charts.\"\n",
              "            style=\"display:none;\">\n",
              "\n",
              "<svg xmlns=\"http://www.w3.org/2000/svg\" height=\"24px\"viewBox=\"0 0 24 24\"\n",
              "     width=\"24px\">\n",
              "    <g>\n",
              "        <path d=\"M19 3H5c-1.1 0-2 .9-2 2v14c0 1.1.9 2 2 2h14c1.1 0 2-.9 2-2V5c0-1.1-.9-2-2-2zM9 17H7v-7h2v7zm4 0h-2V7h2v10zm4 0h-2v-4h2v4z\"/>\n",
              "    </g>\n",
              "</svg>\n",
              "  </button>\n",
              "\n",
              "<style>\n",
              "  .colab-df-quickchart {\n",
              "    background-color: #E8F0FE;\n",
              "    border: none;\n",
              "    border-radius: 50%;\n",
              "    cursor: pointer;\n",
              "    display: none;\n",
              "    fill: #1967D2;\n",
              "    height: 32px;\n",
              "    padding: 0 0 0 0;\n",
              "    width: 32px;\n",
              "  }\n",
              "\n",
              "  .colab-df-quickchart:hover {\n",
              "    background-color: #E2EBFA;\n",
              "    box-shadow: 0px 1px 2px rgba(60, 64, 67, 0.3), 0px 1px 3px 1px rgba(60, 64, 67, 0.15);\n",
              "    fill: #174EA6;\n",
              "  }\n",
              "\n",
              "  [theme=dark] .colab-df-quickchart {\n",
              "    background-color: #3B4455;\n",
              "    fill: #D2E3FC;\n",
              "  }\n",
              "\n",
              "  [theme=dark] .colab-df-quickchart:hover {\n",
              "    background-color: #434B5C;\n",
              "    box-shadow: 0px 1px 3px 1px rgba(0, 0, 0, 0.15);\n",
              "    filter: drop-shadow(0px 1px 2px rgba(0, 0, 0, 0.3));\n",
              "    fill: #FFFFFF;\n",
              "  }\n",
              "</style>\n",
              "\n",
              "  <script>\n",
              "    async function quickchart(key) {\n",
              "      const charts = await google.colab.kernel.invokeFunction(\n",
              "          'suggestCharts', [key], {});\n",
              "    }\n",
              "    (() => {\n",
              "      let quickchartButtonEl =\n",
              "        document.querySelector('#df-91b6f013-1d6e-4843-a27a-c0c82751172b button');\n",
              "      quickchartButtonEl.style.display =\n",
              "        google.colab.kernel.accessAllowed ? 'block' : 'none';\n",
              "    })();\n",
              "  </script>\n",
              "</div>\n",
              "    </div>\n",
              "  </div>\n"
            ]
          },
          "metadata": {},
          "execution_count": 143
        }
      ]
    },
    {
      "cell_type": "markdown",
      "source": [
        "## 2.1 Prepare the data for analysis"
      ],
      "metadata": {
        "id": "EB0mzMjbdF64"
      }
    },
    {
      "cell_type": "markdown",
      "source": [
        "Removing the tags from the texts"
      ],
      "metadata": {
        "id": "hKfWo82HImhk"
      }
    },
    {
      "cell_type": "code",
      "source": [
        "temp_list = []\n",
        "temp = \"\""
      ],
      "metadata": {
        "id": "yM3ShEc8dEHw"
      },
      "execution_count": null,
      "outputs": []
    },
    {
      "cell_type": "code",
      "source": [
        "for x in data['Review']:\n",
        "  x = x.replace(\"<div class=\\\"text show-more__control\\\">\",\"\")\n",
        "  x = x.replace(\"<br/>\",\"\")\n",
        "  x = x.replace(\"</div>\",\"\")\n",
        "  temp_list.append(x)"
      ],
      "metadata": {
        "id": "Nfp8ENMznlWC"
      },
      "execution_count": null,
      "outputs": []
    },
    {
      "cell_type": "code",
      "source": [
        "len(temp_list)"
      ],
      "metadata": {
        "colab": {
          "base_uri": "https://localhost:8080/"
        },
        "id": "dPqsHU4mpv-r",
        "outputId": "1ec95601-59b2-42d4-efff-0a93dd9d3783"
      },
      "execution_count": null,
      "outputs": [
        {
          "output_type": "execute_result",
          "data": {
            "text/plain": [
              "150"
            ]
          },
          "metadata": {},
          "execution_count": 186
        }
      ]
    },
    {
      "cell_type": "code",
      "source": [
        "data['cleaned_text'] = temp_list"
      ],
      "metadata": {
        "id": "u3BiftWAen8S"
      },
      "execution_count": null,
      "outputs": []
    },
    {
      "cell_type": "code",
      "source": [
        "data['cleaned_text']"
      ],
      "metadata": {
        "colab": {
          "base_uri": "https://localhost:8080/"
        },
        "id": "n5bA0qcmfYh1",
        "outputId": "315534c9-0473-4a87-d121-dc23f409b7ba"
      },
      "execution_count": null,
      "outputs": [
        {
          "output_type": "execute_result",
          "data": {
            "text/plain": [
              "0      Well, that was not very good.This is a movie t...\n",
              "1      One hardly knows where to begin to dissect the...\n",
              "2      This Bond movie was a confusing and rather ted...\n",
              "3      It's slow, it's serious, it's moody, it's sulk...\n",
              "4      When I go to see a Bond movie I'm looking for ...\n",
              "                             ...                        \n",
              "145    James Bond has always had the advantage that m...\n",
              "146    No way in the world that James Bond would ever...\n",
              "147    It starts like a scary movie, without the main...\n",
              "148    Well after viewing this entry in the Bond fran...\n",
              "149    5 films out of mercy as Bond has truly hit the...\n",
              "Name: cleaned_text, Length: 150, dtype: object"
            ]
          },
          "metadata": {},
          "execution_count": 188
        }
      ]
    },
    {
      "cell_type": "markdown",
      "source": [
        "## 2.2 Remove unnecessary symbols from the data using Regex"
      ],
      "metadata": {
        "id": "QrUcbCgmb017"
      }
    },
    {
      "cell_type": "code",
      "source": [
        "import re\n",
        "temp_list = []\n",
        "temp = []\n",
        "for txt in data[\"cleaned_text\"]:\n",
        "    temp.append(re.sub(\"[^a-zA-Z \\n]\",r\"\",txt))\n",
        "\n",
        "print(temp)\n",
        "#data[\"cleaned_text\"] = temp"
      ],
      "metadata": {
        "colab": {
          "base_uri": "https://localhost:8080/"
        },
        "id": "UjJRbEXgbwMl",
        "outputId": "b0baad49-2ebb-4d02-c6e0-ffa0e579cfed"
      },
      "execution_count": null,
      "outputs": [
        {
          "output_type": "stream",
          "name": "stdout",
          "text": [
            "['Well that was not very goodThis is a movie that feels like it was written by committee with anything resembling a central idea having been diluted to nothing I could be okay with that if the film Cary Fukunagas No Time to Die Daniel Craigs last outing as the secret agent James Bond operated on some basic entertaining level but the committeelike script destroys any sense of structure to the story creating stops and starts that never feel right while the story itself keeps feeling like its beginning at different points The emotional connection is contrived and weak which undermines the supposedly emotional ending of the film This isa giant mess and one of the worst Bond films Not the worst but its pretty closeThe desire to have all of the Craig films be some giant interconnected puzzle was always a halfhearted effort that started in the previous film Spectre and the continuation of the effort here is borderline embarrassing After an opening showing a young French girl escaping an assassin when he takes pity on her and pulls her out of a frozen lake taken from a line of dialogue in the previous film we get Bond Craig and Madeleine Swann Lea Seydoux the girl from the last movie enjoying time together in Italy They are in love and the movie spends very little time trying to convince us before Madeleine is telling Bond that they will never be happy together as long as Bond is still obsessing over Vesper Lynd I meanwhat If were going to treat these five movies as one long story then we have to consider the idea that Bonds dismissal of Lynds death at the end of Casino Royale was final andumthat his letting go of his rage at her death at the end of Quantum of Solace was also final She hadnt been mentioned in Skyfall which felt like it happened years maybe even more than a decade after Quantum ended and only mentioned in a single line of dialogue in Spectre by someone else This is the beginning of an effort to have Craigs Bond say goodbye to the franchise as a whole and it quite simply does not workAt Lynds grave Bond is attacked by Spectre and he blames Madeleine When they get away he puts her on a train and promises to never see her again before we get our title sequence and a jump ahead by five years Why this jump of five years To give Bond a child is why He doesnt know about it yet though In the meantime hes retired and his  moniker has been passed on by M Ralph Fiennes to Nomi Lashana Lynch When a mysterious figure organizes a raid on a topsecret British biolab and steals a DNAtargeting weapon and defected Russian scientist David Dencik the uncooperative CIA and MI are both on the trail that starts in Santiago Cuba The American agent Felix Leiter Jeffrey Wright invites Bond along on the mission and the movie missteps heavilyWith this being the Bond farewell tour hes saying goodbye to every major figure in the franchise including Leiter So with whom does Bond spend most of his Cuba time with Paloma Ana de Armas a new secret agent who looks great in a slinky dress kicks some butt and then vanishes from the movie completely This mission should have been done with Leiter so they could have had one final hurrah before Leiter dies Instead its with a throwaway character who doesnt matter The other problem with this scene is that its the closing of the chapter on SPECTRE as an organization with all of members showing up to a birthday bash for Ernst Blofeld Christoph Waltz who is in a maximum security prison in London and observing the events through a bionic eye that he can see throughsomehow I dunno It doesnt matter This movie is stupid The larger problem is that since SPECTRE is not actually the antagonist of this film dedicating a large set piece to them after a large set piece that sets them up as the villain This movie is just ambling from one sequence to the next without any real clear narrative driveLeiter is betrayed Bond loses the scientist and Bond goes back home to London to visit MI and M as a visitor Its here where we learn that M is behind the entire project of the DNA weapon that the movie feels like its actually beginning more than an hour into the film Bond must get in to talk to Blofeld to figure out what may be happening who may be behind it all and yet Blofeld will only talk to his therapist Madeleine So our hero and his lady meet once again and theyre distant and borderline antagonistic towards each other Yeah this is a great love storyMadeleine though has been roped into the plot of Safin Rami Malek by using a perfume laced with the DNA nanobots designed to kill Blofeld which Bond touches and then infects Blofeld with in their meeting AgainBlofeld is not the antagonist to this movie and we get an extended sequence almost halfway through this interminable  minutes where he ends up dying while giving up the littlest bit of information that Madeleine and Safin are connected information that Madeleine has almost told Bond herself before This is just another entry in the farewell tour occupying screen time and it barely makes any senseMadeleine flees to her mothers old house in Scandinavia with Bond in pursuit where he meets his daughter whom Madeleine insists is not his After a quick profession of deep love between the two theyre found out and must flee The effort is protracted and ultimately pointless when Safin captures both Madeleine and the girl fleeing to his island baseI think its easy to see the weird mix thats going on here in terms of tone in addition to all the structural and thematic issues at play The movie is taking some of the more ridiculous elements of the franchise bionic eyes super cars island hideouts and telling them in the most mundane manner to match with the more sober assessment of Bonds ending Its such an odd combination that when Bond uses his EMP watch to blow up the bionic eye in the head of the bad guy hes choking and he lets out a bon mot its just some of the most bizarre stuff in the movie I think its pretty obvious that Barbara Broccoli has a huge soft spot for the Moore era films and she ultimately has to push it in whether it fits or not Or maybe its a Fukunaga thing I dont know And that points to the problem of lack of authorial intent here The movies all over the placePaloma was written in not by the films lead screenwriter but by Phoebe WallerBridge presumably at Craigs insistence in order to add more kickass female whether it fit or not It ultimately doesnt because it interrupts the overall point of the whole sequence Bond saying goodbye to Felix Nomi feels like a sop to some slice of the audience that wants a female James Bond but shes ultimately pointless contributing shockingly little to the movement of the plot or advancement of any thematic ideas despite being in about half the film Her big moment is when she kicks a physically unimposing man into a vat of acid and has a quip that plays on the movies title He doesnt matter by that point in the film and if he had simply disappeared no one would have complained Instead though they give his death to Nomi The whole subplot with SPECTRE including Blofeld is the sort of thing that gets resolved in a movies first act to quickly establish the danger of the new bad guy and instead it takes up half the filmAnd then theres Safin Malek isnt really bad as Safin but hes largely unremarkable I remember reading an interview with Fukunaga that said that he and Malek worked really hard to make him as bland as possible I mean they worked really hard to make sure he had an accent that couldnt be tied to any country Really it amounts to Malek whispering through pretty much all of his lines and theyre almost all pretentious nonsense Hes introduced at about the halfway mark and doesnt actually get real screentime until the final act is spooling up His big sit down with Bond is filled with stuff about how theyre two sides of the same coin and yet no effort has been made to actually establish that in any way Its supposedly I have to guess here because they both kill people the laziest of ways to try and draw this contrast The only time in the franchise this worked was with The Man with the Golden Gun and the antagonist actually was an alternate version of Bond another one on one killer Its also so late in the film to bring up this kind of idea considering the mess of stuff thats come before that it cant really stick any landing especially when it has nothing to do with anything thats come beforeThis movie is a disaster Theres no one responsible for the narrative and what ends up happening is that much like in the Lethal Weapon sequels the script becomes about pleasing different stakeholders rather than telling an interesting story The big finale is built on this idea of emotional connection that the movie only halfheartedly tries to accomplish and fails at that A random death for Bond would have probably worked betterThere are moments here are there that work though Theres a cool little bit in the finale when Bond turns around quickly to shoot someone behind him that mimics that gun barrel bit from the openings The action is generally well done it just happens randomly and without any real impact Ana de Armas is fun as Paloma despite the general pointlessness of her character Jamaica looks pretty Hans Zimmers score is pretty vigorous Thats honestly about it thoughI liked Craigs tenure as Bond but this is honestly a Bond adventure I never need to see again', 'One hardly knows where to begin to dissect the latest Bond film Ill start with this is the weakest  film in memory First off they tried to keep the sly playful Bond humour going but almost every attempt felt forced and in no way playful Second way too much time was spent trying to create and then validate the relationship between bond and his latest female conquest There has been with a different female love interest in every film in the franchise and they spent way too much time trying to convince the audience that this one was special or different Having  profess his love numerous times throughout the film not only felt hollow but it almost felt like a betrayal Way too much time on that and not enough on the action suspense and intrigue that was missing from this film Up until No Time to Die Daniel Craig served the franchise remarkably well and provided us with some great entertainment too bad it had to end on such a low note', 'This Bond movie was a confusing and rather tedious mess The were a couple of complaints about wokeness in the reviews but I didnt think that was a big issue The majority of gripes seem to agree with me in that this was not entertaining The characters of Bond M Lieter Q just didnt feel like they knew what they were doingI had no problem with a retired Bond encountering the new  who was a black woman But she added nothing to the plot and had no charisma Best character was Paloma a twenty minute ally who kicked ass with humour in HavanaI found the movie overlong and heavy going Craigs dialogue was often ponderousSo glad I didnt pay to see it', 'Its slow its serious its moody its sulky Its the trend for the last few Bonds and one I personally dont like I dont know if this is the writers the producers or just Daniel Craigs interpretation but I find the recent Bonds have lost the one element that always made them great  the fun Despite his huge ego James Bond never took himself too seriously until Daniel Craig appeared A little joke here a cheesy line there a doubleentendre to make the parents laugh Why cant James Bond smile anymoreMoving on from the more general to this specific film I found the opening sequence extremely disappointing  one thing you can always rely on is a stunning opening action sequence but not in this one Its slow overly drawn out like the whole film really Why make a nearly  hour Bond when the storyline isnt there to support itYes some of the actions scenes are decent Q as ever steals the show and provides some of the few lighter moments and the villains are great but sadly for me this is the worst of the new franchise and they have been steadily regressing ever since the Casino Royale which showed promise', 'When I go to see a Bond movie Im looking for lush music exotic locations evil geniuses fast cars andor boats and a few gadgets that arent invisible cars I want Bond to be swedging with villains and interacting with hot babes on a regular basis What I dont want is Bond rabbiting on about his feelings for nearly three hours Now you may think I am a philistine who cant appreciate believable drama with my thrills But the thing is that all this naval gazing which is supposed to make the character so real is still coexisting with totally unrealistic action and scifi superweapons Its a case of wanting your cake and eating it too Overthetop action and plots dont combine at all well with constant whining The counter argument would be if when Ken Loach made his kitchen sink drama Up the Junction he had decided to include exploding helicopters and robots If that had happened the critics would be up in arms saying that while they admired the gritty presentation of working class peoples lives they were disappointed with Loachs decision to include a robot laser battle at the conclusion Well those selfsame critics are the ones who are applauding the idea that Bond can infiltrate an evil geniuss secret base while taking time out to mope around and feel a bit sad while doing it Im not having it If you cant have cyborgs in a Ken Loach drama then you sure as hell cant have a Bond with mental health issuesDespite reservations in the kitchen sink Bond angle I have been moreorless on board with the Daniel Craig era films up to this point at least to a certain extent While I do seriously doubt I would ever rewatch any of them again before Octopussy I did nevertheless appreciate Craig playing the part like a cold killer with a personality disorder But the attempts to humanize him by making him fall in love always seemed very forced and with this final film they have definitely jumped the shark This probably has to go down as the worst Bond in the entire franchise At a near  hours it is ludicrously overlong with barely a memorable character The early stages are admittedly fairly promising with a good precredits section but as the movie progresses it loses steam rapidly The reason that the Bond films have lasted so long is that they are essentially formula films and there is nothing wrong with that But the Craig era has essentially thrown the formula book out the window and while it was an interesting experiment in some ways you do have to wonder if there is anywhere the franchise can go after this', 'Producers will blame the poor box office of No Time to Die on COVID but thats not why its bombing The movie is failing because there is no audience for it It certainly wasnt made for fans of the Bond films like me The movie looks great with terrific location photography the title is cool and Bond girls Lea Seydoux and Ana de Armas are wildly dreamy Other than that this movie has little to offer The story isnt that interesting and the villain is weak If there wasnt a lady in the theater AMC Westbury NY laughing once in a while I wouldnt have even noticed the jokes Its also about twenty minutes too long No Time to Die bites the hand that feeds it It is hands down the worst movie of Daniel Craigs notsohot tenure as James Bond', 'I am a hardcore Daniel Craig bond fan For me Casino Royale is the best Bond movie ever made and I have seen multiple times The only good part in this entire movie is the  mins Ana de Armas appears completely lights up the screen rest of the actresses are nothing to write aboutThey force a god awful love story in a franchise which is about a secret agent and his missions Unfortunately there is zero chemistry between the lead pair unlike the sheer magic between Vesper and Bond in Casino Royale You cried when he cries for her in Venice but here you cant understand why is Bond indulging in stupidity for this lady I felt more for FelixAnd the lesser said about the token black  the better If you have no intention of building a wholesome character stop adding characters just for the sake of diversityAnd the dialogues cringeworthy sermons running for minutes which make no sense or connection Rami Malek could have been replaced by a marble statue and that would have acted better We needed a better finale to the best Bond ever and what we got a bad memory of a great actor', 'Incomprehensible plot involving DNA poison targeting intended victims or millions of victims Intended references to the other sad Bond movie On Her Majestys Secret Service including the line  We have all the time in the world and the theme song to OHMSS played in the background of one scene Both movies had similar plots pandemic unleashed upon the world Just so dumb Bonds love interest was a woman constantly on the verge of tears who naturally is  years younger than him Everything about this film was ridiculous and it made no sense whatsoever Nobody in the film was likable and it was way too long I struggled to stay awake The action scenes were very phony It was directed very weirdly nothing seemed real', 'After waiting for two years finally the newest James Bond is released in theatres and it is a mess of a film The first  minutes are good the action is adrenalinic there are good stunts and the tension builds up After the Billie Eilish song the movie crumbles completelyThe story is too convoluted and they went full science fiction introducing a highly unbelievable mass murder weapon that does not make any sense There are way too many characters Why did they introduce a second  that does not add anything to the story She doesnt contribute in any way to the main objective accomplishment and the movie wouldnt be any different without her She is basically an empty shell that is used as a filler For sure not up to the legacy that this number has If this is the successor of James Bond MI is already doomed Paloma played by Ana De Armas is a newly trained and definitely too anxious agent for the job She appears for like  minutes where she kicks asses Visually appealing scene but then we do not get to see her anymore so what was even the point Q was always the genius of the group plenty of crazy inventions up to his sleeves In this movie they decided to give him more screen time which is a wonderful idea but unfortunately the actor did not manage to give any kind of depth to the character The evil side is not better Safir is so clich and predictable He cannot transmit any sense of menace He seems more a spoiled kid that wants to destroy the world for egoistic reasons a trope seen too many times Rami Malek is such a talented actor but in this case he was just disappointing I want to believe that part of the fault is on the script which in general was weak and poorly written Ash the right hand of Lyutsifer is just another stupid character that was too easy to beat Honestly James here played on easy mode because bad guys are all extremely dumbThe very first action sequence at the beginning is amazing I saw a lot of dedication and stunts were very well coordinated Extremely entertaining and compelling Then the movie became some kind of John Wick spinoff full of explosions and shootouts James Bond is a spy he is supposed to investigate infiltrate subtly in the criminal organization and dismantle it from the inside But because in previous movies he basically blew his identity up and everyone in and outside Spectre knows who he is what is even the point of going stealthy So lets blow up entire places and shoot mindlessly Bond is just a one man army nowThe movie is almost three hours long and it is so watered down by useless dialogues that overexpose the plot There are too many romantic scenes between the couple BondMadeleine At some point I was wondering if I was watching a spy story or a rom com Of course like most mainstream movies nowadays there is a lot of forced comedy that is not even funny I mean there are a few decent jokes but nothing worth noticing No Time to Die is definitely a huge downgrade to the whole franchise Either creators stop doing the series or they reboot it by taking inspiration from the older movies', 'And so after endless delays and endless fanfare we finally have Daniel Craigs final Bond outing And after all that the end result is merely average I enjoyed it to a degree but I can tell its not one that will particularly stand up to repeat viewing Its overlong way overlong with a very slim plot and a story that feels copied from earlier instalments almost sceneforscene at times The action is too much about the stunts and CGI and not enough about the suspense or danger and the whole thing simply goes through the motions Rami Malek is far too sympathetic to make a good bad guy and the main problem lies in employing the same two screenwriters for the past  years No wonder it feels stale How about giving somebody else a chance', 'Im going to rant about this movie The best this movie gets is okay And thats after a half an hour when the story finally starts And even then its old and gives us nothing really new The idea of a Bond family is good But like everything in this movie they screw up their good ideas Bond shooting Safin in cold blood was great and satisfying after he should have done that in Spectre to Blofeld Even though the island was going to blow up but still cool to see it And when he rolled the car over on the CIA guyThe opening Then the other opening So long I actually thought it was a dream scene for a while And Safin is clearly the same age as Madeleine And the mask These scenes were painfully long For the most part the movie doesnt drag like the first half an hour Except for the Russian guys intro What Having Bond retired was dumb Having him get rid of Madeleine was dumb And were we supposed to think that wasnt his daughter for one secondSafin The worst bad guy I have no idea what his deal was And his bionano technology was so stupid It wasnt explained very well and it didnt feel very threatening Like at the end when he hits Bonds face was visually so stupid He was so annoying and not threateningThe other  wasnt funny like she was supposed to be And that whole back and forth was dumb And her setting up her own one liner aka the title What was that all about The actress was fine It was too self aware as a Bond movie and having little references to itself Like when he shoots at the tunnel to reflect the opening Or when he awkwardly has to say Bond James Bond at MI There were others but I cant remember them allBlofelds cyborg eye thing was how he was talking to the outside world They didnt check that And this technology existBonds death Like he had to die for that reason He couldnt touch his girlfriend who he hadnt seen in  years or the daughter he just found out about so he didnt want to live anymore He took himself out of their life when he could have had a normal relationship with them This was not worthy of killing Bond He didnt want to see if they could find a cure or whatever That was so stupid Its way easier to kill off somebody then to make them get through the bad stuff You have to get creative Killing them off is easy Notice how they did it to three main characters Not that it added anything its just dramaticAnd they relied way too much on bad CG for the action I have no problem with CG I only have a problem with bad CG And this was very noticable Distractingly And another thing I normally dont notice but did a lot in this was when the good guys get shot at by a machine gun from two feet away and every bullet misses them It happened a lot in thisCary Joji Fukunaga needs to get his head out of his ass He thinks hes way better than he actually is If he wasnt so pretentious he would have realized that every frame he shot wasnt precious and could be cut And he had all this extra time to tighten up his movie but he thought he got it perfectThis really reminded me of Dark Knight Rises It takes place years after the last one The main character comes out of retirement then gets blown up and theres a Russian who is the only one who knows how to use this technologyAna de Armas was the best part Only in it for a bit unfortunately I wasnt sure if shed be able to handle the action because shes so cute and dainty But she does Shes good with the guns and the hand to hand fights She has a killer kickFarewell to Daniel Craig He did very well just like all the Bonds Hell always stand out because he was in the Bond reboot Remember when people hated him because he was blonde Well get ready because whoever gets the job next is going to get the same amount of crap until the movie comes out and then hell be the best one ever But Craig and this storyline deserved a much better endingI really fear for the future of this fantastic franchise I hope they dont listen to the internet because its not real and they dont know what they want I dont know if they were setting up the new  to take over the daughter I have no idea I guess we learned one thing from the Bond reboot its not a good idea Ultimately giving Bond a  movie arc didnt pay off Or they just did a bad job Hes not an arc character Hes a series character He can learn things along the wayI dont want a SpiderMan situation where we get reintroduced every few years to the beginning of the character I really hope they just do what Dr No did and Bonds been doing it for a while Maybe this series will be like The Dark Knight series where these ones just exist unto their own They seemed to take their cues from that series anyway so it only makes senseBut like always I cant wait to see what happens next', 'It felt as though we were never going to get to see this but finally its here the question is was it worth the waitThe answer yes really not what I was expecting of course its action packed dramatic and high octane but it actually boasts a good story and perhaps shows us a slightly different side to the characterPlenty of action plenty of style and a real twistI thought Daniel Craig was awesome and here he shows what a great Bond he has been its fascinating now to know wholl take overOn the downside it was a bit long and it did lull a little in parts but the action was enough to halt any dozingOverall very watchable ', 'There is some bad miscasting in this film Lashana Lynch is out of her depth and does not convince Rami Malek is appalling Daniel Craig goes through the paces but looks bored The script is predictable I was very disappointed when I first saw it but went back to it after a year and it was even worse than I remembered The whole franchise is a s tired as Daniel Craig looks He is a fine actor and wanted out before this film was made but I guess he must have been offered too good a pay day to say noI dont share other critics view that Ana de Armas was a good addition Her acting in this film is average at best and I have seen better martial arts moves in a b list film However she looks good compared to Lashana Lynch who is so badly miscast I can only assume she has friends in high places She just looks wrong not only for for this film but this genre Bond films have always had a wry humour and it is missing in this film Lynch doesnt even attempt it and Craig delivers promising lines with a world weariness that is all too apparent Casting Malek as the villain was just plain wrong as he doesnt have the range or gravitas His star was in the ascendancy when he was cast but he is just wrong for the partThis franchise should be buried Bond has had his day and trying to resurrect the franchise with Craig almost worked as Casino Royale and Skyfall were decent films It all went wrong with Spectre and this latest addition is simply Spectre part  but far worse I suppose the producers could start over as if no Bond films were ever made but far better not to bother The producers and owners of the film rights have become too PC and it shows If they make more Bond films it will be pure greed on their part The franchise has a had a good long run and this film rings a hollow death knell', 'Directing is ok the script is woefully bad and add in some awful acting and that sums it up The few action scenes are washed from the memory thanks to the woke rubbish Cubby Broccoli once said to his daughter never let the real world change the character sorry Cubby this isnt Bond and they lied to you Oh and the title track is blood awful also  for old time sake RIP Commander Bond', 'The movie is probably as boring as my review will be since the required characters are further extended to a full  word minimumI usually really enjoy the Bondfranchise for its atmospheric and captivating experience This movie is none of the above It seemed forced and the agenda of putting an end to Craigs Bond was constantly present Bond didnt feel like the same person anymore decisions and feelings were utterly out of character The scenery was beautiful but the rest left a lot to be desired I agree to other reviewers that this movie was not for the usual Bondaudience It felt like watching the last game of a professional athlete and being disappointed because there was no magic no wonder', ' No Time To Die\\nACTION DRAMAThe most soapoperaish James Bond movie of the franchise which opens with a man wearing a mask walking through the snow bank into a home to achieve his objection and he kills the mother of a child in cold blood before he starts looking for the daughter Before he fires toward the little girl she successfully shoots him down first and thinks she has killed him and she begins to drag him back out to the snow bank and it was at this point as soon as she notices he was still alive she then runs away as soon as he stands up and while running across the icy lake she then breaks and falls through the ice before going under The man wearing the mask looks like he was going to shoot her but he shoots directly at the ice to save the little girl The movie then jumps to many years later and viewers now realize that the little girl the mask man used to save near the opening is of right now the current flame of Bond Daniel Craig spending his time on and her and that her name is Madeline Swann La Seydoux and that from the previous movie Spectre of one of many movie revelations we are to witness is that Blofield is her dad And like although Bond is supposed to be retired he is still sought after as its the new adventure that involves Madeline Swann he was supposedly went their separate ways Revealing a new villain the world is facing his name is Lyutsifer Safin Rami Malek after a very deadly poison created in the UK with M Ralph Fiennes funding the projectIan Fleming may be rolling over his grave if this is what the audience want from the character he created The campy and fun Bond movie ends with Die Another Day the idea created by Ian Fleming has been rebooted with the new Bond of this generation which is like any soap opera I had ever seen Have both the movie critics and the audience have become so tired of Ian Flemings character so much that after many years he needed an entirely new persona I mean I can do the exact same thing by making additions Fleming never considered into doing such as perhaps Bond has a twin sister or a twin brother he never knew about or that Blofield had another sibling or perhaps another child from wedlock Or that both Blofield and Bond had deceptive uncles or cousins they never knew about It is these liberties author and creator Ian Fleming had never asked for nor had ever approved about says more about the state of its current audience than it says about him', 'Having read all of Flemings novels of James Bond and seen all of the movies starting with Dr No in the early s Im old enough to claim that No Time To Die which I have just watched should not be called a James Bond film He really is not the character created either by Fleming or the actors who played him previously to Daniel Craig Sean Connery will always be the definitive screen Bond and Daniel Craig the most miscast actor for me No Time To Die is a dreary over long action romp but is the worst Bond film in the franchise due to the lead being totally out of character from the one that Fleming created The best thing about this movie is a very short but scintillating performance by Anna De Armas who comes and goes far too quickly Completely out of character for James Bond this is a dreary failure in the franchise', 'This is by far the worst James Bond movie ever made On the surface it might seem good to some people but in terms of the future for the franchise I dont think they could have made anything worse than thisThey actually killed off James Bond at the end of the movie You cant do that It has never happened before for a good reason James Bond is never supposed to actually die We as an audience like seeing him in dangerous situations but he always was able to turn things around and ultimately win That is why we loved him By definitively killing the character here it will never be the same again when they now try and bring him backThis was the worst creative decision that they could have ever made it is like making a fun Christmas movie and then giving Santa terminal cancer at the end It might shock the audience but that does not mean that it is good story tellingHere is what I predict The film has good reviews right now but I think that over time people are gradually going to start turning on it By killing the James Bond character they have crossed a line that was never supposed to crossed and I really dont see a way back from this', 'All the other reviews have said it better than I can this film makes no sense with unbelievable characters even by Bond standards What I WILL point out is what a shame that Craigs time as bond started off so very strong and promising with Casino Royalle and was just run steadily downhill ever since With Mads Mikkelsen as adversary you had someone intimidating unpredictable ruthless Rami Maleks Safin is barely a wisp of Smoke He has no fire no personality Its like the entire writing staff just said what is safin like Well he speaks in a soft voice Thats it Thats the entire persona for a James Bond villain Pathetic Malek is a great actor and it sucks to see such an opportunity go to waste', 'The story is really engaging It didnt feel like  hours I enjoyed every second of it I like the bond between Daniel Craig and Lea Seydoux The ending got me tearful Who would have thought James Bond would make someone cry', 'I have been a Bond fan since I was ten years old My first James Bond movie was probably Goldeneye which I love to this day and consider it as my favorite film of the franchise Daniel Craig era has never been one that I love Casino Royale and Skyfall were both fantastic but Quantum of Solace Spectre not very good at allTo put it mildly No Time to Die was my most anticipated movie of this year It marks the final apperance of Daniel Craig as Bond and is the longest James Bond movie up to date I saw this movie yesterday and heard it was controversial for the fans After seeing No Time to Die this is certainly going to be a very divisive filmTalking about myself I really wanted to love this film and at times I did There are parts of No Time to Die which I think are wonderful but there are also parts of it which could have been executed far betterLets start with the good aspects first shall we The production values of this movie are fantastic The cinematography is gorgeous and Billie Ellishs theme fits the story while having haunting lyrics and music The acting is pretty good all around Daniel Craig is the most chatty he has ever been as Bond but hes still very likable in the role Ralph Fiennes Naomie Harris and Ben Whishaw are great as usual Lea Seydoux is so much better here than she was in Spectre Jeffrey Wright and Christoph Waltz are fun for what there are in Rami Malek is creepy enough as Safin but he is definitely not the best villain of the franchise Ana De Armas though gives an amazing performance She felt such a breath of fresh air in this movie while kicking ass for only  minutes The first hour of No Time to Die is compelling enough The action scenes in Italy and Cuba though the chase in the woods and the climax on Saffins island are solid too especially stand out There are moments where the humor does land and throwbacks to other Bond films like For Your Eyes Only where James Bond pushes a car on the henchman were clever The story definitely leaves an emotional impact on the audience with the choice of music and themes of familyturns out Bond and Madeline have a daughter Mathilde which is not a bad idea just convinient for the story But lets get into my negatives because this movie was disappointing for me There are parts like I said which are fantastic and thats what makes a couple choices of the story so frustrating for me The movie is agreed unbalanced and feels too long at times There were times where I thought the narrative got a bit too melodramatic with the relationship problems between Swan and Bond The deaths of Felix but especially Blofelds death feel crammed into the story having no impact on anyone just like the character of Nomi who is underdeveloped at best even though the actress is very good The humor is not always spot on and does get a bit cringeworthy at times One can tell that they were trying to make great ending to Daniel Craigs Bond by giving him the most dialogue and oneliners but Craigs James Bond feels out of character for a good portion of the film The biggest issue for me was indeed the last third of the film First the villains plan to destroy the world feels forced and out of nowhere I can understand why he killed all agents of Spectre but brutally murdering an Europe full of people made no sense to meSecond problem regards the fact that Bond dies in this movie There are several issues with this ending  Even though it fits the movie I think it was Craig himself who said that this movie was about family this movie could have ended with Daniel Craigs  after being poisoned and escaping the island watching his family from a safe distance or like Calvin Dyson said having Q to develop an antidote for Bond James Bond faking his own death to protect his loved ones makes more sense to me than his death  This ending does not feel earned Yes its a shock but one that felt extremly rushed I agree with Calvin Dyson that there is no need for urgency to shoot those missiles yes the ships are coming but that was not a very clever way to create urgency at all This ending in my humble opinion just misses the point that its trying to make about Bond and his family I respect Craig and the writing team for making that bold decision but the ending felt after thinking about it that it wasnt Bond who was done with everything it was Daniel who just wanted to insure the audience that this was his last Bond film The ending also raises questions of how are they going to continue the Bond franchise Are they going to do a reboot of a reboot That would be quite silly in my mindOverall there should be no time to watch anything like this because it left a very depressive feeling which a James Bond film shouldnt leave No Time to Die could have been a smart fun Bond movie but instead it was okay at best\\nHK', 'Bond films have always been made to a specific formula Here it isA suave but ruthless British secret service agent sent on the trail of some megalomaniacal arch villain intent on world domination usually found in a secret elaborate lair situated in some exotic locationHe must have a Walther PPK tucked under his Saville Row dinner jacket as he plays Baccaret at an upmarket casino over a few vodka martinis shaken NOT stirred of courseWe want exciting high speed chaseswe dont really give a toss whether its a car chase a speed boat chase a motorcycle chase or a ski chasejust get em in and make em fastWe want impressive gadgets for him to play with along the way and the more buttons switches and surprise weapons they can pack into his latest car the betterWe want our Bond to be provided with a bevvy of hot beautiful women to shag at least two a day We want opening credit sequences with these soon to bedded beauties bouncing all over the screen in silhouette form We want our Bond to be sticking his licenced to thrill weapon into anything with boobs and we want him to callously get up and blow them off with an off colour remark or two before theyve even had chance to catch their breathOne last thing and we cannot stress this one enough we want James Bond to be alive at the end of it ready to do his bit for Queen and country all over again in the next instalmentTHATS ALL WE WANT So why the hell are they not giving it usNo Time to Die changes so much of the tried and tested formula Lets face it theyve been chipping away at it for so long now primarily to please the woke PC SJW lunatics that they had practically whittled it down to nothing before this turkey even went into productionGET THIS EON We do not want a soppy and insipid love sick Bond We do not want soap operas melodramas emotional tear jerkers or a message picture We dont want domestic complications and we definitely dont want major cannon alterations whereby a long established arch villain is revealed to be Bonds long lost brother I mean come on Who the hell signed off on that cowpat of an idea We just want an exciting action packed edge of your seat spy caper with big explosions kick as fist fights tongue in cheek humour larger than life baddies and some good old fashioned male chauvinism thrown in for good measure CAN YOU DO THATIts clear from the ending of NTTD that the only way forward for the character of Bond now is a full reboot Make it a good one and go back to the source material and the original movies to find your bearings again Whatever you do dont gimmick up the franchise by pandering to the woke PC diversity whingersAs it stands today Cubby Broccoli Harry Saltzman Sean Connery and Roger Moore must all be turning in their graves due to the creation of this pile of agravy', 'The first  minutes are superb from the music to the location to the acting to the action but then the titles fall cool titles bland song and the movie never quite reaches those heights again For such a long bloated running time its too talky and surprisingly short on action in fact there are only two other notable setpieces the car chase in the woods and Ana de Armas brightening up the screen as an overeager bubbly yet skilled and deadly agent Most of the rest of the action is uninspired and in the climactic sequence just a regular attackontheenemyfortress weve seen hundreds of times often dim and murky Tomorrow Never Dies did this sort of thing much better and so did some of the Roger Moore Bonds The plot is formulaic biological weaponagain and its treatment of several key players from previous installments disappointing The ending is pretty silly  it leaves a mess behind that the inevitable next chapter will either have to work a whale of a story to get around or more likely will ignore altogether Craig does succeed at embodying a very human Bond yet I cant help but think that he never really got the chance to do a FUN James Bond living the high life in Casino he is earning his stripes in Quantum he is seeking vengeance in Skyfall he is already tired and resigned in No Time his circle comes to an end I guess he came closest to having a good time in Spectre which is why that film is still my favorite of the five he made  out of ', 'I dont even know where to begin So Ill just repeat the title This is the worst Justtheworst The plot is pretty straightforward but the implementation of said plot is incoherent inconceivable and impossible As far as the impossible elementits not the usual James Bond impossible No Its impossible in a way thats insulting and infuriating Watching this is like dying from  paper cuts Its pure torture Avoid at all cost', 'As a Bond aficionado since  I was so disappointed with this filmI have waited six years since the last James Bond film Spectre  which in itself was a bit of a let down but was out of the film makers hands in some respectsThis film has high production values dont get me wrong but it does get Bond wrong in a few ways that left me quite angry from watching a film for the first time since  A Space OdysseyGone are the days of a feel good  minute Bond with great action sequences girls etc Now we have an overly long film weighing in at  minutes Even the curtain raiser the precredits sequence is overly long I miss the four minutes or so complete with a breathtaking stunt sequenceDaniel Craig as Bond makes his fifth and final appearance in the role Whilst his performance is good I cannot resist the thought that he has been let down by a succession of poor scripts that tend to be overly complicated in terms of timelines family ties and lack of humourWhy cant the filmmakers produce a standalone story every two years that doesnt follow on with storyline strands like a television soapoperaHans Zimmer provides the music and he does an admirable job evoking memories of John Barry from On Her Majestys Secret Service  the pinnacle of the series thus farThe Daniel Craig Bond films are an arc not seperate entities They break so many traditions of the old films I still cant get my head around thatIts a dud from me', 'Every mission has led to the final movie or not quite yet because theyre rumours about a new James Bond movie but anyway I had mixed feelings about this movie at the beginning but after a good thinking I think this movie was fantastic Daniel Craig as James Bond Agent  strikes again and he is not disappointing And know some about the plot of the movieJames Bond has reiterated after his girlfriend betrays him and say a farewell At the same time a dangerous man Lyutsifer Safin and his organisation are trying to make a DNA killing machine that can kill any person any time And that it why James Bond has to go on a mission once againThe beginning of the movie started out epic They were in Morocco and then Spectre and the bad guys started chasing James and when he jumped out from the bridge that was just amazing Later the movie had a great suspense amazing stunts what lead to the finale were James Bond dies and rest in piece once and for all That was one of the most dramatic things that have ever happened in the Bond series But everything was just great about this movie directed acting action ending I enjoyed this movie from the beginning to the end The era of Mr Bond is gone or is it It has been rumours about that a new James Bond movie will come so if it is coming then this means that this is not the end of the series just not yet Im excited over what is going to happenAnyway to summary No Time To Die is one of the best James Bond movies ever made if you like action good acting and a lot of fun this is a great movie for you As for a finale for now I think it ended well and good', 'God this is disappointing After the highs and beautiful photography of Skyfall and Spectre this really is poor Some decent individual scenes poorly strung together with a weak story poor characterisation and a really lame ending Poor script poorly directed I think it might be er poor It has the feel of a story that was rewritten endlessly by different people to the point that it was meaningless Rami Malek a fine actor was grossly underutilised and his backstory was weak I really hope that when the next Bond is chosen they try to recapture some of the magic of the other Craig Bonds and consign this tripe to history', 'I am a big bond fan an I saw this in cinema and was disappointed it feels like the classic suave spy turned into a generic muscular action hero but without the interesting villains of the earlier films without the gadgets and tricks I watch bond to see a silly but scary villain a load of iconic characters and it feels like the Craig era just got less and less interesting the franchise struggles trying to copy from Bourne and mission impossible to the point that it feels like its forgetting its a bond film yes casino royale and skyfall were excellent but this one especially disappoints in the overlong messy attempt to wrap up the loose ends they builded for no other reason than sequel excuses this film was advertised about concluding Daniel Craigs era and the film fells like its more about Craig than about bond I think the franchises lost its stride and forgot its audience in the effort to be more like the original successfull franchises not to mention the plot in this we have already seen in the hitman remakeOverall a disappointing conclusion to a disappointing era where they kill of the main character to make people feel something that just isnt there', 'I admit up front that there will never be a Bond as good as Sean Conneryhe WAS Bond I also think that Pierce Brosnan did a capable job during his stentbut I didnt like Daniel Craig in any of the Bond movies I just tolerated himand its a good thing this is his last because he looks ancient EVERYTHING about this movie is flawedthe story itself has no trace of believability its jerky amp all over the map it doesnt flow smoothly at all amp so hard to keep up with that I got to the point I didnt really care what happened to anybody The actors just didnt have any chemistry at all together and I am really sick amp tired of the movie industry implementing their Woke agenda in every film that is put out these daysin this case it was the new  being a black womanand that too would have been ok if she was good at her craft which she wasnt she really was the worst miscast of the movie To sum it up this movie did a grave injustice to the Bond franchise I was yawning after  minutesno wonder nobody goes to the movies much anymore if this is the best that they can doAWFUL', 'James Bond No Time to Die is a highly anticipated film as the final installment in the series Daniel Craigs portrayal of James Bond for the last time brings excitement to the screen with its actionpacked scenes and impressive visual effects The performances by the cast are strong especially Ana de Armas whose brief but impactful role delights the audienceThe storyline is enigmatic and intricate revolving around Bond confronting his old enemies The emotional depth and complex relationships among the characters add more intrigue to the film However some viewers might find it slightly lengthy and there could be occasional pacing issuesThe films cinematography stunning locations and thrilling sequences captivate the audience keeping them engaged throughout The actionpacked sequences and everchanging intrigues offer the expected Bond adventure to the franchises fansJames Bond No Time to Die bids farewell to the Bond universe with Daniel Craigs unforgettable performance and wellexecuted action scenes This spoilerfree review allows viewers to enjoy the film to the fullest and reminisce about James Bonds adventures with a satisfying conclusion', 'Its slow its serious its moody its sulky Its the trend for the last few Bonds and one I personally dont like I dont know if this is the writers the producers or just Daniel Craigs interpretation but I find the recent Bonds have lost the one element that always made them great  the fun Despite his huge ego James Bond never took himself too seriously until Daniel Craig appeared A little joke here a cheesy line there a doubleentendre to make the parents laugh Why cant James Bond smile anymoreMoving on from the more general to this specific film I found the opening sequence extremely disappointing  one thing you can always rely on is a stunning opening action sequence but not in this one Its slow overly drawn out like the whole film really Why make a nearly  hour Bond when the storyline isnt there to support itYes some of the actions scenes are decent Q as ever steals the show and provides some of the few lighter moments and the villains are great but sadly for me this is the worst of the new franchise and they have been steadily regressing ever since the Casino Royale which showed promise', 'In No Time to Die when we start to get excited about upcoming summer travel plans its tempting to refresh our plot and association for a new standout scenario From drama and expandable action foundations to our favorite travel presentation tools There are many ideas for innovation in planning your scenario to make sure that you do not miss any of these fresh collections Whether youre planning a getaway to the United Kingdom to see a welcoming winter or youve gone on a scenic road summer trip with friends Rich highlevel investigation innovations in story journey film industry location of delightful revival No Time to Die all the cast and crew create more balance warmth and all the ways to explore our world while accepting love recognition following our experience on the mission to recognize us From innovative technology to social programs bringing storyseeking ideas to the wider industry we contribute to every person the worlds brightest travel innovations Take a mighty accomplished man to claim that I didnt claim that I didnt claim anything Why on earth Charles It is a symbol of the Cree Indians On one side is the pantheron the other his prey the rabbit He sits without fear Smoke a pipe This is a traditional motif Why isnt he afraid Because he is smarter than the panther Thank you for your good nature your intelligence your generosity Forgive us for this charade A good plan today is better than a perfect plan for tomorrow What you say Should we be brave A big change from That taxi driver was so rude to me My friends What happened to them sir How did they die sir They diedsaving my life', 'In No Time To Die Bond dies Didnt see that coming hahaThis Bond movie was really fun in the most part except that Safins motives seem very lost in the plot especially as to why exactly hes trying to bioweapon assault everybody for some reason Regardless its fun despite its length However this comes from someone who hasnt really seen a Bond film before I saw Spectre long ago with little memory of it so this was essentially my first Bond film A lot of people seem to be divided on the ending especially the more avid Bond fans but I think the ending was definitely emotional but possibly not the most fully thought out', 'This fifth  and final  outing for Daniel Craigs James Bond has the usual top notch production values and beautiful location photography Craig gives a good performance after having seemed disinterested in s Spectre La Seydoux returns as Dr Madeleine Swann and Lashana Lynch makes her Bond debut as Nomi the new  following Bonds retirement Jeffrey Wright returns as Felix Leiter the first time since Quantum of Solace whilst regulars Ralph Fiennes as M Ben Whishaw as Q and Rory Kinnear as Bill Tanner are reliable as ever However Rami Maleks new bad guy Lyutsifer Safin lacks presence and feels underdeveloped  Christoph Waltz s Blofeld does far more with far less screentimeThe films slumps heavily in the middle and could have easily shaved ten minutes from its hr min runtime but when the action pieces come theyre good Ana de Armas deserves a special shout out as highkicking CIA agent Paloma  its a shame she didnt feature more heavily As for the divisive ending I was fine with it Given the direction they decided on it made sense ', 'An absolute good awful posIts great that Daniel Craig liked the ending Good for him Hes job is to believable deliver the lines and say sober not write screenplays You know what Daniel youre wrongThe James Bond cartel made the worst James Bond movie ever in Die Another Day and ruined the franchise Then the cartel reboots the series with a grittier bond and the world loves it Then they do the same thing add campness in jokes and pointless plots Im looking at you Skyfall and lose what people liked Finally with this installment they have done to the new series what Die Another Day did to the firstNow they are free to piss everyone off with a woman Bond Should be great', 'This one doesnt seems to be a bond movie May be the worst one with Craig Story line plot or acting nothing has gone rightThe plot doesnt require a  this could have easily been handled by local police Too fancy Even the average shows on Netflix and Prime are much better when it comes to secret agentsThere were big expectations after Casino Royal but all movies after that have been average But this one is worst they could have simply avoided making thisThe franchise needs to think again and come back very strongly to revive the fan base else it will be difficult to fund viewers for their next one', 'Tedious overly long melodramatic and simply not very fun to watch Bond has lost his sense of humour The plot is clunky and features several characters that are introduced and then disappear without comment The villain is utterly onedimensional and has no clear motive distinctive traits or personality which leads to him unquestionably the most forgettable Bond villain ever The script utterly lacks emotion and is souless as if written by Artificial Intelligence The protagonist played by James Craig has nothing in common with the Bond character we know and love  he is a dour emotionless monagomous crank who resembles more a sexless civil servant experiencing a midlife crisis than a secret agent Who thought it was a good idea for Bond the ultimate alpha male Ubermensch to get married and have a child The character whose exaggerated masculinity is his very raison detre has been utterly emasculated The action scenes are at once both overly ridiculous and predictable Moreover the distinctly Sci Fi element of the plot is a poor fit with a Bond film which distracts and confuses the viewer throughout the movie I have seen every Bond film several times and it is a major element of many of my fondest childhood memories This is without question the least enjoyable of them Finally the most ridiculous plot twist of any production post Lost occurs in the last few minutes in a thoroughly misguided attempt at pathos A Franchise Killer which should be avoided at all costs particularly for long time fans of the franchise who will feel utterly betrayed by this unrecognisable shadow of one of cinemas most enduring characters  Kevin Tuohy Ireland', 'Yep second only to Casino Royale Had the bad guy had as good writing as every other aspect of the story it might be on par As is hes completely opaque and rather sloppily attempts to parallel how Bond acting as a killer for king and country also is a villainAnd I mean sure Only the only thing we know about this guy is he seems obsessed with some type of Asian culture and architecture and he finds a hold over Bond Another cartoon villain just with wildly better dialogue than the previous terrible scriptWhere this is exceptional however is in having Bond be a real for onceas well as having genuinely good stakes which this series has never once enjoyed It also vicariously redeems Blowhard because what he does to Bond actually makes sense and follows both their characters The main conflict also being a problem of Britains own making is far more poignant and works with the themes of the movie quite wellEven better its the only movie I actually cared about the characters in a Bond film Its because they are willing to show him as who he actually is Not pure propaganda and the same old power fantasy It is the right ending And unlike the last its because it is not interested in fan service that it becomes better than the previous films', 'The movie is probably as boring as my review will be since the required characters are further extended to a full  word minimumI usually really enjoy the Bondfranchise for its atmospheric and captivating experience This movie is none of the above It seemed forced and the agenda of putting an end to Craigs Bond was constantly present Bond didnt feel like the same person anymore decisions and feelings were utterly out of character The scenery was beautiful but the rest left a lot to be desired I agree to other reviewers that this movie was not for the usual Bondaudience It felt like watching the last game of a professional athlete and being disappointed because there was no magic no wonder', 'The movie was more dramatic rather powerful which is expected from James Bond movies especially the ending that Craig didnt have to stay in the island alone facing a hundred of enemies alone Back office could had told him leave with his family and the missiles are going to be sent to destroy that facilityOverall it was a weak story and could be directed better The new James Bond was just bringing to James Bond a number which was not very helpful as a teamworkThe previous James Bond movies were more giving the Hope of protection feeling than thisWe dont need to damage the main character to make it look like an emotional drama', 'Not sure why all the poor reviews exist on this review board Very entertaining and fulfilling finale Loved the use of the We Have All the Time in the World song amongst the soundtrack Had all the elements of a great Bond film from the car to the gadgets and everything in between Looking forward to see where they take the next film Until then back to the beginning to watch them all againI know a lot of folks didnt enjoy the actual human side of Bond but I found that to be a very appealing part of the plot and part of this Bonds character Daniel Craig did a great job Sad to see him go but looking forward to whats next', 'Beautiful locations and yet again a futuristic superweapon that endangers the existence of the life and civilisation as we know This is about all the good that can be said about this film as it is a far cry off of other Daniel Craig era Bond films Bond in love eh well I suppose that can happen even to hard core cold blooded assassin which Bond ultimately is But the connection between Bonds love of life and the franchise all time nemesis is a tad too much And internal rivalry within the agency totally unnecessary which anticlimaxed on female  driving a car Come on production get a grip Iim sure writers could have come up with something else more creative more today and less clicheMay be there is a value in constantly changing moods throughout the film but they left me a bit cold since it felt like Bond was lost indecisive sulky and not very witty which is not in accordance with carefully built up character since the first book or first Bond movie Not even lastly cheapest of all cliches chase kidnap and threat of a child not once but in several occasions how low can they go Overall storyline was as if production wanted to have as many twists and turns and approaches as possible resulting Leisure Larry ish with multiple choises all badThis one could not be saved by camera work special effects and brilliant actorsactresses By far worst Bond of all time', 'James Bond has always had the advantage that most of its films are a standalone No time to Die goes against that clearly trying to bring this chapter of Bond to a full closure having given it a beginning with Casino RoyaleThe idea in it self wasnt bad but unfortunately this movie just stretched out into areas and plot lines that made little to no sense where tedious to listen through and slowed down the movie unnecessarilyOverall the movie lacked a proper pase it lacked more of a defining Bond moment and at least me left me with a taste of That was it thats all and They could have cut this movie by min and still gotten the same out put in my mouth', 'Rating \\nOverall a nice conclusion to Daniel Craig as James Bond as we get to see him close out the character on his own terms in a very action packed emotional manner but the movie does not really compete with his other movies like Skyfall and Casino Royale due to the subpar screenplaystory and questionable performances from Rami Malek and some of the minor charactersVery Good Direction Was able to choreograph the fight and action scenes very well as well as the interpersonal dialogue heavy scenes Good Acting Very Good to Great from Daniel Craig A good sendoff performance for the character he is most known for as he really takes command of every scene he is in though there are some small minor hiccups that take this from going above and beyond his other Bond performances Pretty Bad performance from Rami Malek It felt very lazy and his overall acting and mannerisms did not feel that menacing as a Bond villain Good from La Seydoux A good scene partner and love interest to Bond Very Good from Ana de Armas even though she was barely in the movie she plays her ditsy Bond girl character very well Good to Very Good from Lashana Lynch Was able to make the most out of the dialogue she was given as she plays the upincoming hotshot trope well Very Good from Jeffrey Wright A nice return from a memorable Bond character as Wright pays to his strengths very well with this performance Good from the rest of the main cast though some questionable performances from some of the minor villains Pretty Good to Good Story The layout of Bond coming out of retirement and why certain pieces tie together make it be a good closure to the whole Daniel Craig Bond Saga though there were some questionable story elements towards the end filed with predictable cliches Decent to Pretty Good Screenplay some of the dialogue was fine but there were some elements where it was easy to predict what was going to be said and what was coming up it was very obvious where Phoebe WallerBridge came in to edit the screenplay to add more comedic elements because it just felt very forced and not funny though some of the wittiertypical Bond jokes did hit Very Good to Great Score took elements of old Bond themes while also captured new themes to make it work well this was Hans Zimmer after all Very Good Cinematography Great Sound Really enjoyed the moments where Bonds hearing is recovering in a fight from close proximity to an explosion Very Good Editing Great Visual Effects Plot Structure was good for the most part I felt the exposition really help play into the trust issues for Bond but I feel like the resolution was very lackluster Pacing was good because even though it was a long movie the pacing was consistent for the most part no need to cut anything Build to climax was good because it was clear what was needed and how it was important to the story climax was executed very nicely in terms of action but in terms of story it was a bit cliche and predictable Tone was constant for the most part because it tried to be the typical bond movie but like an older bond who is coming out of retirement one last time though the break in tone for the comedy scenes were really annoying The finishing touches for Craig as bond were displayed very well throughout the movie as you can see him make peace with his time as the character as he shows his experience but also shows his closure at the same time', 'I personally liked a lot Casino Raoyal and Skyfall but Daniel C Others like Quantum of Solace werent really great but still OK No time to die on the other hand was really a big disappointment The whole movie seems somehow unreal from the villain to all the fake dialogues and stories eg The other  agent who is actually just annoying A lot of things seem rushed and pointless For example is the entire criminal organization Spectre eliminated in one fell swoop at the beginning due to a fortunate circumstance This organization previously presented to us as the utterly superior opponent throughout the entire series of films is now being ridiculed Such weak actions just seem overdone and pointless The whole politically correct thing then gives the already pointless action the rest All in all not a good film The plot seems unreal unsteady and thus no tension arises Its a pity I was looking forward to this one but now it really gives me a bad idea regarding the whole future sequels of James Bond', 'Even though No Time to Die is not a failure its not a good James Bond film either Although this film is more emotional and wellwritten than the previous installment of the franchiseSpectre it still has many prominent flaws The flat villain Safin barely has any motivation for his actions And none of his background are explained other than his family was killed by Spectre members The audience doesnt feel anything despite the film attempting to write him as a complex characterIt is hard watching Bonds past friends and enemies die but some deaths are too hurried Its as if the film is trying to give the audience an end to every character Although the idea of Bond having a child is new and it added a new aspect to the character it doesnt really work with the film The past versions of the character are all films that are more focused on the plot and action rather than studying Bond He is a larger than life person who deals with absurd events and thats why the audience likes him But in this film the emotions sometimes feel stiff and bland But its certainly interesting seeing the film try new thingsThe action sequences are all wellchoreographed The sound design makes every punch impactful and every gunshot threatening And the special effects are also realistic The cinematography along with the lighting gives the film a wide and modern look It is not a bad film but its not the best Bond film in the franchise either However it does provide Bond with a welldeserved conclusion', 'When Barbara Broccoli brought in Cary Joji Fukunaga to direct I was on board from that day forth His work with Nic Pizzolato on the hit television series True Detective showed he had the touch of bringing something new to the characters that envelope this wonderful longstanding franchise Would killing bond be the signature flex any director has ever attempted Yes And its a great way to end Daniel Craigs tenure as the iconic spyRami Malek plays the signature villain named Lyutsifer Safin yeah eye roll who hunts down and kills Madeleines parents His performance seems very similar in homage to the first villain of the franchise Dr No Lea Seydoux playing the tragic mother figure Madeleine who wins bonds affection like no other bond girl seems very melancholic in nature Her performance to me seems very insignificant in the greater context Where her connection with Safin makes it personal she feels unwarranted to hold the title of bonds baby momma But I digress This is the last outing and we just have to settle with what we got Ana de Armas Lashana Lynch Naomie Harris Ben Whishaw and Ralph Fiennes round out the cast of wellperformed supporting roles Not much deeper but by films end you see their love for bond and it makes it more meaningfulThe action is topnotch writing shotty at times but mostly crisp The soundtrack plays your typical tone with a little different pitch and their All in all this is a films structure doing what you expect Create a bond experience worth his final appearanceIm gong to miss Daniel Craig as bond Hell go done as one of the best But the future looks promising even after the first death of an iconic character', 'I understand that not everybody enjoyed spectre for me it was a homage to the glory days and a perfect mix between the old and new Bond Im a sucker for every Bondactor there is Connery Dalton Moore Brosnan Craig And ive really liked the direction the movies took with Craig It was a perfect step Though in this movie they lost it completely All the mysteriouness all the stoicness was lost about the character that is Bond They started alright with a hurtful man a continuation of the movies before that is seeking something more But the movie quickly changes direction into a generic action movie The extreme need to include every ethnicity becomes excessive when they introdouce a new black  And after that they try hard to show a new emotional and evolved James Bond Wich for me just doesent work The script is like another bourne movie like quantom of solace although they did a better represented Bond than this Nothing spectacular and switching the magnificent Christoph Waltz as blofeld to a bystander and getting malek as a the most generic Bondvillain ive ever see was a big mistake Daniel Craigs last Bond film isnt going to Bondhistory im sorry was really hoping for your finale Daniel', 'Well I give it  even though the franchise is ruined A lot of decent action and a good mix of drama tension and humor But this one is like Skyfall and Spectre or Mehctre as someone described it Good good but not as great as Casino Royal Quantum is almost too bad to mentionCraig somehow overacts in his toughness In CR he was spot on I dont blame him I blame the director The movie becomes somewhat boring sometimesSince they killed Bond there is no need to make another I dont want alternative storylines or another Bond universe like marvelSo I rather prefer they dont make anymore Bond movies They could go on with him being deadTime to make movies about the other double s', 'Allowing for the END CREDITS this Bond film clocks in at over two amp a half hours and at times it felt like itYou should NEVER be watching a BOND FILM amp thinking oh just get on with itThats not to say its a bad or even a poor film it isnt but it seems this was only created to give Craigs version of Bond this FINAL ENDING  and how interesting it should involve Danny Boyles end version of events for this film before he left as directorThere are some interesting moments that were rumoured its beautifully shot it has some not many exciting ACTION scenes\\nbut in the end it just left this  fan cold amp yearning for the more exciting amp more interesting of Craigs outings as Bond Casino Royale amp SkyfallI read with interest Charlie Higsons thoughts on this film amp I think he was right stating this wasA Bond film now made by folks who are a little embrassed to make a Bond filmYet again it was a continuation of this Bonds life story rather than a new different amp exciting missionFrankly this series of Craigs  films so very good early to midway has just tailed off to a BLAH I cant wait for the new guy and we do mean GUY amp hopefully more exciting amp fun  adventures againCharlie went on to say that the BEST BOND FILMS now or rather best imitation types of Bond films now amp which pretty much surpasses them currently are the Mission Impossible ones and hes right to some degree Ok theres NO  Q M or Moneypenny to be sure but theyre real FUN amp ENJOYABLE RIDES to sit through this was a bit dour amp can many Bond fans really say theyll be watching this again many times over In the years to come reallyI agree with those who believe Ana de Armass character almost took this this film from BOND with her character of Paloma she was fun quirky exciting amp had she had another half hour or so then most of us may well have come away thinking she was the true HIGHLIGHT of this filmThere was much talk of making the beautiful Halle Berrys character from Die Another Die JINX JOHNSON into a SpinOff film that didnt happen but Ana is clearly young enough amp fit enough to maybe be given that chance Should the Bond\\nmakers have ideas of trying such a thing Then they surely she would be the pick to try such an experiment amp there are ways of bringing her over into the British Secret Service amp theres that stupid idea at one time considered of aJANE BOND  yeah really But it would PALOMA in her own spin off With a twinkle in her eye as seen hereIt seems we live in different times amp Bond so the rumours go is set to become a pay per view TV SERIES \\nWell Im old style amp Bond for me will ALWAYS be a see it at the CINEMA Big Screen event kind of thingNo Time to Die will be remembered for a few wonderfully executed ACTION scenes being beautifully filmed amp with THAT ENDINGwhich sadly is not a patch on the unexpected\\nOHMSS endingIts a bit of a BLAH Bond film sadly but hopefully the makers will now head back to the single stories amp theyre FUN OTT versions I grew up withWHO WILL BE THE NEXT BONDAs of now it seems its down possibly to just TWOHenry Cavill who lets be HONEST would almost certainly make a FANTASTIC BOND amp who would set the BOX OFFICE tills ringing WORLDWIDE if he stepped into these shoesOR might it beAaron TaylorJohnsonIt seems that the wind is blowing in his direction right now if the polls are to be believedI had to ponder the idea of he as a BOND for quiet awhile as my mind was set on he as Kick Ass but then it clicked silly fool that was some  years ago LOOK AT HIM NOW\\nCould I see him as the new  I surely could amp it may well end up being an inspired choiceThis is a very Difficult choiceHOWEVER I think theres a fellow that sadly has been overlooked with no mention of he WHYAt just  hes close to the age required amp he has the acting chops to become such a characterHes a little slight in body some might think but I was one of the fools who when I heard Daniel Craig had been chosen to become the latest Bond had to look him up amp then thought NAH hes not BOND  IDIOT should have given him a chance I amp a good many others were wrong about himeven if this final outing was just so depressing reallyNICHOLAS HOULT is the name a great name amp a splendid actorTo soon to be BOND Perhaps a bit too UNKNOWN To most Maybe but lets be honest Craig wasnt exactly a BIG NAME at the timeANY of these three I believe could make a RETURN to the more FUN laid back not so lets be honest now MISERABLE type of  that Craigs was during these last few filmsThose Mission Impossible films GREAT though they are cannot really continue forever with Tom Cruise in the lead role for one with all his amazing personal stunt work in them he may well end up badly injured or worse time is against him soTime for  to step up amp to bring the FUN BACK to these sort of films which many of us remember as being pure FUN enjoyable escapism spectacularsMAKE IT SO AGAINPLEASEMy NEXT BOND choiceIf I had to have a bet\\nI would bet it will be Aaron TaylorJohnson with time on his side amp he does seems to be the favourite having already made a good impression with his interview amp that early filmed brilliant GUN BARREL sequence test shotAlthough how can anyone rule out the amazing Henry CavillThe BOXOFFICE is there already built in for him amp if EVER there was a JAMES BOND in waiting Then hes it amp if made well with inventive Action scenes amp a FUN ensemble cast around him then Im sure HE could be BRING BACK BOND as many of us would like to see him easy going fun with a twinkling smile amp looking like hes actually having fun in the role sadly Craig just doesnt look like he was having fun here if were being honestPerhaps HOULT at only  is one for the futureSo my pick would be CAVILL but reallyany of these three are well capable of returning back to a more fun easy going manner I thinkI just want the old time FUN BOND FILMS BACKCraig was way better than I ever imaged especially in CASINO ROYALE amp SKYFALLwas he the BEST EVER BONDHow quickly people forgetCONNERY will take some beating still ', 'I am a hardcore Daniel Craig bond fan For me Casino Royale is the best Bond movie ever made and I have seen multiple times The only good part in this entire movie is the  mins Ana de Armas appears completely lights up the screen rest of the actresses are nothing to write aboutThey force a god awful love story in a franchise which is about a secret agent and his missions Unfortunately there is zero chemistry between the lead pair unlike the sheer magic between Vesper and Bond in Casino Royale You cried when he cries for her in Venice but here you cant understand why is Bond indulging in stupidity for this lady I felt more for FelixAnd the lesser said about the token black  the better If you have no intention of building a wholesome character stop adding characters just for the sake of diversityAnd the dialogues cringeworthy sermons running for minutes which make no sense or connection Rami Malek could have been replaced by a marble statue and that would have acted better We needed a better finale to the best Bond ever and what we got a bad memory of a great actor', 'Producers will blame the poor box office of No Time to Die on COVID but thats not why its bombing The movie is failing because there is no audience for it It certainly wasnt made for fans of the Bond films like me The movie looks great with terrific location photography the title is cool and Bond girls Lea Seydoux and Ana de Armas are wildly dreamy Other than that this movie has little to offer The story isnt that interesting and the villain is weak If there wasnt a lady in the theater AMC Westbury NY laughing once in a while I wouldnt have even noticed the jokes Its also about twenty minutes too long No Time to Die bites the hand that feeds it It is hands down the worst movie of Daniel Craigs notsohot tenure as James Bond', 'The story is really engaging It didnt feel like  hours I enjoyed every second of it I like the bond between Daniel Craig and Lea Seydoux The ending got me tearful Who would have thought James Bond would make someone cry', 'This is a very odd film which feels far too melodramatic and miserable to be a James Bond story Its more reminiscent of a serialised romantic drama or tragedy than that of a spy thriller There are contradicting styles in the script that leaves the viewer totally confused as to why certain events or decisions are made and no real depth to any of characters that make the story plausible or well worth emotionally investing inIf you think back to one of the classic Bond films youll remember a much more optimistic simple and pleasurable experience Every story was unique and the next adventure was a whole new mission This suave and somewhatblithe secret agent was solely invested in protecting national security and saving the world from unhinged megalomaniacs Along the way there were interesting characters exotic locations beautiful women stylish outfits new gadgets and the most modern of cars also fitted with the gadgetsThe five Craigera films have spent  years moping about the same event which happened back in the first without really moving on His Bond seems more like a prima donna that leaves sulks and refuses to help more times than a French trade union I refuse to believe than anyone with his psychological and unstable emotional profile would ever be drafted in as a  Agent What is also forgotten is than Bond is a secret agent not a frontline commando  aka John Rambo He should be stealth intelligence and subterfuge with only action and violence where necessaryStill having actually enjoyed Skyfall which subsequently seems like the odd one out in series and having waited years since the last thank you Covid I accepted an invite to a prescreeningThe positives\\nulliThe alternative  was actually a good character She was physically imposing enough to be believable as another  Agent and is a good actress Nothing worse than being told that a size model can boot a prowrestler sized henchman across the room and forced to accept itliululliThe filmography was impressive Maybe the large screen helps amplify how good the camerawork quality really is Some lovely shooting involvedliulThe negatives\\nulliRami Maleks character made no sense and was effectively cardboard To have an Oscarwinning actor and effectively make him a dull twodimensional side character is a total under use of talentliululliThe plot and script writing One of the things that is known about this film is how the script was rewritten midpost production and it shows Its all over the place What appears evident is how the first cut must have felt too gloomy in editing so the producers brought in WallerBridge to lighten it up Unfortunately adding in random comedy lines or moments does not take away how miserable this film isliululliThe odd logic and lack of people The reshoots have clearly affected how scenes play out For example instead of controlling missions from a control centre think Goldeneye Ralph Fiennes M was just in his office with Rory Kinnear seeming almost low budget The final scene was just six people in an office with a drink  where on Earth is the rest of the intelligence service in this who film Clearly social distancing themselves from this messliululliThe romance The chemistry between Bond and leading love interest is about as reactive as a nobel gas Flat and painful So to have two films of the same thing is beyond the paleliululliThe music I cant even remember the theme tune so not even worth my time commenting on Clearly it was so bad that Hans Zimmer instead decided to base the soundtrack using On Her Majestys Secret Service all the way Why plagiarise a film from the s and use arguably one of the worse films in the franchise Clearly Louis Armstrong was not available to declineliululliTreatment of classic characters Its clear that the producers want to draw a line under the franchise and start afresh  pandering to the woke mob and hoping that future tokenistic nonsense will prove as successful as the original premise was Spoiler It wont and never willliulThe producers are clearly inept at creating anything that remotely feels as good or as likeable as it once was This is an institution and it deserves respect not total destruction Classic Bond films will continue to be on TV and still fondly remembered for years to come I dont think this film will ever want to be watched again That is what speaks the loudest', 'In  James Bond Movies Bond has been close to death on numerous ocasions from the outer space to the bottom of the oceans inside cars helicopters airplanes He has been tortured kicked shot druged etcBut one thing is for sure hes gonna kick the villans aIf he loses one of his bondgirls hes gonna do is mourning around a vodka martini keep on fighting get the job done take the girl drink another vodka martini and drive his Aston Martin in to the sunsetBut hes ALWAYS gona make it out in one pieceThats it plain and simple it was like this for seven decades and it worked out the ticket sales speaks for it thats what the legion of bond fans wants and pays forTimes change actors change styles change priciples change but the recipie CANTI had no trouble when Bond quit smokingI had no trouble when Bond drove BMWs\\nI had a bit of trouble when Bond lost his sence of humor\\nI had some trouble when they picked up Daniel Craig for the job\\nBut today i feel like ive been stabbed in the back when you killed BondBonds franchise belongs to many more people than those who own the legal rigths to it it belongs to legions the loyal fans who over decades bougth their tickets for every movie who bougth tapes DVDs Bluerays etc and those are the ones who helped make the franchise what it is todayIf you wana make a diferent kind of movie with a diferent style and diferent rules maybe you should start a new franchise do a spinoff sell Bond to someone else or jump off a cliff But dont kill BondUntil today everytime a new Bond movie came to the theaters i would watch on the premire no matter whatAfter today im having second thoughts if i will every spend one cent again on itAnd unless you find a way to fix that damage you have done you wont get a penny more out of my pocket Make the next Bond movie start with Bond waking up after a nigthmare or make him miraculasly survive the blast i dont care i just want Bond back in one pieceAnd im absolutly sure that just like me millions of other loyal Bond fans are felling the same', 'It felt as though we were never going to get to see this but finally its here the question is was it worth the waitThe answer yes really not what I was expecting of course its action packed dramatic and high octane but it actually boasts a good story and perhaps shows us a slightly different side to the characterPlenty of action plenty of style and a real twistI thought Daniel Craig was awesome and here he shows what a great Bond he has been its fascinating now to know wholl take overOn the downside it was a bit long and it did lull a little in parts but the action was enough to halt any dozingOverall very watchable ', 'It takes  minutes to get to the opening credits We discover Bond has a love in Madeleine La Seydoux and we discover she is the daughter of Spectre After a near death experience Bond places her on a train and goes and lives on an island somewhere He is drawn back into service with the reemergence of the Heracles project which targets DNA and uses nanobots Oh yeah There is a remote island with a sinister lab on itI am weary of the whole Spectre fight The new personal aspects of Bond bored me Daniel Craig is classless compared to Sean Connery and gets his hands way too dirty The opening theme was lousy It was certainly no Diamonds are Forever And the ending Geesh You thought fans were upset when Judi Dench was axed I did like Ana de Armas as Paloma for the short time she was on the screen Why didnt they write her a larger role She would have been great during the end scenesGuide Fword No sex or nudity', 'Let me say first that No time to Die as a movie is ok but as a James Bond movie its awful not to mention that the title is misleading I never write reviews this is my first review and the reason I do this now its because I am furious After  years and  James Bond movies someone decided that the James Bond movies should be about something more I have been a James Bond fan since I was a kid and I have seen all Bond movies numerous times The only Bond movie I will never see again is this one James Bond movies were about having a good evening at the movies They were about charm they were witty they had class and they were fun I have no idea how we went from little Nellie to this Neither Ian Fleming nor Albert Broccoli ever conceived of James Bond dying Part of the charm was that you knew he could pull off just about anything I dont care if some people decided to make James Bond movies about something more but this is not what the Bond movies were about You left the film with a smile and with a good feeling about the movie You knew it was not realistic but you didnt care The one thing you were sure about was that you werent going to watch a dark movie Unfortunately the latest trend caught up with the producers who decided to make No time to die a dark film This Bond movie does not leave you with a pleasant aftertaste and is missing most of the James Bond movie attributes Its the first time I left a James Bond movie without that feel good taste If you are a Bond fan like I am I think you will be very disappointed', 'This film is made by people that have zero confidence in the style of the Bond movies They just dont think that a traditional movie with James Bond on a mission can work anymore This film is entirely focused on the poetry and the drama rather than the adventure itself A shocking thing happens every th minute just to make sure that no one falls to sleep', 'The first  minutes are superb from the music to the location to the acting to the action but then the titles fall cool titles bland song and the movie never quite reaches those heights again For such a long bloated running time its too talky and surprisingly short on action in fact there are only two other notable setpieces the car chase in the woods and Ana de Armas brightening up the screen as an overeager bubbly yet skilled and deadly agent Most of the rest of the action is uninspired and in the climactic sequence just a regular attackontheenemyfortress weve seen hundreds of times often dim and murky Tomorrow Never Dies did this sort of thing much better and so did some of the Roger Moore Bonds The plot is formulaic biological weaponagain and its treatment of several key players from previous installments disappointing The ending is pretty silly  it leaves a mess behind that the inevitable next chapter will either have to work a whale of a story to get around or more likely will ignore altogether Craig does succeed at embodying a very human Bond yet I cant help but think that he never really got the chance to do a FUN James Bond living the high life in Casino he is earning his stripes in Quantum he is seeking vengeance in Skyfall he is already tired and resigned in No Time his circle comes to an end I guess he came closest to having a good time in Spectre which is why that film is still my favorite of the five he made  out of ', 'An indulgent mess spoiled by politicsFor me very little worked The precredits sequence is usually reserved for a cool action setpiece but here we get melodrama for  minutes before any threat is presentedThe maguffin is not explained well who made it Why Whos working for who The villains have almost zero screen time and when they eventually show up in the third act they have no personality The motivation of the baddie also seems vague He avenges those that harmed him in the first hour so why are we still dealing with himThe director almost seems embarrassed to put action scenes in and the ones that are there are shot with little interest and even less logic with the exception of one great pairing of agents in Cuba who actually had some real chemistry togetherAs for female  again this feels forced and while some may champion the character Id have to say that I felt she was simply dull Every line felt a bit snotty and came off as arrogance Her presence is not something that breaks the film or will make fans upset theyd have to care one way or the other to do that and theres just not enough personality here to feel anything forAnd the final Ill just say that its a first for this franchise and not a welcome one It didnt subvert my expectations or do anything clever Just an ugly end to a film that clearly the director had little interest in makingCraigs final score out of five is about ', 'This is by far the worst James Bond movie ever made On the surface it might seem good to some people but in terms of the future for the franchise I dont think they could have made anything worse than thisThey actually killed off James Bond at the end of the movie You cant do that It has never happened before for a good reason James Bond is never supposed to actually die We as an audience like seeing him in dangerous situations but he always was able to turn things around and ultimately win That is why we loved him By definitively killing the character here it will never be the same again when they now try and bring him backThis was the worst creative decision that they could have ever made it is like making a fun Christmas movie and then giving Santa terminal cancer at the end It might shock the audience but that does not mean that it is good story tellingHere is what I predict The film has good reviews right now but I think that over time people are gradually going to start turning on it By killing the James Bond character they have crossed a line that was never supposed to crossed and I really dont see a way back from this', 'Daniel Craig is an amazing actor who has done so well considering the terrible world the writers and producers have put him in for his Bond arc In fact Craig never quite got to play the James Bond he deserved to play  only a stilted and decimated version of the character and the Craig era seemed to pack in all the baggage that Bond was famously beloved precisely for not includingGone are the days where you could just have a fun spythriller These days the writers feel the need to add in emotional and family drama in all the places that could do without it They reduced one of the best franchises of all time into a soap operaWhat could have been the fun missionoriented Bond adventure weve been waiting for turned out to be a yet another melodrama with whats supposed to be an emotional punch coming off as the tropeofthe era fad and one that is particularly illfitting in Bond considering his history Cubby Broccoli must be turning in his graveThe final act is a kick in the teeth for true Bond fans maliciously forcing them to see something they never wanted to see and at best will be divisive among even casual fansJames Bond  Craig nails his performance every time Whatever problems have been in the movies of his arc its never been down to Daniel Craig Hes a true professional In NTTD we see him much more expressive and chatty than hes ever been  but its funny it fits and it worksMadeleine Swann  Despite still being the worst Bond girl the series for her moody painful expressions and not even the slightest sense of fun shes a step up from how she was in Spectre She still has zero chemistry with Craigs Bond which makes it all the more surprising they tried to add in a family drama storyline with her character Its supposed to be emotional but doesnt work If you were going to ruin Bond you may as well do it with a believable love interest Shes no Vesper lets put it that wayPaloma  Ana de Armas character was fantastic and a real cool fighter Its a shame she was hardly in the movieNomi  For all the fears about Lynchs character shes actually good and could have been utilized a lot more and it wouldnt have hurt the movieSafin  Rami Malek is just Rami Malek but his mannerisms are just creepy anyway so it pretty much works Not the best villain by far but not the worst either The fact that the plot and threat is so heightened in some ways takes over from the need for a strong rememberable villainBlofeld  Waltz is an amazing actor and has been totally wasted in the Craig era The producers should be ashamed of themselves the way theyve wasted a twotime Academy Award winning actor of this calibreM Moneypenny and Q  They were all decent and better used than in Spectre Theyre not overused this time and they all work towards supporting the main plot and Bond instead of acting like the Scooby Doo gang like they did in SpectreFelix  Perfectly fine but hardly in itSide characters  no complaintsAction  Some of the best action in the Craig era with much of it on par with Casino Royale In some places it was even betterAcross all of the Craig era movies NTTD ranks somewhere in the middle Like with most of the Craig era the end is weak The ending is miserable felt desperate and cost more goodwill from true fans than the series had even attempted to earnHopefully the next movie gets back to basics and gives us James Bond in an actual Bond movie that starts like a Bond movie and ends like a Bond movie If the Broccolis are bored with Bond they should hand him to someone that cares rather than treat our hero with such disrespect as to do what they did in this movie', 'In  the first Bond movie with Daniel Craig  the wonderful reboot Casino Royale  was supposed to show us how Bond became who he is But they didnt stop there Three Bond movies followed that exploited the character showing him as vulnerable dealing with his past quitting the service several times and having a hard time figuring women or life out Quantum of Solace   a fastpaced hardtofollow shakycam thrillride Skyfall  with its ludicrous plot and a villains scheme that made no sense and the heavily graded Spectre  with its clumsy scriptNow in  No Time to Die the longest Bond movie ever is finally here after being delayed three times and oh manthis was actually greatNo Time to Die is really a real treat It is beautifully shot IMAX cameras were used in many scenes and wonderful to look at The three big setpieces work fine But they are much much too short The Hans Zimmer score is the best James Bond score since David Arnold composed Casino Royale meaning bombastic and melodic with a couple of unexpected nods to earlier Bond moviesNo Time to Die is well acted and I have to say that Ana de Armas steals the show away from all other than Craig Sadly her part was very small Great chemistry between her and Bond I hope to see her back as the halfdrunk agentThe pacing is also mostly fine theres a fair amount of thrilling edgeofyour seat moments and the locations are varied and put to good use as they should be especially the Italy and Norway scenes It is also the most emotional and bold Bond movie ever attemptedAs a diehard Bond fan I have been pretty much disappointed with the last three and after Terminator and Star Wars going woke I was a bit afraid that the Bond franchise would suffer the same fate And yeswokeness is certainly here to some extent because in these times you cant have a suave unethical gambling selfassure single masculine womanizer roaming the silver screen So they turned James Bond into a feminist family man who cant figure women or life out This alternative take on the James Bond character may put some people off Its not a huge issue for me though The glamourous largerthanlife character WILL return one day And I do miss THAT guyThe massive team behind this last Bond movie should be very proud Much to my surprise and against many odds they actually nailed it', 'No Time To Die is a movie of its time Usually movies of their time are identified years or even decades later Not this oneThe movie stems with every woke topic of later years forcing it onto characters in what seems like a defensive move to avoid shtstorms from the ever growing population of easily offended who would eagerly wage war against the conservative look on men and woman portrayed in Bond movies of the past It feels clumsy and too eager to stay current where it could have felt subtle and contemporaryBond movies used to be pure escapism but we are now faced with a sensible Bond No longer a secret agent facing larger than life memorable villains but a simple action hero running around with a machine gun like any other action movie star Nothing in the movie separates it from all the other generic action films of recentThe opening  minutes are beautiful and evocative with a great action sequence and a nostalgic nod to the sweeping scores of John Barry but from there on it is down hill except for a fun action scene in Cuba  with a very charming assistantThe villian is diffuse underdeveloped and forgettable the plot is an unstructured mess and the one liners truly embarrasing  especially in concoction with the overly serious tone of the Craig era Bond moviesThis doesnt feel one bit like a Bond movie', 'No Time To DieI would love to say this movie was another Skyfall or Spectre but it just was not it really was a great disappointmentOverly long at  hours and  mins it needed a serious edit it was saggy and baggy and really quite tedious it lacked style panache and humour I will now detail the problems as I see itThere was a  year age gap between James Bond and Madeleine Swann his love interest this didnt workThe touchyfeely script was miserable and tedious I have pinpointed the moment a reasonable movie thus far sunk into turkeyville it was the moment Mathilde was introduced in Norway look out for this and you will see what I meanThe scene with the evil genetic scientist was repeated no less than three timesThe plot was simplistic and yet it was never explained why Safin wanted to eradicate sections of populaceVast swathes of the movie were shot in a grey blue murky tinge it was awfulI counted three jokes and a few sarcastic asides when humour is a key element of our heroJames Bond and children does not go and we all know whyStyling and gizmos were present but dumbed down when this is a key element of BondThe replacement  couldnt act her way out of a paper bag hammy and stiff as a stickAt best this is a weak  outta  but nearly everyone I spoke to was putting on a brave face without highlighting a single good bit but I thought the American agent in the black dressed trained for  weeks was really great', 'After waiting for two years finally the newest James Bond is released in theatres and it is a mess of a film The first  minutes are good the action is adrenalinic there are good stunts and the tension builds up After the Billie Eilish song the movie crumbles completelyThe story is too convoluted and they went full science fiction introducing a highly unbelievable mass murder weapon that does not make any sense There are way too many characters Why did they introduce a second  that does not add anything to the story She doesnt contribute in any way to the main objective accomplishment and the movie wouldnt be any different without her She is basically an empty shell that is used as a filler For sure not up to the legacy that this number has If this is the successor of James Bond MI is already doomed Paloma played by Ana De Armas is a newly trained and definitely too anxious agent for the job She appears for like  minutes where she kicks asses Visually appealing scene but then we do not get to see her anymore so what was even the point Q was always the genius of the group plenty of crazy inventions up to his sleeves In this movie they decided to give him more screen time which is a wonderful idea but unfortunately the actor did not manage to give any kind of depth to the character The evil side is not better Safir is so clich and predictable He cannot transmit any sense of menace He seems more a spoiled kid that wants to destroy the world for egoistic reasons a trope seen too many times Rami Malek is such a talented actor but in this case he was just disappointing I want to believe that part of the fault is on the script which in general was weak and poorly written Ash the right hand of Lyutsifer is just another stupid character that was too easy to beat Honestly James here played on easy mode because bad guys are all extremely dumbThe very first action sequence at the beginning is amazing I saw a lot of dedication and stunts were very well coordinated Extremely entertaining and compelling Then the movie became some kind of John Wick spinoff full of explosions and shootouts James Bond is a spy he is supposed to investigate infiltrate subtly in the criminal organization and dismantle it from the inside But because in previous movies he basically blew his identity up and everyone in and outside Spectre knows who he is what is even the point of going stealthy So lets blow up entire places and shoot mindlessly Bond is just a one man army nowThe movie is almost three hours long and it is so watered down by useless dialogues that overexpose the plot There are too many romantic scenes between the couple BondMadeleine At some point I was wondering if I was watching a spy story or a rom com Of course like most mainstream movies nowadays there is a lot of forced comedy that is not even funny I mean there are a few decent jokes but nothing worth noticing No Time to Die is definitely a huge downgrade to the whole franchise Either creators stop doing the series or they reboot it by taking inspiration from the older movies', 'What happening to movie making  Are they out to destroy every classic there is Whats wrong with write new material instead of hijacking the old', 'NO TIME TO DIE   Daniel Craig Lea Seydoux Rami Malek Lashana Lynch Ralph Fiennes Ben Whishaw Naomie Harris Rory Kinnear Jeffrey Wright Billy Magnussen Christsoph Waltz David Dencik Ana de Armas Dali Benssalah Craigs swan song as  delivers all the goods with his brute force tactics and surprising vulnerability are on tap when his services are requested after  years retirement to stop baddie Lyutsifer Safin silky Malek from infiltrating a deadly nanobot virus via DNA into the world populace while also nursing his love for Seydoux who is in the mix in oh so many ways Filmmaker Cary Joji Fukunaga who collaborated on the screenplay with Nal Purvis Robert Wade and Phoebe WallerBridge infuses deathdefying set pieces with visual flair to spare best viewed in Imax as well as some much needed dry wit and humor', 'Daniel Craig has NEVER been James bond NEVER James was created as a womanizer a smooth operator in EVERY thing he did The Kingsman movies are more like these new bond films than the actual bond films Should be dressed in Armani in custom tailored suits that inky a man like Roger motor Sean Connery or ever Pierce Brosnan NOT DANIEL CRAIG He has no charisma I like him as an actor he was great in knives out  invasion and more but he isnt James bond This film is  fricking hours of talking and with NO viscous villian no phenomenal bond girl not enough awesome action ESPECIALLY at almost  hours Im glad its dine I HOPE they get it right I VOTE FOR DAN STEVENS AS THE NEXT BOND', 'These new James Bond movies have no real connection to the original novels Just like Goldeneye Die Another Die and Casino Royale No Time to Die is an excuse for nonstop gimmicksPeople will say that Daniel Craigs James Bond is more like how Ian Fleming envisioned the character but seriously hasnt the franchise overstayed its welcome mat The original novels dealt with the Cold War and the original movies maintained that along with Sean Connerys coolness of course Never mind that the gender relations look particularly questionable in the MeToo era But most importantly having a license to kill amounts to executing people without trialMy point is stick with the Sean Connery movies and s Casino Royale', 'I grew up watching bond movies and I just feel so sad and disappointed They just killed the myth the legend destroyed the whole essence of the series', 'The action scenes are very good you cant take that away especially as the new female agents literally kick as Thats allIts as if you got every previous Bond film and put them into an electric mixer Youd end up with something that was recognisable as a Bond film but any sense of an individual narrative would be lost And theres too much stuff about the pastBond comes out of retirement to prevent the release of a deadly nanobot DNAtargeting virus by the most boring  by a long way  villain of the series It takes them nearly three hours to regurgitate one of the less interesting Bond plots And nanobots Thats what pensioners call nanites its terribly dated terminologyM and everybody back at base follow Bond on remote link like Obama watching the live Bin Laden feed That was new several years ago tooDaniel Craig looking like the love child of Tommy Lee Jones and Norman Wisdom stiffens his upper lip stiffly which is why he cant deliver any of the supposedly funny lines and his voice is not the voice of a Royal Navy Commander its the voice of a particularly miserable bookie', 'I must start by praising Ana de Armas for her performance She totally stole the show and was absolutely amazing as Paloma And sadly this is the only thing i can praise about this movie Yes Paloma was great but heavily under used The action scenes were boring and mostly predictable and the dialogues long and confusedFor whatever reason they felt this movie HAD to have romantic and heartfelt storylines instead of the Bond feeling the classics and more recently Skyfall had Way too long way too overly dramatic and a villain completly boring and shallowI feel personally insulted by the ending Why just why Please like why Why kill the enigmatic magic of James Bond Bond cant die thats part of his charm No matter what he always makes it Always I dont understand the necessity of crushing the concept of the character by making him die I was always expecting for some helicopter SOMETHING to appear and rescue him and them nothing Silence And all the Bond magic of the last  years was utterly goneDont watch this movie if you truly love Bond films Just dont', 'As a movie in general NO TIME TO DIE is a fairly good and entertaining production A bit of a mess in terms of story compensated by wellarranged stunts thrills a decent soundtrack and a colorful cinematography Some of the actors like Ana de Armas and David Dencik steal the show Others like Rami Malek are ridiculously overpraised I would say Craigs acting is more natural than in other films but the main problem in this film ruins the experienceAnd the main problem of NO TIME TO DIE is that it is a James Bond movie And in that regard any true Bond fan watching it will feel blatantly insulted Straight from the worst gunbarrel sequence youll ever see where the dots emanate from the Universal logo the barrel itself is a generic chromed iris and there is no blood as a tuxedoed Craig fires his gun unsuccessfully ripping of the pose of Pierce Brosnan in his four Bond movies As if that wasnt enough the main titles have more CGI than the tsunami wave of DIE ANOTHER DAY with pedestrian animations of Aston Martin DB cars falling into sand mythological figures and Walther PPKs firing bullets simultaneously across the screen And Im just mentioning the somewhat banal things of the film because if we go to how the arc initiated in CASINO ROYALE is closed youd wish this film had never happened and that Craig really slashed his wrists in November  no matter how much Barbara begged him the only actor she can imagine playing Bond yes she said that and that the end of his run was SPECTREThe final minutes constitute a blaspheme insult to Ian Fleming Albert R Broccoli Louis Armstrong and John Barry And to anyone who truly grew up to love James Bond  As I said before name this character played by Daniel Craig something like Clifton Sleigh Auguste Balls or Jacques Clouseau and Id at least give this film a  But as a James Bond film it crosses the line that much that it makes NEVER SAY NEVER AGAIN and the  TV adaptation of CASINO ROYALE two official Bond films and diminishes this one to the point we can actually compare it to the  version of CASINO ROYALE  literally two elements of that film are replicated hereThat said I really dont care where they are taking James Bond from now on This film made me want to put some flowers in Kevin McClorys grave and I really hated the man for years If you still have some dignity Barbara please resign Resign and sell the rights of the character to someone who truly loves James Bond  and make the kind of films your father did The kind of films that care little about Oscars diversity drama epic tales and billions of dollars in the box officeYes the classic four words are still there at the very end placed as an afterthought And they dont make sense at allLook up look down look out Here comes the most insulting Bond of all', 'And so after endless delays and endless fanfare we finally have Daniel Craigs final Bond outing And after all that the end result is merely average I enjoyed it to a degree but I can tell its not one that will particularly stand up to repeat viewing Its overlong way overlong with a very slim plot and a story that feels copied from earlier instalments almost sceneforscene at times The action is too much about the stunts and CGI and not enough about the suspense or danger and the whole thing simply goes through the motions Rami Malek is far too sympathetic to make a good bad guy and the main problem lies in employing the same two screenwriters for the past  years No wonder it feels stale How about giving somebody else a chance', 'James Bond Daniel Craig is married to Madeleine Swann La Seydoux She has a secret past Hes visiting the grave of Vesper Lynd when Spectre attacks Blofeld claims that Madeleine is a daughter of Spectre Its five years later Bond is retired and living alone Russian bioweapon scientist Valdo Obruchev has been kidnapped by new baddie Lyutsifer Safin Rami Malek MI and the CIA are at crosspurposes Both are searching for ObruchevThis reportedly is to be Craigs final outing as Bond This feels very much like a lot of James Bonds greatest hits There is golden hour shot near the end where I realize that this is really the golden hour of Craigs Bond The sun is setting on his tenure Madeleine talking to Mathilde is tinged with nostalgia Shes telling her about his past His chapter of the book is doneAs for the movie it opens great There is a great chase in the narrow streets of an Italian mountain village I love the motorcycle jump Its so simple and so clean There are no jumpy cuts or shaky camera work in that shot Ana de Armas has a great introduction with her three weeks of training I like Ms duplicity Im less enamored with Blofelds transformation into Hannibal Lecter I would rather they imagine something else something different Safin is definitely the weakest link Rami Malek is forced to do a dull old fashion villain Bond is talking to M and they actually made fun of the new villain as having the same old evil plans It would have been a lot simpler if Obruchev is the new villain He played M and has his own kill list His joke to Nomi about killing all the black people is more chilling and more memorable than anything yadayada evil plan from Safin Safins best scenes happen in the beginning without showing his face Its a long movie and by hour three the repetitive gun fire keeps droning on and on It gets a bit tired It would have helped by cutting out one villain and concentrating the screen time This is the end Beautiful friend', 'Bond is back at last Daniel Craig is the longest serving Bond with the fewest filmsOnce again Bond is out of the service bumming around the CaribbeanIts Felix Leiter who coaxes him back to action Only to find that M has replaced him with a new The target is a biological weapon that horns in on DNA The British were developing it but lost it to Spectre or so they thoughtFor Bond its a reunion with Blofeld and Madeleine a woman he thought he loved but let go mistakenly She never did have time to tell him her secretHowever there is a new foe called Safin and he is bearing a grudge but it is against SpectreThe movie is long and lacks a spectacular action sequence It also feels a lot like a Christopher Nolan film Just check out all those black Range Rovers the booming bass and the car action scenesI also thought Safin himself was a weak baddie I could understand his hatred for Blofeld but not against the world or BondThe stirrings of a Louis Armstrong song at the beginning gives the impression that the movie will contain several farewellsFor Bond there are also a few new character developments He crosses swords with M He has regrets and might need to make the ultimate sacrificeThe ending is rather faithful to the novel of You Only Live TwiceOne big issue I have and this is something the producers need to consider in the future The film has three villains with facial disfigurements', 'It felt as though we were never going to get to see this but finally its here the question is was it worth the waitThe answer yes really not what I was expecting of course its action packed dramatic and high octane but it actually boasts a good story and perhaps shows us a slightly different side to the characterPlenty of action plenty of style and a real twistI thought Daniel Craig was awesome and here he shows what a great Bond he has been its fascinating now to know wholl take overOn the downside it was a bit long and it did lull a little in parts but the action was enough to halt any dozingOverall very watchable ', 'No Time to Die is a coproduction between the United States of America and the United Kingdom from  and this is of course the most recent James Bond film we have here It is a definite contender for most awaited film of the decade because on the one hand the viewer numbers are selfexplanatory and on the other hand this film has been delayed so many times because of the corona pandemic that it was truly high time for it to actually hit theaters everywhere Which it did not too long ago Being a a huge Bond fan myself who has seen all the other films no exceptions I was curious enough to watch several hours of redcarpet broadcast from London a while ago when the film had its world premiere there and most key cast members showed up and the Royals were also there to check it out It runs for over  hours and  minutes which makes it a truly long film and even if it is an hour or so longer than another Daniel Craig Bond movie nobody can really be surprised It was already an option that Craig could end his Bond career before this one here but he returned again for a fifth and final  performance Unfortunately as you can see from the title of my review I dont think this was as amazing as it could have been I still think that Casino Royale and Skyfall are his two best movies and clearly ahead of the rest even if its not easy at all to pick the number one But that is another story Lets look at this one here now Director is Cary Joji Fukunaga who is mostly known for his work on True Detective so the outcome here is surely his biggest big screen success as of now He is also one of the writers and the other two are again Purvis and Wade who were already there during the Brosnan era Enough said They could very well also be there again when the next  takes over Whoever it will be I mean we already have a Black female  in this film even if I doubt she will become the new lead to the franchise But we will seeAs for the cast there is nothing to say about Craig anymore Some of the others are people who reprise their characters from previous movies Especially the one before La Seydoux is back playing Bonds one and only love interest in this film and its very serious as we find out not only because of the child that joins them but also because of the long sequence early on which is linked to Vesper Lynd again and her story of betrayal back in Craigs very first Bond movie so it is a bit of a framework you could say Is he betrayed again This time by Madeleine Christoph Waltz is in this film here too No surprise obviously but he does not have a lot of screen time unfortunately He is an actor I like and I definitely think that there could have been much more to his Blofeld than there was in this film and the previous one Lets be honest With what they did withto him here it maybe would have been better if he had not been in the film at all I think Fukunaga was basically only looking for a way to get him out of the picture somehow and put all his focus on the key antagonist in here That would be the character played by Oscar winner Rami Malek He is a new addition to the cast and if we dont count the very first masked scene it takes quite a while for him to finally join the action namely when he sits there in Madeleines presence but once he is there he is bound to stay Great screen presence as always and his villain character is among the better aspects from this film especially in that scene where he takes the girl from her with the aura of poison all around him Another antagonist character is played by Dali Benssalah Very easy to identify too with his physicality Not just the eye even if this eye especially in the final fight scene and how heit is taken out is maybe the biggest cult moment from this film and I had to think of Oddjobs hat back in Goldfinger there I could go on and on Jeffrey Wright is there again so is Ralph Fiennes Ben Whishaw Naomie Harris New faces with a decent amount of screen time include Lashana Lynch David Dencik and Billy Magnussen All no really big names so they made sure nobody takes away too much attention from Craigs farewell performanceComedy is once again nothing you find too frequently in here There was some banter here and there between Bond and the new  about who is allowed to carry this number There was this eye scene linked to the gadget the one I just mentioned Oh and maybe for my comedic highlight of it all I must mention Ben Whishaw His talk about the guest he was about to have was more of a politically correct failure piece of comedy maybe also linked to the actors own sexuality but when he tried to pretend in front of M that he had not seen Bond before this encounter it was pretty funny I give themhim that Big smile there As for the more dramatic moments of course the one that stands out the very most is the exact ending Bond has never died before in these films so they were taking completely new directions here I am not sure if I like it though Big challenge and they probably could not have depicted it any better but Bond always had this unkillable aura and maybe they should have stayed with it Like breaking an unwritten rule Oh well this was not the first time Blofeld died either and they killed Leiter in the process of it too but they will all be back sooner or later In any case these rockets hitting the island were pretty spectacular Also bittersweet that they came from his side and  ordered them to be fired and you could say that M or MI messed up themselves by the fact that they lost this Heracles this priceless killing program to the bad side So his own folks shortcomings result in Bonds death in this movie But he still makes sure that evil is buried with him and this gigantic factory of villainy goes down as well The island between Russia and Asia here I liked the way it was depicted The isolation of it all but also these water areas or liquid areas in which people were working in thick riot gears Not sure this is the right wordAs for the Bond song by Billie Eilish I remember not liking it too much when I heard it first Then it grew a bit on me over the months in the process of looking forward to this film perhaps Now as I heard it connected to the movie I again am not too big on it Also felt to me as if it was not used on many other occasions except the opening sequence where they always use the Bond song So yeah this will surely be one of the more forgettable Bond song and I am pretty sure that it will not repeat the awards success that Adele and Sam Smith had with their previous Bond songs But we will see An Oscar nomination seems like a big success already from my perspective The win is not an option as of now the way I see it I should probably also mention Finneas as he is cowriter but I just dont really understand the Eilish hype at all The music that stands out way more here is certainly Louis Armstrongs We Have All the Time in the World a timeless classic that you will hear with the closing credits and you also hear the name of this song being referenced on several occasions during this movie key occasions really The timelessness of this piece is something Eilish and her brother can only dream of And its also a beautiful jump back in time because this was used back in the day during the early  movie days already For Dr No if I am not mistaken So yeah the film had something to offer on the music front as well not only with Hans Zimmers soundtrack The technicality we dont need to criticize Costumes sets makeup cinematography sound effects etc All this is in competent hands here and could not have been much better But story is key and this is the reason why I dont give a truly high rating By the way I thought on some occasion that Madeleines father here could be Blofeld I mean we hear about him being a killer a doctor which he is in the old film always carries the title Dr Ernst Stavro Blofeld and here in the previous film he even went with Mr Bleuchamp so a French connection was also there So when we know that Bond can kill Blofeld with his hands because of the virus I thought that he would kill Madeleine too but they touched and kissed and she did not die so we did not find out about her real fatherAs for Maleks character he is of course also a tragic figure with what happened to his family earlier and his revenge idea in terms of killing the killers family can be related to somehow but what he turns into is definitely insane I mean this was a touch of Thanos already I felt Killing millions of people and causing some kind of natural selection this way While with Thanos we were getting this idea of a relentless god I still felt that they could have elaborated a bit more there on Safins approach Not the tennis player Sorry I just had to Overall this is of course unsurprisingly another Bond film that people who like the franchise should not miss out on and it is also definitely a better watch in movie theaters Go see it on the big screen and preferrably do so now while it is still on because I have made the experience that at least here they do not really show past Bond films in movie theaters The old ones Maybe because they are all on television still from time to time and actually several times each year I am not sure what you will like most about this movie but I think there is enough to pick from and there are definitely more positive moments to the outcome here than negative moments Actually almost no negative moments Ana de Armas could have been given better material I mean she is secondcast on imdb because of her name but barely a factor Oh well maybe we will see more from her character in the next movie Its still also never really a great film unfortunately I feel like Fukunaga was playing it safe overall which hurt the film', 'When I first watched Daniel Craig  years ago I was not ready for the direction they were taking the character It felt like a good movie but it felt quite divorced from the Bond I grew up with  the Bond I knew But apart from that effort being a Bond begins sort of thing and this being the other end of that  line the franchise bit by bit gave us certain things  we as viewers yearned for While keeping it freshBond  James Bond That line  one of many that are infamous in the long list of Bond movies  gets a new spin here As is the iconic Bond shooting towards the camera Now I could name many more things that this film revisits and I probably still would miss some There are many references here either visually or via audioThe beginning is quite the introduction  it is almost funny because it takes its time And it is funny because the rest sometimes feels rushed There are many loose ends the movie wants to neatly tie up Another day another Bond song another Bond intro  although quite late in the gameBond has grown  grown not just over the course of the movie Craig played him but generally speaking Society changes and Bond has no issue sitting on on the backseat of a motorbike while a woman is driving That is not enough for you to go on a rampage and scream wokenessMany known faces return but many new ones too Be it the ever excellent if only shortly used Ana de Armas no pun intended or our uber villain Rami Malek Now while I really liked what I saw and while the running time is  hours  there are things that can be seen and called flaws You can question Bonds love to Eva Greens character  or him still holding onto her you can question methods used and how convenient certain things happen  or how some stunts would put the Fast and Furious franchise to shame  but if you did that you would derive yourself of a lot of funNot being aware of the previous entries may not be necessary but youll have a lot of things to discover and smile at if you have seen at least some of them Of course if it is only a few of them make it the Craig Bonds so you have the whole  story Generally speaking I cant wait to revisit all the moviesNo time to watch them Well make time  Also to conclude with a fun fact the title No time to Die has been used before  by another movie in  The year Daniel Craig became Bond Coincidence Or full circle All kidding aside I have not seen that movie yet so dont hate on me if it isnt any good Otherwise out with the old  in with the new  whoever that may be and however the franchise is going to reinvent itself  Ill be there  I hope you will be there too', 'It takes  minutes to get to the opening credits We discover Bond has a love in Madeleine La Seydoux and we discover she is the daughter of Spectre After a near death experience Bond places her on a train and goes and lives on an island somewhere He is drawn back into service with the reemergence of the Heracles project which targets DNA and uses nanobots Oh yeah There is a remote island with a sinister lab on itI am weary of the whole Spectre fight The new personal aspects of Bond bored me Daniel Craig is classless compared to Sean Connery and gets his hands way too dirty The opening theme was lousy It was certainly no Diamonds are Forever And the ending Geesh You thought fans were upset when Judi Dench was axed I did like Ana de Armas as Paloma for the short time she was on the screen Why didnt they write her a larger role She would have been great during the end scenesGuide Fword No sex or nudity', 'Well I just never thought Id hear James Bond say Im not gonna make it I dont know if this will be the end of the franchise because screenwriters can always come up with some gimmick to bring a character back to life but the ending here looked pretty final if not for Bond at least for Daniel Craig Ive only been an erstwhile follower of the Bond franchise so I didnt have a lot invested in this film but still you hate to see an iconic character come to a final conclusion The story here seemed to be all over the place with enough of Bonds extensive history thrown in to conjure up memories of past exploits As if to put a final nail in the coffin of the franchise even the entire SPECTRE organization is demolished in one fell swoop At one point before his death Felix Leiter Jeffrey Wright invited Bond along for this one final adventure by stating Come on itll be like old times But sadly it wasnt and all we can do now is pick up the pieces or find some sense of satisfaction in the earlier movies', 'These new James Bond movies have no real connection to the original novels Just like Goldeneye Die Another Die and Casino Royale No Time to Die is an excuse for nonstop gimmicksPeople will say that Daniel Craigs James Bond is more like how Ian Fleming envisioned the character but seriously hasnt the franchise overstayed its welcome mat The original novels dealt with the Cold War and the original movies maintained that along with Sean Connerys coolness of course Never mind that the gender relations look particularly questionable in the MeToo era But most importantly having a license to kill amounts to executing people without trialMy point is stick with the Sean Connery movies and s Casino Royale', 'The twentyfifth Bond movie reported as the last for the leading actor was first delayed by the departure of original director Danny Boyle due to creative differences and then three or four times by the impact of COVID with the lockdowns and restrictions It became probably the most highly anticipated film in the franchises history and was predicted to be the biggest film to bring audiences back to the cinemas Finally after almost two years of delays and waiting it was released I am a huge fan of Bond and I was super excited to see it on the big screen cowritten by Phoebe WallerBridge Fleabag directed by Cary Joji Fukunaga Jane Eyre Beasts of No Nation Basically in the opening flashback Lyutsifer Safin Rami Malek visits the house of Mr White intending to kill him He is not there but his wife Mathilde Bourbin and daughter young Madeleine Swann Coline Defaud are inside While Safin kills Whites wife Madeline shoots him and flees but Safin survives He chases Madeline onto a nearby frozen lake and she falls through the ice but Safin rescues her In the present Madeleine La Seydoux is with James Bond Daniel Craig in Matera following the capture of Ernst Stavro Blofeld Christoph Waltz and Bonds resignation While he is there Bond visits the tomb of his former lover Vesper Lynd but he is ambushed by assassins from the Spectre organisation The assassins led by mercenary Primo aka Cyclops Dali Benssalah who has a cybernetic eye chase Bond and Madeleine in Bonds gadget ladened Aston Martin DB Although they manage to overpower and evade the assassins Bond believes Madeleine has betrayed him despite her pleas and leaves her Five years later MI scientist Valdo Obruchev David Dencik is kidnapped from a secret MI laboratory With the approval of M Ralph Fiennes Obruchev had developed Project Heracles a bioweapon containing nanobots that infect like a virus upon touch and are coded to an individuals DNA rendering it lethal to the target and their relatives but harmless to others Bond has retired to Jamaica where he is contacted by his friend CIA agent Felix Leiter Jeffrey Wright and his colleague Logan Ash Billy Magnussen Leiter asks for Bonds help in finding Obruchev which he declines But then he meets Nomi Lashana Lynch an MI agent who has been a DoubleO for two years becoming his successor as  She tells him about Project Heracles after which Bond agrees to help Leiter despite Nomis warnings not to interfere Bond goes to Cuba and meets CIA agent Paloma Knives Outs Ana de Armas as they infiltrate a Spectre meeting for Blofelds birthday where they believe Obruchev will be Still imprisoned in Belmarsh Blofeld uses Primos bionic eye to lead the meeting and order his members to kill Bond with a nanobot mist But the mist instead kills all the Spectre members as Obruchev had reprogrammed the nanobots to infect them on orders from Safin Bond captures Obruchev and rendezvous with Leiter and Ash on a boat But Ash reveals himself to be double agent working for Safin he shoots Leiter and escapes with Obruchev With a bomb exploded and the boat sinking Bond is forced to leave the fatally wounded Felix but he promises before he dies he will finish the mission Moneypenny Naomie Harris and Q Ben Whishaw arrange a meeting between Bond and Blofeld in prison to try to find Obruchev Safin visits and coerces Madeleine to infect herself with a nanobot dose to kill Blofeld as she has been his only visitor since his incarceration Bond and Madeleine are speechless seeing each other at Blofelds prison cell he touches her and unknowingly infects himself before she leaves Blofeld confesses to Bond that he staged the ambush at Vespers tomb to appear as if Madeleine had betrayed him Bond reacts by attacking Blofeld unintentionally causing the nanobots to infect and kill him Bond tracks Madeleine to her childhood home in Norway and learns she has a fiveyearold daughter Mathilde LisaDorah Sonnet but she claims she is not his Madeleine tells him that when Safin was a boy his parents were murdered by her father on Blofelds orders Safin was the sole survivor of Mr Whites dioxin attack on his family leaving him facially disfigured from chemical burns Having avenged his family by killing Blofeld and destroying Spectre Safin continues his rampage with Ash Safins army pursue Bond Madeleine and Mathilde through the woods Though Bond kills Ash and his thugs Safin captures Madeleine and Mathilde Safins headquarters is located on an island between Japan and Russia and harbours a missile base converted to a nanobot factory where Obruchev is massproducing the technology so Safin can use it to kill millions of people Q enables Bond and Nomi to infiltrate the base Bond kills many of Safins men while Nomi kills Obruchev by pushing him into a nanobot vat Madeleine escapes captivity while Safin lets Mathilde go Nomi takes Madeleine and Mathilde away from the island while Bond stays behind to open the islands blastresistant silo doors calling a missile strike from submarine HMS Dragon to destroy the factory Bond kills Safins remaining men including Primo using electromagnetic pulse in his wristwatch to overload and explode the cybernetic eye in his head Safin ambushes Bond shooting and infecting him with a vial containing nanobots programmed to kill Madeleine and Mathilde upon his touch Despite his injuries Bond kills Safin after a fight and opens the silo doors Speaking by radio with Madeleine Bond tells her he loves her and encourages her to move on without him In his final moments Madeleine confirms that Mathilde is his daughter as Bond says goodbye The missiles hit the island destroying the nanobot factory and killing Bond At MI M Moneypenny Nomi Q and Tanner Rory Kinnear drink in Bonds memory As Madeleine takes Mathilde to Matera she tells her about her father James Bond Also starring Hugh Dennis as Dr Hardy Priyanga Burford as Dr Symes and Javone Prince as MI Security Guard Craig makes the most of his final outing as the worlds most famous spy being determined but also emotional Seydoux so far only the second Bond Girl to return after Sylvia Trench is beautiful and memorable as his lover Lynch is reasonable in her annoyingly underwritten part de Armas steals her scenes as the bubbly and slightly airheaded CIA agent Malek is a bit too hammy and not very chilling as the villain but Waltz gets a terrific Hannibal Lecter style cameo and there is good support from Fiennes Wright and Whishaw It is a good story the virus aspect being eerily relevant with the times we have lived in filled with only occasional need for gadgets and gimmicks It has drama and emotion plenty of gripping chases fights and explosive sequences some humour and the Billie Eilish title song the second Bond song to hit Number One is okay You will notice things from previous entries popping up including the Aston Martin V Volante from The Living Daylights people have compared Craigs more aggressive Bond as similar to Timothy Dalton But the most noticeable is the clever throwback to On Her Majestys Secret Service with the John Barry theme heard and the song We Have All the Time in the World The  film famously ended with Bonds wife being killed in this one Bond dies in a genuinely sad way he goes out with a bang literally and the Louis Armstrong song plays in the end credits There will be fans that will be shocked and maybe angry at producers breaking the golden rule Bond must never die but Casino Royale started with Bond earning his DoubleO status and this is a brave poignant and I think suitable conclusion to Craigs tenure It may be two hours and three quarters long but it didnt feel like it the time is used well and this is just the kind of entertainment you need and dont worry James Bond Will Return a terrific spy action adventure It won the Oscar for Original Song for the title song for Billie Eilish and Finneas OConnell it also won the BAFTA and Golden Globe and it was nominated for Best Visual Effects and Best Sound it won the BAFTA for Best Editing and it was nominated for Outstanding British Film of the Year Best Cinematography Best Special Visual Effects and Best Sound James Bond was number  on  Years  Heroes amp Villains he was number  on The  Greatest Sex Symbols and he was number  on The  Greatest Pop Culture Icons Very good', 'As this the fifth and final outing for Daniel Craigs Bond opens a masked man breaks into a house looking for Mr White instead he finds his wife and child he kills the wife but spares daughter Madeleine Years later and an adult Madeleine is with James Bond when he is attacked he suspects she betrayed him Five more years pass and Bond has left the service retired to Jamaica Inevitably that retirement cant last old friend Felix Leiter approaches him for help Scientist Valdo Obruchev has been kidnapped by Spectre he had been working on a targeted bioweapon that uses nanobots to target a specific persons DNA for MI The mission will see him cross paths enemies old and new as well as be reunited with Madeleine and her daughterI thought this was an impressive conclusion to the Daniel Craig era of Bond films The central story was solid referencing On Her Majestys Secret Service in many ways while differing in more We are clearly meant to see these as references as there are musical nods and use of that films most iconic line without these I probably wouldnt have made the connection As one would expect there are plenty of exciting set pieces and stunts similarly there are the expected variety of locations Craig is impressive as Bond and the rest of the cast are decent too most obviously La Seydoux as Madeleine Rami Malek is suitably villainous as Lyutsifer Safin but the character wasnt among the better Bond villains I thought Ana de Armas was great as CIA agent Paloma it was just a pity she was only used for a relatively short while At over two and a half hours in length it is rather long although to be fair I never found myself looking at the clock Overall Id say this was a good addition to the series I look forward to seeing the direction the series takes when the next actor takes over the role', 'Of course the James Bond spirit is not exactly the same as the other films over decades It is more gloomy darker with a total different face of our hero You have in this movie many unexpected things but the overall scheme remains  James Bond movie maybe more than SKYFALL which was far far more a crime thriller than an OO feature Watch it again and compare In a way SKYFALL announced this one with SPECTRE in the middle Not the best Bond ever but not the worst either', 'Count me as one who has been watching James Bond  movies since the s Of course my favorite  was Sean Connery something about his style his demeanor and his particular delivery of lines Others have done OK including this current one Daniel CraigIt has been stated this would be Craigs last stint as Bond and the ending would seem to confirm that Bond and his cohorts are required to hunt down the bad guys and save the world Hmmm  that sounds like the plot of lots of movies One thing that makes this one different is the use of DNA sequencing and the development of nanobots that can be injected into the bloodstream so eradicate only those of certain genetic backgrounds It provides for sufficient intrigueMy wife and I watched this at home on DVD from our public library the picture is good and the sound is superb It is just a popcorn movie just entertaining', 'Being big James Bond fans Mom and I were stoked to watch this the final one starring Daniel Craig She got confused by the narrative early on as was I but we both seemed excited just the same as it got going While perhaps the longest of Bond series entries neither of us were too tired as there didnt seem to be any boring stretches The storyline continues from the previous entry Spectre with many characters from there returning Quite touching in places especially at the end With this Mr Craig can be proud of what he accomplished during his five films as James Bond  Oh and also loved some references to previous series entry On Her Majestys Secret Service including a certain song associated with that one', 'The story is really engaging It didnt feel like  hours I enjoyed every second of it I like the bond between Daniel Craig and Lea Seydoux The ending got me tearful Who would have thought James Bond would make someone cry', 'Its been a long time and most of it til now enjoyable This is the th installment of the James Bond movie franchise and finds Bond Daniel Craig away from active duty and making the best of an enjoyable retirement from Her Majestys service Bond not exactly just an everyday mans man but a cool guy that seems ready for the time he should be called into duty And he is when a longtime friend from the CIA calls for aid to rescue a kidnapped scientist turns out sketchy but well worth Bonds abilityThe opening sequence is just as grand as any but NO TIME TO DIE quickly flounders victim of murky direction and being overwritten The script has Bond busier than a chatty Cathy talking more than he is comfortable with The movies villain played by Rami Malek is flat with hardly any background and is uninteresting yet baffling A foe that lacks any appearance of being dangerous The franchise is still worthwhile but some may say is resting on the ropesCast also includes Lea Seydoux Lashana Lynch Ralph Fiennes Ana da Armas and Christoph Waltz', 'James Bond is living in the Caribbean having retired from MI However Felix Leiter and the CIA want to coax him out of retirement as a DNAbased weapon in the wrong hands threatens largescale death Worst of all the weapon was developed by MII enjoyed the last two Daniel Craig Bond films with Skyfall being the pick of the bunch Rather than your usual Bond film which is largely quite formulaic and predictable Skyfall and Spectre had a reasonably intelligent plot and most of all character depth and developmentNo Time To Die continues this trend with Bond once again demonstrating that he is human with feelings and loved ones The plot is quite interesting and sound too rather than token and merely a vehicle to get to the next action scene On that note the special effects and action sequences are very well doneIt is quite long at  minutes but Im not sure what I would cut out to make it shorter no scenes feel like empty fillerWell worth watching', 'The Written Page is a Static Affair There for almost Eternity to Ogle Feel the Texture and as Far as Fictional Super Heroes Go areETERNALTHEY LIVE ON WITH LITTLE OR NO CHANGEThe Best Mythologies say Batman and Sherlock Holmes Risk Great Damage if Tinkered withIt Should be Resisted at all CostSpeaking of Cost This is the Most  Budget at Mil Promotion no Light Figure at MilBut the Gaudiest Inexplicable Change Not Demanded to Inflation is that the Next James Bond might be a WomanThe Brain BogglesNot Only a Woman but a Black WomanOf Course Time Changes ThingsThings but Not THE ThingThe Thing isJames Bond When Ian Fleming sat at the TypeWriter Secret Agents were   Male White MachoMen When the Phrase Adrenaline Junkies was Not a ThingThe Heart and Soul of the Myth if Drastically Changed is No Longer the Myth It Becomes a Hybridized Other Thing Not THE ThingIt Seems that the James Bond Folks in Charge want it to be this NEW ThingPity the DieHard James Bond Fans The Fans of the MythThe Never\\nSay Die Foundation for Bonds ExistenceThere are Plenty of Heavy Hearts after this some say Final Chapter in the Life that Fleming Breathed Into those Decades AgoCould it Be that THE James Bond as  No Longer Lives in the Matrix of MythosMost Probably', 'No Time to Die engages in its farewell but still finds itself near the bottom of the heapThe openings solid the Billie Eilish song okay the credits dull Interesting plot can relate to the COVID shot in a way Im surprised and disappointed Ana de Armas isnt in it more though Lea Seydoux does a fine job Craigs films while never among the best arent among the worst either This one drops off a bit though and the PC levels set fire to what the franchise is built on and part of what makes it great Credit that it has the On Her Majestys Secret Service theme and We Have all the Time in the World the high point of the franchise no mention of Tracy though Craig the usual Waltz good as Blofeld but limited like de Armas Negatively Malek as the bad guy doesnt give a performance and other characters including the new  woeful', 'Daniel Craig delivers a robust farewell performance as  in the th James Bond movie No Time to Die another long drawnout often tedious extravaganza with lackluster villains capped off with a bizarre ending Mind you the  gang is all back including Ms Moneypenny Naomie Harris gadget guru Q Ben Whishaw Chief of Staff Tanner Rory Kinnear CIA agent Felix Leiter Jeffrey Wright and s crusty boss M Ralph Fiennes Head of MI Bonds perpetual enemy Ernst Stavro Blofeld Oscar winner Christoph Waltz of Inglourious Basterds lurks on the periphery from his prison cell Sadly although he reappears here Blofelds screen time is far too minimal Rami Maliks somnambulist villain Lyutsifer Safin epitomizes every Ian Fleming literary character who ever sought revenge Worse Safins lack of stature in the gallery of audacious Bond adversaries doesnt serve him well Meantime too much of anything can be a bore and Bond s biggest shortcoming is its length Clocking in at a marathon  minutes this  outing makes repeated allusions to On Her Majestys Secret Service  The least the Bond producers could have done is whittle  minutes off this meandering melodrama Meanwhile not only does Q have more than his usual number of scenes but so also does M Actually M sets everything in motion with a cloakanddagger project codenamed Heracles that he conjured up without approval Mind you the  million budget makes No Time to Die look like a travelogue with the scenic locales overshadowing the largerthanlife shenanigans Indeed No Time to Die boasts impressive production values with Craig eager to engage his enemies with or without his license to kill Unfortunately little about Beast of No Nation director Cary Joji Fukunagas entry in the cinematic Ian Fleming franchise is remarkable except its ending Ultimately despite everything you may have heard to the contrary the closing credits to No Time to Die conclude with the familiar phrase JAMES BOND WILL RETURN Compared with Craigs other Bond movies No Time to Die makes Craigs most abysmal outing Quantum of Solace appear superior on several countsNo Time to Die unfolds in the past with Madeleine Swann as a child newcomer Coline Defaud living with her mother Mathilde Bourbin of Louise in a remote but picturesque domicile in the middle of a snowswept Norwegian forest on the edge of a frozen lake Madeleines mom is Mr Whites wife Earlier the notorious Mr White appeared in both Casino Royale  and Quantum of Solace  as an enemy agent who tangled with Bond This opening scene occurs long before either of those Bond escapades An enigmatic stranger garbed in military apparel wearing a Japanese Noh mask and armed with an assault rifle arrives at Mr Whites house Lyutsifer Safin Rami Malik has come to kill Mr White because he murdered Safins parents and family Seeking payback Safin has to settle for killing Whites wife since White isnt home Madeleine manages to shoot Safin but she doesnt kill him Instead fleeing from the house she crosses onto the frozen lake plunges through thin ice and almost drowns Ironically Safin rescues Madeleine Afterward No Time to Die fastforwards into the future We learn James Bond has not only retired from MI but he has also fallen in love with an adult Madeleine If you missed the previous Bond Spectre  you should watch it Meantime the couple are vacationing in sunny Italy near the cemetery where Bonds long lost Casino Royale lover Vesper Lynd is buried Sentimental sap that Bond is he visits her grave Moments before the gravesite blows up in his face Bond spots a business card with Spectres symbolan octopusembossed on it Naturally Bond thinks Madeleine wanted to kill him She didnt but he doesnt learn this until five years later More Spectre assassins emerge to kill our hero but he survives their futile attempts on his lifeMeanwhile terrorists break into a secret MI laboratory and kidnap a scientist Valdo Obruchev David Dencik of The Snowman who has been developing Project Herakles a deadly topsecret DNAbased bioweapon teeming with nanobots that can infect a person like a virus Worst Herakles was Ms brainchild and it was supposed to enable an assassin to kill a target in a crowd without harming anybody else Eventually Madeleine and Bond reunite when MI dispatches Bond to a maximumsecurity British prison where Blofeld is held Madeleine La Seydoux of The Lobster is Blofelds psychiatrist Blofeld confesses to Bond that henot Madeleinetried to kill him in Italy Anything more about this elaborate plot would either be confusing or spoil the impending revelations Like a standard issue Bond opus our hero tracks down Obruchev and finds him on Safins private island where the villain cultivates poisonous plants in an exotic garden Mind you this garden is something the writers took from Ian Flemings secondtolast Bond novel You Only Live TwiceApart from two impressive bulletriddled stuntladen action scenes featured in the No Time to Die trailer nothing here will spike your blood pressure Typically the flamboyant villains make Bond movies memorable Alas Blofeld has only a couple of scenes while Safin doesnt pose much of a physical threat Daniel Craig and La Seydoux generate only a modicum of chemistry as lovers The other letdown is MI agent Nomi Lashana Lynch of Captain Marvel who has inherited Bonds number  She adds little to the fireworks that spotlight her mettle Altogether No Time To Die qualifies as a fairtomiddling thriller', 'The first  minutes are superb from the music to the location to the acting to the action but then the titles fall cool titles bland song and the movie never quite reaches those heights again For such a long bloated running time its too talky and surprisingly short on action in fact there are only two other notable setpieces the car chase in the woods and Ana de Armas brightening up the screen as an overeager bubbly yet skilled and deadly agent Most of the rest of the action is uninspired and in the climactic sequence just a regular attackontheenemyfortress weve seen hundreds of times often dim and murky Tomorrow Never Dies did this sort of thing much better and so did some of the Roger Moore Bonds The plot is formulaic biological weaponagain and its treatment of several key players from previous installments disappointing The ending is pretty silly  it leaves a mess behind that the inevitable next chapter will either have to work a whale of a story to get around or more likely will ignore altogether Craig does succeed at embodying a very human Bond yet I cant help but think that he never really got the chance to do a FUN James Bond living the high life in Casino he is earning his stripes in Quantum he is seeking vengeance in Skyfall he is already tired and resigned in No Time his circle comes to an end I guess he came closest to having a good time in Spectre which is why that film is still my favorite of the five he made  out of ', 'Greetings again from the darkness Bond  is here and its quite a curtain call for actor Daniel Craig The films release has been postponed numerous times since September  which has caused expectations and anxiety to build amongst Bond fans Its been almost six years since SPECTRE  and this is Daniel Craigs fifth and final turn as  This production faced challenges even before the pandemic hit Cary Joji Fukunaga best known for True Detective and BEASTS OF NO NATION  was hired to direct after Danny Boyle stepped down or whatever happened and Phoebe WallerBridge was brought in to spice up the dialogue on the script from Fukunaga Neal Purvis and Robert Wade the latter two having been involved in writing all five Bond movies for Craig Of course its Ian Fleming to whom we stand eternally grateful for the original charactersFor those accustomed to the James Bond cinematic formula youll notice quite a few differences  beginning with the opening scenes Traditionally breathtaking action kicks off the film but this time a shift in tone and style serves up a tensionfilled opening that occurs five years prior to the rest of the story It takes a few minutes before we get the first true action sequence Of course we must keep in mind that we are dealing with a retired James Bond dont worry its not like fat Thor  in fact theres already a replacement  and she Lashana Lynch CAPTAIN MARVEL  packs quite an attitude and skill setIts his old CIA buddy Felix Leiter Jeffrey Wright who draws Bond back into the espionage game and of course the reason is to save the world what else could it be This years worlddominationseeking villain is the cleverly named Lyutsifer Safin and hes played by Oscar winner Rami Malek BOHEMIAN RHAPSODY  Safin is a lowkey baddie whose weapon is a DNAaltering chemical thats probably a bit overly complex for a Bond movie and its also a bit strange that SafinMalek only has a few substantive scenes For those who saw SPECTRE youll recognize many of the faces including Lea Seydoux as Madeleine Swann Ralph Fiennes as M Ben Whishaw as Q Rory Kinnear as Tanner and Naomie Harris as Moneypenny Also back for a terrific scene is Oscar winner Christoph Waltz as Blofield The new faces include the aforementioned Lashana Lynch as Nomi Billy Magnusson as Logan Ash and Craigs KNIVES OUT costar Ana de Armas as Paloma Ms De Armas brings a jolt of energy and some smiles to the proceedings and its a shame her appearance is so shortIts unusual for a Bond song to win its Grammy before the movie is ever released but thats exactly what happened for Billie Eilishs achingly somber title song Oscar winner Hans Zimmer THE LION KIING delivers a wonderful score in his first Bond outing youll hear how he incorporates the Eilish song and the cinematography from Oscar winner Linus Sandgren LA LA LAND is everything we could hope for in the action sequences there is no shortage of bombs as well as the quiet momentsSpeaking of the quiet moments this is undoubtedly the most sentimental and emotional of all Bond films Sure we get the amazing set pieces the crazy stunts the awesome Aston Martin until it isnt the cool gadgets the wisecracks and the shootouts  but we also get Bond at his most reflective and personal There is a line in the film Letting go is hard And it is  both for Bond and for us So welcome back and adieu Mr Bond Craig Daniel CraigThe film opens in U S theaters on October  ', 'Newly retired James Bond and bride Madeleine are enjoying scenic travelling despite the secrets they both know the other has Those secrets blow the couple apart and Bond goes off the grid until  well reasonsIt is difficult to give much plot commentary without risking spoilers and of all the Bonds this has more potential for spoilers than any of them So let me mention specific but nonplot itemsThe opening sequence is the most genuinely chilling sequence in any Bond film The multiple nods to previous Bond  both books and films dialogue music set design etc  are affectionate and organic rather than knowing nudges New director Cary Joji Fukanaga shows that Sam Mendes doesnt have a monopoly on making Bond movies look gorgeous Lea Seydoux reprising an underwritten Madeleine is spectacularly good Ana De Armas features in a sequence which is huge fun but its not too difficult to recognise that it was shoehorned in at a late stage because  lines of dialogue would have sufficed to replace it in the storyAnd perhaps it is fair to comment that a feature of the Craig Bonds has been each film revealing another layer like nesting Russian dolls and the baddie here has an air of being added to extend the saga after an effective full ending at the conclusion of Spectre But Im not complaining because following Craigs decision to OK Ill do another one but no more this is a good good end to his five Bond filmsAnd Im now prepared to say that his Bond is the best screen Bond My reason for this is that his is the only Bond who has been a human being  capable of cold suppression of emotion in order to do his job but a real person nonetheless The other Bonds have all been actors playing charactersI choked up at the music choice over the closing credits', 'NO TIME TO DIE   Daniel Craig Lea Seydoux Rami Malek Lashana Lynch Ralph Fiennes Ben Whishaw Naomie Harris Rory Kinnear Jeffrey Wright Billy Magnussen Christsoph Waltz David Dencik Ana de Armas Dali Benssalah Craigs swan song as  delivers all the goods with his brute force tactics and surprising vulnerability are on tap when his services are requested after  years retirement to stop baddie Lyutsifer Safin silky Malek from infiltrating a deadly nanobot virus via DNA into the world populace while also nursing his love for Seydoux who is in the mix in oh so many ways Filmmaker Cary Joji Fukunaga who collaborated on the screenplay with Nal Purvis Robert Wade and Phoebe WallerBridge infuses deathdefying set pieces with visual flair to spare best viewed in Imax as well as some much needed dry wit and humor', 'In a film that is unusually long in such a storied franchise the opening sequence is likewise surprisingly long in the tooth But necessarily so  it runs through such a gamut of moods and content that it feels important to begin dissecting the whole bit by bit from the very beginning Were treated to unexpectedly ponderous emotional heft outstanding stunt work touches of classic  technical whimsy ie A car tricked out with everything an enterprising worldclass spy needs a sneak peek at the primary antagonist hints of back story and so on Its a LOT to take in  and yet is only just a quaint touch of what is to come No time to die is extraordinarily ambitious arguably too much so and folds in so much of this and that and the other thing that its either mightily impressive or bloated and overstuffed But whatever else is true there is also this It raptly keeps our attention from the word goI love the music As has been true elsewhere in the series Hans Zimmers score borrows some from the music of previous entries sometimes a bit too overtly but at all times deftly matches the tenor of each scene and story beat Where it echoes the original song of the picture later in the runtime it is perhaps most affecting yet Billie Eilishs title song was enjoyable at first blush if not altogether impressive even despite her clear talent However put in the context of the story were given heading into the opening credits and the marvelous artistry of the credit sequence my appreciation of the tune has grown considerably  mournful mysterious and moody all at once Moreover hats off to the music supervisor for the film those other songs we hear in passing at one point or another simply add to the funIn the technical craft and rounding aspects of the feature  production design art direction  this is perhaps the most flawless James Bond film to date Costume design Palomas dress hair makeup props weapons effects fight choreography sound design cinematography lighting camerawork set design and decoration  and again critically stunts everything here every last facet is exquisite The movie looks and sounds perfect with utmost meticulous consideration nothing is too small to escape the refined precise attentiveness of anyone in the crew least of all director Cary Joji Fukunaga For that matter  I cant say Im familiar with Fukunaga but he absolutely demonstrates a sharp practiced hand in overseeing the film His eye for arranging shots and scenes and his guidance of the cast are altogether terrific and I look forward to seeing more pictures from him in the futureThat cast by the way is exceptional The only real limits here seem to be the pace and curtness of the construction including editing that is perhaps a little overzealous But even at that its a rather incredible list of names here old and new alike and everyone performs admirably in bringing their characters to life with great range nuance poise and strength of personality I could easily go down the list of credits one by one but to highlight a few for brevitys sake Daniel Craigs portrayal of Bond remains rough and gritty perhaps increasingly so as the famous figure has aged over the course of his tenure Christoph Waltz outstanding an actor as he is has little dialogue here but still is brilliantly biting and smartly smarmy as SPECTRE mastermind Ernst Blofeld La Seydoux little more than a placeholder Bond girl in  franchise predecessor Spectre is given a much more expansive repeat role here as Dr Madeleine Swann  a sad woman ever more complex and haunted than what we were allowed to previously believe Kudos to Lashana Lynch for very ably filling the role of Nomi an MI agent as forceful and hardnosed as any of her fellows And Rami Malek appearing as villain Safin maintains a bold coolness in his demeanor thats both offputting and menacing but only in the most underhanded of ways High commendations to them all the ensemble is just one of the many great strengths of No time to dieAnd that brings us to the writing Every one of Eon Productions Bond films is a major event but the anticipation for this one was significantly heightened in every way The release in late  was built up not just by the long gap of  years since the last  its place in the series  or the intimation that it could well be Craigs last go as the master spy  but also its delay owing to COVID Through all that No time to die had enormous shoes to fill I cant say its perfect but its flaws are less a question of specific deficiency and more about an excess of enthusiasm But whatever perceived indelicacies there may be here  I honestly think this is a stupendous featureFirst things first The chief problem with No time to die isnt even that its overfull the sheer abundance of content is no object to me I think the greatest fault is that at some points the writing and execution of some moments is simply overdone A chase scene that suddenly escalates tenfold the introduction of more arguably cliched personal stakes for the protagonist than he has ever faced before melodramatic and pointedly overblown instances of acting and witty but still questionable employment of pathetic fallacy dialogue and minor levity thats a little too clever for its own good action sequences that play out with the magnanimity of videogame logic eg The environment offers the hero exactly what he needs in a moment a neatness to the whole affair that requires robust suspension of disbelief This movie is exactly what it needed and wanted to be but even so it is sometimes a little bit full of itselfThats the bad news Thankfully it doesnt meaningfully outweigh the good Far and away No time to die is tremendous Overall the series has historically had difficulties with some tropes and indulgences but to the extent that these are present here they are gratifyingly wellbalanced Action scenes have sometimes been too playful and silly while some of that excessive exuberance Ive suggested also leaks into the most bombastic of instances its all played with a dire seriousness that washes over the inelegance Bond films are very well known for farfetched gadgets that provide a boost just when the hero needs them No time to die isnt without its share of ludicrously advanced technological wizardry  in some measure it wouldnt be wrong to call it a technothriller  but its more so rolled into the vast resources of villain Safin making the proverbial playing field more even And most astonishing of all  its a grotesque understatement to say that women have not generally been treated well in the Bond series and only in rare instances are women written with real intelligence and agency I am truly pleased to say that the skill of the characters matches the skills of their performers Paloma Nomi Moneypenny and Madeleine are written not as dippy dames damsels in distress or love interests but as able independent complicated figures that can very well hold their own These arent your typical Bond girls and No time to die perhaps treats women better than any other  titleMore than that  characterizations are complex and diverse with vibrant personalities and smartly considered motivations The malice and peril the antagonist represents naturally oneups most prior evildoers with a scheme that if outlandish plays on profound mortal fears of every human and modern citizen Safin himself comes across as unique from his brethren  shockingly nihilistic with a twisted sense of what the world needs Dialogue if a bit much in the oneliners is cutting and stimulating Scene writing is rich with detail gravity and dynamic vigor And the narrative as a whole frankly has caught me off guard I said theres some emotional heft to this picture but I was just not prepared for the gut punches this th Bond would have to deliver Its more deeply and actively riveting than so many of its predecessors and at the same time in this moment Im unsure if any other Bond flick can compare in terms of how heavily it strikes key emotive triggers Whatever the future of the franchise may be  what can I say Im impressedSince before production even began theres been baggage attached to No time to die  precedents expectations skepticism I admit that the trailers gave me dubious feelings about the latest entry in the series I personally had mixed or confused expectations before I began watching  and I can safely say they have all been blown away Even with so monumental a climax and ending there are sufficient weaknesses in the features armor that I cant justify saying its flawless But the value here outshines overshadows and outweighs any disadvantages to the point that  hours and  minutes never feel like it My congratulations to all involved every new  is a major event and this roundly deserves that fanfare No time to die is for my money a great movie  absorbing satisfying and rewarding  and I happily give it my hearty recommendation', 'This is litrally the best bond movie ever EXCELLENT in every aspect of a  movie critical drinker is an idiot Ppl are missing out on great movies listening to that fool', 'I undrerstand the need to be equal in life and I respect that highly but this franchise and caracter itself is something which is wreten for the male role as the role emotions dramatic moments etc Are beter expresed through male role and only can be acted as a male role I know that the producers tried to experiment in the movie with the feelings of the viewers puting the female or other gender as  and I will tell them please no do not do that You will deminish tradition  years old and for all of us loyal to the caracter of Bond from Conery to Craig it will be emotional distress Thank you', 'I truly believe this is the best Bond film of all time Daniel Craig has been a truly believable rugged Bond with a psychotic slant to his character His motorbike stunts his dry sense of humour and his really believable storylines made me truly sad to wave goodbye to this era of James Bond', 'Heres my reviewBeginning  its fair to judge this movie like this Spectre was so boring but this let me tell you lit as hellThis movie is a should to watch for sure', 'It was a beautiful tragedy my relationship with not the UCM but with the UCM structureIt was a beautiful MessIn historical tradition unlike the Master of the Universe the UCM or Time of Surface the UCM structure was a mess up so far history and chronology is on my side  youll see in a few moments what I mean And it was a once UPon a Time and now arts chronology the bookend is on my sideShe is the magic L in outer space She was for a Time She isnt Sandy Hook who is the actual Woman In Blue  she is the flash artist which is just a reference to lightning strikes sex aristocracys smoking and the weathers variety tooShe was a friend and mentor of the cartoon for kids UCM structure robotIve done enough to get my hands on the magic L Time and its bookend both supported me and when symmetry is had anything is no badMy desire is to insert the following principle which I took from No Time to Die substance as no worth as inverse of purpleBy Hollywood tradition the colour theory of the universe represented mainly by Adamski from Amityville  Brittney Havers from Wild Things  Janice from Annabelle Creation and by Alex Cross from Kiss the Girls is that green and purplepink are the polar opposites They are the each ends of the spectrum of the game of colours Green is good but worthless pink is AIA bad but lethal Symmetrys no bad  bad but lethalWhat do you notice about the word substance Do you notice that it looks green Not sounds green or feels green but looks greenADAs Paloma was the ingredient in the story that taught me to look up Up is still up but look as at up means oo which means infinity  infinity is D which is just no judgement ergo no up or down but a stretchThe magic L', 'Touched my heart where BOND is first time attached to a real relationship amp family with Love amp losing the lovemade me emotional at the end loved this Film', 'No Time To Die is an incredible conclusion to Daniel Craigs strong run as  thats suitably epic thrilling and fun whilst also being surprisingly extremely emotional and tying up as many loose ends as it canDaniel Craig is reliably perfect once again with plenty of charisma La Seydoux Lashana Lynch Ben Whishaw Ralph Fiennes and Jeffrey Wright are all great Rami Malek is really good and Ana de Armas is also great in her small partCary Joji Fukunagas direction is fantastic its beautifully filmed extremely stylish and visually slick with amazing action scenes Its well paced and the music by Hans Zimmer is phenomenal full of subtle callbacks and some new additions that are all time classics The song by Billie Eilish is excellent', 'No Time to die was awesome i loved every last minute of it the action and stunt work was a lot of fun thank you Daniel Craig For  Years Of Memories as  you Forever My James Bond', 'I can strongly say this is the best and top class entertaining instalment in bond franchiseCary fukunaga used Craig so perfectly in this conclusion his performance alone will make this film a worth watchthe music and score was excellently composed by Hans Zimmerso far this is the best camera work Ive seen in recent timesand of course fukunagas direction is unbelievably top classI never expected this from a director who only made couple of mainstream Hollywood movieevery frames in this film will bring back the nostalgia of bond franchise to youif Ur a true bond fan while also a tasteful movie watcher then probably ull love this onemaybe this movie felt a bit longerbut still worth the running time mission completed in a magnificent manner', 'This movie is so good from the insane action to the character development It s a great conclusion to a saga At one point it has you on the edge of seat as James Bond is killing hordes of people to crying at the end of the time you had with character AMAZING CONCLUSION', 'SPOILER WARNING\\nI am writing this quick review at  on the day after seeing the film I had to as I cant sleep my mind cant forget the emotion\\nat the end of the film I turned to Steph and said rather loudly they have f killed James Bond how can any future film match the emotions of that Daniel Craig has done what no baddie could do in  years But has he also killed the Golden Egg the whole franchiseHow can I ever watch Casino Royale or any Bond film knowing they killed James Bond So Daniel u returned to kill James Bond WHY Is this why Danny Boyle done a runner How can any future film any future actor match thatBond is  next year so am I I grew up with Bond am a massive fan Craig is my favourite Bond Casino Royale was my favourite film but now do I hate Craig Is NTTD the best or worst film Did I ever think I would leave the cinema crying as we all were Never\\nThis is why they wanted it on a Big Screen so much with am audience on your TV it would not have had that emotion and also most people will go back to the cinema and watch it again to try to handle what Craig has done This film will make money as people who are not big fans will have  see it for themselves to believe what they have been told And kudos to everyone who worked on that film keeping quiet Yes there were rumours but it was only in the last few scenes that I actually believed they were going there And they did the missiles and let me tell you a story about Bond James Bond Time to listen to the soundtrack and I def have to return to Piz Gloria the Bond between NTTD and OHMSS will last forever\\nAs one review said\\nIt will be hard to forget the power of No Time to Dies endingJames Bond is dead', 'If you love Bond movies like myself then you will love this one As usual from beginning to end the movie offers great acting awesome action sequences Bond trademarked moves and will have you feeling many of your emotions by the end of the movie Its definitely a must see', 'A huge farewell to the best James Bond in history of the rolea very heartbreaking end in a perfect movieA lot of fans hated Daniel Craig and a lot loved him as James BondI belong in the second category but in the end it will be very hard for everyone to fill his shoes as James Bond', 'This worth time to watch Perhaps this is the best action movie this year', 'For the first time ever after  years from the last film of Spectre Daniel Craigs conclusion is one of the best and finest and the most exciting ones out of any series ever had the previous Bonds had departures that are seemingly disappointing or left in a cliffhangerYou must definitely see it since I will not reveal any detail you must have to watch it on your own', 'A fantastic end to Daniels last Bond outing The story flows perfectly to end off storie line Definitely the best Bond movie in my eyes', 'For myself this is Craigs best Bond Its really emotional Bond movie Great action good editing and Hans Zimmers music is beautiful A great ending for Craigs Bond films I still understand the people who put Skyfall and Casino Royale ahead of this But right now this is what I think is the best Bond movie Time will tell how long it will stay there', 'I reserve my  star rating for the exceptional piece The action starts early and this is going to be good is going through my mind However the emotions of the film as well as its plot and intelligence are nearly as significant to its exceptionalism as the action', 'The movie had everything great plot amazing performances and depth Seriously was incredible', 'Emotional Risks No Time To Die hit the same notes On Her Majestys Secret Service did years ago literally using the same soundtrack Lol So the Ending was no shocker to me Appreciated', 'This is a perfectly written movie to end the Daniel era It wraps up the story nicely and sets up for future movies Being a lifelong  fan this leave the universe open', 'Seeing all the negative reviews here I decided to leave a positive one I went to the cinema on the release date of the movie and I must say I was thoroughly impressed This is definitely a better movie than Spectre It was a whole emotional rollercoaster from the beginning to the end There were great action scenes and my favourite are the scenes in Italy and Cuba good pacing between the action scenes and some very witty jokes that I really enjoyedWhat I dont get is that some people dont get that Daniel Craig isnt trying to be the Bond that existed  or  years ago He is totally different He gives the series much more suspense a more emotional dark touch and takes things more seriously He also is not the Terminator he can still make jokes and I love the interactions between him M and Q Also in this movie The chemistry between him and the new agent is also something unexplored and very sensitive for some people apparently I like the chemistry between him and Lashana Lynch who plays the new agent which she respectfully gives back to him near the end of the movieI ended up in tears at the end when he died He sacrificed himself for his family Again something new unexplored territory He has a secret daughter that he didnt know about for  years I liked this because at least I did not watch something Ive seen more than a hundred times already in the previous Bond moviesTo conclude my review I like that this Bond movie like almost all the other Daniel Craig Bond movies tries to do something new and innovative Thats why I come to the cinema I like to see things evolve Not just stay the way they are for like almost  years now since the first Bond movie released', 'Everything from the beginning til the end has deeper meaning than anyone could ever imagine Masterpiece The acting the music the story Everything is connected and it has a point What a movie I will watch it over and over and over again I didnt like Daniels role until nowBeautiful The movie is one of the best Ive seenDidnt believe that nowadays someone can make something so special', 'This movie is simply amazing from the cinematography to dialogue it ticks all the boxes and more Bond is more human than ever and whilst some diehard fans may take negatively to that character arc it helps audiences to connect and really feel his pain It loses one star due to pacing which I thought couldve been done slightly better otherwise the movie is near perfect I really hope this does do well in the box office as it is deserving of all the praise its receiving and more Only thing I dislike is the backstory to Savins character as his motivations are not really made clear and he is not utilised properly I feel that if they gave him more to do he wouldve potentially become the best bond villain to date All in all definitely recommend seeing in the cinema', 'It was an ending A good ending for Bonds life Craigs Bond The visuals and action were perhaps a bit underwhelming but concluding the character was done with extreme skill and great thought', 'Its slow its serious its moody its sulky Its the trend for the last few Bonds and one I personally dont like I dont know if this is the writers the producers or just Daniel Craigs interpretation but I find the recent Bonds have lost the one element that always made them great  the fun Despite his huge ego James Bond never took himself too seriously until Daniel Craig appeared A little joke here a cheesy line there a doubleentendre to make the parents laugh Why cant James Bond smile anymoreMoving on from the more general to this specific film I found the opening sequence extremely disappointing  one thing you can always rely on is a stunning opening action sequence but not in this one Its slow overly drawn out like the whole film really Why make a nearly  hour Bond when the storyline isnt there to support itYes some of the actions scenes are decent Q as ever steals the show and provides some of the few lighter moments and the villains are great but sadly for me this is the worst of the new franchise and they have been steadily regressing ever since the Casino Royale which showed promise', 'One hardly knows where to begin to dissect the latest Bond film Ill start with this is the weakest  film in memory First off they tried to keep the sly playful Bond humour going but almost every attempt felt forced and in no way playful Second way too much time was spent trying to create and then validate the relationship between bond and his latest female conquest There has been with a different female love interest in every film in the franchise and they spent way too much time trying to convince the audience that this one was special or different Having  profess his love numerous times throughout the film not only felt hollow but it almost felt like a betrayal Way too much time on that and not enough on the action suspense and intrigue that was missing from this film Up until No Time to Die Daniel Craig served the franchise remarkably well and provided us with some great entertainment too bad it had to end on such a low note', 'Watching all the Daniel Craig films back to back you realize that with each successive installment it strays farther and farther from the tried and true joyous formula of Bond films By the time we reach the  outing that formula is all but completely lostThe essential problem of No Time To Die is that for the first time the series  year history this film tries to be some kind of serious drama  and it of course doesnt work It comes off as pretentious This isnt what audiences want from a Bond film  they want the traditional formulaYes films like The Man With Golden Gun Moonraker and Die Another Day were stupid  but they never took themselves too seriously Bond films always have this spirit of fun and lightheartedness to them No Time To Die is so dark and melodramatic  whatever happened to the good old days of Casino Royale and Quantum of SolaceDaniel Craigs Bond archetype becomes weaker and weaker with each film Unlike previous iterations of the character over the decades Craigs character is always too impulsive lacking clarity and questionable mental stability since  By this film he is just this mopey angry fool  and needy and obsessed with this womanAll that said it is still a relatively entertaining romp with nothing really insulting to long time fans of the series But Bond as this serious melodrama just doesnt work Theyre not supposed to be serious films', 'Let me say first that No time to Die as a movie is ok but as a James Bond movie its awful not to mention that the title is misleading I never write reviews this is my first review and the reason I do this now its because I am furious After  years and  James Bond movies someone decided that the James Bond movies should be about something more I have been a James Bond fan since I was a kid and I have seen all Bond movies numerous times The only Bond movie I will never see again is this one James Bond movies were about having a good evening at the movies They were about charm they were witty they had class and they were fun I have no idea how we went from little Nellie to this Neither Ian Fleming nor Albert Broccoli ever conceived of James Bond dying Part of the charm was that you knew he could pull off just about anything I dont care if some people decided to make James Bond movies about something more but this is not what the Bond movies were about You left the film with a smile and with a good feeling about the movie You knew it was not realistic but you didnt care The one thing you were sure about was that you werent going to watch a dark movie Unfortunately the latest trend caught up with the producers who decided to make No time to die a dark film This Bond movie does not leave you with a pleasant aftertaste and is missing most of the James Bond movie attributes Its the first time I left a James Bond movie without that feel good taste If you are a Bond fan like I am I think you will be very disappointed', 'This is a very odd film which feels far too melodramatic and miserable to be a James Bond story Its more reminiscent of a serialised romantic drama or tragedy than that of a spy thriller There are contradicting styles in the script that leaves the viewer totally confused as to why certain events or decisions are made and no real depth to any of characters that make the story plausible or well worth emotionally investing inIf you think back to one of the classic Bond films youll remember a much more optimistic simple and pleasurable experience Every story was unique and the next adventure was a whole new mission This suave and somewhatblithe secret agent was solely invested in protecting national security and saving the world from unhinged megalomaniacs Along the way there were interesting characters exotic locations beautiful women stylish outfits new gadgets and the most modern of cars also fitted with the gadgetsThe five Craigera films have spent  years moping about the same event which happened back in the first without really moving on His Bond seems more like a prima donna that leaves sulks and refuses to help more times than a French trade union I refuse to believe than anyone with his psychological and unstable emotional profile would ever be drafted in as a  Agent What is also forgotten is than Bond is a secret agent not a frontline commando  aka John Rambo He should be stealth intelligence and subterfuge with only action and violence where necessaryStill having actually enjoyed Skyfall which subsequently seems like the odd one out in series and having waited years since the last thank you Covid I accepted an invite to a prescreeningThe positives\\nulliThe alternative  was actually a good character She was physically imposing enough to be believable as another  Agent and is a good actress Nothing worse than being told that a size model can boot a prowrestler sized henchman across the room and forced to accept itliululliThe filmography was impressive Maybe the large screen helps amplify how good the camerawork quality really is Some lovely shooting involvedliulThe negatives\\nulliRami Maleks character made no sense and was effectively cardboard To have an Oscarwinning actor and effectively make him a dull twodimensional side character is a total under use of talentliululliThe plot and script writing One of the things that is known about this film is how the script was rewritten midpost production and it shows Its all over the place What appears evident is how the first cut must have felt too gloomy in editing so the producers brought in WallerBridge to lighten it up Unfortunately adding in random comedy lines or moments does not take away how miserable this film isliululliThe odd logic and lack of people The reshoots have clearly affected how scenes play out For example instead of controlling missions from a control centre think Goldeneye Ralph Fiennes M was just in his office with Rory Kinnear seeming almost low budget The final scene was just six people in an office with a drink  where on Earth is the rest of the intelligence service in this who film Clearly social distancing themselves from this messliululliThe romance The chemistry between Bond and leading love interest is about as reactive as a nobel gas Flat and painful So to have two films of the same thing is beyond the paleliululliThe music I cant even remember the theme tune so not even worth my time commenting on Clearly it was so bad that Hans Zimmer instead decided to base the soundtrack using On Her Majestys Secret Service all the way Why plagiarise a film from the s and use arguably one of the worse films in the franchise Clearly Louis Armstrong was not available to declineliululliTreatment of classic characters Its clear that the producers want to draw a line under the franchise and start afresh  pandering to the woke mob and hoping that future tokenistic nonsense will prove as successful as the original premise was Spoiler It wont and never willliulThe producers are clearly inept at creating anything that remotely feels as good or as likeable as it once was This is an institution and it deserves respect not total destruction Classic Bond films will continue to be on TV and still fondly remembered for years to come I dont think this film will ever want to be watched again That is what speaks the loudest', 'There is some bad miscasting in this film Lashana Lynch is out of her depth and does not convince Rami Malek is appalling Daniel Craig goes through the paces but looks bored The script is predictable I was very disappointed when I first saw it but went back to it after a year and it was even worse than I remembered The whole franchise is a s tired as Daniel Craig looks He is a fine actor and wanted out before this film was made but I guess he must have been offered too good a pay day to say noI dont share other critics view that Ana de Armas was a good addition Her acting in this film is average at best and I have seen better martial arts moves in a b list film However she looks good compared to Lashana Lynch who is so badly miscast I can only assume she has friends in high places She just looks wrong not only for for this film but this genre Bond films have always had a wry humour and it is missing in this film Lynch doesnt even attempt it and Craig delivers promising lines with a world weariness that is all too apparent Casting Malek as the villain was just plain wrong as he doesnt have the range or gravitas His star was in the ascendancy when he was cast but he is just wrong for the partThis franchise should be buried Bond has had his day and trying to resurrect the franchise with Craig almost worked as Casino Royale and Skyfall were decent films It all went wrong with Spectre and this latest addition is simply Spectre part  but far worse I suppose the producers could start over as if no Bond films were ever made but far better not to bother The producers and owners of the film rights have become too PC and it shows If they make more Bond films it will be pure greed on their part The franchise has a had a good long run and this film rings a hollow death knell', 'No time to die is a fine action movie on its own but it lacks as James Bond movieDaniel Crag already never had the looks of James Bond but the forced emotional elements make it even worse In the last few movies Bond fell in love twice got a child and is simping over a woman The gadgets are lacking and charms and humor has disappeared We are just left with a Bond movie that takes itself too seriousThe death of Felix and Bond is also just a slap in the face and it makes me worried what brings us in the future A black woman as  felt pretty forced as wellAll in all Bond has lost its charm Hopefully we see a dark haired and charming new Bond that gives the right amount of humor gadgets and bond girls in a movie in which the producers are not scared off going a tiny bit over the top like the Roger Moore movies', 'Disappointing Movie ads nothing to the Daniel Craig series of Bond films They had already been need reasonably well with Spectre Just seems like a money grab Daniel Craig himself made it quite clear he didnt want to do this filmRami Malics bad guy was pointless the advertising and poster all showed Ana De Armas as being a main character however she was in the movie for around five minutes in a very minor roleWaste of time and waste of talent and opportunity Just need to hurry up and pick a new Bond', 'I have been a Bond fan since I was ten years old My first James Bond movie was probably Goldeneye which I love to this day and consider it as my favorite film of the franchise Daniel Craig era has never been one that I love Casino Royale and Skyfall were both fantastic but Quantum of Solace Spectre not very good at allTo put it mildly No Time to Die was my most anticipated movie of this year It marks the final apperance of Daniel Craig as Bond and is the longest James Bond movie up to date I saw this movie yesterday and heard it was controversial for the fans After seeing No Time to Die this is certainly going to be a very divisive filmTalking about myself I really wanted to love this film and at times I did There are parts of No Time to Die which I think are wonderful but there are also parts of it which could have been executed far betterLets start with the good aspects first shall we The production values of this movie are fantastic The cinematography is gorgeous and Billie Ellishs theme fits the story while having haunting lyrics and music The acting is pretty good all around Daniel Craig is the most chatty he has ever been as Bond but hes still very likable in the role Ralph Fiennes Naomie Harris and Ben Whishaw are great as usual Lea Seydoux is so much better here than she was in Spectre Jeffrey Wright and Christoph Waltz are fun for what there are in Rami Malek is creepy enough as Safin but he is definitely not the best villain of the franchise Ana De Armas though gives an amazing performance She felt such a breath of fresh air in this movie while kicking ass for only  minutes The first hour of No Time to Die is compelling enough The action scenes in Italy and Cuba though the chase in the woods and the climax on Saffins island are solid too especially stand out There are moments where the humor does land and throwbacks to other Bond films like For Your Eyes Only where James Bond pushes a car on the henchman were clever The story definitely leaves an emotional impact on the audience with the choice of music and themes of familyturns out Bond and Madeline have a daughter Mathilde which is not a bad idea just convinient for the story But lets get into my negatives because this movie was disappointing for me There are parts like I said which are fantastic and thats what makes a couple choices of the story so frustrating for me The movie is agreed unbalanced and feels too long at times There were times where I thought the narrative got a bit too melodramatic with the relationship problems between Swan and Bond The deaths of Felix but especially Blofelds death feel crammed into the story having no impact on anyone just like the character of Nomi who is underdeveloped at best even though the actress is very good The humor is not always spot on and does get a bit cringeworthy at times One can tell that they were trying to make great ending to Daniel Craigs Bond by giving him the most dialogue and oneliners but Craigs James Bond feels out of character for a good portion of the film The biggest issue for me was indeed the last third of the film First the villains plan to destroy the world feels forced and out of nowhere I can understand why he killed all agents of Spectre but brutally murdering an Europe full of people made no sense to meSecond problem regards the fact that Bond dies in this movie There are several issues with this ending  Even though it fits the movie I think it was Craig himself who said that this movie was about family this movie could have ended with Daniel Craigs  after being poisoned and escaping the island watching his family from a safe distance or like Calvin Dyson said having Q to develop an antidote for Bond James Bond faking his own death to protect his loved ones makes more sense to me than his death  This ending does not feel earned Yes its a shock but one that felt extremly rushed I agree with Calvin Dyson that there is no need for urgency to shoot those missiles yes the ships are coming but that was not a very clever way to create urgency at all This ending in my humble opinion just misses the point that its trying to make about Bond and his family I respect Craig and the writing team for making that bold decision but the ending felt after thinking about it that it wasnt Bond who was done with everything it was Daniel who just wanted to insure the audience that this was his last Bond film The ending also raises questions of how are they going to continue the Bond franchise Are they going to do a reboot of a reboot That would be quite silly in my mindOverall there should be no time to watch anything like this because it left a very depressive feeling which a James Bond film shouldnt leave No Time to Die could have been a smart fun Bond movie but instead it was okay at best\\nHK', 'Beautiful locations and yet again a futuristic superweapon that endangers the existence of the life and civilisation as we know This is about all the good that can be said about this film as it is a far cry off of other Daniel Craig era Bond films Bond in love eh well I suppose that can happen even to hard core cold blooded assassin which Bond ultimately is But the connection between Bonds love of life and the franchise all time nemesis is a tad too much And internal rivalry within the agency totally unnecessary which anticlimaxed on female  driving a car Come on production get a grip Iim sure writers could have come up with something else more creative more today and less clicheMay be there is a value in constantly changing moods throughout the film but they left me a bit cold since it felt like Bond was lost indecisive sulky and not very witty which is not in accordance with carefully built up character since the first book or first Bond movie Not even lastly cheapest of all cliches chase kidnap and threat of a child not once but in several occasions how low can they go Overall storyline was as if production wanted to have as many twists and turns and approaches as possible resulting Leisure Larry ish with multiple choises all badThis one could not be saved by camera work special effects and brilliant actorsactresses By far worst Bond of all time', 'No Time To Die is a movie of its time Usually movies of their time are identified years or even decades later Not this oneThe movie stems with every woke topic of later years forcing it onto characters in what seems like a defensive move to avoid shtstorms from the ever growing population of easily offended who would eagerly wage war against the conservative look on men and woman portrayed in Bond movies of the past It feels clumsy and too eager to stay current where it could have felt subtle and contemporaryBond movies used to be pure escapism but we are now faced with a sensible Bond No longer a secret agent facing larger than life memorable villains but a simple action hero running around with a machine gun like any other action movie star Nothing in the movie separates it from all the other generic action films of recentThe opening  minutes are beautiful and evocative with a great action sequence and a nostalgic nod to the sweeping scores of John Barry but from there on it is down hill except for a fun action scene in Cuba  with a very charming assistantThe villian is diffuse underdeveloped and forgettable the plot is an unstructured mess and the one liners truly embarrasing  especially in concoction with the overly serious tone of the Craig era Bond moviesThis doesnt feel one bit like a Bond movie', 'Well like every Bond movie when the action is underway the movie is very entertaining Also like every Bond movie there are long stretches between action scenesIt is the quality of what comes in between the action that determines whether a Bond movie is good or not No Time to Die is passable perhaps a bit above average when compared to all the other Bond movies But it pales in comparison to the better ones like From Russia with Love or Goldfinger or Casino Royale The motivations of the villain Rami Malik are never fully explained he endured a trauma in childhood and is somehow therefore planning his great evil no spoilers here Its incomplete Bonds love interest is a paperthin character attractive but lacking in substance Bond has to save the world from a superweapon which is sort of believable but one has to wonder how our bad guy managed to obtain the resources to develop so much of it And again whyThis is not a bad movie It cost me over two and a half hours of my life which Ill never get back but I dont really regret spending them It helps a lot that I watched it on Amazon Prime Video meaning I didnt have to pay any money to see it If I had I might well be disappointed As it is I shrug another Bond movie oh well Maybe the next one will be better', 'This is not a classic James Bond movie Its disappointing from beginning to end The director tries to combine comedy romance drama and action with no success', 'The weakest of the Daniel Craig movies and by far the worst directed The action sequences were the most bland and least inspired of every James Bond film thats come before itThe pacing was off it dragged for ages and it landed like a highbudget TV series vs A James Bond feature Im a fan of Carys TV work he should stick to TVIll miss Daniel Craig as James Bond he was fantastic in the roll', 'The whole thing is a bit ridiculous even for BondDaniel Craig has been a good  but the plot line just looked tired and over the top at the same time', 'Forcefully added story just to make another Bond movie Director  Daniel failed to give Bond charm and seemed like unfocused on character Villain was almost nothing like Villain and also did not have enough role to build his character Exoected out of Box action sequences but nothing found except  good moments which were shown in Trailer already', 'It takes  minutes to get to the opening credits We discover Bond has a love in Madeleine La Seydoux and we discover she is the daughter of Spectre After a near death experience Bond places her on a train and goes and lives on an island somewhere He is drawn back into service with the reemergence of the Heracles project which targets DNA and uses nanobots Oh yeah There is a remote island with a sinister lab on itI am weary of the whole Spectre fight The new personal aspects of Bond bored me Daniel Craig is classless compared to Sean Connery and gets his hands way too dirty The opening theme was lousy It was certainly no Diamonds are Forever And the ending Geesh You thought fans were upset when Judi Dench was axed I did like Ana de Armas as Paloma for the short time she was on the screen Why didnt they write her a larger role She would have been great during the end scenesGuide Fword No sex or nudity', 'No Time to Die After all the delays we finally get to see Daniel Craigs final outing as James Bond and it surely feels like a farewell He still looks in shape and skillfully performs the stunts but the fatigue can be seen on his face and it also transcends the film itself whether you take the dramatic narrative or the overall grim atmosphere There are some cool gadgets and action sequences but it doesnt feel like it should The thing thats missing is the overall sexiness elegance and thrill as the events are happening without passion and while it all looks on point it doesnt create the Wow feeling that a James Bond movie shouldIn this part a retired Bond is pulled into his last mission which carries a lot more weight than any of his previous ventures Unfortunately the whole Bond on a mission aspect is replaced in favor of a melodramatic plot that often feels like a drag using jokes to prevent you from getting bored Its not a fun spy thriller anymore and that can be seen in the excessive talking and numb characters It is a crime to have an actor like Rami Malek as a villain and simply waste him due to poor writingA lot of people were excited about Ana De Armas being in the film Well she is there she is exceptional she actually has chemistry with Craig but she is limited to  minutes Madeline on the other hand resembles a rock and has absolutely zero chemistry with Bond and I could not buy into a single scene with them together This movie also introduces a new  who sadly feels like a bland filler character acting full of herself and looking like Wesley Snipes the entire time As a Russian I spent a lot of time laughing at the ridiculousness of the narrative but it didnt impact the experienceWhats mind boggling to me is how they let a director unskilled in the genre to helm a pivotal Bond movie The guy literally put all the action in the trailer leaving nothing as a surprise In some way he did more damage to the franchise and its legacy by making a convoluted drama instead of a heart pumping thrill ride like Casino Royale or Skyfall Big thanks to Craig who left it all on the set as  time and time againMoviesshmovies on Instagram for movie and TV Shows', 'No Time to Die engages in its farewell but still finds itself near the bottom of the heapThe openings solid the Billie Eilish song okay the credits dull Interesting plot can relate to the COVID shot in a way Im surprised and disappointed Ana de Armas isnt in it more though Lea Seydoux does a fine job Craigs films while never among the best arent among the worst either This one drops off a bit though and the PC levels set fire to what the franchise is built on and part of what makes it great Credit that it has the On Her Majestys Secret Service theme and We Have all the Time in the World the high point of the franchise no mention of Tracy though Craig the usual Waltz good as Blofeld but limited like de Armas Negatively Malek as the bad guy doesnt give a performance and other characters including the new  woeful', 'I appreciate what this installment in the  franchise was trying to do but it was executed in such a mediocre bloated way that it lost all of its power for me over its second half There were aspects of what I would call modernization that were appealing eg The diversity the toning down of the sexism and the biotechnical weaponry and the story and its ending were a clear signal that the suave playboy love em and leave em character out of the s needed a refresh I just wish it had been done in a less trite way and in  fewer minutesSome positives the stunt work early on seeing Matera Italy and Norway and the idea that this horrific weapon started off as a secret service project to help protect the countrySome negatives the elongated scenes designed to play on emotions got to be very tedious and had me wishing that if the character was going to go out that he at least do it with more style Its an impressive cast but Daniel Craig was too old for his love interest La Seydoux the other  character Lashana Lynch felt underused and in there to check a box and the young CIA agent kicking some butt Ana de Armas felt like a ploy to get some skin in the film in an acceptable way even though shes a breath of fresh air in this leaden film Anyway it all felt so damned contrived and the films villain also a transition from the old Spectre Rami Malek was undeveloped and derivative  havent we seen the mirror characteristics in adversaries expressed countless times and in better ways There is very little of the franchises usual cheeky humor here and none of its edge It just felt stale and like the four screenwriters lacked cohesive vision or were just going through the motionsOver the first half the film was entertaining enough and probably heading for a slightly higher rating but it tanked to the point where I began disliking it Its just a mess that needed a serious pruning and more verve something that the original character deserved', 'James Bond has always had the advantage that most of its films are a standalone No time to Die goes against that clearly trying to bring this chapter of Bond to a full closure having given it a beginning with Casino RoyaleThe idea in it self wasnt bad but unfortunately this movie just stretched out into areas and plot lines that made little to no sense where tedious to listen through and slowed down the movie unnecessarilyOverall the movie lacked a proper pase it lacked more of a defining Bond moment and at least me left me with a taste of That was it thats all and They could have cut this movie by min and still gotten the same out put in my mouth', 'No way in the world that James Bond would ever get weak over a womanpoor special effects as to the island chase as well Green screen andor special effects not real at all', 'It starts like a scary movie without the main character Although  is introduced later on and the action is awesome you just dont mess with the opening sequence After the title song the movie continues with a quite thin story Weve all seen this before there is nothing new to it I was so excited for Malik as the main villain but they havent really given him the script to give that impact I was hoping for Quite the same they did to Waltz in SpectreThere are a lot of action scenes which are good but some of them feels a bit unnecessary mainly the car chase in the woods Whats up with that This just adds to the minutes in an all too long movieThis might be the first time Bond is saved by three different woman\\nWhat I love about the best Bond movies is that  is a spy A real spy In No Time To Die  is no longer a spy just a ruthless murdererThe good part Fabolous music awesome action scenes the humor is back ref Russian scientist and the cinematography is epicSeems like  needs a reboot again', 'Well after viewing this entry in the Bond franchise I can see they need to end the saga Acting was average and the story was mundane Daniel did well ti tough it out despite a over used plot Ill miss the daring Bond films but glad I have all the classic ones on DVD', ' films out of mercy as Bond has truly hit the rock bottom Awards for what Poor opening sequence chases and plot Somehow almost  hours without Any innovation well gave extra star for the magnetic lift well  but that too completely unrealistic of course But James will be back How after surviving missile hit  metres away Like JR Ewing in Dallas it was only a dream']\n"
          ]
        }
      ]
    },
    {
      "cell_type": "code",
      "source": [
        "data[\"cleaned_text\"] = temp"
      ],
      "metadata": {
        "id": "pIBD-zhZqq22"
      },
      "execution_count": null,
      "outputs": []
    },
    {
      "cell_type": "markdown",
      "source": [
        "Importing the stopwords library and downloading required corpus"
      ],
      "metadata": {
        "id": "tuQjWZIlI2kM"
      }
    },
    {
      "cell_type": "code",
      "source": [
        "import nltk\n",
        "nltk.download(\"stopwords\")\n",
        "nltk.download(\"punkt\")\n",
        "nltk.download(\"wordnet\")\n",
        "from nltk.corpus import stopwords\n",
        "from nltk.tokenize import word_tokenize"
      ],
      "metadata": {
        "colab": {
          "base_uri": "https://localhost:8080/"
        },
        "id": "yYQw3EMjj-uE",
        "outputId": "d03911fd-5985-43f5-fead-2d83c2d72c1b"
      },
      "execution_count": null,
      "outputs": [
        {
          "output_type": "stream",
          "name": "stderr",
          "text": [
            "[nltk_data] Downloading package stopwords to /root/nltk_data...\n",
            "[nltk_data]   Package stopwords is already up-to-date!\n",
            "[nltk_data] Downloading package punkt to /root/nltk_data...\n",
            "[nltk_data]   Package punkt is already up-to-date!\n",
            "[nltk_data] Downloading package wordnet to /root/nltk_data...\n",
            "[nltk_data]   Package wordnet is already up-to-date!\n"
          ]
        }
      ]
    },
    {
      "cell_type": "code",
      "source": [
        "stop_words = stopwords.words('english')"
      ],
      "metadata": {
        "id": "52T53e8MkDy9"
      },
      "execution_count": null,
      "outputs": []
    },
    {
      "cell_type": "markdown",
      "source": [
        "## 2.3 Remove stopwords from the data"
      ],
      "metadata": {
        "id": "gNLX7TAXk8YG"
      }
    },
    {
      "cell_type": "code",
      "source": [
        "def remove_stopwords(reviews):\n",
        "  words = word_tokenize(reviews)\n",
        "  temp = [word for word in words if not word in stop_words]\n",
        "  return \" \".join(temp)\n",
        "\n",
        "cleaned_revs = data[\"cleaned_text\"].apply(remove_stopwords)"
      ],
      "metadata": {
        "id": "9jHqqY76jlJ8"
      },
      "execution_count": null,
      "outputs": []
    },
    {
      "cell_type": "code",
      "source": [
        "cleaned_revs"
      ],
      "metadata": {
        "colab": {
          "base_uri": "https://localhost:8080/"
        },
        "id": "hP4zN7czkUYI",
        "outputId": "824ff6a8-fab1-4904-abfd-f5693f219b85"
      },
      "execution_count": null,
      "outputs": [
        {
          "output_type": "execute_result",
          "data": {
            "text/plain": [
              "0      Well goodThis movie feels like written committ...\n",
              "1      One hardly knows begin dissect latest Bond fil...\n",
              "2      This Bond movie confusing rather tedious mess ...\n",
              "3      Its slow serious moody sulky Its trend last Bo...\n",
              "4      When I go see Bond movie Im looking lush music...\n",
              "                             ...                        \n",
              "145    James Bond always advantage films standalone N...\n",
              "146    No way world James Bond would ever get weak wo...\n",
              "147    It starts like scary movie without main charac...\n",
              "148    Well viewing entry Bond franchise I see need e...\n",
              "149    films mercy Bond truly hit rock bottom Awards ...\n",
              "Name: cleaned_text, Length: 150, dtype: object"
            ]
          },
          "metadata": {},
          "execution_count": 194
        }
      ]
    },
    {
      "cell_type": "code",
      "source": [
        "data[\"cleaned_text\"] = cleaned_revs"
      ],
      "metadata": {
        "id": "u0m950qaq8ed"
      },
      "execution_count": null,
      "outputs": []
    },
    {
      "cell_type": "markdown",
      "source": [
        "## 2.4 Convert all text to lower"
      ],
      "metadata": {
        "id": "uq4usQvmlK4p"
      }
    },
    {
      "cell_type": "code",
      "source": [
        "data[\"cleaned_text\"] = data[\"cleaned_text\"].apply(lambda x: str(x).lower())"
      ],
      "metadata": {
        "id": "6ANdYa28lB92"
      },
      "execution_count": null,
      "outputs": []
    },
    {
      "cell_type": "code",
      "source": [
        "data[\"cleaned_text\"]"
      ],
      "metadata": {
        "colab": {
          "base_uri": "https://localhost:8080/"
        },
        "id": "ZPRInNPArFNG",
        "outputId": "17133dda-ca0f-4de5-83bd-75aa78952de8"
      },
      "execution_count": null,
      "outputs": [
        {
          "output_type": "execute_result",
          "data": {
            "text/plain": [
              "0      well goodthis movie feels like written committ...\n",
              "1      one hardly knows begin dissect latest bond fil...\n",
              "2      this bond movie confusing rather tedious mess ...\n",
              "3      its slow serious moody sulky its trend last bo...\n",
              "4      when i go see bond movie im looking lush music...\n",
              "                             ...                        \n",
              "145    james bond always advantage films standalone n...\n",
              "146    no way world james bond would ever get weak wo...\n",
              "147    it starts like scary movie without main charac...\n",
              "148    well viewing entry bond franchise i see need e...\n",
              "149    films mercy bond truly hit rock bottom awards ...\n",
              "Name: cleaned_text, Length: 150, dtype: object"
            ]
          },
          "metadata": {},
          "execution_count": 197
        }
      ]
    },
    {
      "cell_type": "markdown",
      "source": [
        "## 2.4 Vader Sentiment Analysis to give a score to our sentences"
      ],
      "metadata": {
        "id": "tWTusilntOXV"
      }
    },
    {
      "cell_type": "code",
      "source": [
        "!pip install vaderSentiment\n",
        "from vaderSentiment.vaderSentiment import SentimentIntensityAnalyzer"
      ],
      "metadata": {
        "colab": {
          "base_uri": "https://localhost:8080/"
        },
        "id": "yLwHcarEtwkM",
        "outputId": "91da921a-0f2d-461d-d4d5-1cb519b690de"
      },
      "execution_count": null,
      "outputs": [
        {
          "output_type": "stream",
          "name": "stdout",
          "text": [
            "Collecting vaderSentiment\n",
            "  Downloading vaderSentiment-3.3.2-py2.py3-none-any.whl (125 kB)\n",
            "\u001b[2K     \u001b[90m━━━━━━━━━━━━━━━━━━━━━━━━━━━━━━━━━━━━━━━\u001b[0m \u001b[32m126.0/126.0 kB\u001b[0m \u001b[31m3.7 MB/s\u001b[0m eta \u001b[36m0:00:00\u001b[0m\n",
            "\u001b[?25hRequirement already satisfied: requests in /usr/local/lib/python3.10/dist-packages (from vaderSentiment) (2.31.0)\n",
            "Requirement already satisfied: charset-normalizer<4,>=2 in /usr/local/lib/python3.10/dist-packages (from requests->vaderSentiment) (3.2.0)\n",
            "Requirement already satisfied: idna<4,>=2.5 in /usr/local/lib/python3.10/dist-packages (from requests->vaderSentiment) (3.4)\n",
            "Requirement already satisfied: urllib3<3,>=1.21.1 in /usr/local/lib/python3.10/dist-packages (from requests->vaderSentiment) (2.0.4)\n",
            "Requirement already satisfied: certifi>=2017.4.17 in /usr/local/lib/python3.10/dist-packages (from requests->vaderSentiment) (2023.7.22)\n",
            "Installing collected packages: vaderSentiment\n",
            "Successfully installed vaderSentiment-3.3.2\n"
          ]
        }
      ]
    },
    {
      "cell_type": "code",
      "source": [
        "temp_list = []\n",
        "def sentiment_scores(sentence):\n",
        "\n",
        "    sia = SentimentIntensityAnalyzer()\n",
        "\n",
        "\n",
        "    sentiment_dict = sia.polarity_scores(sentence)\n",
        "\n",
        "    print(\"Overall sentiment dictionary is : \", sentiment_dict)\n",
        "    print(\"sentence was rated as \", sentiment_dict['neg']*100, \"% Negative\")\n",
        "    print(\"sentence was rated as \", sentiment_dict['neu']*100, \"% Neutral\")\n",
        "    print(\"sentence was rated as \", sentiment_dict['pos']*100, \"% Positive\")\n",
        "\n",
        "    print(\"Sentence Overall Rated As\", end = \" \")\n",
        "\n",
        "    # decide sentiment as positive, negative and neutral\n",
        "    if sentiment_dict['compound'] >= 0.05 :\n",
        "        print(\"Positive\")\n",
        "        temp_list.append(\"Positive\")\n",
        "\n",
        "    elif sentiment_dict['compound'] <= - 0.05 :\n",
        "        print(\"Negative\")\n",
        "        temp_list.append(\"Negative\")\n",
        "\n",
        "    else :\n",
        "        print(\"Neutral\")\n",
        "        temp_list.append(\"Neutral\")\n",
        "\n",
        "\n",
        "data[\"cleaned_text\"].apply(sentiment_scores)"
      ],
      "metadata": {
        "colab": {
          "base_uri": "https://localhost:8080/"
        },
        "id": "T5XzbeOGtN9L",
        "outputId": "403bb5fb-d79e-4e39-9946-dceb9c8805ba"
      },
      "execution_count": null,
      "outputs": [
        {
          "output_type": "stream",
          "name": "stdout",
          "text": [
            "Overall sentiment dictionary is :  {'neg': 0.157, 'neu': 0.708, 'pos': 0.135, 'compound': -0.9741}\n",
            "sentence was rated as  15.7 % Negative\n",
            "sentence was rated as  70.8 % Neutral\n",
            "sentence was rated as  13.5 % Positive\n",
            "Sentence Overall Rated As Negative\n",
            "Overall sentiment dictionary is :  {'neg': 0.158, 'neu': 0.532, 'pos': 0.31, 'compound': 0.9667}\n",
            "sentence was rated as  15.8 % Negative\n",
            "sentence was rated as  53.2 % Neutral\n",
            "sentence was rated as  31.0 % Positive\n",
            "Sentence Overall Rated As Positive\n",
            "Overall sentiment dictionary is :  {'neg': 0.199, 'neu': 0.651, 'pos': 0.149, 'compound': -0.5366}\n",
            "sentence was rated as  19.900000000000002 % Negative\n",
            "sentence was rated as  65.10000000000001 % Neutral\n",
            "sentence was rated as  14.899999999999999 % Positive\n",
            "Sentence Overall Rated As Negative\n",
            "Overall sentiment dictionary is :  {'neg': 0.22, 'neu': 0.614, 'pos': 0.166, 'compound': -0.7585}\n",
            "sentence was rated as  22.0 % Negative\n",
            "sentence was rated as  61.4 % Neutral\n",
            "sentence was rated as  16.6 % Positive\n",
            "Sentence Overall Rated As Negative\n",
            "Overall sentiment dictionary is :  {'neg': 0.228, 'neu': 0.628, 'pos': 0.144, 'compound': -0.9819}\n",
            "sentence was rated as  22.8 % Negative\n",
            "sentence was rated as  62.8 % Neutral\n",
            "sentence was rated as  14.399999999999999 % Positive\n",
            "Sentence Overall Rated As Negative\n",
            "Overall sentiment dictionary is :  {'neg': 0.178, 'neu': 0.551, 'pos': 0.271, 'compound': 0.9027}\n",
            "sentence was rated as  17.8 % Negative\n",
            "sentence was rated as  55.1 % Neutral\n",
            "sentence was rated as  27.1 % Positive\n",
            "Sentence Overall Rated As Positive\n",
            "Overall sentiment dictionary is :  {'neg': 0.13, 'neu': 0.651, 'pos': 0.219, 'compound': 0.9371}\n",
            "sentence was rated as  13.0 % Negative\n",
            "sentence was rated as  65.10000000000001 % Neutral\n",
            "sentence was rated as  21.9 % Positive\n",
            "Sentence Overall Rated As Positive\n",
            "Overall sentiment dictionary is :  {'neg': 0.24, 'neu': 0.663, 'pos': 0.098, 'compound': -0.8979}\n",
            "sentence was rated as  24.0 % Negative\n",
            "sentence was rated as  66.3 % Neutral\n",
            "sentence was rated as  9.8 % Positive\n",
            "Sentence Overall Rated As Negative\n",
            "Overall sentiment dictionary is :  {'neg': 0.133, 'neu': 0.661, 'pos': 0.206, 'compound': 0.9721}\n",
            "sentence was rated as  13.3 % Negative\n",
            "sentence was rated as  66.10000000000001 % Neutral\n",
            "sentence was rated as  20.599999999999998 % Positive\n",
            "Sentence Overall Rated As Positive\n",
            "Overall sentiment dictionary is :  {'neg': 0.151, 'neu': 0.705, 'pos': 0.144, 'compound': -0.1779}\n",
            "sentence was rated as  15.1 % Negative\n",
            "sentence was rated as  70.5 % Neutral\n",
            "sentence was rated as  14.399999999999999 % Positive\n",
            "Sentence Overall Rated As Negative\n",
            "Overall sentiment dictionary is :  {'neg': 0.249, 'neu': 0.56, 'pos': 0.191, 'compound': -0.9943}\n",
            "sentence was rated as  24.9 % Negative\n",
            "sentence was rated as  56.00000000000001 % Neutral\n",
            "sentence was rated as  19.1 % Positive\n",
            "Sentence Overall Rated As Negative\n",
            "Overall sentiment dictionary is :  {'neg': 0.027, 'neu': 0.718, 'pos': 0.255, 'compound': 0.9531}\n",
            "sentence was rated as  2.7 % Negative\n",
            "sentence was rated as  71.8 % Neutral\n",
            "sentence was rated as  25.5 % Positive\n",
            "Sentence Overall Rated As Positive\n",
            "Overall sentiment dictionary is :  {'neg': 0.217, 'neu': 0.637, 'pos': 0.146, 'compound': -0.9493}\n",
            "sentence was rated as  21.7 % Negative\n",
            "sentence was rated as  63.7 % Neutral\n",
            "sentence was rated as  14.6 % Positive\n",
            "Sentence Overall Rated As Negative\n",
            "Overall sentiment dictionary is :  {'neg': 0.238, 'neu': 0.634, 'pos': 0.128, 'compound': -0.7364}\n",
            "sentence was rated as  23.799999999999997 % Negative\n",
            "sentence was rated as  63.4 % Neutral\n",
            "sentence was rated as  12.8 % Positive\n",
            "Sentence Overall Rated As Negative\n",
            "Overall sentiment dictionary is :  {'neg': 0.092, 'neu': 0.7, 'pos': 0.208, 'compound': 0.8578}\n",
            "sentence was rated as  9.2 % Negative\n",
            "sentence was rated as  70.0 % Neutral\n",
            "sentence was rated as  20.8 % Positive\n",
            "Sentence Overall Rated As Positive\n",
            "Overall sentiment dictionary is :  {'neg': 0.144, 'neu': 0.745, 'pos': 0.111, 'compound': -0.9155}\n",
            "sentence was rated as  14.399999999999999 % Negative\n",
            "sentence was rated as  74.5 % Neutral\n",
            "sentence was rated as  11.1 % Positive\n",
            "Sentence Overall Rated As Negative\n",
            "Overall sentiment dictionary is :  {'neg': 0.239, 'neu': 0.664, 'pos': 0.098, 'compound': -0.9405}\n",
            "sentence was rated as  23.9 % Negative\n",
            "sentence was rated as  66.4 % Neutral\n",
            "sentence was rated as  9.8 % Positive\n",
            "Sentence Overall Rated As Negative\n",
            "Overall sentiment dictionary is :  {'neg': 0.217, 'neu': 0.59, 'pos': 0.194, 'compound': -0.7882}\n",
            "sentence was rated as  21.7 % Negative\n",
            "sentence was rated as  59.0 % Neutral\n",
            "sentence was rated as  19.400000000000002 % Positive\n",
            "Sentence Overall Rated As Negative\n",
            "Overall sentiment dictionary is :  {'neg': 0.214, 'neu': 0.554, 'pos': 0.232, 'compound': 0.2263}\n",
            "sentence was rated as  21.4 % Negative\n",
            "sentence was rated as  55.400000000000006 % Neutral\n",
            "sentence was rated as  23.200000000000003 % Positive\n",
            "Sentence Overall Rated As Positive\n",
            "Overall sentiment dictionary is :  {'neg': 0.125, 'neu': 0.671, 'pos': 0.204, 'compound': 0.5078}\n",
            "sentence was rated as  12.5 % Negative\n",
            "sentence was rated as  67.10000000000001 % Neutral\n",
            "sentence was rated as  20.4 % Positive\n",
            "Sentence Overall Rated As Positive\n",
            "Overall sentiment dictionary is :  {'neg': 0.144, 'neu': 0.598, 'pos': 0.258, 'compound': 0.9953}\n",
            "sentence was rated as  14.399999999999999 % Negative\n",
            "sentence was rated as  59.8 % Neutral\n",
            "sentence was rated as  25.8 % Positive\n",
            "Sentence Overall Rated As Positive\n",
            "Overall sentiment dictionary is :  {'neg': 0.134, 'neu': 0.648, 'pos': 0.218, 'compound': 0.9692}\n",
            "sentence was rated as  13.4 % Negative\n",
            "sentence was rated as  64.8 % Neutral\n",
            "sentence was rated as  21.8 % Positive\n",
            "Sentence Overall Rated As Positive\n",
            "Overall sentiment dictionary is :  {'neg': 0.115, 'neu': 0.709, 'pos': 0.176, 'compound': 0.9201}\n",
            "sentence was rated as  11.5 % Negative\n",
            "sentence was rated as  70.89999999999999 % Neutral\n",
            "sentence was rated as  17.599999999999998 % Positive\n",
            "Sentence Overall Rated As Positive\n",
            "Overall sentiment dictionary is :  {'neg': 0.375, 'neu': 0.542, 'pos': 0.083, 'compound': -0.9633}\n",
            "sentence was rated as  37.5 % Negative\n",
            "sentence was rated as  54.2 % Neutral\n",
            "sentence was rated as  8.3 % Positive\n",
            "Sentence Overall Rated As Negative\n",
            "Overall sentiment dictionary is :  {'neg': 0.102, 'neu': 0.756, 'pos': 0.142, 'compound': 0.8053}\n",
            "sentence was rated as  10.2 % Negative\n",
            "sentence was rated as  75.6 % Neutral\n",
            "sentence was rated as  14.2 % Positive\n",
            "Sentence Overall Rated As Positive\n",
            "Overall sentiment dictionary is :  {'neg': 0.113, 'neu': 0.638, 'pos': 0.248, 'compound': 0.9859}\n",
            "sentence was rated as  11.3 % Negative\n",
            "sentence was rated as  63.800000000000004 % Neutral\n",
            "sentence was rated as  24.8 % Positive\n",
            "Sentence Overall Rated As Positive\n",
            "Overall sentiment dictionary is :  {'neg': 0.329, 'neu': 0.55, 'pos': 0.121, 'compound': -0.9575}\n",
            "sentence was rated as  32.9 % Negative\n",
            "sentence was rated as  55.00000000000001 % Neutral\n",
            "sentence was rated as  12.1 % Positive\n",
            "Sentence Overall Rated As Negative\n",
            "Overall sentiment dictionary is :  {'neg': 0.219, 'neu': 0.546, 'pos': 0.234, 'compound': -0.1372}\n",
            "sentence was rated as  21.9 % Negative\n",
            "sentence was rated as  54.6 % Neutral\n",
            "sentence was rated as  23.400000000000002 % Positive\n",
            "Sentence Overall Rated As Negative\n",
            "Overall sentiment dictionary is :  {'neg': 0.163, 'neu': 0.687, 'pos': 0.15, 'compound': -0.1795}\n",
            "sentence was rated as  16.3 % Negative\n",
            "sentence was rated as  68.7 % Neutral\n",
            "sentence was rated as  15.0 % Positive\n",
            "Sentence Overall Rated As Negative\n",
            "Overall sentiment dictionary is :  {'neg': 0.06, 'neu': 0.655, 'pos': 0.285, 'compound': 0.9852}\n",
            "sentence was rated as  6.0 % Negative\n",
            "sentence was rated as  65.5 % Neutral\n",
            "sentence was rated as  28.499999999999996 % Positive\n",
            "Sentence Overall Rated As Positive\n",
            "Overall sentiment dictionary is :  {'neg': 0.22, 'neu': 0.614, 'pos': 0.166, 'compound': -0.7585}\n",
            "sentence was rated as  22.0 % Negative\n",
            "sentence was rated as  61.4 % Neutral\n",
            "sentence was rated as  16.6 % Positive\n",
            "Sentence Overall Rated As Negative\n",
            "Overall sentiment dictionary is :  {'neg': 0.062, 'neu': 0.577, 'pos': 0.361, 'compound': 0.997}\n",
            "sentence was rated as  6.2 % Negative\n",
            "sentence was rated as  57.699999999999996 % Neutral\n",
            "sentence was rated as  36.1 % Positive\n",
            "Sentence Overall Rated As Positive\n",
            "Overall sentiment dictionary is :  {'neg': 0.139, 'neu': 0.705, 'pos': 0.156, 'compound': 0.1245}\n",
            "sentence was rated as  13.900000000000002 % Negative\n",
            "sentence was rated as  70.5 % Neutral\n",
            "sentence was rated as  15.6 % Positive\n",
            "Sentence Overall Rated As Positive\n",
            "Overall sentiment dictionary is :  {'neg': 0.047, 'neu': 0.803, 'pos': 0.15, 'compound': 0.91}\n",
            "sentence was rated as  4.7 % Negative\n",
            "sentence was rated as  80.30000000000001 % Neutral\n",
            "sentence was rated as  15.0 % Positive\n",
            "Sentence Overall Rated As Positive\n",
            "Overall sentiment dictionary is :  {'neg': 0.209, 'neu': 0.536, 'pos': 0.255, 'compound': 0.6369}\n",
            "sentence was rated as  20.9 % Negative\n",
            "sentence was rated as  53.6 % Neutral\n",
            "sentence was rated as  25.5 % Positive\n",
            "Sentence Overall Rated As Positive\n",
            "Overall sentiment dictionary is :  {'neg': 0.192, 'neu': 0.681, 'pos': 0.127, 'compound': -0.752}\n",
            "sentence was rated as  19.2 % Negative\n",
            "sentence was rated as  68.10000000000001 % Neutral\n",
            "sentence was rated as  12.7 % Positive\n",
            "Sentence Overall Rated As Negative\n",
            "Overall sentiment dictionary is :  {'neg': 0.187, 'neu': 0.673, 'pos': 0.14, 'compound': -0.8381}\n",
            "sentence was rated as  18.7 % Negative\n",
            "sentence was rated as  67.30000000000001 % Neutral\n",
            "sentence was rated as  14.000000000000002 % Positive\n",
            "Sentence Overall Rated As Negative\n",
            "Overall sentiment dictionary is :  {'neg': 0.152, 'neu': 0.65, 'pos': 0.197, 'compound': 0.6145}\n",
            "sentence was rated as  15.2 % Negative\n",
            "sentence was rated as  65.0 % Neutral\n",
            "sentence was rated as  19.7 % Positive\n",
            "Sentence Overall Rated As Positive\n",
            "Overall sentiment dictionary is :  {'neg': 0.092, 'neu': 0.7, 'pos': 0.208, 'compound': 0.8578}\n",
            "sentence was rated as  9.2 % Negative\n",
            "sentence was rated as  70.0 % Neutral\n",
            "sentence was rated as  20.8 % Positive\n",
            "Sentence Overall Rated As Positive\n",
            "Overall sentiment dictionary is :  {'neg': 0.147, 'neu': 0.564, 'pos': 0.289, 'compound': 0.8507}\n",
            "sentence was rated as  14.7 % Negative\n",
            "sentence was rated as  56.39999999999999 % Neutral\n",
            "sentence was rated as  28.9 % Positive\n",
            "Sentence Overall Rated As Positive\n",
            "Overall sentiment dictionary is :  {'neg': 0.09, 'neu': 0.701, 'pos': 0.209, 'compound': 0.9033}\n",
            "sentence was rated as  9.0 % Negative\n",
            "sentence was rated as  70.1 % Neutral\n",
            "sentence was rated as  20.9 % Positive\n",
            "Sentence Overall Rated As Positive\n",
            "Overall sentiment dictionary is :  {'neg': 0.128, 'neu': 0.649, 'pos': 0.223, 'compound': 0.9566}\n",
            "sentence was rated as  12.8 % Negative\n",
            "sentence was rated as  64.9 % Neutral\n",
            "sentence was rated as  22.3 % Positive\n",
            "Sentence Overall Rated As Positive\n",
            "Overall sentiment dictionary is :  {'neg': 0.061, 'neu': 0.76, 'pos': 0.179, 'compound': 0.8142}\n",
            "sentence was rated as  6.1 % Negative\n",
            "sentence was rated as  76.0 % Neutral\n",
            "sentence was rated as  17.9 % Positive\n",
            "Sentence Overall Rated As Positive\n",
            "Overall sentiment dictionary is :  {'neg': 0.071, 'neu': 0.563, 'pos': 0.365, 'compound': 0.9991}\n",
            "sentence was rated as  7.1 % Negative\n",
            "sentence was rated as  56.3 % Neutral\n",
            "sentence was rated as  36.5 % Positive\n",
            "Sentence Overall Rated As Positive\n",
            "Overall sentiment dictionary is :  {'neg': 0.23, 'neu': 0.617, 'pos': 0.152, 'compound': -0.9014}\n",
            "sentence was rated as  23.0 % Negative\n",
            "sentence was rated as  61.7 % Neutral\n",
            "sentence was rated as  15.2 % Positive\n",
            "Sentence Overall Rated As Negative\n",
            "Overall sentiment dictionary is :  {'neg': 0.128, 'neu': 0.711, 'pos': 0.162, 'compound': 0.6571}\n",
            "sentence was rated as  12.8 % Negative\n",
            "sentence was rated as  71.1 % Neutral\n",
            "sentence was rated as  16.2 % Positive\n",
            "Sentence Overall Rated As Positive\n",
            "Overall sentiment dictionary is :  {'neg': 0.125, 'neu': 0.673, 'pos': 0.202, 'compound': 0.9408}\n",
            "sentence was rated as  12.5 % Negative\n",
            "sentence was rated as  67.30000000000001 % Neutral\n",
            "sentence was rated as  20.200000000000003 % Positive\n",
            "Sentence Overall Rated As Positive\n",
            "Overall sentiment dictionary is :  {'neg': 0.116, 'neu': 0.696, 'pos': 0.187, 'compound': 0.8994}\n",
            "sentence was rated as  11.600000000000001 % Negative\n",
            "sentence was rated as  69.6 % Neutral\n",
            "sentence was rated as  18.7 % Positive\n",
            "Sentence Overall Rated As Positive\n",
            "Overall sentiment dictionary is :  {'neg': 0.168, 'neu': 0.566, 'pos': 0.266, 'compound': 0.9001}\n",
            "sentence was rated as  16.8 % Negative\n",
            "sentence was rated as  56.599999999999994 % Neutral\n",
            "sentence was rated as  26.6 % Positive\n",
            "Sentence Overall Rated As Positive\n",
            "Overall sentiment dictionary is :  {'neg': 0.112, 'neu': 0.616, 'pos': 0.271, 'compound': 0.9991}\n",
            "sentence was rated as  11.200000000000001 % Negative\n",
            "sentence was rated as  61.6 % Neutral\n",
            "sentence was rated as  27.1 % Positive\n",
            "Sentence Overall Rated As Positive\n",
            "Overall sentiment dictionary is :  {'neg': 0.13, 'neu': 0.651, 'pos': 0.219, 'compound': 0.9371}\n",
            "sentence was rated as  13.0 % Negative\n",
            "sentence was rated as  65.10000000000001 % Neutral\n",
            "sentence was rated as  21.9 % Positive\n",
            "Sentence Overall Rated As Positive\n",
            "Overall sentiment dictionary is :  {'neg': 0.178, 'neu': 0.551, 'pos': 0.271, 'compound': 0.9027}\n",
            "sentence was rated as  17.8 % Negative\n",
            "sentence was rated as  55.1 % Neutral\n",
            "sentence was rated as  27.1 % Positive\n",
            "Sentence Overall Rated As Positive\n",
            "Overall sentiment dictionary is :  {'neg': 0.125, 'neu': 0.671, 'pos': 0.204, 'compound': 0.5078}\n",
            "sentence was rated as  12.5 % Negative\n",
            "sentence was rated as  67.10000000000001 % Neutral\n",
            "sentence was rated as  20.4 % Positive\n",
            "Sentence Overall Rated As Positive\n",
            "Overall sentiment dictionary is :  {'neg': 0.132, 'neu': 0.614, 'pos': 0.254, 'compound': 0.9964}\n",
            "sentence was rated as  13.200000000000001 % Negative\n",
            "sentence was rated as  61.4 % Neutral\n",
            "sentence was rated as  25.4 % Positive\n",
            "Sentence Overall Rated As Positive\n",
            "Overall sentiment dictionary is :  {'neg': 0.141, 'neu': 0.73, 'pos': 0.13, 'compound': -0.0046}\n",
            "sentence was rated as  14.099999999999998 % Negative\n",
            "sentence was rated as  73.0 % Neutral\n",
            "sentence was rated as  13.0 % Positive\n",
            "Sentence Overall Rated As Neutral\n",
            "Overall sentiment dictionary is :  {'neg': 0.027, 'neu': 0.718, 'pos': 0.255, 'compound': 0.9531}\n",
            "sentence was rated as  2.7 % Negative\n",
            "sentence was rated as  71.8 % Neutral\n",
            "sentence was rated as  25.5 % Positive\n",
            "Sentence Overall Rated As Positive\n",
            "Overall sentiment dictionary is :  {'neg': 0.205, 'neu': 0.664, 'pos': 0.131, 'compound': -0.8481}\n",
            "sentence was rated as  20.5 % Negative\n",
            "sentence was rated as  66.4 % Neutral\n",
            "sentence was rated as  13.100000000000001 % Positive\n",
            "Sentence Overall Rated As Negative\n",
            "Overall sentiment dictionary is :  {'neg': 0.147, 'neu': 0.662, 'pos': 0.192, 'compound': 0.853}\n",
            "sentence was rated as  14.7 % Negative\n",
            "sentence was rated as  66.2 % Neutral\n",
            "sentence was rated as  19.2 % Positive\n",
            "Sentence Overall Rated As Positive\n",
            "Overall sentiment dictionary is :  {'neg': 0.057, 'neu': 0.716, 'pos': 0.227, 'compound': 0.796}\n",
            "sentence was rated as  5.7 % Negative\n",
            "sentence was rated as  71.6 % Neutral\n",
            "sentence was rated as  22.7 % Positive\n",
            "Sentence Overall Rated As Positive\n",
            "Overall sentiment dictionary is :  {'neg': 0.115, 'neu': 0.709, 'pos': 0.176, 'compound': 0.9201}\n",
            "sentence was rated as  11.5 % Negative\n",
            "sentence was rated as  70.89999999999999 % Neutral\n",
            "sentence was rated as  17.599999999999998 % Positive\n",
            "Sentence Overall Rated As Positive\n",
            "Overall sentiment dictionary is :  {'neg': 0.191, 'neu': 0.632, 'pos': 0.177, 'compound': -0.4034}\n",
            "sentence was rated as  19.1 % Negative\n",
            "sentence was rated as  63.2 % Neutral\n",
            "sentence was rated as  17.7 % Positive\n",
            "Sentence Overall Rated As Negative\n",
            "Overall sentiment dictionary is :  {'neg': 0.217, 'neu': 0.59, 'pos': 0.194, 'compound': -0.7882}\n",
            "sentence was rated as  21.7 % Negative\n",
            "sentence was rated as  59.0 % Neutral\n",
            "sentence was rated as  19.400000000000002 % Positive\n",
            "Sentence Overall Rated As Negative\n",
            "Overall sentiment dictionary is :  {'neg': 0.123, 'neu': 0.598, 'pos': 0.279, 'compound': 0.9968}\n",
            "sentence was rated as  12.3 % Negative\n",
            "sentence was rated as  59.8 % Neutral\n",
            "sentence was rated as  27.900000000000002 % Positive\n",
            "Sentence Overall Rated As Positive\n",
            "Overall sentiment dictionary is :  {'neg': 0.164, 'neu': 0.593, 'pos': 0.243, 'compound': 0.9818}\n",
            "sentence was rated as  16.400000000000002 % Negative\n",
            "sentence was rated as  59.3 % Neutral\n",
            "sentence was rated as  24.3 % Positive\n",
            "Sentence Overall Rated As Positive\n",
            "Overall sentiment dictionary is :  {'neg': 0.148, 'neu': 0.637, 'pos': 0.215, 'compound': 0.9029}\n",
            "sentence was rated as  14.799999999999999 % Negative\n",
            "sentence was rated as  63.7 % Neutral\n",
            "sentence was rated as  21.5 % Positive\n",
            "Sentence Overall Rated As Positive\n",
            "Overall sentiment dictionary is :  {'neg': 0.125, 'neu': 0.677, 'pos': 0.198, 'compound': 0.9492}\n",
            "sentence was rated as  12.5 % Negative\n",
            "sentence was rated as  67.7 % Neutral\n",
            "sentence was rated as  19.8 % Positive\n",
            "Sentence Overall Rated As Positive\n",
            "Overall sentiment dictionary is :  {'neg': 0.133, 'neu': 0.661, 'pos': 0.206, 'compound': 0.9721}\n",
            "sentence was rated as  13.3 % Negative\n",
            "sentence was rated as  66.10000000000001 % Neutral\n",
            "sentence was rated as  20.599999999999998 % Positive\n",
            "Sentence Overall Rated As Positive\n",
            "Overall sentiment dictionary is :  {'neg': 0.32, 'neu': 0.68, 'pos': 0.0, 'compound': -0.765}\n",
            "sentence was rated as  32.0 % Negative\n",
            "sentence was rated as  68.0 % Neutral\n",
            "sentence was rated as  0.0 % Positive\n",
            "Sentence Overall Rated As Negative\n",
            "Overall sentiment dictionary is :  {'neg': 0.09, 'neu': 0.781, 'pos': 0.129, 'compound': 0.6705}\n",
            "sentence was rated as  9.0 % Negative\n",
            "sentence was rated as  78.10000000000001 % Neutral\n",
            "sentence was rated as  12.9 % Positive\n",
            "Sentence Overall Rated As Positive\n",
            "Overall sentiment dictionary is :  {'neg': 0.041, 'neu': 0.751, 'pos': 0.208, 'compound': 0.9526}\n",
            "sentence was rated as  4.1000000000000005 % Negative\n",
            "sentence was rated as  75.1 % Neutral\n",
            "sentence was rated as  20.8 % Positive\n",
            "Sentence Overall Rated As Positive\n",
            "Overall sentiment dictionary is :  {'neg': 0.21, 'neu': 0.639, 'pos': 0.151, 'compound': -0.8277}\n",
            "sentence was rated as  21.0 % Negative\n",
            "sentence was rated as  63.9 % Neutral\n",
            "sentence was rated as  15.1 % Positive\n",
            "Sentence Overall Rated As Negative\n",
            "Overall sentiment dictionary is :  {'neg': 0.517, 'neu': 0.483, 'pos': 0.0, 'compound': -0.9313}\n",
            "sentence was rated as  51.7 % Negative\n",
            "sentence was rated as  48.3 % Neutral\n",
            "sentence was rated as  0.0 % Positive\n",
            "Sentence Overall Rated As Negative\n",
            "Overall sentiment dictionary is :  {'neg': 0.123, 'neu': 0.745, 'pos': 0.132, 'compound': 0.0793}\n",
            "sentence was rated as  12.3 % Negative\n",
            "sentence was rated as  74.5 % Neutral\n",
            "sentence was rated as  13.200000000000001 % Positive\n",
            "Sentence Overall Rated As Positive\n",
            "Overall sentiment dictionary is :  {'neg': 0.147, 'neu': 0.553, 'pos': 0.3, 'compound': 0.9747}\n",
            "sentence was rated as  14.7 % Negative\n",
            "sentence was rated as  55.300000000000004 % Neutral\n",
            "sentence was rated as  30.0 % Positive\n",
            "Sentence Overall Rated As Positive\n",
            "Overall sentiment dictionary is :  {'neg': 0.159, 'neu': 0.682, 'pos': 0.158, 'compound': -0.0889}\n",
            "sentence was rated as  15.9 % Negative\n",
            "sentence was rated as  68.2 % Neutral\n",
            "sentence was rated as  15.8 % Positive\n",
            "Sentence Overall Rated As Negative\n",
            "Overall sentiment dictionary is :  {'neg': 0.151, 'neu': 0.705, 'pos': 0.144, 'compound': -0.1779}\n",
            "sentence was rated as  15.1 % Negative\n",
            "sentence was rated as  70.5 % Neutral\n",
            "sentence was rated as  14.399999999999999 % Positive\n",
            "Sentence Overall Rated As Negative\n",
            "Overall sentiment dictionary is :  {'neg': 0.219, 'neu': 0.617, 'pos': 0.164, 'compound': -0.9169}\n",
            "sentence was rated as  21.9 % Negative\n",
            "sentence was rated as  61.7 % Neutral\n",
            "sentence was rated as  16.400000000000002 % Positive\n",
            "Sentence Overall Rated As Negative\n",
            "Overall sentiment dictionary is :  {'neg': 0.14, 'neu': 0.779, 'pos': 0.08, 'compound': -0.8779}\n",
            "sentence was rated as  14.000000000000002 % Negative\n",
            "sentence was rated as  77.9 % Neutral\n",
            "sentence was rated as  8.0 % Positive\n",
            "Sentence Overall Rated As Negative\n",
            "Overall sentiment dictionary is :  {'neg': 0.027, 'neu': 0.718, 'pos': 0.255, 'compound': 0.9531}\n",
            "sentence was rated as  2.7 % Negative\n",
            "sentence was rated as  71.8 % Neutral\n",
            "sentence was rated as  25.5 % Positive\n",
            "Sentence Overall Rated As Positive\n",
            "Overall sentiment dictionary is :  {'neg': 0.156, 'neu': 0.619, 'pos': 0.226, 'compound': 0.9967}\n",
            "sentence was rated as  15.6 % Negative\n",
            "sentence was rated as  61.9 % Neutral\n",
            "sentence was rated as  22.6 % Positive\n",
            "Sentence Overall Rated As Positive\n",
            "Overall sentiment dictionary is :  {'neg': 0.085, 'neu': 0.725, 'pos': 0.19, 'compound': 0.988}\n",
            "sentence was rated as  8.5 % Negative\n",
            "sentence was rated as  72.5 % Neutral\n",
            "sentence was rated as  19.0 % Positive\n",
            "Sentence Overall Rated As Positive\n",
            "Overall sentiment dictionary is :  {'neg': 0.205, 'neu': 0.664, 'pos': 0.131, 'compound': -0.8481}\n",
            "sentence was rated as  20.5 % Negative\n",
            "sentence was rated as  66.4 % Neutral\n",
            "sentence was rated as  13.100000000000001 % Positive\n",
            "Sentence Overall Rated As Negative\n",
            "Overall sentiment dictionary is :  {'neg': 0.084, 'neu': 0.826, 'pos': 0.09, 'compound': -0.0772}\n",
            "sentence was rated as  8.4 % Negative\n",
            "sentence was rated as  82.6 % Neutral\n",
            "sentence was rated as  9.0 % Positive\n",
            "Sentence Overall Rated As Negative\n",
            "Overall sentiment dictionary is :  {'neg': 0.21, 'neu': 0.639, 'pos': 0.151, 'compound': -0.8277}\n",
            "sentence was rated as  21.0 % Negative\n",
            "sentence was rated as  63.9 % Neutral\n",
            "sentence was rated as  15.1 % Positive\n",
            "Sentence Overall Rated As Negative\n",
            "Overall sentiment dictionary is :  {'neg': 0.163, 'neu': 0.658, 'pos': 0.178, 'compound': 0.1679}\n",
            "sentence was rated as  16.3 % Negative\n",
            "sentence was rated as  65.8 % Neutral\n",
            "sentence was rated as  17.8 % Positive\n",
            "Sentence Overall Rated As Positive\n",
            "Overall sentiment dictionary is :  {'neg': 0.131, 'neu': 0.748, 'pos': 0.121, 'compound': -0.5475}\n",
            "sentence was rated as  13.100000000000001 % Negative\n",
            "sentence was rated as  74.8 % Neutral\n",
            "sentence was rated as  12.1 % Positive\n",
            "Sentence Overall Rated As Negative\n",
            "Overall sentiment dictionary is :  {'neg': 0.204, 'neu': 0.683, 'pos': 0.113, 'compound': -0.7653}\n",
            "sentence was rated as  20.4 % Negative\n",
            "sentence was rated as  68.30000000000001 % Neutral\n",
            "sentence was rated as  11.3 % Positive\n",
            "Sentence Overall Rated As Negative\n",
            "Overall sentiment dictionary is :  {'neg': 0.034, 'neu': 0.742, 'pos': 0.224, 'compound': 0.9545}\n",
            "sentence was rated as  3.4000000000000004 % Negative\n",
            "sentence was rated as  74.2 % Neutral\n",
            "sentence was rated as  22.400000000000002 % Positive\n",
            "Sentence Overall Rated As Positive\n",
            "Overall sentiment dictionary is :  {'neg': 0.026, 'neu': 0.766, 'pos': 0.208, 'compound': 0.9379}\n",
            "sentence was rated as  2.6 % Negative\n",
            "sentence was rated as  76.6 % Neutral\n",
            "sentence was rated as  20.8 % Positive\n",
            "Sentence Overall Rated As Positive\n",
            "Overall sentiment dictionary is :  {'neg': 0.125, 'neu': 0.671, 'pos': 0.204, 'compound': 0.5078}\n",
            "sentence was rated as  12.5 % Negative\n",
            "sentence was rated as  67.10000000000001 % Neutral\n",
            "sentence was rated as  20.4 % Positive\n",
            "Sentence Overall Rated As Positive\n",
            "Overall sentiment dictionary is :  {'neg': 0.12, 'neu': 0.618, 'pos': 0.263, 'compound': 0.9601}\n",
            "sentence was rated as  12.0 % Negative\n",
            "sentence was rated as  61.8 % Neutral\n",
            "sentence was rated as  26.3 % Positive\n",
            "Sentence Overall Rated As Positive\n",
            "Overall sentiment dictionary is :  {'neg': 0.196, 'neu': 0.607, 'pos': 0.197, 'compound': -0.228}\n",
            "sentence was rated as  19.6 % Negative\n",
            "sentence was rated as  60.699999999999996 % Neutral\n",
            "sentence was rated as  19.7 % Positive\n",
            "Sentence Overall Rated As Negative\n",
            "Overall sentiment dictionary is :  {'neg': 0.105, 'neu': 0.771, 'pos': 0.124, 'compound': 0.6547}\n",
            "sentence was rated as  10.5 % Negative\n",
            "sentence was rated as  77.10000000000001 % Neutral\n",
            "sentence was rated as  12.4 % Positive\n",
            "Sentence Overall Rated As Positive\n",
            "Overall sentiment dictionary is :  {'neg': 0.17, 'neu': 0.577, 'pos': 0.253, 'compound': 0.8348}\n",
            "sentence was rated as  17.0 % Negative\n",
            "sentence was rated as  57.699999999999996 % Neutral\n",
            "sentence was rated as  25.3 % Positive\n",
            "Sentence Overall Rated As Positive\n",
            "Overall sentiment dictionary is :  {'neg': 0.205, 'neu': 0.65, 'pos': 0.145, 'compound': -0.9939}\n",
            "sentence was rated as  20.5 % Negative\n",
            "sentence was rated as  65.0 % Neutral\n",
            "sentence was rated as  14.499999999999998 % Positive\n",
            "Sentence Overall Rated As Negative\n",
            "Overall sentiment dictionary is :  {'neg': 0.115, 'neu': 0.709, 'pos': 0.176, 'compound': 0.9201}\n",
            "sentence was rated as  11.5 % Negative\n",
            "sentence was rated as  70.89999999999999 % Neutral\n",
            "sentence was rated as  17.599999999999998 % Positive\n",
            "Sentence Overall Rated As Positive\n",
            "Overall sentiment dictionary is :  {'neg': 0.069, 'neu': 0.729, 'pos': 0.202, 'compound': 0.996}\n",
            "sentence was rated as  6.9 % Negative\n",
            "sentence was rated as  72.89999999999999 % Neutral\n",
            "sentence was rated as  20.200000000000003 % Positive\n",
            "Sentence Overall Rated As Positive\n",
            "Overall sentiment dictionary is :  {'neg': 0.07, 'neu': 0.705, 'pos': 0.225, 'compound': 0.9786}\n",
            "sentence was rated as  7.000000000000001 % Negative\n",
            "sentence was rated as  70.5 % Neutral\n",
            "sentence was rated as  22.5 % Positive\n",
            "Sentence Overall Rated As Positive\n",
            "Overall sentiment dictionary is :  {'neg': 0.09, 'neu': 0.781, 'pos': 0.129, 'compound': 0.6705}\n",
            "sentence was rated as  9.0 % Negative\n",
            "sentence was rated as  78.10000000000001 % Neutral\n",
            "sentence was rated as  12.9 % Positive\n",
            "Sentence Overall Rated As Positive\n",
            "Overall sentiment dictionary is :  {'neg': 0.137, 'neu': 0.586, 'pos': 0.277, 'compound': 0.9996}\n",
            "sentence was rated as  13.700000000000001 % Negative\n",
            "sentence was rated as  58.599999999999994 % Neutral\n",
            "sentence was rated as  27.700000000000003 % Positive\n",
            "Sentence Overall Rated As Positive\n",
            "Overall sentiment dictionary is :  {'neg': 0.308, 'neu': 0.346, 'pos': 0.346, 'compound': 0.5106}\n",
            "sentence was rated as  30.8 % Negative\n",
            "sentence was rated as  34.599999999999994 % Neutral\n",
            "sentence was rated as  34.599999999999994 % Positive\n",
            "Sentence Overall Rated As Positive\n",
            "Overall sentiment dictionary is :  {'neg': 0.052, 'neu': 0.754, 'pos': 0.194, 'compound': 0.802}\n",
            "sentence was rated as  5.2 % Negative\n",
            "sentence was rated as  75.4 % Neutral\n",
            "sentence was rated as  19.400000000000002 % Positive\n",
            "Sentence Overall Rated As Positive\n",
            "Overall sentiment dictionary is :  {'neg': 0.067, 'neu': 0.586, 'pos': 0.347, 'compound': 0.9169}\n",
            "sentence was rated as  6.7 % Negative\n",
            "sentence was rated as  58.599999999999994 % Neutral\n",
            "sentence was rated as  34.699999999999996 % Positive\n",
            "Sentence Overall Rated As Positive\n",
            "Overall sentiment dictionary is :  {'neg': 0.113, 'neu': 0.539, 'pos': 0.348, 'compound': 0.5859}\n",
            "sentence was rated as  11.3 % Negative\n",
            "sentence was rated as  53.900000000000006 % Neutral\n",
            "sentence was rated as  34.8 % Positive\n",
            "Sentence Overall Rated As Positive\n",
            "Overall sentiment dictionary is :  {'neg': 0.12, 'neu': 0.698, 'pos': 0.182, 'compound': 0.8967}\n",
            "sentence was rated as  12.0 % Negative\n",
            "sentence was rated as  69.8 % Neutral\n",
            "sentence was rated as  18.2 % Positive\n",
            "Sentence Overall Rated As Positive\n",
            "Overall sentiment dictionary is :  {'neg': 0.088, 'neu': 0.441, 'pos': 0.471, 'compound': 0.9062}\n",
            "sentence was rated as  8.799999999999999 % Negative\n",
            "sentence was rated as  44.1 % Neutral\n",
            "sentence was rated as  47.099999999999994 % Positive\n",
            "Sentence Overall Rated As Positive\n",
            "Overall sentiment dictionary is :  {'neg': 0.069, 'neu': 0.553, 'pos': 0.378, 'compound': 0.9894}\n",
            "sentence was rated as  6.9 % Negative\n",
            "sentence was rated as  55.300000000000004 % Neutral\n",
            "sentence was rated as  37.8 % Positive\n",
            "Sentence Overall Rated As Positive\n",
            "Overall sentiment dictionary is :  {'neg': 0.059, 'neu': 0.485, 'pos': 0.456, 'compound': 0.9408}\n",
            "sentence was rated as  5.8999999999999995 % Negative\n",
            "sentence was rated as  48.5 % Neutral\n",
            "sentence was rated as  45.6 % Positive\n",
            "Sentence Overall Rated As Positive\n",
            "Overall sentiment dictionary is :  {'neg': 0.018, 'neu': 0.597, 'pos': 0.385, 'compound': 0.9903}\n",
            "sentence was rated as  1.7999999999999998 % Negative\n",
            "sentence was rated as  59.699999999999996 % Neutral\n",
            "sentence was rated as  38.5 % Positive\n",
            "Sentence Overall Rated As Positive\n",
            "Overall sentiment dictionary is :  {'neg': 0.243, 'neu': 0.5, 'pos': 0.257, 'compound': 0.1531}\n",
            "sentence was rated as  24.3 % Negative\n",
            "sentence was rated as  50.0 % Neutral\n",
            "sentence was rated as  25.7 % Positive\n",
            "Sentence Overall Rated As Positive\n",
            "Overall sentiment dictionary is :  {'neg': 0.217, 'neu': 0.708, 'pos': 0.075, 'compound': -0.9893}\n",
            "sentence was rated as  21.7 % Negative\n",
            "sentence was rated as  70.8 % Neutral\n",
            "sentence was rated as  7.5 % Positive\n",
            "Sentence Overall Rated As Negative\n",
            "Overall sentiment dictionary is :  {'neg': 0.0, 'neu': 0.497, 'pos': 0.503, 'compound': 0.9729}\n",
            "sentence was rated as  0.0 % Negative\n",
            "sentence was rated as  49.7 % Neutral\n",
            "sentence was rated as  50.3 % Positive\n",
            "Sentence Overall Rated As Positive\n",
            "Overall sentiment dictionary is :  {'neg': 0.184, 'neu': 0.514, 'pos': 0.302, 'compound': 0.7579}\n",
            "sentence was rated as  18.4 % Negative\n",
            "sentence was rated as  51.4 % Neutral\n",
            "sentence was rated as  30.2 % Positive\n",
            "Sentence Overall Rated As Positive\n",
            "Overall sentiment dictionary is :  {'neg': 0.0, 'neu': 0.534, 'pos': 0.466, 'compound': 0.7269}\n",
            "sentence was rated as  0.0 % Negative\n",
            "sentence was rated as  53.400000000000006 % Neutral\n",
            "sentence was rated as  46.6 % Positive\n",
            "Sentence Overall Rated As Positive\n",
            "Overall sentiment dictionary is :  {'neg': 0.074, 'neu': 0.693, 'pos': 0.233, 'compound': 0.7845}\n",
            "sentence was rated as  7.3999999999999995 % Negative\n",
            "sentence was rated as  69.3 % Neutral\n",
            "sentence was rated as  23.3 % Positive\n",
            "Sentence Overall Rated As Positive\n",
            "Overall sentiment dictionary is :  {'neg': 0.0, 'neu': 0.505, 'pos': 0.495, 'compound': 0.9403}\n",
            "sentence was rated as  0.0 % Negative\n",
            "sentence was rated as  50.5 % Neutral\n",
            "sentence was rated as  49.5 % Positive\n",
            "Sentence Overall Rated As Positive\n",
            "Overall sentiment dictionary is :  {'neg': 0.0, 'neu': 0.65, 'pos': 0.35, 'compound': 0.9542}\n",
            "sentence was rated as  0.0 % Negative\n",
            "sentence was rated as  65.0 % Neutral\n",
            "sentence was rated as  35.0 % Positive\n",
            "Sentence Overall Rated As Positive\n",
            "Overall sentiment dictionary is :  {'neg': 0.0, 'neu': 0.669, 'pos': 0.331, 'compound': 0.836}\n",
            "sentence was rated as  0.0 % Negative\n",
            "sentence was rated as  66.9 % Neutral\n",
            "sentence was rated as  33.1 % Positive\n",
            "Sentence Overall Rated As Positive\n",
            "Overall sentiment dictionary is :  {'neg': 0.102, 'neu': 0.422, 'pos': 0.476, 'compound': 0.802}\n",
            "sentence was rated as  10.2 % Negative\n",
            "sentence was rated as  42.199999999999996 % Neutral\n",
            "sentence was rated as  47.599999999999994 % Positive\n",
            "Sentence Overall Rated As Positive\n",
            "Overall sentiment dictionary is :  {'neg': 0.296, 'neu': 0.47, 'pos': 0.234, 'compound': -0.2766}\n",
            "sentence was rated as  29.599999999999998 % Negative\n",
            "sentence was rated as  47.0 % Neutral\n",
            "sentence was rated as  23.400000000000002 % Positive\n",
            "Sentence Overall Rated As Negative\n",
            "Overall sentiment dictionary is :  {'neg': 0.045, 'neu': 0.602, 'pos': 0.353, 'compound': 0.8481}\n",
            "sentence was rated as  4.5 % Negative\n",
            "sentence was rated as  60.199999999999996 % Neutral\n",
            "sentence was rated as  35.3 % Positive\n",
            "Sentence Overall Rated As Positive\n",
            "Overall sentiment dictionary is :  {'neg': 0.064, 'neu': 0.702, 'pos': 0.235, 'compound': 0.9882}\n",
            "sentence was rated as  6.4 % Negative\n",
            "sentence was rated as  70.19999999999999 % Neutral\n",
            "sentence was rated as  23.5 % Positive\n",
            "Sentence Overall Rated As Positive\n",
            "Overall sentiment dictionary is :  {'neg': 0.043, 'neu': 0.733, 'pos': 0.224, 'compound': 0.8717}\n",
            "sentence was rated as  4.3 % Negative\n",
            "sentence was rated as  73.3 % Neutral\n",
            "sentence was rated as  22.400000000000002 % Positive\n",
            "Sentence Overall Rated As Positive\n",
            "Overall sentiment dictionary is :  {'neg': 0.111, 'neu': 0.577, 'pos': 0.313, 'compound': 0.9686}\n",
            "sentence was rated as  11.1 % Negative\n",
            "sentence was rated as  57.699999999999996 % Neutral\n",
            "sentence was rated as  31.3 % Positive\n",
            "Sentence Overall Rated As Positive\n",
            "Overall sentiment dictionary is :  {'neg': 0.0, 'neu': 0.733, 'pos': 0.267, 'compound': 0.8062}\n",
            "sentence was rated as  0.0 % Negative\n",
            "sentence was rated as  73.3 % Neutral\n",
            "sentence was rated as  26.700000000000003 % Positive\n",
            "Sentence Overall Rated As Positive\n",
            "Overall sentiment dictionary is :  {'neg': 0.22, 'neu': 0.614, 'pos': 0.166, 'compound': -0.7585}\n",
            "sentence was rated as  22.0 % Negative\n",
            "sentence was rated as  61.4 % Neutral\n",
            "sentence was rated as  16.6 % Positive\n",
            "Sentence Overall Rated As Negative\n",
            "Overall sentiment dictionary is :  {'neg': 0.158, 'neu': 0.532, 'pos': 0.31, 'compound': 0.9667}\n",
            "sentence was rated as  15.8 % Negative\n",
            "sentence was rated as  53.2 % Neutral\n",
            "sentence was rated as  31.0 % Positive\n",
            "Sentence Overall Rated As Positive\n",
            "Overall sentiment dictionary is :  {'neg': 0.202, 'neu': 0.654, 'pos': 0.145, 'compound': -0.7692}\n",
            "sentence was rated as  20.200000000000003 % Negative\n",
            "sentence was rated as  65.4 % Neutral\n",
            "sentence was rated as  14.499999999999998 % Positive\n",
            "Sentence Overall Rated As Negative\n",
            "Overall sentiment dictionary is :  {'neg': 0.147, 'neu': 0.662, 'pos': 0.192, 'compound': 0.853}\n",
            "sentence was rated as  14.7 % Negative\n",
            "sentence was rated as  66.2 % Neutral\n",
            "sentence was rated as  19.2 % Positive\n",
            "Sentence Overall Rated As Positive\n",
            "Overall sentiment dictionary is :  {'neg': 0.132, 'neu': 0.614, 'pos': 0.254, 'compound': 0.9964}\n",
            "sentence was rated as  13.200000000000001 % Negative\n",
            "sentence was rated as  61.4 % Neutral\n",
            "sentence was rated as  25.4 % Positive\n",
            "Sentence Overall Rated As Positive\n",
            "Overall sentiment dictionary is :  {'neg': 0.217, 'neu': 0.637, 'pos': 0.146, 'compound': -0.9493}\n",
            "sentence was rated as  21.7 % Negative\n",
            "sentence was rated as  63.7 % Neutral\n",
            "sentence was rated as  14.6 % Positive\n",
            "Sentence Overall Rated As Negative\n",
            "Overall sentiment dictionary is :  {'neg': 0.19, 'neu': 0.529, 'pos': 0.281, 'compound': 0.864}\n",
            "sentence was rated as  19.0 % Negative\n",
            "sentence was rated as  52.900000000000006 % Neutral\n",
            "sentence was rated as  28.1 % Positive\n",
            "Sentence Overall Rated As Positive\n",
            "Overall sentiment dictionary is :  {'neg': 0.152, 'neu': 0.666, 'pos': 0.182, 'compound': 0.2749}\n",
            "sentence was rated as  15.2 % Negative\n",
            "sentence was rated as  66.60000000000001 % Neutral\n",
            "sentence was rated as  18.2 % Positive\n",
            "Sentence Overall Rated As Positive\n",
            "Overall sentiment dictionary is :  {'neg': 0.144, 'neu': 0.598, 'pos': 0.258, 'compound': 0.9953}\n",
            "sentence was rated as  14.399999999999999 % Negative\n",
            "sentence was rated as  59.8 % Neutral\n",
            "sentence was rated as  25.8 % Positive\n",
            "Sentence Overall Rated As Positive\n",
            "Overall sentiment dictionary is :  {'neg': 0.128, 'neu': 0.649, 'pos': 0.223, 'compound': 0.9566}\n",
            "sentence was rated as  12.8 % Negative\n",
            "sentence was rated as  64.9 % Neutral\n",
            "sentence was rated as  22.3 % Positive\n",
            "Sentence Overall Rated As Positive\n",
            "Overall sentiment dictionary is :  {'neg': 0.148, 'neu': 0.637, 'pos': 0.215, 'compound': 0.9029}\n",
            "sentence was rated as  14.799999999999999 % Negative\n",
            "sentence was rated as  63.7 % Neutral\n",
            "sentence was rated as  21.5 % Positive\n",
            "Sentence Overall Rated As Positive\n",
            "Overall sentiment dictionary is :  {'neg': 0.16, 'neu': 0.526, 'pos': 0.314, 'compound': 0.9815}\n",
            "sentence was rated as  16.0 % Negative\n",
            "sentence was rated as  52.6 % Neutral\n",
            "sentence was rated as  31.4 % Positive\n",
            "Sentence Overall Rated As Positive\n",
            "Overall sentiment dictionary is :  {'neg': 0.119, 'neu': 0.519, 'pos': 0.363, 'compound': 0.765}\n",
            "sentence was rated as  11.899999999999999 % Negative\n",
            "sentence was rated as  51.9 % Neutral\n",
            "sentence was rated as  36.3 % Positive\n",
            "Sentence Overall Rated As Positive\n",
            "Overall sentiment dictionary is :  {'neg': 0.21, 'neu': 0.653, 'pos': 0.137, 'compound': -0.5312}\n",
            "sentence was rated as  21.0 % Negative\n",
            "sentence was rated as  65.3 % Neutral\n",
            "sentence was rated as  13.700000000000001 % Positive\n",
            "Sentence Overall Rated As Negative\n",
            "Overall sentiment dictionary is :  {'neg': 0.256, 'neu': 0.521, 'pos': 0.223, 'compound': -0.1779}\n",
            "sentence was rated as  25.6 % Negative\n",
            "sentence was rated as  52.1 % Neutral\n",
            "sentence was rated as  22.3 % Positive\n",
            "Sentence Overall Rated As Negative\n",
            "Overall sentiment dictionary is :  {'neg': 0.263, 'neu': 0.588, 'pos': 0.149, 'compound': -0.7164}\n",
            "sentence was rated as  26.3 % Negative\n",
            "sentence was rated as  58.8 % Neutral\n",
            "sentence was rated as  14.899999999999999 % Positive\n",
            "Sentence Overall Rated As Negative\n",
            "Overall sentiment dictionary is :  {'neg': 0.205, 'neu': 0.664, 'pos': 0.131, 'compound': -0.8481}\n",
            "sentence was rated as  20.5 % Negative\n",
            "sentence was rated as  66.4 % Neutral\n",
            "sentence was rated as  13.100000000000001 % Positive\n",
            "Sentence Overall Rated As Negative\n",
            "Overall sentiment dictionary is :  {'neg': 0.185, 'neu': 0.613, 'pos': 0.203, 'compound': 0.7496}\n",
            "sentence was rated as  18.5 % Negative\n",
            "sentence was rated as  61.3 % Neutral\n",
            "sentence was rated as  20.3 % Positive\n",
            "Sentence Overall Rated As Positive\n",
            "Overall sentiment dictionary is :  {'neg': 0.17, 'neu': 0.577, 'pos': 0.253, 'compound': 0.8348}\n",
            "sentence was rated as  17.0 % Negative\n",
            "sentence was rated as  57.699999999999996 % Neutral\n",
            "sentence was rated as  25.3 % Positive\n",
            "Sentence Overall Rated As Positive\n",
            "Overall sentiment dictionary is :  {'neg': 0.114, 'neu': 0.637, 'pos': 0.249, 'compound': 0.9857}\n",
            "sentence was rated as  11.4 % Negative\n",
            "sentence was rated as  63.7 % Neutral\n",
            "sentence was rated as  24.9 % Positive\n",
            "Sentence Overall Rated As Positive\n",
            "Overall sentiment dictionary is :  {'neg': 0.061, 'neu': 0.76, 'pos': 0.179, 'compound': 0.8142}\n",
            "sentence was rated as  6.1 % Negative\n",
            "sentence was rated as  76.0 % Neutral\n",
            "sentence was rated as  17.9 % Positive\n",
            "Sentence Overall Rated As Positive\n",
            "Overall sentiment dictionary is :  {'neg': 0.178, 'neu': 0.559, 'pos': 0.262, 'compound': 0.34}\n",
            "sentence was rated as  17.8 % Negative\n",
            "sentence was rated as  55.900000000000006 % Neutral\n",
            "sentence was rated as  26.200000000000003 % Positive\n",
            "Sentence Overall Rated As Positive\n",
            "Overall sentiment dictionary is :  {'neg': 0.106, 'neu': 0.631, 'pos': 0.264, 'compound': 0.9693}\n",
            "sentence was rated as  10.6 % Negative\n",
            "sentence was rated as  63.1 % Neutral\n",
            "sentence was rated as  26.400000000000002 % Positive\n",
            "Sentence Overall Rated As Positive\n",
            "Overall sentiment dictionary is :  {'neg': 0.079, 'neu': 0.613, 'pos': 0.307, 'compound': 0.8373}\n",
            "sentence was rated as  7.9 % Negative\n",
            "sentence was rated as  61.3 % Neutral\n",
            "sentence was rated as  30.7 % Positive\n",
            "Sentence Overall Rated As Positive\n",
            "Overall sentiment dictionary is :  {'neg': 0.096, 'neu': 0.624, 'pos': 0.28, 'compound': 0.8294}\n",
            "sentence was rated as  9.6 % Negative\n",
            "sentence was rated as  62.4 % Neutral\n",
            "sentence was rated as  28.000000000000004 % Positive\n",
            "Sentence Overall Rated As Positive\n"
          ]
        },
        {
          "output_type": "execute_result",
          "data": {
            "text/plain": [
              "0      None\n",
              "1      None\n",
              "2      None\n",
              "3      None\n",
              "4      None\n",
              "       ... \n",
              "145    None\n",
              "146    None\n",
              "147    None\n",
              "148    None\n",
              "149    None\n",
              "Name: cleaned_text, Length: 150, dtype: object"
            ]
          },
          "metadata": {},
          "execution_count": 199
        }
      ]
    },
    {
      "cell_type": "code",
      "source": [
        "len(temp_list)"
      ],
      "metadata": {
        "colab": {
          "base_uri": "https://localhost:8080/"
        },
        "id": "0Rw3BfP2u-6n",
        "outputId": "5e4f50f3-65f1-4c6a-e5ab-3ed47546e6e9"
      },
      "execution_count": null,
      "outputs": [
        {
          "output_type": "execute_result",
          "data": {
            "text/plain": [
              "150"
            ]
          },
          "metadata": {},
          "execution_count": 201
        }
      ]
    },
    {
      "cell_type": "code",
      "source": [
        "data['sentiment'] = temp_list"
      ],
      "metadata": {
        "id": "wYQ4PUqovNMi"
      },
      "execution_count": null,
      "outputs": []
    },
    {
      "cell_type": "code",
      "source": [
        "data.sentiment.value_counts()"
      ],
      "metadata": {
        "colab": {
          "base_uri": "https://localhost:8080/"
        },
        "id": "zAEijuq8vRrN",
        "outputId": "413e97ee-3f58-44f4-eb67-5a0f7afe46bf"
      },
      "execution_count": null,
      "outputs": [
        {
          "output_type": "execute_result",
          "data": {
            "text/plain": [
              "Positive    103\n",
              "Negative     46\n",
              "Neutral       1\n",
              "Name: sentiment, dtype: int64"
            ]
          },
          "metadata": {},
          "execution_count": 204
        }
      ]
    },
    {
      "cell_type": "markdown",
      "source": [
        "Since there is only one neutral, we replace it by Positive"
      ],
      "metadata": {
        "id": "_5naViWbJSaX"
      }
    },
    {
      "cell_type": "code",
      "source": [
        "data.replace('Neutral','Positive',inplace=True)"
      ],
      "metadata": {
        "id": "TYGHrAOxYP1P"
      },
      "execution_count": null,
      "outputs": []
    },
    {
      "cell_type": "code",
      "source": [
        "data.to_excel('/content/drive/MyDrive/Code Practice/Scrapped Dataset/bond_vader.xlsx')"
      ],
      "metadata": {
        "id": "r2mVMwDVwGNi"
      },
      "execution_count": null,
      "outputs": []
    },
    {
      "cell_type": "code",
      "source": [
        "data = pd.read_excel('/content/drive/MyDrive/Code Practice/Scrapped Dataset/bond_vader.xlsx')"
      ],
      "metadata": {
        "id": "0yUG4kvT9-6D"
      },
      "execution_count": null,
      "outputs": []
    },
    {
      "cell_type": "markdown",
      "source": [
        "## 2.5 Stemming"
      ],
      "metadata": {
        "id": "jCxmV81plkWw"
      }
    },
    {
      "cell_type": "markdown",
      "source": [
        "Performing stemming on the words using Porter Stemmer"
      ],
      "metadata": {
        "id": "bHksjUubJXDJ"
      }
    },
    {
      "cell_type": "code",
      "source": [
        "import nltk\n",
        "nltk.download(\"stopwords\")\n",
        "nltk.download(\"punkt\")\n",
        "nltk.download(\"wordnet\")\n",
        "from nltk.stem import PorterStemmer\n",
        "from nltk.tokenize import word_tokenize\n",
        "ps = PorterStemmer()"
      ],
      "metadata": {
        "id": "FbGznnFCldKK",
        "colab": {
          "base_uri": "https://localhost:8080/"
        },
        "outputId": "6eec910d-f881-4327-ecd3-9b293bd458fb"
      },
      "execution_count": null,
      "outputs": [
        {
          "output_type": "stream",
          "name": "stderr",
          "text": [
            "[nltk_data] Downloading package stopwords to /root/nltk_data...\n",
            "[nltk_data]   Unzipping corpora/stopwords.zip.\n",
            "[nltk_data] Downloading package punkt to /root/nltk_data...\n",
            "[nltk_data]   Unzipping tokenizers/punkt.zip.\n",
            "[nltk_data] Downloading package wordnet to /root/nltk_data...\n"
          ]
        }
      ]
    },
    {
      "cell_type": "code",
      "source": [
        "def stem_words(reviews):\n",
        "  words = word_tokenize(reviews)\n",
        "  temp = [ps.stem(word) for word in words]\n",
        "  return \" \".join(temp)\n",
        "\n",
        "st_revs = data[\"cleaned_text\"].apply(stem_words)"
      ],
      "metadata": {
        "id": "wvMMZgaplnUs"
      },
      "execution_count": null,
      "outputs": []
    },
    {
      "cell_type": "code",
      "source": [
        "data[\"cleaned_text\"] = st_revs"
      ],
      "metadata": {
        "id": "19_alZ1prU51"
      },
      "execution_count": null,
      "outputs": []
    },
    {
      "cell_type": "markdown",
      "source": [
        "## 2.6 Lemmatization"
      ],
      "metadata": {
        "id": "hnHH2ndKl_p7"
      }
    },
    {
      "cell_type": "markdown",
      "source": [
        "Lemmatizing the words usinf WordNet Lemmatizer"
      ],
      "metadata": {
        "id": "WzXsYFekJcpA"
      }
    },
    {
      "cell_type": "code",
      "source": [
        "from nltk import WordNetLemmatizer\n",
        "lm = WordNetLemmatizer()"
      ],
      "metadata": {
        "id": "BFp27jJQl7Gd"
      },
      "execution_count": null,
      "outputs": []
    },
    {
      "cell_type": "code",
      "source": [
        "def lemma(reviews):\n",
        "  words = word_tokenize(reviews)\n",
        "  temp = [lm.lemmatize(word) for word in words]\n",
        "  return \" \".join(temp)\n",
        "revs = st_revs\n",
        "lm_revs = data[\"cleaned_text\"].apply(lemma)"
      ],
      "metadata": {
        "id": "gs0d2uLnmH8U"
      },
      "execution_count": null,
      "outputs": []
    },
    {
      "cell_type": "code",
      "source": [
        "lm_revs"
      ],
      "metadata": {
        "colab": {
          "base_uri": "https://localhost:8080/"
        },
        "id": "KFtFbcYPmcQY",
        "outputId": "34b558b1-59e0-45dd-8a2c-9d5fcda0fe64"
      },
      "execution_count": null,
      "outputs": [
        {
          "output_type": "execute_result",
          "data": {
            "text/plain": [
              "0      well goodthi movi feel like written committe a...\n",
              "1      one hardli know begin dissect latest bond film...\n",
              "2      thi bond movi confus rather tediou mess the co...\n",
              "3      it slow seriou moodi sulki it trend last bond ...\n",
              "4      when i go see bond movi im look lush music exo...\n",
              "                             ...                        \n",
              "145    jame bond alway advantag film standalon no tim...\n",
              "146    no way world jame bond would ever get weak wom...\n",
              "147    it start like scari movi without main charact ...\n",
              "148    well view entri bond franchis i see need end s...\n",
              "149    film merci bond truli hit rock bottom award po...\n",
              "Name: cleaned_text, Length: 150, dtype: object"
            ]
          },
          "metadata": {},
          "execution_count": 14
        }
      ]
    },
    {
      "cell_type": "code",
      "source": [
        "data[\"cleaned_text\"] = lm_revs"
      ],
      "metadata": {
        "id": "2D0janbam6U6"
      },
      "execution_count": null,
      "outputs": []
    },
    {
      "cell_type": "code",
      "source": [
        "data.head()"
      ],
      "metadata": {
        "colab": {
          "base_uri": "https://localhost:8080/",
          "height": 206
        },
        "id": "hKCsCOgSr2LK",
        "outputId": "bc7b4a00-5a0d-42fb-fa11-890dcb88a95e"
      },
      "execution_count": null,
      "outputs": [
        {
          "output_type": "execute_result",
          "data": {
            "text/plain": [
              "   Unnamed: 0.1  Unnamed: 0  \\\n",
              "0             0           0   \n",
              "1             1           1   \n",
              "2             2           2   \n",
              "3             3           3   \n",
              "4             4           4   \n",
              "\n",
              "                                              Review  \\\n",
              "0  <div class=\"text show-more__control\">Well, tha...   \n",
              "1  <div class=\"text show-more__control\">One hardl...   \n",
              "2  <div class=\"text show-more__control\">This Bond...   \n",
              "3  <div class=\"text show-more__control\">It's slow...   \n",
              "4  <div class=\"text show-more__control\">When I go...   \n",
              "\n",
              "                                        cleaned_text sentiment  \n",
              "0  well goodthi movi feel like written committe a...  Negative  \n",
              "1  one hardli know begin dissect latest bond film...  Positive  \n",
              "2  thi bond movi confus rather tediou mess the co...  Negative  \n",
              "3  it slow seriou moodi sulki it trend last bond ...  Negative  \n",
              "4  when i go see bond movi im look lush music exo...  Negative  "
            ],
            "text/html": [
              "\n",
              "  <div id=\"df-4f04f46b-edf1-4ec5-a9c7-11d2783c51bf\" class=\"colab-df-container\">\n",
              "    <div>\n",
              "<style scoped>\n",
              "    .dataframe tbody tr th:only-of-type {\n",
              "        vertical-align: middle;\n",
              "    }\n",
              "\n",
              "    .dataframe tbody tr th {\n",
              "        vertical-align: top;\n",
              "    }\n",
              "\n",
              "    .dataframe thead th {\n",
              "        text-align: right;\n",
              "    }\n",
              "</style>\n",
              "<table border=\"1\" class=\"dataframe\">\n",
              "  <thead>\n",
              "    <tr style=\"text-align: right;\">\n",
              "      <th></th>\n",
              "      <th>Unnamed: 0.1</th>\n",
              "      <th>Unnamed: 0</th>\n",
              "      <th>Review</th>\n",
              "      <th>cleaned_text</th>\n",
              "      <th>sentiment</th>\n",
              "    </tr>\n",
              "  </thead>\n",
              "  <tbody>\n",
              "    <tr>\n",
              "      <th>0</th>\n",
              "      <td>0</td>\n",
              "      <td>0</td>\n",
              "      <td>&lt;div class=\"text show-more__control\"&gt;Well, tha...</td>\n",
              "      <td>well goodthi movi feel like written committe a...</td>\n",
              "      <td>Negative</td>\n",
              "    </tr>\n",
              "    <tr>\n",
              "      <th>1</th>\n",
              "      <td>1</td>\n",
              "      <td>1</td>\n",
              "      <td>&lt;div class=\"text show-more__control\"&gt;One hardl...</td>\n",
              "      <td>one hardli know begin dissect latest bond film...</td>\n",
              "      <td>Positive</td>\n",
              "    </tr>\n",
              "    <tr>\n",
              "      <th>2</th>\n",
              "      <td>2</td>\n",
              "      <td>2</td>\n",
              "      <td>&lt;div class=\"text show-more__control\"&gt;This Bond...</td>\n",
              "      <td>thi bond movi confus rather tediou mess the co...</td>\n",
              "      <td>Negative</td>\n",
              "    </tr>\n",
              "    <tr>\n",
              "      <th>3</th>\n",
              "      <td>3</td>\n",
              "      <td>3</td>\n",
              "      <td>&lt;div class=\"text show-more__control\"&gt;It's slow...</td>\n",
              "      <td>it slow seriou moodi sulki it trend last bond ...</td>\n",
              "      <td>Negative</td>\n",
              "    </tr>\n",
              "    <tr>\n",
              "      <th>4</th>\n",
              "      <td>4</td>\n",
              "      <td>4</td>\n",
              "      <td>&lt;div class=\"text show-more__control\"&gt;When I go...</td>\n",
              "      <td>when i go see bond movi im look lush music exo...</td>\n",
              "      <td>Negative</td>\n",
              "    </tr>\n",
              "  </tbody>\n",
              "</table>\n",
              "</div>\n",
              "    <div class=\"colab-df-buttons\">\n",
              "\n",
              "  <div class=\"colab-df-container\">\n",
              "    <button class=\"colab-df-convert\" onclick=\"convertToInteractive('df-4f04f46b-edf1-4ec5-a9c7-11d2783c51bf')\"\n",
              "            title=\"Convert this dataframe to an interactive table.\"\n",
              "            style=\"display:none;\">\n",
              "\n",
              "  <svg xmlns=\"http://www.w3.org/2000/svg\" height=\"24px\" viewBox=\"0 -960 960 960\">\n",
              "    <path d=\"M120-120v-720h720v720H120Zm60-500h600v-160H180v160Zm220 220h160v-160H400v160Zm0 220h160v-160H400v160ZM180-400h160v-160H180v160Zm440 0h160v-160H620v160ZM180-180h160v-160H180v160Zm440 0h160v-160H620v160Z\"/>\n",
              "  </svg>\n",
              "    </button>\n",
              "\n",
              "  <style>\n",
              "    .colab-df-container {\n",
              "      display:flex;\n",
              "      gap: 12px;\n",
              "    }\n",
              "\n",
              "    .colab-df-convert {\n",
              "      background-color: #E8F0FE;\n",
              "      border: none;\n",
              "      border-radius: 50%;\n",
              "      cursor: pointer;\n",
              "      display: none;\n",
              "      fill: #1967D2;\n",
              "      height: 32px;\n",
              "      padding: 0 0 0 0;\n",
              "      width: 32px;\n",
              "    }\n",
              "\n",
              "    .colab-df-convert:hover {\n",
              "      background-color: #E2EBFA;\n",
              "      box-shadow: 0px 1px 2px rgba(60, 64, 67, 0.3), 0px 1px 3px 1px rgba(60, 64, 67, 0.15);\n",
              "      fill: #174EA6;\n",
              "    }\n",
              "\n",
              "    .colab-df-buttons div {\n",
              "      margin-bottom: 4px;\n",
              "    }\n",
              "\n",
              "    [theme=dark] .colab-df-convert {\n",
              "      background-color: #3B4455;\n",
              "      fill: #D2E3FC;\n",
              "    }\n",
              "\n",
              "    [theme=dark] .colab-df-convert:hover {\n",
              "      background-color: #434B5C;\n",
              "      box-shadow: 0px 1px 3px 1px rgba(0, 0, 0, 0.15);\n",
              "      filter: drop-shadow(0px 1px 2px rgba(0, 0, 0, 0.3));\n",
              "      fill: #FFFFFF;\n",
              "    }\n",
              "  </style>\n",
              "\n",
              "    <script>\n",
              "      const buttonEl =\n",
              "        document.querySelector('#df-4f04f46b-edf1-4ec5-a9c7-11d2783c51bf button.colab-df-convert');\n",
              "      buttonEl.style.display =\n",
              "        google.colab.kernel.accessAllowed ? 'block' : 'none';\n",
              "\n",
              "      async function convertToInteractive(key) {\n",
              "        const element = document.querySelector('#df-4f04f46b-edf1-4ec5-a9c7-11d2783c51bf');\n",
              "        const dataTable =\n",
              "          await google.colab.kernel.invokeFunction('convertToInteractive',\n",
              "                                                    [key], {});\n",
              "        if (!dataTable) return;\n",
              "\n",
              "        const docLinkHtml = 'Like what you see? Visit the ' +\n",
              "          '<a target=\"_blank\" href=https://colab.research.google.com/notebooks/data_table.ipynb>data table notebook</a>'\n",
              "          + ' to learn more about interactive tables.';\n",
              "        element.innerHTML = '';\n",
              "        dataTable['output_type'] = 'display_data';\n",
              "        await google.colab.output.renderOutput(dataTable, element);\n",
              "        const docLink = document.createElement('div');\n",
              "        docLink.innerHTML = docLinkHtml;\n",
              "        element.appendChild(docLink);\n",
              "      }\n",
              "    </script>\n",
              "  </div>\n",
              "\n",
              "\n",
              "<div id=\"df-34f24f5e-f663-4446-a272-8706a9fcc1e2\">\n",
              "  <button class=\"colab-df-quickchart\" onclick=\"quickchart('df-34f24f5e-f663-4446-a272-8706a9fcc1e2')\"\n",
              "            title=\"Suggest charts.\"\n",
              "            style=\"display:none;\">\n",
              "\n",
              "<svg xmlns=\"http://www.w3.org/2000/svg\" height=\"24px\"viewBox=\"0 0 24 24\"\n",
              "     width=\"24px\">\n",
              "    <g>\n",
              "        <path d=\"M19 3H5c-1.1 0-2 .9-2 2v14c0 1.1.9 2 2 2h14c1.1 0 2-.9 2-2V5c0-1.1-.9-2-2-2zM9 17H7v-7h2v7zm4 0h-2V7h2v10zm4 0h-2v-4h2v4z\"/>\n",
              "    </g>\n",
              "</svg>\n",
              "  </button>\n",
              "\n",
              "<style>\n",
              "  .colab-df-quickchart {\n",
              "    background-color: #E8F0FE;\n",
              "    border: none;\n",
              "    border-radius: 50%;\n",
              "    cursor: pointer;\n",
              "    display: none;\n",
              "    fill: #1967D2;\n",
              "    height: 32px;\n",
              "    padding: 0 0 0 0;\n",
              "    width: 32px;\n",
              "  }\n",
              "\n",
              "  .colab-df-quickchart:hover {\n",
              "    background-color: #E2EBFA;\n",
              "    box-shadow: 0px 1px 2px rgba(60, 64, 67, 0.3), 0px 1px 3px 1px rgba(60, 64, 67, 0.15);\n",
              "    fill: #174EA6;\n",
              "  }\n",
              "\n",
              "  [theme=dark] .colab-df-quickchart {\n",
              "    background-color: #3B4455;\n",
              "    fill: #D2E3FC;\n",
              "  }\n",
              "\n",
              "  [theme=dark] .colab-df-quickchart:hover {\n",
              "    background-color: #434B5C;\n",
              "    box-shadow: 0px 1px 3px 1px rgba(0, 0, 0, 0.15);\n",
              "    filter: drop-shadow(0px 1px 2px rgba(0, 0, 0, 0.3));\n",
              "    fill: #FFFFFF;\n",
              "  }\n",
              "</style>\n",
              "\n",
              "  <script>\n",
              "    async function quickchart(key) {\n",
              "      const charts = await google.colab.kernel.invokeFunction(\n",
              "          'suggestCharts', [key], {});\n",
              "    }\n",
              "    (() => {\n",
              "      let quickchartButtonEl =\n",
              "        document.querySelector('#df-34f24f5e-f663-4446-a272-8706a9fcc1e2 button');\n",
              "      quickchartButtonEl.style.display =\n",
              "        google.colab.kernel.accessAllowed ? 'block' : 'none';\n",
              "    })();\n",
              "  </script>\n",
              "</div>\n",
              "    </div>\n",
              "  </div>\n"
            ]
          },
          "metadata": {},
          "execution_count": 16
        }
      ]
    },
    {
      "cell_type": "code",
      "source": [
        "import matplotlib.pyplot as plt\n",
        "import seaborn as sns"
      ],
      "metadata": {
        "id": "M5bCZGrkW8lU"
      },
      "execution_count": null,
      "outputs": []
    },
    {
      "cell_type": "markdown",
      "source": [
        "Encoding the categorical values using Label Encoder"
      ],
      "metadata": {
        "id": "whlHfgC_KI2A"
      }
    },
    {
      "cell_type": "code",
      "source": [
        "from sklearn.preprocessing import LabelEncoder\n",
        "lb = LabelEncoder()\n",
        "data['enc_sentiment'] = lb.fit_transform(data['sentiment'])"
      ],
      "metadata": {
        "id": "IfLDnXfrXNtc"
      },
      "execution_count": null,
      "outputs": []
    },
    {
      "cell_type": "code",
      "source": [
        "data['enc_sentiment']"
      ],
      "metadata": {
        "colab": {
          "base_uri": "https://localhost:8080/"
        },
        "id": "nMeMUzvbXjoI",
        "outputId": "5d71f96b-4040-450a-b352-4c2df333f3ea"
      },
      "execution_count": null,
      "outputs": [
        {
          "output_type": "execute_result",
          "data": {
            "text/plain": [
              "0      0\n",
              "1      1\n",
              "2      0\n",
              "3      0\n",
              "4      0\n",
              "      ..\n",
              "145    1\n",
              "146    1\n",
              "147    1\n",
              "148    1\n",
              "149    1\n",
              "Name: enc_sentiment, Length: 150, dtype: int64"
            ]
          },
          "metadata": {},
          "execution_count": 131
        }
      ]
    },
    {
      "cell_type": "code",
      "source": [
        "data['enc_sentiment'].value_counts().plot(kind='bar')"
      ],
      "metadata": {
        "colab": {
          "base_uri": "https://localhost:8080/",
          "height": 442
        },
        "id": "IFgap5MFXBtl",
        "outputId": "e5b24473-e13e-418e-ca45-07999817a033"
      },
      "execution_count": null,
      "outputs": [
        {
          "output_type": "execute_result",
          "data": {
            "text/plain": [
              "<Axes: >"
            ]
          },
          "metadata": {},
          "execution_count": 132
        },
        {
          "output_type": "display_data",
          "data": {
            "text/plain": [
              "<Figure size 640x480 with 1 Axes>"
            ],
            "image/png": "[encoded data removed]"
          },
          "metadata": {}
        }
      ]
    },
    {
      "cell_type": "markdown",
      "source": [
        "## 2.7 Count Vectorization using Tf-Idf"
      ],
      "metadata": {
        "id": "zS344sJjw_Ah"
      }
    },
    {
      "cell_type": "code",
      "source": [
        "from sklearn.feature_extraction.text import TfidfVectorizer"
      ],
      "metadata": {
        "id": "zTBNyuSxw-NV"
      },
      "execution_count": null,
      "outputs": []
    },
    {
      "cell_type": "code",
      "source": [
        "bow_vector = TfidfVectorizer(max_df=0.90,\n",
        "                            min_df=2,\n",
        "                            max_features = 1000,\n",
        "                            stop_words = 'english')"
      ],
      "metadata": {
        "id": "gxAo2QyeAEdJ"
      },
      "execution_count": null,
      "outputs": []
    },
    {
      "cell_type": "code",
      "source": [
        "bow = bow_vector.fit_transform(data['cleaned_text'])"
      ],
      "metadata": {
        "id": "mQKjdcXGDkxh"
      },
      "execution_count": null,
      "outputs": []
    },
    {
      "cell_type": "code",
      "source": [
        "bow_vector_names = bow_vector.get_feature_names_out()"
      ],
      "metadata": {
        "id": "3hgr_14FDsX7"
      },
      "execution_count": null,
      "outputs": []
    },
    {
      "cell_type": "code",
      "source": [
        "model_data = pd.DataFrame(bow.toarray(),columns=bow_vector_names)"
      ],
      "metadata": {
        "id": "onVM1HzTD1_7"
      },
      "execution_count": null,
      "outputs": []
    },
    {
      "cell_type": "code",
      "source": [
        "model_data"
      ],
      "metadata": {
        "colab": {
          "base_uri": "https://localhost:8080/",
          "height": 443
        },
        "id": "sQJwj7drED_G",
        "outputId": "77aab38a-6603-440a-f033-045b114f5c05"
      },
      "execution_count": null,
      "outputs": [
        {
          "output_type": "execute_result",
          "data": {
            "text/plain": [
              "     abl  absolut  accept  accomplish       act    action  actor  actress  \\\n",
              "0    0.0      0.0     0.0    0.031808  0.040425  0.013103    0.0      0.0   \n",
              "1    0.0      0.0     0.0    0.000000  0.000000  0.053098    0.0      0.0   \n",
              "2    0.0      0.0     0.0    0.000000  0.000000  0.000000    0.0      0.0   \n",
              "3    0.0      0.0     0.0    0.000000  0.000000  0.110783    0.0      0.0   \n",
              "4    0.0      0.0     0.0    0.000000  0.000000  0.080649    0.0      0.0   \n",
              "..   ...      ...     ...         ...       ...       ...    ...      ...   \n",
              "145  0.0      0.0     0.0    0.000000  0.000000  0.000000    0.0      0.0   \n",
              "146  0.0      0.0     0.0    0.000000  0.000000  0.000000    0.0      0.0   \n",
              "147  0.0      0.0     0.0    0.000000  0.000000  0.179240    0.0      0.0   \n",
              "148  0.0      0.0     0.0    0.000000  0.211262  0.000000    0.0      0.0   \n",
              "149  0.0      0.0     0.0    0.000000  0.000000  0.000000    0.0      0.0   \n",
              "\n",
              "       actual        ad  ...    writer   written     wrong   ye      yeah  \\\n",
              "0    0.105328  0.000000  ...  0.000000  0.059286  0.000000  0.0  0.029643   \n",
              "1    0.000000  0.000000  ...  0.000000  0.000000  0.000000  0.0  0.000000   \n",
              "2    0.000000  0.168292  ...  0.000000  0.000000  0.000000  0.0  0.000000   \n",
              "3    0.000000  0.000000  ...  0.121566  0.000000  0.000000  0.0  0.000000   \n",
              "4    0.000000  0.000000  ...  0.000000  0.000000  0.088498  0.0  0.000000   \n",
              "..        ...       ...  ...       ...       ...       ...  ...       ...   \n",
              "145  0.000000  0.000000  ...  0.000000  0.000000  0.000000  0.0  0.000000   \n",
              "146  0.000000  0.000000  ...  0.000000  0.000000  0.000000  0.0  0.000000   \n",
              "147  0.000000  0.000000  ...  0.000000  0.000000  0.000000  0.0  0.000000   \n",
              "148  0.000000  0.000000  ...  0.000000  0.000000  0.000000  0.0  0.000000   \n",
              "149  0.000000  0.000000  ...  0.000000  0.000000  0.000000  0.0  0.000000   \n",
              "\n",
              "         year  youll     young  zero    zimmer  \n",
              "0    0.050949    0.0  0.033181   0.0  0.026591  \n",
              "1    0.000000    0.0  0.000000   0.0  0.000000  \n",
              "2    0.000000    0.0  0.000000   0.0  0.000000  \n",
              "3    0.000000    0.0  0.000000   0.0  0.000000  \n",
              "4    0.000000    0.0  0.000000   0.0  0.000000  \n",
              "..        ...    ...       ...   ...       ...  \n",
              "145  0.000000    0.0  0.000000   0.0  0.000000  \n",
              "146  0.000000    0.0  0.000000   0.0  0.000000  \n",
              "147  0.000000    0.0  0.000000   0.0  0.000000  \n",
              "148  0.000000    0.0  0.000000   0.0  0.000000  \n",
              "149  0.000000    0.0  0.000000   0.0  0.000000  \n",
              "\n",
              "[150 rows x 1000 columns]"
            ],
            "text/html": [
              "\n",
              "  <div id=\"df-9fe232fe-27bf-48db-97a2-61411a94459a\" class=\"colab-df-container\">\n",
              "    <div>\n",
              "<style scoped>\n",
              "    .dataframe tbody tr th:only-of-type {\n",
              "        vertical-align: middle;\n",
              "    }\n",
              "\n",
              "    .dataframe tbody tr th {\n",
              "        vertical-align: top;\n",
              "    }\n",
              "\n",
              "    .dataframe thead th {\n",
              "        text-align: right;\n",
              "    }\n",
              "</style>\n",
              "<table border=\"1\" class=\"dataframe\">\n",
              "  <thead>\n",
              "    <tr style=\"text-align: right;\">\n",
              "      <th></th>\n",
              "      <th>abl</th>\n",
              "      <th>absolut</th>\n",
              "      <th>accept</th>\n",
              "      <th>accomplish</th>\n",
              "      <th>act</th>\n",
              "      <th>action</th>\n",
              "      <th>actor</th>\n",
              "      <th>actress</th>\n",
              "      <th>actual</th>\n",
              "      <th>ad</th>\n",
              "      <th>...</th>\n",
              "      <th>writer</th>\n",
              "      <th>written</th>\n",
              "      <th>wrong</th>\n",
              "      <th>ye</th>\n",
              "      <th>yeah</th>\n",
              "      <th>year</th>\n",
              "      <th>youll</th>\n",
              "      <th>young</th>\n",
              "      <th>zero</th>\n",
              "      <th>zimmer</th>\n",
              "    </tr>\n",
              "  </thead>\n",
              "  <tbody>\n",
              "    <tr>\n",
              "      <th>0</th>\n",
              "      <td>0.0</td>\n",
              "      <td>0.0</td>\n",
              "      <td>0.0</td>\n",
              "      <td>0.031808</td>\n",
              "      <td>0.040425</td>\n",
              "      <td>0.013103</td>\n",
              "      <td>0.0</td>\n",
              "      <td>0.0</td>\n",
              "      <td>0.105328</td>\n",
              "      <td>0.000000</td>\n",
              "      <td>...</td>\n",
              "      <td>0.000000</td>\n",
              "      <td>0.059286</td>\n",
              "      <td>0.000000</td>\n",
              "      <td>0.0</td>\n",
              "      <td>0.029643</td>\n",
              "      <td>0.050949</td>\n",
              "      <td>0.0</td>\n",
              "      <td>0.033181</td>\n",
              "      <td>0.0</td>\n",
              "      <td>0.026591</td>\n",
              "    </tr>\n",
              "    <tr>\n",
              "      <th>1</th>\n",
              "      <td>0.0</td>\n",
              "      <td>0.0</td>\n",
              "      <td>0.0</td>\n",
              "      <td>0.000000</td>\n",
              "      <td>0.000000</td>\n",
              "      <td>0.053098</td>\n",
              "      <td>0.0</td>\n",
              "      <td>0.0</td>\n",
              "      <td>0.000000</td>\n",
              "      <td>0.000000</td>\n",
              "      <td>...</td>\n",
              "      <td>0.000000</td>\n",
              "      <td>0.000000</td>\n",
              "      <td>0.000000</td>\n",
              "      <td>0.0</td>\n",
              "      <td>0.000000</td>\n",
              "      <td>0.000000</td>\n",
              "      <td>0.0</td>\n",
              "      <td>0.000000</td>\n",
              "      <td>0.0</td>\n",
              "      <td>0.000000</td>\n",
              "    </tr>\n",
              "    <tr>\n",
              "      <th>2</th>\n",
              "      <td>0.0</td>\n",
              "      <td>0.0</td>\n",
              "      <td>0.0</td>\n",
              "      <td>0.000000</td>\n",
              "      <td>0.000000</td>\n",
              "      <td>0.000000</td>\n",
              "      <td>0.0</td>\n",
              "      <td>0.0</td>\n",
              "      <td>0.000000</td>\n",
              "      <td>0.168292</td>\n",
              "      <td>...</td>\n",
              "      <td>0.000000</td>\n",
              "      <td>0.000000</td>\n",
              "      <td>0.000000</td>\n",
              "      <td>0.0</td>\n",
              "      <td>0.000000</td>\n",
              "      <td>0.000000</td>\n",
              "      <td>0.0</td>\n",
              "      <td>0.000000</td>\n",
              "      <td>0.0</td>\n",
              "      <td>0.000000</td>\n",
              "    </tr>\n",
              "    <tr>\n",
              "      <th>3</th>\n",
              "      <td>0.0</td>\n",
              "      <td>0.0</td>\n",
              "      <td>0.0</td>\n",
              "      <td>0.000000</td>\n",
              "      <td>0.000000</td>\n",
              "      <td>0.110783</td>\n",
              "      <td>0.0</td>\n",
              "      <td>0.0</td>\n",
              "      <td>0.000000</td>\n",
              "      <td>0.000000</td>\n",
              "      <td>...</td>\n",
              "      <td>0.121566</td>\n",
              "      <td>0.000000</td>\n",
              "      <td>0.000000</td>\n",
              "      <td>0.0</td>\n",
              "      <td>0.000000</td>\n",
              "      <td>0.000000</td>\n",
              "      <td>0.0</td>\n",
              "      <td>0.000000</td>\n",
              "      <td>0.0</td>\n",
              "      <td>0.000000</td>\n",
              "    </tr>\n",
              "    <tr>\n",
              "      <th>4</th>\n",
              "      <td>0.0</td>\n",
              "      <td>0.0</td>\n",
              "      <td>0.0</td>\n",
              "      <td>0.000000</td>\n",
              "      <td>0.000000</td>\n",
              "      <td>0.080649</td>\n",
              "      <td>0.0</td>\n",
              "      <td>0.0</td>\n",
              "      <td>0.000000</td>\n",
              "      <td>0.000000</td>\n",
              "      <td>...</td>\n",
              "      <td>0.000000</td>\n",
              "      <td>0.000000</td>\n",
              "      <td>0.088498</td>\n",
              "      <td>0.0</td>\n",
              "      <td>0.000000</td>\n",
              "      <td>0.000000</td>\n",
              "      <td>0.0</td>\n",
              "      <td>0.000000</td>\n",
              "      <td>0.0</td>\n",
              "      <td>0.000000</td>\n",
              "    </tr>\n",
              "    <tr>\n",
              "      <th>...</th>\n",
              "      <td>...</td>\n",
              "      <td>...</td>\n",
              "      <td>...</td>\n",
              "      <td>...</td>\n",
              "      <td>...</td>\n",
              "      <td>...</td>\n",
              "      <td>...</td>\n",
              "      <td>...</td>\n",
              "      <td>...</td>\n",
              "      <td>...</td>\n",
              "      <td>...</td>\n",
              "      <td>...</td>\n",
              "      <td>...</td>\n",
              "      <td>...</td>\n",
              "      <td>...</td>\n",
              "      <td>...</td>\n",
              "      <td>...</td>\n",
              "      <td>...</td>\n",
              "      <td>...</td>\n",
              "      <td>...</td>\n",
              "      <td>...</td>\n",
              "    </tr>\n",
              "    <tr>\n",
              "      <th>145</th>\n",
              "      <td>0.0</td>\n",
              "      <td>0.0</td>\n",
              "      <td>0.0</td>\n",
              "      <td>0.000000</td>\n",
              "      <td>0.000000</td>\n",
              "      <td>0.000000</td>\n",
              "      <td>0.0</td>\n",
              "      <td>0.0</td>\n",
              "      <td>0.000000</td>\n",
              "      <td>0.000000</td>\n",
              "      <td>...</td>\n",
              "      <td>0.000000</td>\n",
              "      <td>0.000000</td>\n",
              "      <td>0.000000</td>\n",
              "      <td>0.0</td>\n",
              "      <td>0.000000</td>\n",
              "      <td>0.000000</td>\n",
              "      <td>0.0</td>\n",
              "      <td>0.000000</td>\n",
              "      <td>0.0</td>\n",
              "      <td>0.000000</td>\n",
              "    </tr>\n",
              "    <tr>\n",
              "      <th>146</th>\n",
              "      <td>0.0</td>\n",
              "      <td>0.0</td>\n",
              "      <td>0.0</td>\n",
              "      <td>0.000000</td>\n",
              "      <td>0.000000</td>\n",
              "      <td>0.000000</td>\n",
              "      <td>0.0</td>\n",
              "      <td>0.0</td>\n",
              "      <td>0.000000</td>\n",
              "      <td>0.000000</td>\n",
              "      <td>...</td>\n",
              "      <td>0.000000</td>\n",
              "      <td>0.000000</td>\n",
              "      <td>0.000000</td>\n",
              "      <td>0.0</td>\n",
              "      <td>0.000000</td>\n",
              "      <td>0.000000</td>\n",
              "      <td>0.0</td>\n",
              "      <td>0.000000</td>\n",
              "      <td>0.0</td>\n",
              "      <td>0.000000</td>\n",
              "    </tr>\n",
              "    <tr>\n",
              "      <th>147</th>\n",
              "      <td>0.0</td>\n",
              "      <td>0.0</td>\n",
              "      <td>0.0</td>\n",
              "      <td>0.000000</td>\n",
              "      <td>0.000000</td>\n",
              "      <td>0.179240</td>\n",
              "      <td>0.0</td>\n",
              "      <td>0.0</td>\n",
              "      <td>0.000000</td>\n",
              "      <td>0.000000</td>\n",
              "      <td>...</td>\n",
              "      <td>0.000000</td>\n",
              "      <td>0.000000</td>\n",
              "      <td>0.000000</td>\n",
              "      <td>0.0</td>\n",
              "      <td>0.000000</td>\n",
              "      <td>0.000000</td>\n",
              "      <td>0.0</td>\n",
              "      <td>0.000000</td>\n",
              "      <td>0.0</td>\n",
              "      <td>0.000000</td>\n",
              "    </tr>\n",
              "    <tr>\n",
              "      <th>148</th>\n",
              "      <td>0.0</td>\n",
              "      <td>0.0</td>\n",
              "      <td>0.0</td>\n",
              "      <td>0.000000</td>\n",
              "      <td>0.211262</td>\n",
              "      <td>0.000000</td>\n",
              "      <td>0.0</td>\n",
              "      <td>0.0</td>\n",
              "      <td>0.000000</td>\n",
              "      <td>0.000000</td>\n",
              "      <td>...</td>\n",
              "      <td>0.000000</td>\n",
              "      <td>0.000000</td>\n",
              "      <td>0.000000</td>\n",
              "      <td>0.0</td>\n",
              "      <td>0.000000</td>\n",
              "      <td>0.000000</td>\n",
              "      <td>0.0</td>\n",
              "      <td>0.000000</td>\n",
              "      <td>0.0</td>\n",
              "      <td>0.000000</td>\n",
              "    </tr>\n",
              "    <tr>\n",
              "      <th>149</th>\n",
              "      <td>0.0</td>\n",
              "      <td>0.0</td>\n",
              "      <td>0.0</td>\n",
              "      <td>0.000000</td>\n",
              "      <td>0.000000</td>\n",
              "      <td>0.000000</td>\n",
              "      <td>0.0</td>\n",
              "      <td>0.0</td>\n",
              "      <td>0.000000</td>\n",
              "      <td>0.000000</td>\n",
              "      <td>...</td>\n",
              "      <td>0.000000</td>\n",
              "      <td>0.000000</td>\n",
              "      <td>0.000000</td>\n",
              "      <td>0.0</td>\n",
              "      <td>0.000000</td>\n",
              "      <td>0.000000</td>\n",
              "      <td>0.0</td>\n",
              "      <td>0.000000</td>\n",
              "      <td>0.0</td>\n",
              "      <td>0.000000</td>\n",
              "    </tr>\n",
              "  </tbody>\n",
              "</table>\n",
              "<p>150 rows × 1000 columns</p>\n",
              "</div>\n",
              "    <div class=\"colab-df-buttons\">\n",
              "\n",
              "  <div class=\"colab-df-container\">\n",
              "    <button class=\"colab-df-convert\" onclick=\"convertToInteractive('df-9fe232fe-27bf-48db-97a2-61411a94459a')\"\n",
              "            title=\"Convert this dataframe to an interactive table.\"\n",
              "            style=\"display:none;\">\n",
              "\n",
              "  <svg xmlns=\"http://www.w3.org/2000/svg\" height=\"24px\" viewBox=\"0 -960 960 960\">\n",
              "    <path d=\"M120-120v-720h720v720H120Zm60-500h600v-160H180v160Zm220 220h160v-160H400v160Zm0 220h160v-160H400v160ZM180-400h160v-160H180v160Zm440 0h160v-160H620v160ZM180-180h160v-160H180v160Zm440 0h160v-160H620v160Z\"/>\n",
              "  </svg>\n",
              "    </button>\n",
              "\n",
              "  <style>\n",
              "    .colab-df-container {\n",
              "      display:flex;\n",
              "      gap: 12px;\n",
              "    }\n",
              "\n",
              "    .colab-df-convert {\n",
              "      background-color: #E8F0FE;\n",
              "      border: none;\n",
              "      border-radius: 50%;\n",
              "      cursor: pointer;\n",
              "      display: none;\n",
              "      fill: #1967D2;\n",
              "      height: 32px;\n",
              "      padding: 0 0 0 0;\n",
              "      width: 32px;\n",
              "    }\n",
              "\n",
              "    .colab-df-convert:hover {\n",
              "      background-color: #E2EBFA;\n",
              "      box-shadow: 0px 1px 2px rgba(60, 64, 67, 0.3), 0px 1px 3px 1px rgba(60, 64, 67, 0.15);\n",
              "      fill: #174EA6;\n",
              "    }\n",
              "\n",
              "    .colab-df-buttons div {\n",
              "      margin-bottom: 4px;\n",
              "    }\n",
              "\n",
              "    [theme=dark] .colab-df-convert {\n",
              "      background-color: #3B4455;\n",
              "      fill: #D2E3FC;\n",
              "    }\n",
              "\n",
              "    [theme=dark] .colab-df-convert:hover {\n",
              "      background-color: #434B5C;\n",
              "      box-shadow: 0px 1px 3px 1px rgba(0, 0, 0, 0.15);\n",
              "      filter: drop-shadow(0px 1px 2px rgba(0, 0, 0, 0.3));\n",
              "      fill: #FFFFFF;\n",
              "    }\n",
              "  </style>\n",
              "\n",
              "    <script>\n",
              "      const buttonEl =\n",
              "        document.querySelector('#df-9fe232fe-27bf-48db-97a2-61411a94459a button.colab-df-convert');\n",
              "      buttonEl.style.display =\n",
              "        google.colab.kernel.accessAllowed ? 'block' : 'none';\n",
              "\n",
              "      async function convertToInteractive(key) {\n",
              "        const element = document.querySelector('#df-9fe232fe-27bf-48db-97a2-61411a94459a');\n",
              "        const dataTable =\n",
              "          await google.colab.kernel.invokeFunction('convertToInteractive',\n",
              "                                                    [key], {});\n",
              "        if (!dataTable) return;\n",
              "\n",
              "        const docLinkHtml = 'Like what you see? Visit the ' +\n",
              "          '<a target=\"_blank\" href=https://colab.research.google.com/notebooks/data_table.ipynb>data table notebook</a>'\n",
              "          + ' to learn more about interactive tables.';\n",
              "        element.innerHTML = '';\n",
              "        dataTable['output_type'] = 'display_data';\n",
              "        await google.colab.output.renderOutput(dataTable, element);\n",
              "        const docLink = document.createElement('div');\n",
              "        docLink.innerHTML = docLinkHtml;\n",
              "        element.appendChild(docLink);\n",
              "      }\n",
              "    </script>\n",
              "  </div>\n",
              "\n",
              "\n",
              "<div id=\"df-6e40c317-7605-48e6-8c35-5e50c8b25e7b\">\n",
              "  <button class=\"colab-df-quickchart\" onclick=\"quickchart('df-6e40c317-7605-48e6-8c35-5e50c8b25e7b')\"\n",
              "            title=\"Suggest charts.\"\n",
              "            style=\"display:none;\">\n",
              "\n",
              "<svg xmlns=\"http://www.w3.org/2000/svg\" height=\"24px\"viewBox=\"0 0 24 24\"\n",
              "     width=\"24px\">\n",
              "    <g>\n",
              "        <path d=\"M19 3H5c-1.1 0-2 .9-2 2v14c0 1.1.9 2 2 2h14c1.1 0 2-.9 2-2V5c0-1.1-.9-2-2-2zM9 17H7v-7h2v7zm4 0h-2V7h2v10zm4 0h-2v-4h2v4z\"/>\n",
              "    </g>\n",
              "</svg>\n",
              "  </button>\n",
              "\n",
              "<style>\n",
              "  .colab-df-quickchart {\n",
              "    background-color: #E8F0FE;\n",
              "    border: none;\n",
              "    border-radius: 50%;\n",
              "    cursor: pointer;\n",
              "    display: none;\n",
              "    fill: #1967D2;\n",
              "    height: 32px;\n",
              "    padding: 0 0 0 0;\n",
              "    width: 32px;\n",
              "  }\n",
              "\n",
              "  .colab-df-quickchart:hover {\n",
              "    background-color: #E2EBFA;\n",
              "    box-shadow: 0px 1px 2px rgba(60, 64, 67, 0.3), 0px 1px 3px 1px rgba(60, 64, 67, 0.15);\n",
              "    fill: #174EA6;\n",
              "  }\n",
              "\n",
              "  [theme=dark] .colab-df-quickchart {\n",
              "    background-color: #3B4455;\n",
              "    fill: #D2E3FC;\n",
              "  }\n",
              "\n",
              "  [theme=dark] .colab-df-quickchart:hover {\n",
              "    background-color: #434B5C;\n",
              "    box-shadow: 0px 1px 3px 1px rgba(0, 0, 0, 0.15);\n",
              "    filter: drop-shadow(0px 1px 2px rgba(0, 0, 0, 0.3));\n",
              "    fill: #FFFFFF;\n",
              "  }\n",
              "</style>\n",
              "\n",
              "  <script>\n",
              "    async function quickchart(key) {\n",
              "      const charts = await google.colab.kernel.invokeFunction(\n",
              "          'suggestCharts', [key], {});\n",
              "    }\n",
              "    (() => {\n",
              "      let quickchartButtonEl =\n",
              "        document.querySelector('#df-6e40c317-7605-48e6-8c35-5e50c8b25e7b button');\n",
              "      quickchartButtonEl.style.display =\n",
              "        google.colab.kernel.accessAllowed ? 'block' : 'none';\n",
              "    })();\n",
              "  </script>\n",
              "</div>\n",
              "    </div>\n",
              "  </div>\n"
            ]
          },
          "metadata": {},
          "execution_count": 137
        }
      ]
    },
    {
      "cell_type": "markdown",
      "source": [
        "## 2.8 Train-Test Split"
      ],
      "metadata": {
        "id": "d309p0JuERSh"
      }
    },
    {
      "cell_type": "code",
      "source": [
        "from sklearn.model_selection import train_test_split"
      ],
      "metadata": {
        "id": "9UcnQyPhEQv8"
      },
      "execution_count": null,
      "outputs": []
    },
    {
      "cell_type": "code",
      "source": [
        "from sklearn.preprocessing import OneHotEncoder"
      ],
      "metadata": {
        "id": "Rxd_eSI7Ip8M"
      },
      "execution_count": null,
      "outputs": []
    },
    {
      "cell_type": "code",
      "source": [
        "y = pd.get_dummies(data['sentiment'],drop_first=True)"
      ],
      "metadata": {
        "id": "S_3huds5EtW0"
      },
      "execution_count": null,
      "outputs": []
    },
    {
      "cell_type": "code",
      "source": [
        "y"
      ],
      "metadata": {
        "colab": {
          "base_uri": "https://localhost:8080/",
          "height": 423
        },
        "id": "yspuSy9CUmgL",
        "outputId": "d57c6cf4-02aa-4f03-f748-004cf53f150b"
      },
      "execution_count": null,
      "outputs": [
        {
          "output_type": "execute_result",
          "data": {
            "text/plain": [
              "     Positive\n",
              "0           0\n",
              "1           1\n",
              "2           0\n",
              "3           0\n",
              "4           0\n",
              "..        ...\n",
              "145         1\n",
              "146         1\n",
              "147         1\n",
              "148         1\n",
              "149         1\n",
              "\n",
              "[150 rows x 1 columns]"
            ],
            "text/html": [
              "\n",
              "  <div id=\"df-efe3d3df-1625-43c5-9ff9-c9b23ea3a818\" class=\"colab-df-container\">\n",
              "    <div>\n",
              "<style scoped>\n",
              "    .dataframe tbody tr th:only-of-type {\n",
              "        vertical-align: middle;\n",
              "    }\n",
              "\n",
              "    .dataframe tbody tr th {\n",
              "        vertical-align: top;\n",
              "    }\n",
              "\n",
              "    .dataframe thead th {\n",
              "        text-align: right;\n",
              "    }\n",
              "</style>\n",
              "<table border=\"1\" class=\"dataframe\">\n",
              "  <thead>\n",
              "    <tr style=\"text-align: right;\">\n",
              "      <th></th>\n",
              "      <th>Positive</th>\n",
              "    </tr>\n",
              "  </thead>\n",
              "  <tbody>\n",
              "    <tr>\n",
              "      <th>0</th>\n",
              "      <td>0</td>\n",
              "    </tr>\n",
              "    <tr>\n",
              "      <th>1</th>\n",
              "      <td>1</td>\n",
              "    </tr>\n",
              "    <tr>\n",
              "      <th>2</th>\n",
              "      <td>0</td>\n",
              "    </tr>\n",
              "    <tr>\n",
              "      <th>3</th>\n",
              "      <td>0</td>\n",
              "    </tr>\n",
              "    <tr>\n",
              "      <th>4</th>\n",
              "      <td>0</td>\n",
              "    </tr>\n",
              "    <tr>\n",
              "      <th>...</th>\n",
              "      <td>...</td>\n",
              "    </tr>\n",
              "    <tr>\n",
              "      <th>145</th>\n",
              "      <td>1</td>\n",
              "    </tr>\n",
              "    <tr>\n",
              "      <th>146</th>\n",
              "      <td>1</td>\n",
              "    </tr>\n",
              "    <tr>\n",
              "      <th>147</th>\n",
              "      <td>1</td>\n",
              "    </tr>\n",
              "    <tr>\n",
              "      <th>148</th>\n",
              "      <td>1</td>\n",
              "    </tr>\n",
              "    <tr>\n",
              "      <th>149</th>\n",
              "      <td>1</td>\n",
              "    </tr>\n",
              "  </tbody>\n",
              "</table>\n",
              "<p>150 rows × 1 columns</p>\n",
              "</div>\n",
              "    <div class=\"colab-df-buttons\">\n",
              "\n",
              "  <div class=\"colab-df-container\">\n",
              "    <button class=\"colab-df-convert\" onclick=\"convertToInteractive('df-efe3d3df-1625-43c5-9ff9-c9b23ea3a818')\"\n",
              "            title=\"Convert this dataframe to an interactive table.\"\n",
              "            style=\"display:none;\">\n",
              "\n",
              "  <svg xmlns=\"http://www.w3.org/2000/svg\" height=\"24px\" viewBox=\"0 -960 960 960\">\n",
              "    <path d=\"M120-120v-720h720v720H120Zm60-500h600v-160H180v160Zm220 220h160v-160H400v160Zm0 220h160v-160H400v160ZM180-400h160v-160H180v160Zm440 0h160v-160H620v160ZM180-180h160v-160H180v160Zm440 0h160v-160H620v160Z\"/>\n",
              "  </svg>\n",
              "    </button>\n",
              "\n",
              "  <style>\n",
              "    .colab-df-container {\n",
              "      display:flex;\n",
              "      gap: 12px;\n",
              "    }\n",
              "\n",
              "    .colab-df-convert {\n",
              "      background-color: #E8F0FE;\n",
              "      border: none;\n",
              "      border-radius: 50%;\n",
              "      cursor: pointer;\n",
              "      display: none;\n",
              "      fill: #1967D2;\n",
              "      height: 32px;\n",
              "      padding: 0 0 0 0;\n",
              "      width: 32px;\n",
              "    }\n",
              "\n",
              "    .colab-df-convert:hover {\n",
              "      background-color: #E2EBFA;\n",
              "      box-shadow: 0px 1px 2px rgba(60, 64, 67, 0.3), 0px 1px 3px 1px rgba(60, 64, 67, 0.15);\n",
              "      fill: #174EA6;\n",
              "    }\n",
              "\n",
              "    .colab-df-buttons div {\n",
              "      margin-bottom: 4px;\n",
              "    }\n",
              "\n",
              "    [theme=dark] .colab-df-convert {\n",
              "      background-color: #3B4455;\n",
              "      fill: #D2E3FC;\n",
              "    }\n",
              "\n",
              "    [theme=dark] .colab-df-convert:hover {\n",
              "      background-color: #434B5C;\n",
              "      box-shadow: 0px 1px 3px 1px rgba(0, 0, 0, 0.15);\n",
              "      filter: drop-shadow(0px 1px 2px rgba(0, 0, 0, 0.3));\n",
              "      fill: #FFFFFF;\n",
              "    }\n",
              "  </style>\n",
              "\n",
              "    <script>\n",
              "      const buttonEl =\n",
              "        document.querySelector('#df-efe3d3df-1625-43c5-9ff9-c9b23ea3a818 button.colab-df-convert');\n",
              "      buttonEl.style.display =\n",
              "        google.colab.kernel.accessAllowed ? 'block' : 'none';\n",
              "\n",
              "      async function convertToInteractive(key) {\n",
              "        const element = document.querySelector('#df-efe3d3df-1625-43c5-9ff9-c9b23ea3a818');\n",
              "        const dataTable =\n",
              "          await google.colab.kernel.invokeFunction('convertToInteractive',\n",
              "                                                    [key], {});\n",
              "        if (!dataTable) return;\n",
              "\n",
              "        const docLinkHtml = 'Like what you see? Visit the ' +\n",
              "          '<a target=\"_blank\" href=https://colab.research.google.com/notebooks/data_table.ipynb>data table notebook</a>'\n",
              "          + ' to learn more about interactive tables.';\n",
              "        element.innerHTML = '';\n",
              "        dataTable['output_type'] = 'display_data';\n",
              "        await google.colab.output.renderOutput(dataTable, element);\n",
              "        const docLink = document.createElement('div');\n",
              "        docLink.innerHTML = docLinkHtml;\n",
              "        element.appendChild(docLink);\n",
              "      }\n",
              "    </script>\n",
              "  </div>\n",
              "\n",
              "\n",
              "<div id=\"df-08ecdeb2-3b80-47c5-949c-ede85d462bea\">\n",
              "  <button class=\"colab-df-quickchart\" onclick=\"quickchart('df-08ecdeb2-3b80-47c5-949c-ede85d462bea')\"\n",
              "            title=\"Suggest charts.\"\n",
              "            style=\"display:none;\">\n",
              "\n",
              "<svg xmlns=\"http://www.w3.org/2000/svg\" height=\"24px\"viewBox=\"0 0 24 24\"\n",
              "     width=\"24px\">\n",
              "    <g>\n",
              "        <path d=\"M19 3H5c-1.1 0-2 .9-2 2v14c0 1.1.9 2 2 2h14c1.1 0 2-.9 2-2V5c0-1.1-.9-2-2-2zM9 17H7v-7h2v7zm4 0h-2V7h2v10zm4 0h-2v-4h2v4z\"/>\n",
              "    </g>\n",
              "</svg>\n",
              "  </button>\n",
              "\n",
              "<style>\n",
              "  .colab-df-quickchart {\n",
              "    background-color: #E8F0FE;\n",
              "    border: none;\n",
              "    border-radius: 50%;\n",
              "    cursor: pointer;\n",
              "    display: none;\n",
              "    fill: #1967D2;\n",
              "    height: 32px;\n",
              "    padding: 0 0 0 0;\n",
              "    width: 32px;\n",
              "  }\n",
              "\n",
              "  .colab-df-quickchart:hover {\n",
              "    background-color: #E2EBFA;\n",
              "    box-shadow: 0px 1px 2px rgba(60, 64, 67, 0.3), 0px 1px 3px 1px rgba(60, 64, 67, 0.15);\n",
              "    fill: #174EA6;\n",
              "  }\n",
              "\n",
              "  [theme=dark] .colab-df-quickchart {\n",
              "    background-color: #3B4455;\n",
              "    fill: #D2E3FC;\n",
              "  }\n",
              "\n",
              "  [theme=dark] .colab-df-quickchart:hover {\n",
              "    background-color: #434B5C;\n",
              "    box-shadow: 0px 1px 3px 1px rgba(0, 0, 0, 0.15);\n",
              "    filter: drop-shadow(0px 1px 2px rgba(0, 0, 0, 0.3));\n",
              "    fill: #FFFFFF;\n",
              "  }\n",
              "</style>\n",
              "\n",
              "  <script>\n",
              "    async function quickchart(key) {\n",
              "      const charts = await google.colab.kernel.invokeFunction(\n",
              "          'suggestCharts', [key], {});\n",
              "    }\n",
              "    (() => {\n",
              "      let quickchartButtonEl =\n",
              "        document.querySelector('#df-08ecdeb2-3b80-47c5-949c-ede85d462bea button');\n",
              "      quickchartButtonEl.style.display =\n",
              "        google.colab.kernel.accessAllowed ? 'block' : 'none';\n",
              "    })();\n",
              "  </script>\n",
              "</div>\n",
              "    </div>\n",
              "  </div>\n"
            ]
          },
          "metadata": {},
          "execution_count": 139
        }
      ]
    },
    {
      "cell_type": "code",
      "source": [
        "data['sentiment']"
      ],
      "metadata": {
        "colab": {
          "base_uri": "https://localhost:8080/"
        },
        "id": "j0YfOtCOaRq6",
        "outputId": "a2ecf5fd-5747-4026-fa6c-273e0dc16722"
      },
      "execution_count": null,
      "outputs": [
        {
          "output_type": "execute_result",
          "data": {
            "text/plain": [
              "0      Negative\n",
              "1      Positive\n",
              "2      Negative\n",
              "3      Negative\n",
              "4      Negative\n",
              "         ...   \n",
              "145    Positive\n",
              "146    Positive\n",
              "147    Positive\n",
              "148    Positive\n",
              "149    Positive\n",
              "Name: sentiment, Length: 150, dtype: object"
            ]
          },
          "metadata": {},
          "execution_count": 160
        }
      ]
    },
    {
      "cell_type": "code",
      "source": [
        "X_train, X_test, y_train, y_test = train_test_split(model_data,y,random_state=32,test_size=0.3)"
      ],
      "metadata": {
        "id": "7EUZTQPzEFMt"
      },
      "execution_count": null,
      "outputs": []
    },
    {
      "cell_type": "markdown",
      "source": [
        "## 2.9 Model Building"
      ],
      "metadata": {
        "id": "okH499zMF6GE"
      }
    },
    {
      "cell_type": "code",
      "source": [
        "from tensorflow.keras import Sequential\n",
        "from tensorflow.keras.layers import Dense\n",
        "from tensorflow import keras"
      ],
      "metadata": {
        "id": "7cNDTZldFFRO"
      },
      "execution_count": null,
      "outputs": []
    },
    {
      "cell_type": "code",
      "source": [
        "#initialize the model\n",
        "model = Sequential()\n",
        "\n",
        "model.add(Dense(1000,activation='relu',input_dim=1000))\n",
        "model.add(Dense(500,activation='sigmoid'))\n",
        "model.add(Dense(100,activation='relu'))\n",
        "model.add(Dense(1,activation='sigmoid'))\n",
        "\n",
        "model.compile(optimizer=keras.optimizers.Adam(learning_rate=0.001),loss='binary_crossentropy',metrics=['accuracy'])\n",
        "\n",
        "model.fit(X_train,y_train,epochs=10,batch_size=8)"
      ],
      "metadata": {
        "colab": {
          "base_uri": "https://localhost:8080/"
        },
        "id": "5D1yZhQcGTKS",
        "outputId": "3ef0a7d9-7790-4aa3-b67a-7cbc029920d7"
      },
      "execution_count": null,
      "outputs": [
        {
          "output_type": "stream",
          "name": "stdout",
          "text": [
            "Epoch 1/10\n",
            "14/14 [==============================] - 2s 22ms/step - loss: 0.6404 - accuracy: 0.7238\n",
            "Epoch 2/10\n",
            "14/14 [==============================] - 0s 20ms/step - loss: 0.4994 - accuracy: 0.7429\n",
            "Epoch 3/10\n",
            "14/14 [==============================] - 0s 18ms/step - loss: 0.2767 - accuracy: 0.8952\n",
            "Epoch 4/10\n",
            "14/14 [==============================] - 0s 18ms/step - loss: 0.0754 - accuracy: 1.0000\n",
            "Epoch 5/10\n",
            "14/14 [==============================] - 0s 19ms/step - loss: 0.0113 - accuracy: 1.0000\n",
            "Epoch 6/10\n",
            "14/14 [==============================] - 0s 19ms/step - loss: 0.0034 - accuracy: 1.0000\n",
            "Epoch 7/10\n",
            "14/14 [==============================] - 0s 20ms/step - loss: 0.0015 - accuracy: 1.0000\n",
            "Epoch 8/10\n",
            "14/14 [==============================] - 0s 18ms/step - loss: 8.8396e-04 - accuracy: 1.0000\n",
            "Epoch 9/10\n",
            "14/14 [==============================] - 0s 20ms/step - loss: 5.9395e-04 - accuracy: 1.0000\n",
            "Epoch 10/10\n",
            "14/14 [==============================] - 0s 18ms/step - loss: 4.4141e-04 - accuracy: 1.0000\n"
          ]
        },
        {
          "output_type": "execute_result",
          "data": {
            "text/plain": [
              "<keras.callbacks.History at 0x7f447d1e6500>"
            ]
          },
          "metadata": {},
          "execution_count": 153
        }
      ]
    },
    {
      "cell_type": "code",
      "source": [
        "model.evaluate(X_test,y_test,batch_size=8)"
      ],
      "metadata": {
        "colab": {
          "base_uri": "https://localhost:8080/"
        },
        "id": "aBDM5uZHJRec",
        "outputId": "0780bcd6-01e1-495e-eabd-6354d91bb181"
      },
      "execution_count": null,
      "outputs": [
        {
          "output_type": "stream",
          "name": "stdout",
          "text": [
            "6/6 [==============================] - 0s 4ms/step - loss: 1.2962 - accuracy: 0.6667\n"
          ]
        },
        {
          "output_type": "execute_result",
          "data": {
            "text/plain": [
              "[1.2962336540222168, 0.6666666865348816]"
            ]
          },
          "metadata": {},
          "execution_count": 154
        }
      ]
    },
    {
      "cell_type": "code",
      "source": [
        "y_pred = model.predict(X_test,batch_size=8)"
      ],
      "metadata": {
        "colab": {
          "base_uri": "https://localhost:8080/"
        },
        "id": "o8QG6jiNQc-V",
        "outputId": "7daf1be5-5277-4bb5-d94f-ecc46a74d90d"
      },
      "execution_count": null,
      "outputs": [
        {
          "output_type": "stream",
          "name": "stdout",
          "text": [
            "6/6 [==============================] - 0s 3ms/step\n"
          ]
        }
      ]
    },
    {
      "cell_type": "code",
      "source": [
        "y_pred[0]"
      ],
      "metadata": {
        "colab": {
          "base_uri": "https://localhost:8080/"
        },
        "id": "nZhurJMNbEQz",
        "outputId": "deaca6f8-abb1-4906-d47e-755ab2f147b3"
      },
      "execution_count": null,
      "outputs": [
        {
          "output_type": "execute_result",
          "data": {
            "text/plain": [
              "array([ True])"
            ]
          },
          "metadata": {},
          "execution_count": 167
        }
      ]
    },
    {
      "cell_type": "code",
      "source": [
        "for i in range(0,len(y_pred)):\n",
        "  if(y_pred[i]>0.5):\n",
        "    y_pred[i] = 1\n",
        "  else:\n",
        "    y_pred[i] = 0"
      ],
      "metadata": {
        "id": "C14O-XUSaCKp"
      },
      "execution_count": null,
      "outputs": []
    },
    {
      "cell_type": "code",
      "source": [
        "from sklearn.metrics import confusion_matrix,classification_report"
      ],
      "metadata": {
        "id": "8qCiI1aDaM4o"
      },
      "execution_count": null,
      "outputs": []
    },
    {
      "cell_type": "code",
      "source": [
        "confusion_matrix(y_test,y_pred)"
      ],
      "metadata": {
        "colab": {
          "base_uri": "https://localhost:8080/"
        },
        "id": "uxUluIILbi4D",
        "outputId": "0cea6038-e13a-41d7-a2d8-bf3bcd3ac42f"
      },
      "execution_count": null,
      "outputs": [
        {
          "output_type": "execute_result",
          "data": {
            "text/plain": [
              "array([[ 3, 14],\n",
              "       [ 1, 27]])"
            ]
          },
          "metadata": {},
          "execution_count": 175
        }
      ]
    },
    {
      "cell_type": "code",
      "source": [
        "print(classification_report(y_test,y_pred))"
      ],
      "metadata": {
        "colab": {
          "base_uri": "https://localhost:8080/"
        },
        "id": "dXaZhxrwbmnm",
        "outputId": "22afa2b4-865f-41a2-ec0f-81fc21d730bf"
      },
      "execution_count": null,
      "outputs": [
        {
          "output_type": "stream",
          "name": "stdout",
          "text": [
            "              precision    recall  f1-score   support\n",
            "\n",
            "           0       0.75      0.18      0.29        17\n",
            "           1       0.66      0.96      0.78        28\n",
            "\n",
            "    accuracy                           0.67        45\n",
            "   macro avg       0.70      0.57      0.53        45\n",
            "weighted avg       0.69      0.67      0.59        45\n",
            "\n"
          ]
        }
      ]
    }
  ]
}