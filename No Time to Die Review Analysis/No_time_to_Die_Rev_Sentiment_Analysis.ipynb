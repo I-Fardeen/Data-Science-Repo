{
  "nbformat": 4,
  "nbformat_minor": 0,
  "metadata": {
    "colab": {
      "provenance": []
    },
    "kernelspec": {
      "name": "python3",
      "display_name": "Python 3"
    },
    "language_info": {
      "name": "python"
    }
  },
  "cells": [
    {
      "cell_type": "markdown",
      "source": [
        "# Project Title: No Time to DIe (2021) Reviews Analysis 🎬📊\n",
        "\n",
        "## Project Description:\n",
        "\n",
        "Welcome to the captivating world of **\"No Time to DIe\" (2021) Reviews Analysis** 🌟 by Fardeen Ahmad Khan! 🚀 In this exhilarating NLP project, I take you on a journey through the realm of natural language processing, diving deep into the sentiments and emotions hidden within the reviews of the movie \"No Time to Die.\"\n",
        "\n",
        "## Project Stages:\n",
        "\n",
        "### 1. Data Collection: Scraping from IMDB 🕵️‍♂️📈\n",
        "To kick-start this adventure, I embarked on a daring quest to scrape valuable textual data from IMDB. From intricate details to heartfelt reviews, I gathered a treasure trove of information to fuel my analysis.\n",
        "\n",
        "### 2. Reading the Dataset and Initial Checks 📚🔍\n",
        "With my data hoard at hand, I began the thrilling process of reading and inspecting the dataset. This crucial phase involved meticulous checks to ensure data integrity.\n",
        "\n",
        "- **2.1 Prepare the Data for Analysis** 📊✨\n",
        "   I rolled up my sleeves and whipped the raw data into shape, preparing it for the analytical magic that awaited.\n",
        "\n",
        "- **2.2 Remove Unnecessary Symbols and Tags** ❌🏷️\n",
        "   Bid farewell to pesky symbols and unnecessary HTML tags that cluttered my data landscape.\n",
        "\n",
        "- **2.3 Remove Stopwords** 🛑🗑️\n",
        "   Those mundane stopwords had to take a backseat, clearing the stage for the real stars of the show.\n",
        "\n",
        "- **2.4 Convert All Text to Lowercase** ⬇️🔠\n",
        "   To avoid any textual confusion, I ensured that everything was presented in consistent lowercase attire.\n",
        "\n",
        "- **2.5 Vader Sentiment Analysis** 😃😔\n",
        "   I harnessed the power of VADER to analyze and score each sentence's sentiment, unveiling the emotional rollercoaster within the text.\n",
        "\n",
        "- **2.6 Stemming** 🌱🪴\n",
        "   The words received a trimming to their root forms, aligning them for more coherent analysis.\n",
        "\n",
        "- **2.7 Lemmatization** 📘🧪\n",
        "   A magical transformation unfolded as words assumed their base forms, enhancing the semantics for analysis.\n",
        "\n",
        "- **2.8 Count Vectorization using Tf-Idf** 📊🎚️\n",
        "   Text metamorphosed into numerical data through the enchantment of Tf-Idf, laying the groundwork for machine learning.\n",
        "\n",
        "- **2.9 Train-Test Split** 🚂🧩\n",
        "   I embarked on partitioning the dataset into a training and testing ensemble, a crucial act in the grand play of model evaluation.\n",
        "\n",
        "- **2.10 Model Building** 🏗️🤖\n",
        "   Behold the pinnacle of this journey—building machine learning models, including sentiment classifiers, to decode the emotions within the text.\n",
        "\n",
        "## Conclusion:\n",
        "\n",
        "As the curtains fall on this enthralling project, remember that \"No Time to DIe\" Reviews Analysis 🎬📊 isn't just a tale of data and algorithms; it's an expedition fueled by my insatiable curiosity. If you're eager to embark on more adventures with me, check out my [GitHub profile](https://github.com/I-Fardeen). Who knows what secrets and emotions we'll unravel next? Stay curious, stay amazed! 🌟🔍🔥"
      ],
      "metadata": {
        "id": "PHxoqdyJGJZH"
      }
    },
    {
      "cell_type": "markdown",
      "source": [
        "# 1. Starting with scraping the data from IMDB."
      ],
      "metadata": {
        "id": "iYKubnEIOwG-"
      }
    },
    {
      "cell_type": "code",
      "execution_count": null,
      "metadata": {
        "id": "tyQO8IfPOCig"
      },
      "outputs": [],
      "source": [
        "from bs4 import BeautifulSoup\n",
        "import requests\n",
        "import pandas as pd"
      ]
    },
    {
      "cell_type": "code",
      "source": [
        "response = requests.request('GET','https://www.imdb.com/title/tt2382320/reviews?sort=curated&dir=desc&ratingFilter=0')\n",
        "soup = BeautifulSoup(response.content,'html5lib')\n",
        "soup.prettify()\n",
        "#<div class=\"text show-more__control\"></div>\n",
        "\n",
        "table = soup.find('div', attrs = {'class':'lister-list'})\n",
        "review_list = []\n",
        "for i in table.findAll('div',attrs={'class':'text show-more__control'}):\n",
        "  print(i.contents)\n",
        "  review_list.append(i)"
      ],
      "metadata": {
        "id": "SiKaaSvYUnXH"
      },
      "execution_count": null,
      "outputs": []
    },
    {
      "cell_type": "code",
      "source": [
        "len(review_list)"
      ],
      "metadata": {
        "colab": {
          "base_uri": "https://localhost:8080/"
        },
        "id": "IO6zMqETU8FY",
        "outputId": "697aedbd-e4f1-4857-d431-ead940ba8c9f"
      },
      "execution_count": null,
      "outputs": [
        {
          "output_type": "execute_result",
          "data": {
            "text/plain": [
              "25"
            ]
          },
          "metadata": {},
          "execution_count": 33
        }
      ]
    },
    {
      "cell_type": "code",
      "source": [
        "response = requests.request('GET','https://www.imdb.com/title/tt2382320/reviews?sort=submissionDate&dir=desc&ratingFilter=0')\n",
        "soup = BeautifulSoup(response.content,'html5lib')\n",
        "#soup.prettify()\n",
        "#<div class=\"text show-more__control\"></div>\n",
        "\n",
        "table = soup.find('div', attrs = {'class':'lister-list'})\n",
        "for i in table.findAll('div',attrs={'class':'text show-more__control'}):\n",
        "  print(i.contents)\n",
        "  review_list.append(i)"
      ],
      "metadata": {
        "id": "2cfy8TtoQjwS"
      },
      "execution_count": null,
      "outputs": []
    },
    {
      "cell_type": "code",
      "source": [
        "len(review_list)"
      ],
      "metadata": {
        "colab": {
          "base_uri": "https://localhost:8080/"
        },
        "id": "LQgVbMlJWe8C",
        "outputId": "5ef244bb-a170-417d-d938-05e40efbfccb"
      },
      "execution_count": null,
      "outputs": [
        {
          "output_type": "execute_result",
          "data": {
            "text/plain": [
              "50"
            ]
          },
          "metadata": {},
          "execution_count": 36
        }
      ]
    },
    {
      "cell_type": "code",
      "source": [
        "response = requests.request('GET','https://www.imdb.com/title/tt2382320/reviews?sort=totalVotes&dir=desc&ratingFilter=0')\n",
        "soup = BeautifulSoup(response.content,'html5lib')\n",
        "\n",
        "table = soup.find('div', attrs = {'class':'pagecontent'})\n",
        "for i in table.findAll('div',attrs={'class':'text show-more__control'}):\n",
        "  print(i.contents)\n",
        "  review_list.append(i)"
      ],
      "metadata": {
        "id": "jJi7NctVWgsm"
      },
      "execution_count": null,
      "outputs": []
    },
    {
      "cell_type": "code",
      "source": [
        "len(review_list)"
      ],
      "metadata": {
        "colab": {
          "base_uri": "https://localhost:8080/"
        },
        "id": "0aYir5fwX2Lc",
        "outputId": "4da37280-9e35-45a5-af3b-d5a435c2a5b1"
      },
      "execution_count": null,
      "outputs": [
        {
          "output_type": "execute_result",
          "data": {
            "text/plain": [
              "75"
            ]
          },
          "metadata": {},
          "execution_count": 42
        }
      ]
    },
    {
      "cell_type": "code",
      "source": [
        "response = requests.request('GET','https://www.imdb.com/title/tt2382320/reviews?sort=reviewVolume&dir=desc&ratingFilter=0')\n",
        "soup = BeautifulSoup(response.content,'html5lib')\n",
        "\n",
        "table = soup.find('div', attrs = {'class':'pagecontent'})\n",
        "for i in table.findAll('div',attrs={'class':'text show-more__control'}):\n",
        "  print(i.contents)\n",
        "  review_list.append(i)"
      ],
      "metadata": {
        "id": "3hoZu1okX4SV"
      },
      "execution_count": null,
      "outputs": []
    },
    {
      "cell_type": "code",
      "source": [
        "len(review_list)"
      ],
      "metadata": {
        "colab": {
          "base_uri": "https://localhost:8080/"
        },
        "id": "aEdV57A3Yq2f",
        "outputId": "7e7b33f0-462b-4461-82a5-292277c10e6c"
      },
      "execution_count": null,
      "outputs": [
        {
          "output_type": "execute_result",
          "data": {
            "text/plain": [
              "100"
            ]
          },
          "metadata": {},
          "execution_count": 45
        }
      ]
    },
    {
      "cell_type": "code",
      "source": [
        "response = requests.request('GET','https://www.imdb.com/title/tt2382320/reviews?sort=userRating&dir=desc&ratingFilter=0')\n",
        "soup = BeautifulSoup(response.content,'html5lib')\n",
        "\n",
        "table = soup.find('div', attrs = {'class':'pagecontent'})\n",
        "for i in table.findAll('div',attrs={'class':'text show-more__control'}):\n",
        "  print(i.contents)\n",
        "  review_list.append(i)"
      ],
      "metadata": {
        "id": "UDX2Mm3PYsdr"
      },
      "execution_count": null,
      "outputs": []
    },
    {
      "cell_type": "code",
      "source": [
        "len(review_list)"
      ],
      "metadata": {
        "colab": {
          "base_uri": "https://localhost:8080/"
        },
        "id": "Yw1LC4d7Y4H1",
        "outputId": "f7ff5c39-6a72-4634-df12-678b2c3c43b4"
      },
      "execution_count": null,
      "outputs": [
        {
          "output_type": "execute_result",
          "data": {
            "text/plain": [
              "125"
            ]
          },
          "metadata": {},
          "execution_count": 48
        }
      ]
    },
    {
      "cell_type": "code",
      "source": [
        "response = requests.request('GET','https://www.imdb.com/title/tt2382320/reviews?sort=userRating&dir=desc&ratingFilter=5')\n",
        "soup = BeautifulSoup(response.content,'html5lib')\n",
        "\n",
        "table = soup.find('div', attrs = {'class':'pagecontent'})\n",
        "for i in table.findAll('div',attrs={'class':'text show-more__control'}):\n",
        "  print(i.contents)\n",
        "  review_list.append(i)"
      ],
      "metadata": {
        "id": "MYavwD1cZBq1"
      },
      "execution_count": null,
      "outputs": []
    },
    {
      "cell_type": "code",
      "source": [
        "len(review_list)"
      ],
      "metadata": {
        "colab": {
          "base_uri": "https://localhost:8080/"
        },
        "id": "Gcf6hIIXZ5_R",
        "outputId": "66bafa6c-e424-44f0-8d1c-1d0637ba12f7"
      },
      "execution_count": null,
      "outputs": [
        {
          "output_type": "execute_result",
          "data": {
            "text/plain": [
              "150"
            ]
          },
          "metadata": {},
          "execution_count": 51
        }
      ]
    },
    {
      "cell_type": "code",
      "source": [
        "data = pd.DataFrame(review_list,columns=['Review'])"
      ],
      "metadata": {
        "colab": {
          "base_uri": "https://localhost:8080/"
        },
        "id": "bj4ShhZPZ7nF",
        "outputId": "c7caf2d7-e082-4422-e6c3-a10f658a860d"
      },
      "execution_count": null,
      "outputs": [
        {
          "output_type": "stream",
          "name": "stderr",
          "text": [
            "/usr/local/lib/python3.10/dist-packages/pandas/core/internals/construction.py:568: VisibleDeprecationWarning: Creating an ndarray from ragged nested sequences (which is a list-or-tuple of lists-or-tuples-or ndarrays with different lengths or shapes) is deprecated. If you meant to do this, you must specify 'dtype=object' when creating the ndarray.\n",
            "  values = np.array([convert(v) for v in values])\n"
          ]
        }
      ]
    },
    {
      "cell_type": "code",
      "source": [
        "data.head()"
      ],
      "metadata": {
        "colab": {
          "base_uri": "https://localhost:8080/",
          "height": 206
        },
        "id": "ElZ__U-6aOdw",
        "outputId": "3355b773-73a6-410c-ff57-e4838073ed05"
      },
      "execution_count": null,
      "outputs": [
        {
          "output_type": "execute_result",
          "data": {
            "text/plain": [
              "                                              Review\n",
              "0  [Well, that was not very good., [], [], This i...\n",
              "1  [One hardly knows where to begin to dissect th...\n",
              "2  [This Bond movie was a confusing and rather te...\n",
              "3  [It's slow, it's serious, it's moody, it's sul...\n",
              "4  [When I go to see a Bond movie I'm looking for..."
            ],
            "text/html": [
              "\n",
              "  <div id=\"df-d596a1e3-c453-4c9e-9e52-dafe2f58d37b\" class=\"colab-df-container\">\n",
              "    <div>\n",
              "<style scoped>\n",
              "    .dataframe tbody tr th:only-of-type {\n",
              "        vertical-align: middle;\n",
              "    }\n",
              "\n",
              "    .dataframe tbody tr th {\n",
              "        vertical-align: top;\n",
              "    }\n",
              "\n",
              "    .dataframe thead th {\n",
              "        text-align: right;\n",
              "    }\n",
              "</style>\n",
              "<table border=\"1\" class=\"dataframe\">\n",
              "  <thead>\n",
              "    <tr style=\"text-align: right;\">\n",
              "      <th></th>\n",
              "      <th>Review</th>\n",
              "    </tr>\n",
              "  </thead>\n",
              "  <tbody>\n",
              "    <tr>\n",
              "      <th>0</th>\n",
              "      <td>[Well, that was not very good., [], [], This i...</td>\n",
              "    </tr>\n",
              "    <tr>\n",
              "      <th>1</th>\n",
              "      <td>[One hardly knows where to begin to dissect th...</td>\n",
              "    </tr>\n",
              "    <tr>\n",
              "      <th>2</th>\n",
              "      <td>[This Bond movie was a confusing and rather te...</td>\n",
              "    </tr>\n",
              "    <tr>\n",
              "      <th>3</th>\n",
              "      <td>[It's slow, it's serious, it's moody, it's sul...</td>\n",
              "    </tr>\n",
              "    <tr>\n",
              "      <th>4</th>\n",
              "      <td>[When I go to see a Bond movie I'm looking for...</td>\n",
              "    </tr>\n",
              "  </tbody>\n",
              "</table>\n",
              "</div>\n",
              "    <div class=\"colab-df-buttons\">\n",
              "\n",
              "  <div class=\"colab-df-container\">\n",
              "    <button class=\"colab-df-convert\" onclick=\"convertToInteractive('df-d596a1e3-c453-4c9e-9e52-dafe2f58d37b')\"\n",
              "            title=\"Convert this dataframe to an interactive table.\"\n",
              "            style=\"display:none;\">\n",
              "\n",
              "  <svg xmlns=\"http://www.w3.org/2000/svg\" height=\"24px\" viewBox=\"0 -960 960 960\">\n",
              "    <path d=\"M120-120v-720h720v720H120Zm60-500h600v-160H180v160Zm220 220h160v-160H400v160Zm0 220h160v-160H400v160ZM180-400h160v-160H180v160Zm440 0h160v-160H620v160ZM180-180h160v-160H180v160Zm440 0h160v-160H620v160Z\"/>\n",
              "  </svg>\n",
              "    </button>\n",
              "\n",
              "  <style>\n",
              "    .colab-df-container {\n",
              "      display:flex;\n",
              "      gap: 12px;\n",
              "    }\n",
              "\n",
              "    .colab-df-convert {\n",
              "      background-color: #E8F0FE;\n",
              "      border: none;\n",
              "      border-radius: 50%;\n",
              "      cursor: pointer;\n",
              "      display: none;\n",
              "      fill: #1967D2;\n",
              "      height: 32px;\n",
              "      padding: 0 0 0 0;\n",
              "      width: 32px;\n",
              "    }\n",
              "\n",
              "    .colab-df-convert:hover {\n",
              "      background-color: #E2EBFA;\n",
              "      box-shadow: 0px 1px 2px rgba(60, 64, 67, 0.3), 0px 1px 3px 1px rgba(60, 64, 67, 0.15);\n",
              "      fill: #174EA6;\n",
              "    }\n",
              "\n",
              "    .colab-df-buttons div {\n",
              "      margin-bottom: 4px;\n",
              "    }\n",
              "\n",
              "    [theme=dark] .colab-df-convert {\n",
              "      background-color: #3B4455;\n",
              "      fill: #D2E3FC;\n",
              "    }\n",
              "\n",
              "    [theme=dark] .colab-df-convert:hover {\n",
              "      background-color: #434B5C;\n",
              "      box-shadow: 0px 1px 3px 1px rgba(0, 0, 0, 0.15);\n",
              "      filter: drop-shadow(0px 1px 2px rgba(0, 0, 0, 0.3));\n",
              "      fill: #FFFFFF;\n",
              "    }\n",
              "  </style>\n",
              "\n",
              "    <script>\n",
              "      const buttonEl =\n",
              "        document.querySelector('#df-d596a1e3-c453-4c9e-9e52-dafe2f58d37b button.colab-df-convert');\n",
              "      buttonEl.style.display =\n",
              "        google.colab.kernel.accessAllowed ? 'block' : 'none';\n",
              "\n",
              "      async function convertToInteractive(key) {\n",
              "        const element = document.querySelector('#df-d596a1e3-c453-4c9e-9e52-dafe2f58d37b');\n",
              "        const dataTable =\n",
              "          await google.colab.kernel.invokeFunction('convertToInteractive',\n",
              "                                                    [key], {});\n",
              "        if (!dataTable) return;\n",
              "\n",
              "        const docLinkHtml = 'Like what you see? Visit the ' +\n",
              "          '<a target=\"_blank\" href=https://colab.research.google.com/notebooks/data_table.ipynb>data table notebook</a>'\n",
              "          + ' to learn more about interactive tables.';\n",
              "        element.innerHTML = '';\n",
              "        dataTable['output_type'] = 'display_data';\n",
              "        await google.colab.output.renderOutput(dataTable, element);\n",
              "        const docLink = document.createElement('div');\n",
              "        docLink.innerHTML = docLinkHtml;\n",
              "        element.appendChild(docLink);\n",
              "      }\n",
              "    </script>\n",
              "  </div>\n",
              "\n",
              "\n",
              "<div id=\"df-b2d4e8b0-500a-4cf2-b952-ac5401b5f504\">\n",
              "  <button class=\"colab-df-quickchart\" onclick=\"quickchart('df-b2d4e8b0-500a-4cf2-b952-ac5401b5f504')\"\n",
              "            title=\"Suggest charts.\"\n",
              "            style=\"display:none;\">\n",
              "\n",
              "<svg xmlns=\"http://www.w3.org/2000/svg\" height=\"24px\"viewBox=\"0 0 24 24\"\n",
              "     width=\"24px\">\n",
              "    <g>\n",
              "        <path d=\"M19 3H5c-1.1 0-2 .9-2 2v14c0 1.1.9 2 2 2h14c1.1 0 2-.9 2-2V5c0-1.1-.9-2-2-2zM9 17H7v-7h2v7zm4 0h-2V7h2v10zm4 0h-2v-4h2v4z\"/>\n",
              "    </g>\n",
              "</svg>\n",
              "  </button>\n",
              "\n",
              "<style>\n",
              "  .colab-df-quickchart {\n",
              "    background-color: #E8F0FE;\n",
              "    border: none;\n",
              "    border-radius: 50%;\n",
              "    cursor: pointer;\n",
              "    display: none;\n",
              "    fill: #1967D2;\n",
              "    height: 32px;\n",
              "    padding: 0 0 0 0;\n",
              "    width: 32px;\n",
              "  }\n",
              "\n",
              "  .colab-df-quickchart:hover {\n",
              "    background-color: #E2EBFA;\n",
              "    box-shadow: 0px 1px 2px rgba(60, 64, 67, 0.3), 0px 1px 3px 1px rgba(60, 64, 67, 0.15);\n",
              "    fill: #174EA6;\n",
              "  }\n",
              "\n",
              "  [theme=dark] .colab-df-quickchart {\n",
              "    background-color: #3B4455;\n",
              "    fill: #D2E3FC;\n",
              "  }\n",
              "\n",
              "  [theme=dark] .colab-df-quickchart:hover {\n",
              "    background-color: #434B5C;\n",
              "    box-shadow: 0px 1px 3px 1px rgba(0, 0, 0, 0.15);\n",
              "    filter: drop-shadow(0px 1px 2px rgba(0, 0, 0, 0.3));\n",
              "    fill: #FFFFFF;\n",
              "  }\n",
              "</style>\n",
              "\n",
              "  <script>\n",
              "    async function quickchart(key) {\n",
              "      const charts = await google.colab.kernel.invokeFunction(\n",
              "          'suggestCharts', [key], {});\n",
              "    }\n",
              "    (() => {\n",
              "      let quickchartButtonEl =\n",
              "        document.querySelector('#df-b2d4e8b0-500a-4cf2-b952-ac5401b5f504 button');\n",
              "      quickchartButtonEl.style.display =\n",
              "        google.colab.kernel.accessAllowed ? 'block' : 'none';\n",
              "    })();\n",
              "  </script>\n",
              "</div>\n",
              "    </div>\n",
              "  </div>\n"
            ]
          },
          "metadata": {},
          "execution_count": 55
        }
      ]
    },
    {
      "cell_type": "code",
      "source": [
        "data.to_excel('/content/drive/MyDrive/Code Practice/Scrapped Dataset/bond.xlsx')"
      ],
      "metadata": {
        "id": "xaIkMbgoaP1c"
      },
      "execution_count": null,
      "outputs": []
    },
    {
      "cell_type": "code",
      "source": [
        "new_data = pd.read_excel('/content/drive/MyDrive/Code Practice/Scrapped Dataset/bond.xlsx')\n",
        "new_data.head()\n",
        "data = new_data.copy()"
      ],
      "metadata": {
        "id": "4Ecx8Ck1ak5K"
      },
      "execution_count": null,
      "outputs": []
    },
    {
      "cell_type": "markdown",
      "source": [
        "# 2. Reading the dataset and initial checks"
      ],
      "metadata": {
        "id": "txHcotyAbmGs"
      }
    },
    {
      "cell_type": "code",
      "source": [
        "data.head()"
      ],
      "metadata": {
        "colab": {
          "base_uri": "https://localhost:8080/",
          "height": 206
        },
        "id": "2gvuHTbBbrUN",
        "outputId": "0d56ad7c-8f0c-4d1d-d0ce-d5e8f21baf66"
      },
      "execution_count": null,
      "outputs": [
        {
          "output_type": "execute_result",
          "data": {
            "text/plain": [
              "   Unnamed: 0                                             Review\n",
              "0           0  <div class=\"text show-more__control\">Well, tha...\n",
              "1           1  <div class=\"text show-more__control\">One hardl...\n",
              "2           2  <div class=\"text show-more__control\">This Bond...\n",
              "3           3  <div class=\"text show-more__control\">It's slow...\n",
              "4           4  <div class=\"text show-more__control\">When I go..."
            ],
            "text/html": [
              "\n",
              "  <div id=\"df-7fde4eca-e5fe-416b-ae5d-ad53e89b6100\" class=\"colab-df-container\">\n",
              "    <div>\n",
              "<style scoped>\n",
              "    .dataframe tbody tr th:only-of-type {\n",
              "        vertical-align: middle;\n",
              "    }\n",
              "\n",
              "    .dataframe tbody tr th {\n",
              "        vertical-align: top;\n",
              "    }\n",
              "\n",
              "    .dataframe thead th {\n",
              "        text-align: right;\n",
              "    }\n",
              "</style>\n",
              "<table border=\"1\" class=\"dataframe\">\n",
              "  <thead>\n",
              "    <tr style=\"text-align: right;\">\n",
              "      <th></th>\n",
              "      <th>Unnamed: 0</th>\n",
              "      <th>Review</th>\n",
              "    </tr>\n",
              "  </thead>\n",
              "  <tbody>\n",
              "    <tr>\n",
              "      <th>0</th>\n",
              "      <td>0</td>\n",
              "      <td>&lt;div class=\"text show-more__control\"&gt;Well, tha...</td>\n",
              "    </tr>\n",
              "    <tr>\n",
              "      <th>1</th>\n",
              "      <td>1</td>\n",
              "      <td>&lt;div class=\"text show-more__control\"&gt;One hardl...</td>\n",
              "    </tr>\n",
              "    <tr>\n",
              "      <th>2</th>\n",
              "      <td>2</td>\n",
              "      <td>&lt;div class=\"text show-more__control\"&gt;This Bond...</td>\n",
              "    </tr>\n",
              "    <tr>\n",
              "      <th>3</th>\n",
              "      <td>3</td>\n",
              "      <td>&lt;div class=\"text show-more__control\"&gt;It's slow...</td>\n",
              "    </tr>\n",
              "    <tr>\n",
              "      <th>4</th>\n",
              "      <td>4</td>\n",
              "      <td>&lt;div class=\"text show-more__control\"&gt;When I go...</td>\n",
              "    </tr>\n",
              "  </tbody>\n",
              "</table>\n",
              "</div>\n",
              "    <div class=\"colab-df-buttons\">\n",
              "\n",
              "  <div class=\"colab-df-container\">\n",
              "    <button class=\"colab-df-convert\" onclick=\"convertToInteractive('df-7fde4eca-e5fe-416b-ae5d-ad53e89b6100')\"\n",
              "            title=\"Convert this dataframe to an interactive table.\"\n",
              "            style=\"display:none;\">\n",
              "\n",
              "  <svg xmlns=\"http://www.w3.org/2000/svg\" height=\"24px\" viewBox=\"0 -960 960 960\">\n",
              "    <path d=\"M120-120v-720h720v720H120Zm60-500h600v-160H180v160Zm220 220h160v-160H400v160Zm0 220h160v-160H400v160ZM180-400h160v-160H180v160Zm440 0h160v-160H620v160ZM180-180h160v-160H180v160Zm440 0h160v-160H620v160Z\"/>\n",
              "  </svg>\n",
              "    </button>\n",
              "\n",
              "  <style>\n",
              "    .colab-df-container {\n",
              "      display:flex;\n",
              "      gap: 12px;\n",
              "    }\n",
              "\n",
              "    .colab-df-convert {\n",
              "      background-color: #E8F0FE;\n",
              "      border: none;\n",
              "      border-radius: 50%;\n",
              "      cursor: pointer;\n",
              "      display: none;\n",
              "      fill: #1967D2;\n",
              "      height: 32px;\n",
              "      padding: 0 0 0 0;\n",
              "      width: 32px;\n",
              "    }\n",
              "\n",
              "    .colab-df-convert:hover {\n",
              "      background-color: #E2EBFA;\n",
              "      box-shadow: 0px 1px 2px rgba(60, 64, 67, 0.3), 0px 1px 3px 1px rgba(60, 64, 67, 0.15);\n",
              "      fill: #174EA6;\n",
              "    }\n",
              "\n",
              "    .colab-df-buttons div {\n",
              "      margin-bottom: 4px;\n",
              "    }\n",
              "\n",
              "    [theme=dark] .colab-df-convert {\n",
              "      background-color: #3B4455;\n",
              "      fill: #D2E3FC;\n",
              "    }\n",
              "\n",
              "    [theme=dark] .colab-df-convert:hover {\n",
              "      background-color: #434B5C;\n",
              "      box-shadow: 0px 1px 3px 1px rgba(0, 0, 0, 0.15);\n",
              "      filter: drop-shadow(0px 1px 2px rgba(0, 0, 0, 0.3));\n",
              "      fill: #FFFFFF;\n",
              "    }\n",
              "  </style>\n",
              "\n",
              "    <script>\n",
              "      const buttonEl =\n",
              "        document.querySelector('#df-7fde4eca-e5fe-416b-ae5d-ad53e89b6100 button.colab-df-convert');\n",
              "      buttonEl.style.display =\n",
              "        google.colab.kernel.accessAllowed ? 'block' : 'none';\n",
              "\n",
              "      async function convertToInteractive(key) {\n",
              "        const element = document.querySelector('#df-7fde4eca-e5fe-416b-ae5d-ad53e89b6100');\n",
              "        const dataTable =\n",
              "          await google.colab.kernel.invokeFunction('convertToInteractive',\n",
              "                                                    [key], {});\n",
              "        if (!dataTable) return;\n",
              "\n",
              "        const docLinkHtml = 'Like what you see? Visit the ' +\n",
              "          '<a target=\"_blank\" href=https://colab.research.google.com/notebooks/data_table.ipynb>data table notebook</a>'\n",
              "          + ' to learn more about interactive tables.';\n",
              "        element.innerHTML = '';\n",
              "        dataTable['output_type'] = 'display_data';\n",
              "        await google.colab.output.renderOutput(dataTable, element);\n",
              "        const docLink = document.createElement('div');\n",
              "        docLink.innerHTML = docLinkHtml;\n",
              "        element.appendChild(docLink);\n",
              "      }\n",
              "    </script>\n",
              "  </div>\n",
              "\n",
              "\n",
              "<div id=\"df-91b6f013-1d6e-4843-a27a-c0c82751172b\">\n",
              "  <button class=\"colab-df-quickchart\" onclick=\"quickchart('df-91b6f013-1d6e-4843-a27a-c0c82751172b')\"\n",
              "            title=\"Suggest charts.\"\n",
              "            style=\"display:none;\">\n",
              "\n",
              "<svg xmlns=\"http://www.w3.org/2000/svg\" height=\"24px\"viewBox=\"0 0 24 24\"\n",
              "     width=\"24px\">\n",
              "    <g>\n",
              "        <path d=\"M19 3H5c-1.1 0-2 .9-2 2v14c0 1.1.9 2 2 2h14c1.1 0 2-.9 2-2V5c0-1.1-.9-2-2-2zM9 17H7v-7h2v7zm4 0h-2V7h2v10zm4 0h-2v-4h2v4z\"/>\n",
              "    </g>\n",
              "</svg>\n",
              "  </button>\n",
              "\n",
              "<style>\n",
              "  .colab-df-quickchart {\n",
              "    background-color: #E8F0FE;\n",
              "    border: none;\n",
              "    border-radius: 50%;\n",
              "    cursor: pointer;\n",
              "    display: none;\n",
              "    fill: #1967D2;\n",
              "    height: 32px;\n",
              "    padding: 0 0 0 0;\n",
              "    width: 32px;\n",
              "  }\n",
              "\n",
              "  .colab-df-quickchart:hover {\n",
              "    background-color: #E2EBFA;\n",
              "    box-shadow: 0px 1px 2px rgba(60, 64, 67, 0.3), 0px 1px 3px 1px rgba(60, 64, 67, 0.15);\n",
              "    fill: #174EA6;\n",
              "  }\n",
              "\n",
              "  [theme=dark] .colab-df-quickchart {\n",
              "    background-color: #3B4455;\n",
              "    fill: #D2E3FC;\n",
              "  }\n",
              "\n",
              "  [theme=dark] .colab-df-quickchart:hover {\n",
              "    background-color: #434B5C;\n",
              "    box-shadow: 0px 1px 3px 1px rgba(0, 0, 0, 0.15);\n",
              "    filter: drop-shadow(0px 1px 2px rgba(0, 0, 0, 0.3));\n",
              "    fill: #FFFFFF;\n",
              "  }\n",
              "</style>\n",
              "\n",
              "  <script>\n",
              "    async function quickchart(key) {\n",
              "      const charts = await google.colab.kernel.invokeFunction(\n",
              "          'suggestCharts', [key], {});\n",
              "    }\n",
              "    (() => {\n",
              "      let quickchartButtonEl =\n",
              "        document.querySelector('#df-91b6f013-1d6e-4843-a27a-c0c82751172b button');\n",
              "      quickchartButtonEl.style.display =\n",
              "        google.colab.kernel.accessAllowed ? 'block' : 'none';\n",
              "    })();\n",
              "  </script>\n",
              "</div>\n",
              "    </div>\n",
              "  </div>\n"
            ]
          },
          "metadata": {},
          "execution_count": 143
        }
      ]
    },
    {
      "cell_type": "markdown",
      "source": [
        "## 2.1 Prepare the data for analysis"
      ],
      "metadata": {
        "id": "EB0mzMjbdF64"
      }
    },
    {
      "cell_type": "markdown",
      "source": [
        "Removing the tags from the texts"
      ],
      "metadata": {
        "id": "hKfWo82HImhk"
      }
    },
    {
      "cell_type": "code",
      "source": [
        "temp_list = []\n",
        "temp = \"\""
      ],
      "metadata": {
        "id": "yM3ShEc8dEHw"
      },
      "execution_count": null,
      "outputs": []
    },
    {
      "cell_type": "code",
      "source": [],
      "metadata": {
        "id": "lADBmWaP4lu9"
      },
      "execution_count": null,
      "outputs": []
    },
    {
      "cell_type": "code",
      "source": [
        "for x in data['Review']:\n",
        "  x = x.replace(\"<div class=\\\"text show-more__control\\\">\",\"\")\n",
        "  x = x.replace(\"<br/>\",\"\")\n",
        "  x = x.replace(\"</div>\",\"\")\n",
        "  temp_list.append(x)"
      ],
      "metadata": {
        "id": "Nfp8ENMznlWC"
      },
      "execution_count": null,
      "outputs": []
    },
    {
      "cell_type": "code",
      "source": [
        "len(temp_list)"
      ],
      "metadata": {
        "colab": {
          "base_uri": "https://localhost:8080/"
        },
        "id": "dPqsHU4mpv-r",
        "outputId": "1ec95601-59b2-42d4-efff-0a93dd9d3783"
      },
      "execution_count": null,
      "outputs": [
        {
          "output_type": "execute_result",
          "data": {
            "text/plain": [
              "150"
            ]
          },
          "metadata": {},
          "execution_count": 186
        }
      ]
    },
    {
      "cell_type": "code",
      "source": [
        "data['cleaned_text'] = temp_list"
      ],
      "metadata": {
        "id": "u3BiftWAen8S"
      },
      "execution_count": null,
      "outputs": []
    },
    {
      "cell_type": "code",
      "source": [
        "data['cleaned_text']"
      ],
      "metadata": {
        "colab": {
          "base_uri": "https://localhost:8080/"
        },
        "id": "n5bA0qcmfYh1",
        "outputId": "315534c9-0473-4a87-d121-dc23f409b7ba"
      },
      "execution_count": null,
      "outputs": [
        {
          "output_type": "execute_result",
          "data": {
            "text/plain": [
              "0      Well, that was not very good.This is a movie t...\n",
              "1      One hardly knows where to begin to dissect the...\n",
              "2      This Bond movie was a confusing and rather ted...\n",
              "3      It's slow, it's serious, it's moody, it's sulk...\n",
              "4      When I go to see a Bond movie I'm looking for ...\n",
              "                             ...                        \n",
              "145    James Bond has always had the advantage that m...\n",
              "146    No way in the world that James Bond would ever...\n",
              "147    It starts like a scary movie, without the main...\n",
              "148    Well after viewing this entry in the Bond fran...\n",
              "149    5 films out of mercy as Bond has truly hit the...\n",
              "Name: cleaned_text, Length: 150, dtype: object"
            ]
          },
          "metadata": {},
          "execution_count": 188
        }
      ]
    },
    {
      "cell_type": "markdown",
      "source": [
        "## 2.2 Remove unnecessary symbols from the data using Regex"
      ],
      "metadata": {
        "id": "QrUcbCgmb017"
      }
    },
    {
      "cell_type": "code",
      "source": [
        "import re\n",
        "temp_list = []\n",
        "temp = []\n",
        "for txt in data[\"cleaned_text\"]:\n",
        "    temp.append(re.sub(\"[^a-zA-Z \\n]\",r\"\",txt))\n",
        "\n",
        "print(temp)\n",
        "#data[\"cleaned_text\"] = temp"
      ],
      "metadata": {
        "id": "UjJRbEXgbwMl"
      },
      "execution_count": null,
      "outputs": []
    },
    {
      "cell_type": "code",
      "source": [
        "data[\"cleaned_text\"] = temp"
      ],
      "metadata": {
        "id": "pIBD-zhZqq22"
      },
      "execution_count": null,
      "outputs": []
    },
    {
      "cell_type": "markdown",
      "source": [
        "Importing the stopwords library and downloading required corpus"
      ],
      "metadata": {
        "id": "tuQjWZIlI2kM"
      }
    },
    {
      "cell_type": "code",
      "source": [
        "import nltk\n",
        "nltk.download(\"stopwords\")\n",
        "nltk.download(\"punkt\")\n",
        "nltk.download(\"wordnet\")\n",
        "from nltk.corpus import stopwords\n",
        "from nltk.tokenize import word_tokenize"
      ],
      "metadata": {
        "colab": {
          "base_uri": "https://localhost:8080/"
        },
        "id": "yYQw3EMjj-uE",
        "outputId": "d03911fd-5985-43f5-fead-2d83c2d72c1b"
      },
      "execution_count": null,
      "outputs": [
        {
          "output_type": "stream",
          "name": "stderr",
          "text": [
            "[nltk_data] Downloading package stopwords to /root/nltk_data...\n",
            "[nltk_data]   Package stopwords is already up-to-date!\n",
            "[nltk_data] Downloading package punkt to /root/nltk_data...\n",
            "[nltk_data]   Package punkt is already up-to-date!\n",
            "[nltk_data] Downloading package wordnet to /root/nltk_data...\n",
            "[nltk_data]   Package wordnet is already up-to-date!\n"
          ]
        }
      ]
    },
    {
      "cell_type": "code",
      "source": [
        "stop_words = stopwords.words('english')"
      ],
      "metadata": {
        "id": "52T53e8MkDy9"
      },
      "execution_count": null,
      "outputs": []
    },
    {
      "cell_type": "markdown",
      "source": [
        "## 2.3 Remove stopwords from the data"
      ],
      "metadata": {
        "id": "gNLX7TAXk8YG"
      }
    },
    {
      "cell_type": "code",
      "source": [
        "def remove_stopwords(reviews):\n",
        "  words = word_tokenize(reviews)\n",
        "  temp = [word for word in words if not word in stop_words]\n",
        "  return \" \".join(temp)\n",
        "\n",
        "cleaned_revs = data[\"cleaned_text\"].apply(remove_stopwords)"
      ],
      "metadata": {
        "id": "9jHqqY76jlJ8"
      },
      "execution_count": null,
      "outputs": []
    },
    {
      "cell_type": "code",
      "source": [
        "cleaned_revs"
      ],
      "metadata": {
        "colab": {
          "base_uri": "https://localhost:8080/"
        },
        "id": "hP4zN7czkUYI",
        "outputId": "824ff6a8-fab1-4904-abfd-f5693f219b85"
      },
      "execution_count": null,
      "outputs": [
        {
          "output_type": "execute_result",
          "data": {
            "text/plain": [
              "0      Well goodThis movie feels like written committ...\n",
              "1      One hardly knows begin dissect latest Bond fil...\n",
              "2      This Bond movie confusing rather tedious mess ...\n",
              "3      Its slow serious moody sulky Its trend last Bo...\n",
              "4      When I go see Bond movie Im looking lush music...\n",
              "                             ...                        \n",
              "145    James Bond always advantage films standalone N...\n",
              "146    No way world James Bond would ever get weak wo...\n",
              "147    It starts like scary movie without main charac...\n",
              "148    Well viewing entry Bond franchise I see need e...\n",
              "149    films mercy Bond truly hit rock bottom Awards ...\n",
              "Name: cleaned_text, Length: 150, dtype: object"
            ]
          },
          "metadata": {},
          "execution_count": 194
        }
      ]
    },
    {
      "cell_type": "code",
      "source": [
        "data[\"cleaned_text\"] = cleaned_revs"
      ],
      "metadata": {
        "id": "u0m950qaq8ed"
      },
      "execution_count": null,
      "outputs": []
    },
    {
      "cell_type": "markdown",
      "source": [
        "## 2.4 Convert all text to lower"
      ],
      "metadata": {
        "id": "uq4usQvmlK4p"
      }
    },
    {
      "cell_type": "code",
      "source": [
        "data[\"cleaned_text\"] = data[\"cleaned_text\"].apply(lambda x: str(x).lower())"
      ],
      "metadata": {
        "id": "6ANdYa28lB92"
      },
      "execution_count": null,
      "outputs": []
    },
    {
      "cell_type": "code",
      "source": [
        "data[\"cleaned_text\"]"
      ],
      "metadata": {
        "colab": {
          "base_uri": "https://localhost:8080/"
        },
        "id": "ZPRInNPArFNG",
        "outputId": "17133dda-ca0f-4de5-83bd-75aa78952de8"
      },
      "execution_count": null,
      "outputs": [
        {
          "output_type": "execute_result",
          "data": {
            "text/plain": [
              "0      well goodthis movie feels like written committ...\n",
              "1      one hardly knows begin dissect latest bond fil...\n",
              "2      this bond movie confusing rather tedious mess ...\n",
              "3      its slow serious moody sulky its trend last bo...\n",
              "4      when i go see bond movie im looking lush music...\n",
              "                             ...                        \n",
              "145    james bond always advantage films standalone n...\n",
              "146    no way world james bond would ever get weak wo...\n",
              "147    it starts like scary movie without main charac...\n",
              "148    well viewing entry bond franchise i see need e...\n",
              "149    films mercy bond truly hit rock bottom awards ...\n",
              "Name: cleaned_text, Length: 150, dtype: object"
            ]
          },
          "metadata": {},
          "execution_count": 197
        }
      ]
    },
    {
      "cell_type": "markdown",
      "source": [
        "## 2.4 Vader Sentiment Analysis to give a score to our sentences"
      ],
      "metadata": {
        "id": "tWTusilntOXV"
      }
    },
    {
      "cell_type": "code",
      "source": [
        "!pip install vaderSentiment\n",
        "from vaderSentiment.vaderSentiment import SentimentIntensityAnalyzer"
      ],
      "metadata": {
        "colab": {
          "base_uri": "https://localhost:8080/"
        },
        "id": "yLwHcarEtwkM",
        "outputId": "91da921a-0f2d-461d-d4d5-1cb519b690de"
      },
      "execution_count": null,
      "outputs": [
        {
          "output_type": "stream",
          "name": "stdout",
          "text": [
            "Collecting vaderSentiment\n",
            "  Downloading vaderSentiment-3.3.2-py2.py3-none-any.whl (125 kB)\n",
            "\u001b[2K     \u001b[90m━━━━━━━━━━━━━━━━━━━━━━━━━━━━━━━━━━━━━━━\u001b[0m \u001b[32m126.0/126.0 kB\u001b[0m \u001b[31m3.7 MB/s\u001b[0m eta \u001b[36m0:00:00\u001b[0m\n",
            "\u001b[?25hRequirement already satisfied: requests in /usr/local/lib/python3.10/dist-packages (from vaderSentiment) (2.31.0)\n",
            "Requirement already satisfied: charset-normalizer<4,>=2 in /usr/local/lib/python3.10/dist-packages (from requests->vaderSentiment) (3.2.0)\n",
            "Requirement already satisfied: idna<4,>=2.5 in /usr/local/lib/python3.10/dist-packages (from requests->vaderSentiment) (3.4)\n",
            "Requirement already satisfied: urllib3<3,>=1.21.1 in /usr/local/lib/python3.10/dist-packages (from requests->vaderSentiment) (2.0.4)\n",
            "Requirement already satisfied: certifi>=2017.4.17 in /usr/local/lib/python3.10/dist-packages (from requests->vaderSentiment) (2023.7.22)\n",
            "Installing collected packages: vaderSentiment\n",
            "Successfully installed vaderSentiment-3.3.2\n"
          ]
        }
      ]
    },
    {
      "cell_type": "code",
      "source": [
        "temp_list = []\n",
        "def sentiment_scores(sentence):\n",
        "\n",
        "    sia = SentimentIntensityAnalyzer()\n",
        "\n",
        "\n",
        "    sentiment_dict = sia.polarity_scores(sentence)\n",
        "\n",
        "    print(\"Overall sentiment dictionary is : \", sentiment_dict)\n",
        "    print(\"sentence was rated as \", sentiment_dict['neg']*100, \"% Negative\")\n",
        "    print(\"sentence was rated as \", sentiment_dict['neu']*100, \"% Neutral\")\n",
        "    print(\"sentence was rated as \", sentiment_dict['pos']*100, \"% Positive\")\n",
        "\n",
        "    print(\"Sentence Overall Rated As\", end = \" \")\n",
        "\n",
        "    # decide sentiment as positive, negative and neutral\n",
        "    if sentiment_dict['compound'] >= 0.05 :\n",
        "        print(\"Positive\")\n",
        "        temp_list.append(\"Positive\")\n",
        "\n",
        "    elif sentiment_dict['compound'] <= - 0.05 :\n",
        "        print(\"Negative\")\n",
        "        temp_list.append(\"Negative\")\n",
        "\n",
        "    else :\n",
        "        print(\"Neutral\")\n",
        "        temp_list.append(\"Neutral\")\n",
        "\n",
        "\n",
        "data[\"cleaned_text\"].apply(sentiment_scores)"
      ],
      "metadata": {
        "colab": {
          "base_uri": "https://localhost:8080/"
        },
        "id": "T5XzbeOGtN9L",
        "outputId": "403bb5fb-d79e-4e39-9946-dceb9c8805ba"
      },
      "execution_count": null,
      "outputs": [
        {
          "output_type": "stream",
          "name": "stdout",
          "text": [
            "Overall sentiment dictionary is :  {'neg': 0.157, 'neu': 0.708, 'pos': 0.135, 'compound': -0.9741}\n",
            "sentence was rated as  15.7 % Negative\n",
            "sentence was rated as  70.8 % Neutral\n",
            "sentence was rated as  13.5 % Positive\n",
            "Sentence Overall Rated As Negative\n",
            "Overall sentiment dictionary is :  {'neg': 0.158, 'neu': 0.532, 'pos': 0.31, 'compound': 0.9667}\n",
            "sentence was rated as  15.8 % Negative\n",
            "sentence was rated as  53.2 % Neutral\n",
            "sentence was rated as  31.0 % Positive\n",
            "Sentence Overall Rated As Positive\n",
            "Overall sentiment dictionary is :  {'neg': 0.199, 'neu': 0.651, 'pos': 0.149, 'compound': -0.5366}\n",
            "sentence was rated as  19.900000000000002 % Negative\n",
            "sentence was rated as  65.10000000000001 % Neutral\n",
            "sentence was rated as  14.899999999999999 % Positive\n",
            "Sentence Overall Rated As Negative\n",
            "Overall sentiment dictionary is :  {'neg': 0.22, 'neu': 0.614, 'pos': 0.166, 'compound': -0.7585}\n",
            "sentence was rated as  22.0 % Negative\n",
            "sentence was rated as  61.4 % Neutral\n",
            "sentence was rated as  16.6 % Positive\n",
            "Sentence Overall Rated As Negative\n",
            "Overall sentiment dictionary is :  {'neg': 0.228, 'neu': 0.628, 'pos': 0.144, 'compound': -0.9819}\n",
            "sentence was rated as  22.8 % Negative\n",
            "sentence was rated as  62.8 % Neutral\n",
            "sentence was rated as  14.399999999999999 % Positive\n",
            "Sentence Overall Rated As Negative\n",
            "Overall sentiment dictionary is :  {'neg': 0.178, 'neu': 0.551, 'pos': 0.271, 'compound': 0.9027}\n",
            "sentence was rated as  17.8 % Negative\n",
            "sentence was rated as  55.1 % Neutral\n",
            "sentence was rated as  27.1 % Positive\n",
            "Sentence Overall Rated As Positive\n",
            "Overall sentiment dictionary is :  {'neg': 0.13, 'neu': 0.651, 'pos': 0.219, 'compound': 0.9371}\n",
            "sentence was rated as  13.0 % Negative\n",
            "sentence was rated as  65.10000000000001 % Neutral\n",
            "sentence was rated as  21.9 % Positive\n",
            "Sentence Overall Rated As Positive\n",
            "Overall sentiment dictionary is :  {'neg': 0.24, 'neu': 0.663, 'pos': 0.098, 'compound': -0.8979}\n",
            "sentence was rated as  24.0 % Negative\n",
            "sentence was rated as  66.3 % Neutral\n",
            "sentence was rated as  9.8 % Positive\n",
            "Sentence Overall Rated As Negative\n",
            "Overall sentiment dictionary is :  {'neg': 0.133, 'neu': 0.661, 'pos': 0.206, 'compound': 0.9721}\n",
            "sentence was rated as  13.3 % Negative\n",
            "sentence was rated as  66.10000000000001 % Neutral\n",
            "sentence was rated as  20.599999999999998 % Positive\n",
            "Sentence Overall Rated As Positive\n",
            "Overall sentiment dictionary is :  {'neg': 0.151, 'neu': 0.705, 'pos': 0.144, 'compound': -0.1779}\n",
            "sentence was rated as  15.1 % Negative\n",
            "sentence was rated as  70.5 % Neutral\n",
            "sentence was rated as  14.399999999999999 % Positive\n",
            "Sentence Overall Rated As Negative\n",
            "Overall sentiment dictionary is :  {'neg': 0.249, 'neu': 0.56, 'pos': 0.191, 'compound': -0.9943}\n",
            "sentence was rated as  24.9 % Negative\n",
            "sentence was rated as  56.00000000000001 % Neutral\n",
            "sentence was rated as  19.1 % Positive\n",
            "Sentence Overall Rated As Negative\n",
            "Overall sentiment dictionary is :  {'neg': 0.027, 'neu': 0.718, 'pos': 0.255, 'compound': 0.9531}\n",
            "sentence was rated as  2.7 % Negative\n",
            "sentence was rated as  71.8 % Neutral\n",
            "sentence was rated as  25.5 % Positive\n",
            "Sentence Overall Rated As Positive\n",
            "Overall sentiment dictionary is :  {'neg': 0.217, 'neu': 0.637, 'pos': 0.146, 'compound': -0.9493}\n",
            "sentence was rated as  21.7 % Negative\n",
            "sentence was rated as  63.7 % Neutral\n",
            "sentence was rated as  14.6 % Positive\n",
            "Sentence Overall Rated As Negative\n",
            "Overall sentiment dictionary is :  {'neg': 0.238, 'neu': 0.634, 'pos': 0.128, 'compound': -0.7364}\n",
            "sentence was rated as  23.799999999999997 % Negative\n",
            "sentence was rated as  63.4 % Neutral\n",
            "sentence was rated as  12.8 % Positive\n",
            "Sentence Overall Rated As Negative\n",
            "Overall sentiment dictionary is :  {'neg': 0.092, 'neu': 0.7, 'pos': 0.208, 'compound': 0.8578}\n",
            "sentence was rated as  9.2 % Negative\n",
            "sentence was rated as  70.0 % Neutral\n",
            "sentence was rated as  20.8 % Positive\n",
            "Sentence Overall Rated As Positive\n",
            "Overall sentiment dictionary is :  {'neg': 0.144, 'neu': 0.745, 'pos': 0.111, 'compound': -0.9155}\n",
            "sentence was rated as  14.399999999999999 % Negative\n",
            "sentence was rated as  74.5 % Neutral\n",
            "sentence was rated as  11.1 % Positive\n",
            "Sentence Overall Rated As Negative\n",
            "Overall sentiment dictionary is :  {'neg': 0.239, 'neu': 0.664, 'pos': 0.098, 'compound': -0.9405}\n",
            "sentence was rated as  23.9 % Negative\n",
            "sentence was rated as  66.4 % Neutral\n",
            "sentence was rated as  9.8 % Positive\n",
            "Sentence Overall Rated As Negative\n",
            "Overall sentiment dictionary is :  {'neg': 0.217, 'neu': 0.59, 'pos': 0.194, 'compound': -0.7882}\n",
            "sentence was rated as  21.7 % Negative\n",
            "sentence was rated as  59.0 % Neutral\n",
            "sentence was rated as  19.400000000000002 % Positive\n",
            "Sentence Overall Rated As Negative\n",
            "Overall sentiment dictionary is :  {'neg': 0.214, 'neu': 0.554, 'pos': 0.232, 'compound': 0.2263}\n",
            "sentence was rated as  21.4 % Negative\n",
            "sentence was rated as  55.400000000000006 % Neutral\n",
            "sentence was rated as  23.200000000000003 % Positive\n",
            "Sentence Overall Rated As Positive\n",
            "Overall sentiment dictionary is :  {'neg': 0.125, 'neu': 0.671, 'pos': 0.204, 'compound': 0.5078}\n",
            "sentence was rated as  12.5 % Negative\n",
            "sentence was rated as  67.10000000000001 % Neutral\n",
            "sentence was rated as  20.4 % Positive\n",
            "Sentence Overall Rated As Positive\n",
            "Overall sentiment dictionary is :  {'neg': 0.144, 'neu': 0.598, 'pos': 0.258, 'compound': 0.9953}\n",
            "sentence was rated as  14.399999999999999 % Negative\n",
            "sentence was rated as  59.8 % Neutral\n",
            "sentence was rated as  25.8 % Positive\n",
            "Sentence Overall Rated As Positive\n",
            "Overall sentiment dictionary is :  {'neg': 0.134, 'neu': 0.648, 'pos': 0.218, 'compound': 0.9692}\n",
            "sentence was rated as  13.4 % Negative\n",
            "sentence was rated as  64.8 % Neutral\n",
            "sentence was rated as  21.8 % Positive\n",
            "Sentence Overall Rated As Positive\n",
            "Overall sentiment dictionary is :  {'neg': 0.115, 'neu': 0.709, 'pos': 0.176, 'compound': 0.9201}\n",
            "sentence was rated as  11.5 % Negative\n",
            "sentence was rated as  70.89999999999999 % Neutral\n",
            "sentence was rated as  17.599999999999998 % Positive\n",
            "Sentence Overall Rated As Positive\n",
            "Overall sentiment dictionary is :  {'neg': 0.375, 'neu': 0.542, 'pos': 0.083, 'compound': -0.9633}\n",
            "sentence was rated as  37.5 % Negative\n",
            "sentence was rated as  54.2 % Neutral\n",
            "sentence was rated as  8.3 % Positive\n",
            "Sentence Overall Rated As Negative\n",
            "Overall sentiment dictionary is :  {'neg': 0.102, 'neu': 0.756, 'pos': 0.142, 'compound': 0.8053}\n",
            "sentence was rated as  10.2 % Negative\n",
            "sentence was rated as  75.6 % Neutral\n",
            "sentence was rated as  14.2 % Positive\n",
            "Sentence Overall Rated As Positive\n",
            "Overall sentiment dictionary is :  {'neg': 0.113, 'neu': 0.638, 'pos': 0.248, 'compound': 0.9859}\n",
            "sentence was rated as  11.3 % Negative\n",
            "sentence was rated as  63.800000000000004 % Neutral\n",
            "sentence was rated as  24.8 % Positive\n",
            "Sentence Overall Rated As Positive\n",
            "Overall sentiment dictionary is :  {'neg': 0.329, 'neu': 0.55, 'pos': 0.121, 'compound': -0.9575}\n",
            "sentence was rated as  32.9 % Negative\n",
            "sentence was rated as  55.00000000000001 % Neutral\n",
            "sentence was rated as  12.1 % Positive\n",
            "Sentence Overall Rated As Negative\n",
            "Overall sentiment dictionary is :  {'neg': 0.219, 'neu': 0.546, 'pos': 0.234, 'compound': -0.1372}\n",
            "sentence was rated as  21.9 % Negative\n",
            "sentence was rated as  54.6 % Neutral\n",
            "sentence was rated as  23.400000000000002 % Positive\n",
            "Sentence Overall Rated As Negative\n",
            "Overall sentiment dictionary is :  {'neg': 0.163, 'neu': 0.687, 'pos': 0.15, 'compound': -0.1795}\n",
            "sentence was rated as  16.3 % Negative\n",
            "sentence was rated as  68.7 % Neutral\n",
            "sentence was rated as  15.0 % Positive\n",
            "Sentence Overall Rated As Negative\n",
            "Overall sentiment dictionary is :  {'neg': 0.06, 'neu': 0.655, 'pos': 0.285, 'compound': 0.9852}\n",
            "sentence was rated as  6.0 % Negative\n",
            "sentence was rated as  65.5 % Neutral\n",
            "sentence was rated as  28.499999999999996 % Positive\n",
            "Sentence Overall Rated As Positive\n",
            "Overall sentiment dictionary is :  {'neg': 0.22, 'neu': 0.614, 'pos': 0.166, 'compound': -0.7585}\n",
            "sentence was rated as  22.0 % Negative\n",
            "sentence was rated as  61.4 % Neutral\n",
            "sentence was rated as  16.6 % Positive\n",
            "Sentence Overall Rated As Negative\n",
            "Overall sentiment dictionary is :  {'neg': 0.062, 'neu': 0.577, 'pos': 0.361, 'compound': 0.997}\n",
            "sentence was rated as  6.2 % Negative\n",
            "sentence was rated as  57.699999999999996 % Neutral\n",
            "sentence was rated as  36.1 % Positive\n",
            "Sentence Overall Rated As Positive\n",
            "Overall sentiment dictionary is :  {'neg': 0.139, 'neu': 0.705, 'pos': 0.156, 'compound': 0.1245}\n",
            "sentence was rated as  13.900000000000002 % Negative\n",
            "sentence was rated as  70.5 % Neutral\n",
            "sentence was rated as  15.6 % Positive\n",
            "Sentence Overall Rated As Positive\n",
            "Overall sentiment dictionary is :  {'neg': 0.047, 'neu': 0.803, 'pos': 0.15, 'compound': 0.91}\n",
            "sentence was rated as  4.7 % Negative\n",
            "sentence was rated as  80.30000000000001 % Neutral\n",
            "sentence was rated as  15.0 % Positive\n",
            "Sentence Overall Rated As Positive\n",
            "Overall sentiment dictionary is :  {'neg': 0.209, 'neu': 0.536, 'pos': 0.255, 'compound': 0.6369}\n",
            "sentence was rated as  20.9 % Negative\n",
            "sentence was rated as  53.6 % Neutral\n",
            "sentence was rated as  25.5 % Positive\n",
            "Sentence Overall Rated As Positive\n",
            "Overall sentiment dictionary is :  {'neg': 0.192, 'neu': 0.681, 'pos': 0.127, 'compound': -0.752}\n",
            "sentence was rated as  19.2 % Negative\n",
            "sentence was rated as  68.10000000000001 % Neutral\n",
            "sentence was rated as  12.7 % Positive\n",
            "Sentence Overall Rated As Negative\n",
            "Overall sentiment dictionary is :  {'neg': 0.187, 'neu': 0.673, 'pos': 0.14, 'compound': -0.8381}\n",
            "sentence was rated as  18.7 % Negative\n",
            "sentence was rated as  67.30000000000001 % Neutral\n",
            "sentence was rated as  14.000000000000002 % Positive\n",
            "Sentence Overall Rated As Negative\n",
            "Overall sentiment dictionary is :  {'neg': 0.152, 'neu': 0.65, 'pos': 0.197, 'compound': 0.6145}\n",
            "sentence was rated as  15.2 % Negative\n",
            "sentence was rated as  65.0 % Neutral\n",
            "sentence was rated as  19.7 % Positive\n",
            "Sentence Overall Rated As Positive\n",
            "Overall sentiment dictionary is :  {'neg': 0.092, 'neu': 0.7, 'pos': 0.208, 'compound': 0.8578}\n",
            "sentence was rated as  9.2 % Negative\n",
            "sentence was rated as  70.0 % Neutral\n",
            "sentence was rated as  20.8 % Positive\n",
            "Sentence Overall Rated As Positive\n",
            "Overall sentiment dictionary is :  {'neg': 0.147, 'neu': 0.564, 'pos': 0.289, 'compound': 0.8507}\n",
            "sentence was rated as  14.7 % Negative\n",
            "sentence was rated as  56.39999999999999 % Neutral\n",
            "sentence was rated as  28.9 % Positive\n",
            "Sentence Overall Rated As Positive\n",
            "Overall sentiment dictionary is :  {'neg': 0.09, 'neu': 0.701, 'pos': 0.209, 'compound': 0.9033}\n",
            "sentence was rated as  9.0 % Negative\n",
            "sentence was rated as  70.1 % Neutral\n",
            "sentence was rated as  20.9 % Positive\n",
            "Sentence Overall Rated As Positive\n",
            "Overall sentiment dictionary is :  {'neg': 0.128, 'neu': 0.649, 'pos': 0.223, 'compound': 0.9566}\n",
            "sentence was rated as  12.8 % Negative\n",
            "sentence was rated as  64.9 % Neutral\n",
            "sentence was rated as  22.3 % Positive\n",
            "Sentence Overall Rated As Positive\n",
            "Overall sentiment dictionary is :  {'neg': 0.061, 'neu': 0.76, 'pos': 0.179, 'compound': 0.8142}\n",
            "sentence was rated as  6.1 % Negative\n",
            "sentence was rated as  76.0 % Neutral\n",
            "sentence was rated as  17.9 % Positive\n",
            "Sentence Overall Rated As Positive\n",
            "Overall sentiment dictionary is :  {'neg': 0.071, 'neu': 0.563, 'pos': 0.365, 'compound': 0.9991}\n",
            "sentence was rated as  7.1 % Negative\n",
            "sentence was rated as  56.3 % Neutral\n",
            "sentence was rated as  36.5 % Positive\n",
            "Sentence Overall Rated As Positive\n",
            "Overall sentiment dictionary is :  {'neg': 0.23, 'neu': 0.617, 'pos': 0.152, 'compound': -0.9014}\n",
            "sentence was rated as  23.0 % Negative\n",
            "sentence was rated as  61.7 % Neutral\n",
            "sentence was rated as  15.2 % Positive\n",
            "Sentence Overall Rated As Negative\n",
            "Overall sentiment dictionary is :  {'neg': 0.128, 'neu': 0.711, 'pos': 0.162, 'compound': 0.6571}\n",
            "sentence was rated as  12.8 % Negative\n",
            "sentence was rated as  71.1 % Neutral\n",
            "sentence was rated as  16.2 % Positive\n",
            "Sentence Overall Rated As Positive\n",
            "Overall sentiment dictionary is :  {'neg': 0.125, 'neu': 0.673, 'pos': 0.202, 'compound': 0.9408}\n",
            "sentence was rated as  12.5 % Negative\n",
            "sentence was rated as  67.30000000000001 % Neutral\n",
            "sentence was rated as  20.200000000000003 % Positive\n",
            "Sentence Overall Rated As Positive\n",
            "Overall sentiment dictionary is :  {'neg': 0.116, 'neu': 0.696, 'pos': 0.187, 'compound': 0.8994}\n",
            "sentence was rated as  11.600000000000001 % Negative\n",
            "sentence was rated as  69.6 % Neutral\n",
            "sentence was rated as  18.7 % Positive\n",
            "Sentence Overall Rated As Positive\n",
            "Overall sentiment dictionary is :  {'neg': 0.168, 'neu': 0.566, 'pos': 0.266, 'compound': 0.9001}\n",
            "sentence was rated as  16.8 % Negative\n",
            "sentence was rated as  56.599999999999994 % Neutral\n",
            "sentence was rated as  26.6 % Positive\n",
            "Sentence Overall Rated As Positive\n",
            "Overall sentiment dictionary is :  {'neg': 0.112, 'neu': 0.616, 'pos': 0.271, 'compound': 0.9991}\n",
            "sentence was rated as  11.200000000000001 % Negative\n",
            "sentence was rated as  61.6 % Neutral\n",
            "sentence was rated as  27.1 % Positive\n",
            "Sentence Overall Rated As Positive\n",
            "Overall sentiment dictionary is :  {'neg': 0.13, 'neu': 0.651, 'pos': 0.219, 'compound': 0.9371}\n",
            "sentence was rated as  13.0 % Negative\n",
            "sentence was rated as  65.10000000000001 % Neutral\n",
            "sentence was rated as  21.9 % Positive\n",
            "Sentence Overall Rated As Positive\n",
            "Overall sentiment dictionary is :  {'neg': 0.178, 'neu': 0.551, 'pos': 0.271, 'compound': 0.9027}\n",
            "sentence was rated as  17.8 % Negative\n",
            "sentence was rated as  55.1 % Neutral\n",
            "sentence was rated as  27.1 % Positive\n",
            "Sentence Overall Rated As Positive\n",
            "Overall sentiment dictionary is :  {'neg': 0.125, 'neu': 0.671, 'pos': 0.204, 'compound': 0.5078}\n",
            "sentence was rated as  12.5 % Negative\n",
            "sentence was rated as  67.10000000000001 % Neutral\n",
            "sentence was rated as  20.4 % Positive\n",
            "Sentence Overall Rated As Positive\n",
            "Overall sentiment dictionary is :  {'neg': 0.132, 'neu': 0.614, 'pos': 0.254, 'compound': 0.9964}\n",
            "sentence was rated as  13.200000000000001 % Negative\n",
            "sentence was rated as  61.4 % Neutral\n",
            "sentence was rated as  25.4 % Positive\n",
            "Sentence Overall Rated As Positive\n",
            "Overall sentiment dictionary is :  {'neg': 0.141, 'neu': 0.73, 'pos': 0.13, 'compound': -0.0046}\n",
            "sentence was rated as  14.099999999999998 % Negative\n",
            "sentence was rated as  73.0 % Neutral\n",
            "sentence was rated as  13.0 % Positive\n",
            "Sentence Overall Rated As Neutral\n",
            "Overall sentiment dictionary is :  {'neg': 0.027, 'neu': 0.718, 'pos': 0.255, 'compound': 0.9531}\n",
            "sentence was rated as  2.7 % Negative\n",
            "sentence was rated as  71.8 % Neutral\n",
            "sentence was rated as  25.5 % Positive\n",
            "Sentence Overall Rated As Positive\n",
            "Overall sentiment dictionary is :  {'neg': 0.205, 'neu': 0.664, 'pos': 0.131, 'compound': -0.8481}\n",
            "sentence was rated as  20.5 % Negative\n",
            "sentence was rated as  66.4 % Neutral\n",
            "sentence was rated as  13.100000000000001 % Positive\n",
            "Sentence Overall Rated As Negative\n",
            "Overall sentiment dictionary is :  {'neg': 0.147, 'neu': 0.662, 'pos': 0.192, 'compound': 0.853}\n",
            "sentence was rated as  14.7 % Negative\n",
            "sentence was rated as  66.2 % Neutral\n",
            "sentence was rated as  19.2 % Positive\n",
            "Sentence Overall Rated As Positive\n",
            "Overall sentiment dictionary is :  {'neg': 0.057, 'neu': 0.716, 'pos': 0.227, 'compound': 0.796}\n",
            "sentence was rated as  5.7 % Negative\n",
            "sentence was rated as  71.6 % Neutral\n",
            "sentence was rated as  22.7 % Positive\n",
            "Sentence Overall Rated As Positive\n",
            "Overall sentiment dictionary is :  {'neg': 0.115, 'neu': 0.709, 'pos': 0.176, 'compound': 0.9201}\n",
            "sentence was rated as  11.5 % Negative\n",
            "sentence was rated as  70.89999999999999 % Neutral\n",
            "sentence was rated as  17.599999999999998 % Positive\n",
            "Sentence Overall Rated As Positive\n",
            "Overall sentiment dictionary is :  {'neg': 0.191, 'neu': 0.632, 'pos': 0.177, 'compound': -0.4034}\n",
            "sentence was rated as  19.1 % Negative\n",
            "sentence was rated as  63.2 % Neutral\n",
            "sentence was rated as  17.7 % Positive\n",
            "Sentence Overall Rated As Negative\n",
            "Overall sentiment dictionary is :  {'neg': 0.217, 'neu': 0.59, 'pos': 0.194, 'compound': -0.7882}\n",
            "sentence was rated as  21.7 % Negative\n",
            "sentence was rated as  59.0 % Neutral\n",
            "sentence was rated as  19.400000000000002 % Positive\n",
            "Sentence Overall Rated As Negative\n",
            "Overall sentiment dictionary is :  {'neg': 0.123, 'neu': 0.598, 'pos': 0.279, 'compound': 0.9968}\n",
            "sentence was rated as  12.3 % Negative\n",
            "sentence was rated as  59.8 % Neutral\n",
            "sentence was rated as  27.900000000000002 % Positive\n",
            "Sentence Overall Rated As Positive\n",
            "Overall sentiment dictionary is :  {'neg': 0.164, 'neu': 0.593, 'pos': 0.243, 'compound': 0.9818}\n",
            "sentence was rated as  16.400000000000002 % Negative\n",
            "sentence was rated as  59.3 % Neutral\n",
            "sentence was rated as  24.3 % Positive\n",
            "Sentence Overall Rated As Positive\n",
            "Overall sentiment dictionary is :  {'neg': 0.148, 'neu': 0.637, 'pos': 0.215, 'compound': 0.9029}\n",
            "sentence was rated as  14.799999999999999 % Negative\n",
            "sentence was rated as  63.7 % Neutral\n",
            "sentence was rated as  21.5 % Positive\n",
            "Sentence Overall Rated As Positive\n",
            "Overall sentiment dictionary is :  {'neg': 0.125, 'neu': 0.677, 'pos': 0.198, 'compound': 0.9492}\n",
            "sentence was rated as  12.5 % Negative\n",
            "sentence was rated as  67.7 % Neutral\n",
            "sentence was rated as  19.8 % Positive\n",
            "Sentence Overall Rated As Positive\n",
            "Overall sentiment dictionary is :  {'neg': 0.133, 'neu': 0.661, 'pos': 0.206, 'compound': 0.9721}\n",
            "sentence was rated as  13.3 % Negative\n",
            "sentence was rated as  66.10000000000001 % Neutral\n",
            "sentence was rated as  20.599999999999998 % Positive\n",
            "Sentence Overall Rated As Positive\n",
            "Overall sentiment dictionary is :  {'neg': 0.32, 'neu': 0.68, 'pos': 0.0, 'compound': -0.765}\n",
            "sentence was rated as  32.0 % Negative\n",
            "sentence was rated as  68.0 % Neutral\n",
            "sentence was rated as  0.0 % Positive\n",
            "Sentence Overall Rated As Negative\n",
            "Overall sentiment dictionary is :  {'neg': 0.09, 'neu': 0.781, 'pos': 0.129, 'compound': 0.6705}\n",
            "sentence was rated as  9.0 % Negative\n",
            "sentence was rated as  78.10000000000001 % Neutral\n",
            "sentence was rated as  12.9 % Positive\n",
            "Sentence Overall Rated As Positive\n",
            "Overall sentiment dictionary is :  {'neg': 0.041, 'neu': 0.751, 'pos': 0.208, 'compound': 0.9526}\n",
            "sentence was rated as  4.1000000000000005 % Negative\n",
            "sentence was rated as  75.1 % Neutral\n",
            "sentence was rated as  20.8 % Positive\n",
            "Sentence Overall Rated As Positive\n",
            "Overall sentiment dictionary is :  {'neg': 0.21, 'neu': 0.639, 'pos': 0.151, 'compound': -0.8277}\n",
            "sentence was rated as  21.0 % Negative\n",
            "sentence was rated as  63.9 % Neutral\n",
            "sentence was rated as  15.1 % Positive\n",
            "Sentence Overall Rated As Negative\n",
            "Overall sentiment dictionary is :  {'neg': 0.517, 'neu': 0.483, 'pos': 0.0, 'compound': -0.9313}\n",
            "sentence was rated as  51.7 % Negative\n",
            "sentence was rated as  48.3 % Neutral\n",
            "sentence was rated as  0.0 % Positive\n",
            "Sentence Overall Rated As Negative\n",
            "Overall sentiment dictionary is :  {'neg': 0.123, 'neu': 0.745, 'pos': 0.132, 'compound': 0.0793}\n",
            "sentence was rated as  12.3 % Negative\n",
            "sentence was rated as  74.5 % Neutral\n",
            "sentence was rated as  13.200000000000001 % Positive\n",
            "Sentence Overall Rated As Positive\n",
            "Overall sentiment dictionary is :  {'neg': 0.147, 'neu': 0.553, 'pos': 0.3, 'compound': 0.9747}\n",
            "sentence was rated as  14.7 % Negative\n",
            "sentence was rated as  55.300000000000004 % Neutral\n",
            "sentence was rated as  30.0 % Positive\n",
            "Sentence Overall Rated As Positive\n",
            "Overall sentiment dictionary is :  {'neg': 0.159, 'neu': 0.682, 'pos': 0.158, 'compound': -0.0889}\n",
            "sentence was rated as  15.9 % Negative\n",
            "sentence was rated as  68.2 % Neutral\n",
            "sentence was rated as  15.8 % Positive\n",
            "Sentence Overall Rated As Negative\n",
            "Overall sentiment dictionary is :  {'neg': 0.151, 'neu': 0.705, 'pos': 0.144, 'compound': -0.1779}\n",
            "sentence was rated as  15.1 % Negative\n",
            "sentence was rated as  70.5 % Neutral\n",
            "sentence was rated as  14.399999999999999 % Positive\n",
            "Sentence Overall Rated As Negative\n",
            "Overall sentiment dictionary is :  {'neg': 0.219, 'neu': 0.617, 'pos': 0.164, 'compound': -0.9169}\n",
            "sentence was rated as  21.9 % Negative\n",
            "sentence was rated as  61.7 % Neutral\n",
            "sentence was rated as  16.400000000000002 % Positive\n",
            "Sentence Overall Rated As Negative\n",
            "Overall sentiment dictionary is :  {'neg': 0.14, 'neu': 0.779, 'pos': 0.08, 'compound': -0.8779}\n",
            "sentence was rated as  14.000000000000002 % Negative\n",
            "sentence was rated as  77.9 % Neutral\n",
            "sentence was rated as  8.0 % Positive\n",
            "Sentence Overall Rated As Negative\n",
            "Overall sentiment dictionary is :  {'neg': 0.027, 'neu': 0.718, 'pos': 0.255, 'compound': 0.9531}\n",
            "sentence was rated as  2.7 % Negative\n",
            "sentence was rated as  71.8 % Neutral\n",
            "sentence was rated as  25.5 % Positive\n",
            "Sentence Overall Rated As Positive\n",
            "Overall sentiment dictionary is :  {'neg': 0.156, 'neu': 0.619, 'pos': 0.226, 'compound': 0.9967}\n",
            "sentence was rated as  15.6 % Negative\n",
            "sentence was rated as  61.9 % Neutral\n",
            "sentence was rated as  22.6 % Positive\n",
            "Sentence Overall Rated As Positive\n",
            "Overall sentiment dictionary is :  {'neg': 0.085, 'neu': 0.725, 'pos': 0.19, 'compound': 0.988}\n",
            "sentence was rated as  8.5 % Negative\n",
            "sentence was rated as  72.5 % Neutral\n",
            "sentence was rated as  19.0 % Positive\n",
            "Sentence Overall Rated As Positive\n",
            "Overall sentiment dictionary is :  {'neg': 0.205, 'neu': 0.664, 'pos': 0.131, 'compound': -0.8481}\n",
            "sentence was rated as  20.5 % Negative\n",
            "sentence was rated as  66.4 % Neutral\n",
            "sentence was rated as  13.100000000000001 % Positive\n",
            "Sentence Overall Rated As Negative\n",
            "Overall sentiment dictionary is :  {'neg': 0.084, 'neu': 0.826, 'pos': 0.09, 'compound': -0.0772}\n",
            "sentence was rated as  8.4 % Negative\n",
            "sentence was rated as  82.6 % Neutral\n",
            "sentence was rated as  9.0 % Positive\n",
            "Sentence Overall Rated As Negative\n",
            "Overall sentiment dictionary is :  {'neg': 0.21, 'neu': 0.639, 'pos': 0.151, 'compound': -0.8277}\n",
            "sentence was rated as  21.0 % Negative\n",
            "sentence was rated as  63.9 % Neutral\n",
            "sentence was rated as  15.1 % Positive\n",
            "Sentence Overall Rated As Negative\n",
            "Overall sentiment dictionary is :  {'neg': 0.163, 'neu': 0.658, 'pos': 0.178, 'compound': 0.1679}\n",
            "sentence was rated as  16.3 % Negative\n",
            "sentence was rated as  65.8 % Neutral\n",
            "sentence was rated as  17.8 % Positive\n",
            "Sentence Overall Rated As Positive\n",
            "Overall sentiment dictionary is :  {'neg': 0.131, 'neu': 0.748, 'pos': 0.121, 'compound': -0.5475}\n",
            "sentence was rated as  13.100000000000001 % Negative\n",
            "sentence was rated as  74.8 % Neutral\n",
            "sentence was rated as  12.1 % Positive\n",
            "Sentence Overall Rated As Negative\n",
            "Overall sentiment dictionary is :  {'neg': 0.204, 'neu': 0.683, 'pos': 0.113, 'compound': -0.7653}\n",
            "sentence was rated as  20.4 % Negative\n",
            "sentence was rated as  68.30000000000001 % Neutral\n",
            "sentence was rated as  11.3 % Positive\n",
            "Sentence Overall Rated As Negative\n",
            "Overall sentiment dictionary is :  {'neg': 0.034, 'neu': 0.742, 'pos': 0.224, 'compound': 0.9545}\n",
            "sentence was rated as  3.4000000000000004 % Negative\n",
            "sentence was rated as  74.2 % Neutral\n",
            "sentence was rated as  22.400000000000002 % Positive\n",
            "Sentence Overall Rated As Positive\n",
            "Overall sentiment dictionary is :  {'neg': 0.026, 'neu': 0.766, 'pos': 0.208, 'compound': 0.9379}\n",
            "sentence was rated as  2.6 % Negative\n",
            "sentence was rated as  76.6 % Neutral\n",
            "sentence was rated as  20.8 % Positive\n",
            "Sentence Overall Rated As Positive\n",
            "Overall sentiment dictionary is :  {'neg': 0.125, 'neu': 0.671, 'pos': 0.204, 'compound': 0.5078}\n",
            "sentence was rated as  12.5 % Negative\n",
            "sentence was rated as  67.10000000000001 % Neutral\n",
            "sentence was rated as  20.4 % Positive\n",
            "Sentence Overall Rated As Positive\n",
            "Overall sentiment dictionary is :  {'neg': 0.12, 'neu': 0.618, 'pos': 0.263, 'compound': 0.9601}\n",
            "sentence was rated as  12.0 % Negative\n",
            "sentence was rated as  61.8 % Neutral\n",
            "sentence was rated as  26.3 % Positive\n",
            "Sentence Overall Rated As Positive\n",
            "Overall sentiment dictionary is :  {'neg': 0.196, 'neu': 0.607, 'pos': 0.197, 'compound': -0.228}\n",
            "sentence was rated as  19.6 % Negative\n",
            "sentence was rated as  60.699999999999996 % Neutral\n",
            "sentence was rated as  19.7 % Positive\n",
            "Sentence Overall Rated As Negative\n",
            "Overall sentiment dictionary is :  {'neg': 0.105, 'neu': 0.771, 'pos': 0.124, 'compound': 0.6547}\n",
            "sentence was rated as  10.5 % Negative\n",
            "sentence was rated as  77.10000000000001 % Neutral\n",
            "sentence was rated as  12.4 % Positive\n",
            "Sentence Overall Rated As Positive\n",
            "Overall sentiment dictionary is :  {'neg': 0.17, 'neu': 0.577, 'pos': 0.253, 'compound': 0.8348}\n",
            "sentence was rated as  17.0 % Negative\n",
            "sentence was rated as  57.699999999999996 % Neutral\n",
            "sentence was rated as  25.3 % Positive\n",
            "Sentence Overall Rated As Positive\n",
            "Overall sentiment dictionary is :  {'neg': 0.205, 'neu': 0.65, 'pos': 0.145, 'compound': -0.9939}\n",
            "sentence was rated as  20.5 % Negative\n",
            "sentence was rated as  65.0 % Neutral\n",
            "sentence was rated as  14.499999999999998 % Positive\n",
            "Sentence Overall Rated As Negative\n",
            "Overall sentiment dictionary is :  {'neg': 0.115, 'neu': 0.709, 'pos': 0.176, 'compound': 0.9201}\n",
            "sentence was rated as  11.5 % Negative\n",
            "sentence was rated as  70.89999999999999 % Neutral\n",
            "sentence was rated as  17.599999999999998 % Positive\n",
            "Sentence Overall Rated As Positive\n",
            "Overall sentiment dictionary is :  {'neg': 0.069, 'neu': 0.729, 'pos': 0.202, 'compound': 0.996}\n",
            "sentence was rated as  6.9 % Negative\n",
            "sentence was rated as  72.89999999999999 % Neutral\n",
            "sentence was rated as  20.200000000000003 % Positive\n",
            "Sentence Overall Rated As Positive\n",
            "Overall sentiment dictionary is :  {'neg': 0.07, 'neu': 0.705, 'pos': 0.225, 'compound': 0.9786}\n",
            "sentence was rated as  7.000000000000001 % Negative\n",
            "sentence was rated as  70.5 % Neutral\n",
            "sentence was rated as  22.5 % Positive\n",
            "Sentence Overall Rated As Positive\n",
            "Overall sentiment dictionary is :  {'neg': 0.09, 'neu': 0.781, 'pos': 0.129, 'compound': 0.6705}\n",
            "sentence was rated as  9.0 % Negative\n",
            "sentence was rated as  78.10000000000001 % Neutral\n",
            "sentence was rated as  12.9 % Positive\n",
            "Sentence Overall Rated As Positive\n",
            "Overall sentiment dictionary is :  {'neg': 0.137, 'neu': 0.586, 'pos': 0.277, 'compound': 0.9996}\n",
            "sentence was rated as  13.700000000000001 % Negative\n",
            "sentence was rated as  58.599999999999994 % Neutral\n",
            "sentence was rated as  27.700000000000003 % Positive\n",
            "Sentence Overall Rated As Positive\n",
            "Overall sentiment dictionary is :  {'neg': 0.308, 'neu': 0.346, 'pos': 0.346, 'compound': 0.5106}\n",
            "sentence was rated as  30.8 % Negative\n",
            "sentence was rated as  34.599999999999994 % Neutral\n",
            "sentence was rated as  34.599999999999994 % Positive\n",
            "Sentence Overall Rated As Positive\n",
            "Overall sentiment dictionary is :  {'neg': 0.052, 'neu': 0.754, 'pos': 0.194, 'compound': 0.802}\n",
            "sentence was rated as  5.2 % Negative\n",
            "sentence was rated as  75.4 % Neutral\n",
            "sentence was rated as  19.400000000000002 % Positive\n",
            "Sentence Overall Rated As Positive\n",
            "Overall sentiment dictionary is :  {'neg': 0.067, 'neu': 0.586, 'pos': 0.347, 'compound': 0.9169}\n",
            "sentence was rated as  6.7 % Negative\n",
            "sentence was rated as  58.599999999999994 % Neutral\n",
            "sentence was rated as  34.699999999999996 % Positive\n",
            "Sentence Overall Rated As Positive\n",
            "Overall sentiment dictionary is :  {'neg': 0.113, 'neu': 0.539, 'pos': 0.348, 'compound': 0.5859}\n",
            "sentence was rated as  11.3 % Negative\n",
            "sentence was rated as  53.900000000000006 % Neutral\n",
            "sentence was rated as  34.8 % Positive\n",
            "Sentence Overall Rated As Positive\n",
            "Overall sentiment dictionary is :  {'neg': 0.12, 'neu': 0.698, 'pos': 0.182, 'compound': 0.8967}\n",
            "sentence was rated as  12.0 % Negative\n",
            "sentence was rated as  69.8 % Neutral\n",
            "sentence was rated as  18.2 % Positive\n",
            "Sentence Overall Rated As Positive\n",
            "Overall sentiment dictionary is :  {'neg': 0.088, 'neu': 0.441, 'pos': 0.471, 'compound': 0.9062}\n",
            "sentence was rated as  8.799999999999999 % Negative\n",
            "sentence was rated as  44.1 % Neutral\n",
            "sentence was rated as  47.099999999999994 % Positive\n",
            "Sentence Overall Rated As Positive\n",
            "Overall sentiment dictionary is :  {'neg': 0.069, 'neu': 0.553, 'pos': 0.378, 'compound': 0.9894}\n",
            "sentence was rated as  6.9 % Negative\n",
            "sentence was rated as  55.300000000000004 % Neutral\n",
            "sentence was rated as  37.8 % Positive\n",
            "Sentence Overall Rated As Positive\n",
            "Overall sentiment dictionary is :  {'neg': 0.059, 'neu': 0.485, 'pos': 0.456, 'compound': 0.9408}\n",
            "sentence was rated as  5.8999999999999995 % Negative\n",
            "sentence was rated as  48.5 % Neutral\n",
            "sentence was rated as  45.6 % Positive\n",
            "Sentence Overall Rated As Positive\n",
            "Overall sentiment dictionary is :  {'neg': 0.018, 'neu': 0.597, 'pos': 0.385, 'compound': 0.9903}\n",
            "sentence was rated as  1.7999999999999998 % Negative\n",
            "sentence was rated as  59.699999999999996 % Neutral\n",
            "sentence was rated as  38.5 % Positive\n",
            "Sentence Overall Rated As Positive\n",
            "Overall sentiment dictionary is :  {'neg': 0.243, 'neu': 0.5, 'pos': 0.257, 'compound': 0.1531}\n",
            "sentence was rated as  24.3 % Negative\n",
            "sentence was rated as  50.0 % Neutral\n",
            "sentence was rated as  25.7 % Positive\n",
            "Sentence Overall Rated As Positive\n",
            "Overall sentiment dictionary is :  {'neg': 0.217, 'neu': 0.708, 'pos': 0.075, 'compound': -0.9893}\n",
            "sentence was rated as  21.7 % Negative\n",
            "sentence was rated as  70.8 % Neutral\n",
            "sentence was rated as  7.5 % Positive\n",
            "Sentence Overall Rated As Negative\n",
            "Overall sentiment dictionary is :  {'neg': 0.0, 'neu': 0.497, 'pos': 0.503, 'compound': 0.9729}\n",
            "sentence was rated as  0.0 % Negative\n",
            "sentence was rated as  49.7 % Neutral\n",
            "sentence was rated as  50.3 % Positive\n",
            "Sentence Overall Rated As Positive\n",
            "Overall sentiment dictionary is :  {'neg': 0.184, 'neu': 0.514, 'pos': 0.302, 'compound': 0.7579}\n",
            "sentence was rated as  18.4 % Negative\n",
            "sentence was rated as  51.4 % Neutral\n",
            "sentence was rated as  30.2 % Positive\n",
            "Sentence Overall Rated As Positive\n",
            "Overall sentiment dictionary is :  {'neg': 0.0, 'neu': 0.534, 'pos': 0.466, 'compound': 0.7269}\n",
            "sentence was rated as  0.0 % Negative\n",
            "sentence was rated as  53.400000000000006 % Neutral\n",
            "sentence was rated as  46.6 % Positive\n",
            "Sentence Overall Rated As Positive\n",
            "Overall sentiment dictionary is :  {'neg': 0.074, 'neu': 0.693, 'pos': 0.233, 'compound': 0.7845}\n",
            "sentence was rated as  7.3999999999999995 % Negative\n",
            "sentence was rated as  69.3 % Neutral\n",
            "sentence was rated as  23.3 % Positive\n",
            "Sentence Overall Rated As Positive\n",
            "Overall sentiment dictionary is :  {'neg': 0.0, 'neu': 0.505, 'pos': 0.495, 'compound': 0.9403}\n",
            "sentence was rated as  0.0 % Negative\n",
            "sentence was rated as  50.5 % Neutral\n",
            "sentence was rated as  49.5 % Positive\n",
            "Sentence Overall Rated As Positive\n",
            "Overall sentiment dictionary is :  {'neg': 0.0, 'neu': 0.65, 'pos': 0.35, 'compound': 0.9542}\n",
            "sentence was rated as  0.0 % Negative\n",
            "sentence was rated as  65.0 % Neutral\n",
            "sentence was rated as  35.0 % Positive\n",
            "Sentence Overall Rated As Positive\n",
            "Overall sentiment dictionary is :  {'neg': 0.0, 'neu': 0.669, 'pos': 0.331, 'compound': 0.836}\n",
            "sentence was rated as  0.0 % Negative\n",
            "sentence was rated as  66.9 % Neutral\n",
            "sentence was rated as  33.1 % Positive\n",
            "Sentence Overall Rated As Positive\n",
            "Overall sentiment dictionary is :  {'neg': 0.102, 'neu': 0.422, 'pos': 0.476, 'compound': 0.802}\n",
            "sentence was rated as  10.2 % Negative\n",
            "sentence was rated as  42.199999999999996 % Neutral\n",
            "sentence was rated as  47.599999999999994 % Positive\n",
            "Sentence Overall Rated As Positive\n",
            "Overall sentiment dictionary is :  {'neg': 0.296, 'neu': 0.47, 'pos': 0.234, 'compound': -0.2766}\n",
            "sentence was rated as  29.599999999999998 % Negative\n",
            "sentence was rated as  47.0 % Neutral\n",
            "sentence was rated as  23.400000000000002 % Positive\n",
            "Sentence Overall Rated As Negative\n",
            "Overall sentiment dictionary is :  {'neg': 0.045, 'neu': 0.602, 'pos': 0.353, 'compound': 0.8481}\n",
            "sentence was rated as  4.5 % Negative\n",
            "sentence was rated as  60.199999999999996 % Neutral\n",
            "sentence was rated as  35.3 % Positive\n",
            "Sentence Overall Rated As Positive\n",
            "Overall sentiment dictionary is :  {'neg': 0.064, 'neu': 0.702, 'pos': 0.235, 'compound': 0.9882}\n",
            "sentence was rated as  6.4 % Negative\n",
            "sentence was rated as  70.19999999999999 % Neutral\n",
            "sentence was rated as  23.5 % Positive\n",
            "Sentence Overall Rated As Positive\n",
            "Overall sentiment dictionary is :  {'neg': 0.043, 'neu': 0.733, 'pos': 0.224, 'compound': 0.8717}\n",
            "sentence was rated as  4.3 % Negative\n",
            "sentence was rated as  73.3 % Neutral\n",
            "sentence was rated as  22.400000000000002 % Positive\n",
            "Sentence Overall Rated As Positive\n",
            "Overall sentiment dictionary is :  {'neg': 0.111, 'neu': 0.577, 'pos': 0.313, 'compound': 0.9686}\n",
            "sentence was rated as  11.1 % Negative\n",
            "sentence was rated as  57.699999999999996 % Neutral\n",
            "sentence was rated as  31.3 % Positive\n",
            "Sentence Overall Rated As Positive\n",
            "Overall sentiment dictionary is :  {'neg': 0.0, 'neu': 0.733, 'pos': 0.267, 'compound': 0.8062}\n",
            "sentence was rated as  0.0 % Negative\n",
            "sentence was rated as  73.3 % Neutral\n",
            "sentence was rated as  26.700000000000003 % Positive\n",
            "Sentence Overall Rated As Positive\n",
            "Overall sentiment dictionary is :  {'neg': 0.22, 'neu': 0.614, 'pos': 0.166, 'compound': -0.7585}\n",
            "sentence was rated as  22.0 % Negative\n",
            "sentence was rated as  61.4 % Neutral\n",
            "sentence was rated as  16.6 % Positive\n",
            "Sentence Overall Rated As Negative\n",
            "Overall sentiment dictionary is :  {'neg': 0.158, 'neu': 0.532, 'pos': 0.31, 'compound': 0.9667}\n",
            "sentence was rated as  15.8 % Negative\n",
            "sentence was rated as  53.2 % Neutral\n",
            "sentence was rated as  31.0 % Positive\n",
            "Sentence Overall Rated As Positive\n",
            "Overall sentiment dictionary is :  {'neg': 0.202, 'neu': 0.654, 'pos': 0.145, 'compound': -0.7692}\n",
            "sentence was rated as  20.200000000000003 % Negative\n",
            "sentence was rated as  65.4 % Neutral\n",
            "sentence was rated as  14.499999999999998 % Positive\n",
            "Sentence Overall Rated As Negative\n",
            "Overall sentiment dictionary is :  {'neg': 0.147, 'neu': 0.662, 'pos': 0.192, 'compound': 0.853}\n",
            "sentence was rated as  14.7 % Negative\n",
            "sentence was rated as  66.2 % Neutral\n",
            "sentence was rated as  19.2 % Positive\n",
            "Sentence Overall Rated As Positive\n",
            "Overall sentiment dictionary is :  {'neg': 0.132, 'neu': 0.614, 'pos': 0.254, 'compound': 0.9964}\n",
            "sentence was rated as  13.200000000000001 % Negative\n",
            "sentence was rated as  61.4 % Neutral\n",
            "sentence was rated as  25.4 % Positive\n",
            "Sentence Overall Rated As Positive\n",
            "Overall sentiment dictionary is :  {'neg': 0.217, 'neu': 0.637, 'pos': 0.146, 'compound': -0.9493}\n",
            "sentence was rated as  21.7 % Negative\n",
            "sentence was rated as  63.7 % Neutral\n",
            "sentence was rated as  14.6 % Positive\n",
            "Sentence Overall Rated As Negative\n",
            "Overall sentiment dictionary is :  {'neg': 0.19, 'neu': 0.529, 'pos': 0.281, 'compound': 0.864}\n",
            "sentence was rated as  19.0 % Negative\n",
            "sentence was rated as  52.900000000000006 % Neutral\n",
            "sentence was rated as  28.1 % Positive\n",
            "Sentence Overall Rated As Positive\n",
            "Overall sentiment dictionary is :  {'neg': 0.152, 'neu': 0.666, 'pos': 0.182, 'compound': 0.2749}\n",
            "sentence was rated as  15.2 % Negative\n",
            "sentence was rated as  66.60000000000001 % Neutral\n",
            "sentence was rated as  18.2 % Positive\n",
            "Sentence Overall Rated As Positive\n",
            "Overall sentiment dictionary is :  {'neg': 0.144, 'neu': 0.598, 'pos': 0.258, 'compound': 0.9953}\n",
            "sentence was rated as  14.399999999999999 % Negative\n",
            "sentence was rated as  59.8 % Neutral\n",
            "sentence was rated as  25.8 % Positive\n",
            "Sentence Overall Rated As Positive\n",
            "Overall sentiment dictionary is :  {'neg': 0.128, 'neu': 0.649, 'pos': 0.223, 'compound': 0.9566}\n",
            "sentence was rated as  12.8 % Negative\n",
            "sentence was rated as  64.9 % Neutral\n",
            "sentence was rated as  22.3 % Positive\n",
            "Sentence Overall Rated As Positive\n",
            "Overall sentiment dictionary is :  {'neg': 0.148, 'neu': 0.637, 'pos': 0.215, 'compound': 0.9029}\n",
            "sentence was rated as  14.799999999999999 % Negative\n",
            "sentence was rated as  63.7 % Neutral\n",
            "sentence was rated as  21.5 % Positive\n",
            "Sentence Overall Rated As Positive\n",
            "Overall sentiment dictionary is :  {'neg': 0.16, 'neu': 0.526, 'pos': 0.314, 'compound': 0.9815}\n",
            "sentence was rated as  16.0 % Negative\n",
            "sentence was rated as  52.6 % Neutral\n",
            "sentence was rated as  31.4 % Positive\n",
            "Sentence Overall Rated As Positive\n",
            "Overall sentiment dictionary is :  {'neg': 0.119, 'neu': 0.519, 'pos': 0.363, 'compound': 0.765}\n",
            "sentence was rated as  11.899999999999999 % Negative\n",
            "sentence was rated as  51.9 % Neutral\n",
            "sentence was rated as  36.3 % Positive\n",
            "Sentence Overall Rated As Positive\n",
            "Overall sentiment dictionary is :  {'neg': 0.21, 'neu': 0.653, 'pos': 0.137, 'compound': -0.5312}\n",
            "sentence was rated as  21.0 % Negative\n",
            "sentence was rated as  65.3 % Neutral\n",
            "sentence was rated as  13.700000000000001 % Positive\n",
            "Sentence Overall Rated As Negative\n",
            "Overall sentiment dictionary is :  {'neg': 0.256, 'neu': 0.521, 'pos': 0.223, 'compound': -0.1779}\n",
            "sentence was rated as  25.6 % Negative\n",
            "sentence was rated as  52.1 % Neutral\n",
            "sentence was rated as  22.3 % Positive\n",
            "Sentence Overall Rated As Negative\n",
            "Overall sentiment dictionary is :  {'neg': 0.263, 'neu': 0.588, 'pos': 0.149, 'compound': -0.7164}\n",
            "sentence was rated as  26.3 % Negative\n",
            "sentence was rated as  58.8 % Neutral\n",
            "sentence was rated as  14.899999999999999 % Positive\n",
            "Sentence Overall Rated As Negative\n",
            "Overall sentiment dictionary is :  {'neg': 0.205, 'neu': 0.664, 'pos': 0.131, 'compound': -0.8481}\n",
            "sentence was rated as  20.5 % Negative\n",
            "sentence was rated as  66.4 % Neutral\n",
            "sentence was rated as  13.100000000000001 % Positive\n",
            "Sentence Overall Rated As Negative\n",
            "Overall sentiment dictionary is :  {'neg': 0.185, 'neu': 0.613, 'pos': 0.203, 'compound': 0.7496}\n",
            "sentence was rated as  18.5 % Negative\n",
            "sentence was rated as  61.3 % Neutral\n",
            "sentence was rated as  20.3 % Positive\n",
            "Sentence Overall Rated As Positive\n",
            "Overall sentiment dictionary is :  {'neg': 0.17, 'neu': 0.577, 'pos': 0.253, 'compound': 0.8348}\n",
            "sentence was rated as  17.0 % Negative\n",
            "sentence was rated as  57.699999999999996 % Neutral\n",
            "sentence was rated as  25.3 % Positive\n",
            "Sentence Overall Rated As Positive\n",
            "Overall sentiment dictionary is :  {'neg': 0.114, 'neu': 0.637, 'pos': 0.249, 'compound': 0.9857}\n",
            "sentence was rated as  11.4 % Negative\n",
            "sentence was rated as  63.7 % Neutral\n",
            "sentence was rated as  24.9 % Positive\n",
            "Sentence Overall Rated As Positive\n",
            "Overall sentiment dictionary is :  {'neg': 0.061, 'neu': 0.76, 'pos': 0.179, 'compound': 0.8142}\n",
            "sentence was rated as  6.1 % Negative\n",
            "sentence was rated as  76.0 % Neutral\n",
            "sentence was rated as  17.9 % Positive\n",
            "Sentence Overall Rated As Positive\n",
            "Overall sentiment dictionary is :  {'neg': 0.178, 'neu': 0.559, 'pos': 0.262, 'compound': 0.34}\n",
            "sentence was rated as  17.8 % Negative\n",
            "sentence was rated as  55.900000000000006 % Neutral\n",
            "sentence was rated as  26.200000000000003 % Positive\n",
            "Sentence Overall Rated As Positive\n",
            "Overall sentiment dictionary is :  {'neg': 0.106, 'neu': 0.631, 'pos': 0.264, 'compound': 0.9693}\n",
            "sentence was rated as  10.6 % Negative\n",
            "sentence was rated as  63.1 % Neutral\n",
            "sentence was rated as  26.400000000000002 % Positive\n",
            "Sentence Overall Rated As Positive\n",
            "Overall sentiment dictionary is :  {'neg': 0.079, 'neu': 0.613, 'pos': 0.307, 'compound': 0.8373}\n",
            "sentence was rated as  7.9 % Negative\n",
            "sentence was rated as  61.3 % Neutral\n",
            "sentence was rated as  30.7 % Positive\n",
            "Sentence Overall Rated As Positive\n",
            "Overall sentiment dictionary is :  {'neg': 0.096, 'neu': 0.624, 'pos': 0.28, 'compound': 0.8294}\n",
            "sentence was rated as  9.6 % Negative\n",
            "sentence was rated as  62.4 % Neutral\n",
            "sentence was rated as  28.000000000000004 % Positive\n",
            "Sentence Overall Rated As Positive\n"
          ]
        },
        {
          "output_type": "execute_result",
          "data": {
            "text/plain": [
              "0      None\n",
              "1      None\n",
              "2      None\n",
              "3      None\n",
              "4      None\n",
              "       ... \n",
              "145    None\n",
              "146    None\n",
              "147    None\n",
              "148    None\n",
              "149    None\n",
              "Name: cleaned_text, Length: 150, dtype: object"
            ]
          },
          "metadata": {},
          "execution_count": 199
        }
      ]
    },
    {
      "cell_type": "code",
      "source": [
        "len(temp_list)"
      ],
      "metadata": {
        "colab": {
          "base_uri": "https://localhost:8080/"
        },
        "id": "0Rw3BfP2u-6n",
        "outputId": "5e4f50f3-65f1-4c6a-e5ab-3ed47546e6e9"
      },
      "execution_count": null,
      "outputs": [
        {
          "output_type": "execute_result",
          "data": {
            "text/plain": [
              "150"
            ]
          },
          "metadata": {},
          "execution_count": 201
        }
      ]
    },
    {
      "cell_type": "code",
      "source": [
        "data['sentiment'] = temp_list"
      ],
      "metadata": {
        "id": "wYQ4PUqovNMi"
      },
      "execution_count": null,
      "outputs": []
    },
    {
      "cell_type": "code",
      "source": [
        "data.sentiment.value_counts()"
      ],
      "metadata": {
        "colab": {
          "base_uri": "https://localhost:8080/"
        },
        "id": "zAEijuq8vRrN",
        "outputId": "413e97ee-3f58-44f4-eb67-5a0f7afe46bf"
      },
      "execution_count": null,
      "outputs": [
        {
          "output_type": "execute_result",
          "data": {
            "text/plain": [
              "Positive    103\n",
              "Negative     46\n",
              "Neutral       1\n",
              "Name: sentiment, dtype: int64"
            ]
          },
          "metadata": {},
          "execution_count": 204
        }
      ]
    },
    {
      "cell_type": "markdown",
      "source": [
        "Since there is only one neutral, we replace it by Positive"
      ],
      "metadata": {
        "id": "_5naViWbJSaX"
      }
    },
    {
      "cell_type": "code",
      "source": [
        "data.replace('Neutral','Positive',inplace=True)"
      ],
      "metadata": {
        "id": "TYGHrAOxYP1P"
      },
      "execution_count": null,
      "outputs": []
    },
    {
      "cell_type": "code",
      "source": [
        "data.to_excel('/content/drive/MyDrive/Code Practice/Scrapped Dataset/bond_vader.xlsx')"
      ],
      "metadata": {
        "id": "r2mVMwDVwGNi"
      },
      "execution_count": null,
      "outputs": []
    },
    {
      "cell_type": "code",
      "source": [
        "data = pd.read_excel('/content/drive/MyDrive/Code Practice/Scrapped Dataset/bond_vader.xlsx')"
      ],
      "metadata": {
        "id": "0yUG4kvT9-6D"
      },
      "execution_count": null,
      "outputs": []
    },
    {
      "cell_type": "markdown",
      "source": [
        "## 2.5 Stemming"
      ],
      "metadata": {
        "id": "jCxmV81plkWw"
      }
    },
    {
      "cell_type": "markdown",
      "source": [
        "Performing stemming on the words using Porter Stemmer"
      ],
      "metadata": {
        "id": "bHksjUubJXDJ"
      }
    },
    {
      "cell_type": "code",
      "source": [
        "import nltk\n",
        "nltk.download(\"stopwords\")\n",
        "nltk.download(\"punkt\")\n",
        "nltk.download(\"wordnet\")\n",
        "from nltk.stem import PorterStemmer\n",
        "from nltk.tokenize import word_tokenize\n",
        "ps = PorterStemmer()"
      ],
      "metadata": {
        "id": "FbGznnFCldKK",
        "colab": {
          "base_uri": "https://localhost:8080/"
        },
        "outputId": "6eec910d-f881-4327-ecd3-9b293bd458fb"
      },
      "execution_count": null,
      "outputs": [
        {
          "output_type": "stream",
          "name": "stderr",
          "text": [
            "[nltk_data] Downloading package stopwords to /root/nltk_data...\n",
            "[nltk_data]   Unzipping corpora/stopwords.zip.\n",
            "[nltk_data] Downloading package punkt to /root/nltk_data...\n",
            "[nltk_data]   Unzipping tokenizers/punkt.zip.\n",
            "[nltk_data] Downloading package wordnet to /root/nltk_data...\n"
          ]
        }
      ]
    },
    {
      "cell_type": "code",
      "source": [
        "def stem_words(reviews):\n",
        "  words = word_tokenize(reviews)\n",
        "  temp = [ps.stem(word) for word in words]\n",
        "  return \" \".join(temp)\n",
        "\n",
        "st_revs = data[\"cleaned_text\"].apply(stem_words)"
      ],
      "metadata": {
        "id": "wvMMZgaplnUs"
      },
      "execution_count": null,
      "outputs": []
    },
    {
      "cell_type": "code",
      "source": [
        "data[\"cleaned_text\"] = st_revs"
      ],
      "metadata": {
        "id": "19_alZ1prU51"
      },
      "execution_count": null,
      "outputs": []
    },
    {
      "cell_type": "markdown",
      "source": [
        "## 2.6 Lemmatization"
      ],
      "metadata": {
        "id": "hnHH2ndKl_p7"
      }
    },
    {
      "cell_type": "markdown",
      "source": [
        "Lemmatizing the words usinf WordNet Lemmatizer"
      ],
      "metadata": {
        "id": "WzXsYFekJcpA"
      }
    },
    {
      "cell_type": "code",
      "source": [
        "from nltk import WordNetLemmatizer\n",
        "lm = WordNetLemmatizer()"
      ],
      "metadata": {
        "id": "BFp27jJQl7Gd"
      },
      "execution_count": null,
      "outputs": []
    },
    {
      "cell_type": "code",
      "source": [
        "def lemma(reviews):\n",
        "  words = word_tokenize(reviews)\n",
        "  temp = [lm.lemmatize(word) for word in words]\n",
        "  return \" \".join(temp)\n",
        "revs = st_revs\n",
        "lm_revs = data[\"cleaned_text\"].apply(lemma)"
      ],
      "metadata": {
        "id": "gs0d2uLnmH8U"
      },
      "execution_count": null,
      "outputs": []
    },
    {
      "cell_type": "code",
      "source": [
        "lm_revs"
      ],
      "metadata": {
        "colab": {
          "base_uri": "https://localhost:8080/"
        },
        "id": "KFtFbcYPmcQY",
        "outputId": "34b558b1-59e0-45dd-8a2c-9d5fcda0fe64"
      },
      "execution_count": null,
      "outputs": [
        {
          "output_type": "execute_result",
          "data": {
            "text/plain": [
              "0      well goodthi movi feel like written committe a...\n",
              "1      one hardli know begin dissect latest bond film...\n",
              "2      thi bond movi confus rather tediou mess the co...\n",
              "3      it slow seriou moodi sulki it trend last bond ...\n",
              "4      when i go see bond movi im look lush music exo...\n",
              "                             ...                        \n",
              "145    jame bond alway advantag film standalon no tim...\n",
              "146    no way world jame bond would ever get weak wom...\n",
              "147    it start like scari movi without main charact ...\n",
              "148    well view entri bond franchis i see need end s...\n",
              "149    film merci bond truli hit rock bottom award po...\n",
              "Name: cleaned_text, Length: 150, dtype: object"
            ]
          },
          "metadata": {},
          "execution_count": 14
        }
      ]
    },
    {
      "cell_type": "code",
      "source": [
        "data[\"cleaned_text\"] = lm_revs"
      ],
      "metadata": {
        "id": "2D0janbam6U6"
      },
      "execution_count": null,
      "outputs": []
    },
    {
      "cell_type": "code",
      "source": [
        "data.head()"
      ],
      "metadata": {
        "colab": {
          "base_uri": "https://localhost:8080/",
          "height": 206
        },
        "id": "hKCsCOgSr2LK",
        "outputId": "bc7b4a00-5a0d-42fb-fa11-890dcb88a95e"
      },
      "execution_count": null,
      "outputs": [
        {
          "output_type": "execute_result",
          "data": {
            "text/plain": [
              "   Unnamed: 0.1  Unnamed: 0  \\\n",
              "0             0           0   \n",
              "1             1           1   \n",
              "2             2           2   \n",
              "3             3           3   \n",
              "4             4           4   \n",
              "\n",
              "                                              Review  \\\n",
              "0  <div class=\"text show-more__control\">Well, tha...   \n",
              "1  <div class=\"text show-more__control\">One hardl...   \n",
              "2  <div class=\"text show-more__control\">This Bond...   \n",
              "3  <div class=\"text show-more__control\">It's slow...   \n",
              "4  <div class=\"text show-more__control\">When I go...   \n",
              "\n",
              "                                        cleaned_text sentiment  \n",
              "0  well goodthi movi feel like written committe a...  Negative  \n",
              "1  one hardli know begin dissect latest bond film...  Positive  \n",
              "2  thi bond movi confus rather tediou mess the co...  Negative  \n",
              "3  it slow seriou moodi sulki it trend last bond ...  Negative  \n",
              "4  when i go see bond movi im look lush music exo...  Negative  "
            ],
            "text/html": [
              "\n",
              "  <div id=\"df-4f04f46b-edf1-4ec5-a9c7-11d2783c51bf\" class=\"colab-df-container\">\n",
              "    <div>\n",
              "<style scoped>\n",
              "    .dataframe tbody tr th:only-of-type {\n",
              "        vertical-align: middle;\n",
              "    }\n",
              "\n",
              "    .dataframe tbody tr th {\n",
              "        vertical-align: top;\n",
              "    }\n",
              "\n",
              "    .dataframe thead th {\n",
              "        text-align: right;\n",
              "    }\n",
              "</style>\n",
              "<table border=\"1\" class=\"dataframe\">\n",
              "  <thead>\n",
              "    <tr style=\"text-align: right;\">\n",
              "      <th></th>\n",
              "      <th>Unnamed: 0.1</th>\n",
              "      <th>Unnamed: 0</th>\n",
              "      <th>Review</th>\n",
              "      <th>cleaned_text</th>\n",
              "      <th>sentiment</th>\n",
              "    </tr>\n",
              "  </thead>\n",
              "  <tbody>\n",
              "    <tr>\n",
              "      <th>0</th>\n",
              "      <td>0</td>\n",
              "      <td>0</td>\n",
              "      <td>&lt;div class=\"text show-more__control\"&gt;Well, tha...</td>\n",
              "      <td>well goodthi movi feel like written committe a...</td>\n",
              "      <td>Negative</td>\n",
              "    </tr>\n",
              "    <tr>\n",
              "      <th>1</th>\n",
              "      <td>1</td>\n",
              "      <td>1</td>\n",
              "      <td>&lt;div class=\"text show-more__control\"&gt;One hardl...</td>\n",
              "      <td>one hardli know begin dissect latest bond film...</td>\n",
              "      <td>Positive</td>\n",
              "    </tr>\n",
              "    <tr>\n",
              "      <th>2</th>\n",
              "      <td>2</td>\n",
              "      <td>2</td>\n",
              "      <td>&lt;div class=\"text show-more__control\"&gt;This Bond...</td>\n",
              "      <td>thi bond movi confus rather tediou mess the co...</td>\n",
              "      <td>Negative</td>\n",
              "    </tr>\n",
              "    <tr>\n",
              "      <th>3</th>\n",
              "      <td>3</td>\n",
              "      <td>3</td>\n",
              "      <td>&lt;div class=\"text show-more__control\"&gt;It's slow...</td>\n",
              "      <td>it slow seriou moodi sulki it trend last bond ...</td>\n",
              "      <td>Negative</td>\n",
              "    </tr>\n",
              "    <tr>\n",
              "      <th>4</th>\n",
              "      <td>4</td>\n",
              "      <td>4</td>\n",
              "      <td>&lt;div class=\"text show-more__control\"&gt;When I go...</td>\n",
              "      <td>when i go see bond movi im look lush music exo...</td>\n",
              "      <td>Negative</td>\n",
              "    </tr>\n",
              "  </tbody>\n",
              "</table>\n",
              "</div>\n",
              "    <div class=\"colab-df-buttons\">\n",
              "\n",
              "  <div class=\"colab-df-container\">\n",
              "    <button class=\"colab-df-convert\" onclick=\"convertToInteractive('df-4f04f46b-edf1-4ec5-a9c7-11d2783c51bf')\"\n",
              "            title=\"Convert this dataframe to an interactive table.\"\n",
              "            style=\"display:none;\">\n",
              "\n",
              "  <svg xmlns=\"http://www.w3.org/2000/svg\" height=\"24px\" viewBox=\"0 -960 960 960\">\n",
              "    <path d=\"M120-120v-720h720v720H120Zm60-500h600v-160H180v160Zm220 220h160v-160H400v160Zm0 220h160v-160H400v160ZM180-400h160v-160H180v160Zm440 0h160v-160H620v160ZM180-180h160v-160H180v160Zm440 0h160v-160H620v160Z\"/>\n",
              "  </svg>\n",
              "    </button>\n",
              "\n",
              "  <style>\n",
              "    .colab-df-container {\n",
              "      display:flex;\n",
              "      gap: 12px;\n",
              "    }\n",
              "\n",
              "    .colab-df-convert {\n",
              "      background-color: #E8F0FE;\n",
              "      border: none;\n",
              "      border-radius: 50%;\n",
              "      cursor: pointer;\n",
              "      display: none;\n",
              "      fill: #1967D2;\n",
              "      height: 32px;\n",
              "      padding: 0 0 0 0;\n",
              "      width: 32px;\n",
              "    }\n",
              "\n",
              "    .colab-df-convert:hover {\n",
              "      background-color: #E2EBFA;\n",
              "      box-shadow: 0px 1px 2px rgba(60, 64, 67, 0.3), 0px 1px 3px 1px rgba(60, 64, 67, 0.15);\n",
              "      fill: #174EA6;\n",
              "    }\n",
              "\n",
              "    .colab-df-buttons div {\n",
              "      margin-bottom: 4px;\n",
              "    }\n",
              "\n",
              "    [theme=dark] .colab-df-convert {\n",
              "      background-color: #3B4455;\n",
              "      fill: #D2E3FC;\n",
              "    }\n",
              "\n",
              "    [theme=dark] .colab-df-convert:hover {\n",
              "      background-color: #434B5C;\n",
              "      box-shadow: 0px 1px 3px 1px rgba(0, 0, 0, 0.15);\n",
              "      filter: drop-shadow(0px 1px 2px rgba(0, 0, 0, 0.3));\n",
              "      fill: #FFFFFF;\n",
              "    }\n",
              "  </style>\n",
              "\n",
              "    <script>\n",
              "      const buttonEl =\n",
              "        document.querySelector('#df-4f04f46b-edf1-4ec5-a9c7-11d2783c51bf button.colab-df-convert');\n",
              "      buttonEl.style.display =\n",
              "        google.colab.kernel.accessAllowed ? 'block' : 'none';\n",
              "\n",
              "      async function convertToInteractive(key) {\n",
              "        const element = document.querySelector('#df-4f04f46b-edf1-4ec5-a9c7-11d2783c51bf');\n",
              "        const dataTable =\n",
              "          await google.colab.kernel.invokeFunction('convertToInteractive',\n",
              "                                                    [key], {});\n",
              "        if (!dataTable) return;\n",
              "\n",
              "        const docLinkHtml = 'Like what you see? Visit the ' +\n",
              "          '<a target=\"_blank\" href=https://colab.research.google.com/notebooks/data_table.ipynb>data table notebook</a>'\n",
              "          + ' to learn more about interactive tables.';\n",
              "        element.innerHTML = '';\n",
              "        dataTable['output_type'] = 'display_data';\n",
              "        await google.colab.output.renderOutput(dataTable, element);\n",
              "        const docLink = document.createElement('div');\n",
              "        docLink.innerHTML = docLinkHtml;\n",
              "        element.appendChild(docLink);\n",
              "      }\n",
              "    </script>\n",
              "  </div>\n",
              "\n",
              "\n",
              "<div id=\"df-34f24f5e-f663-4446-a272-8706a9fcc1e2\">\n",
              "  <button class=\"colab-df-quickchart\" onclick=\"quickchart('df-34f24f5e-f663-4446-a272-8706a9fcc1e2')\"\n",
              "            title=\"Suggest charts.\"\n",
              "            style=\"display:none;\">\n",
              "\n",
              "<svg xmlns=\"http://www.w3.org/2000/svg\" height=\"24px\"viewBox=\"0 0 24 24\"\n",
              "     width=\"24px\">\n",
              "    <g>\n",
              "        <path d=\"M19 3H5c-1.1 0-2 .9-2 2v14c0 1.1.9 2 2 2h14c1.1 0 2-.9 2-2V5c0-1.1-.9-2-2-2zM9 17H7v-7h2v7zm4 0h-2V7h2v10zm4 0h-2v-4h2v4z\"/>\n",
              "    </g>\n",
              "</svg>\n",
              "  </button>\n",
              "\n",
              "<style>\n",
              "  .colab-df-quickchart {\n",
              "    background-color: #E8F0FE;\n",
              "    border: none;\n",
              "    border-radius: 50%;\n",
              "    cursor: pointer;\n",
              "    display: none;\n",
              "    fill: #1967D2;\n",
              "    height: 32px;\n",
              "    padding: 0 0 0 0;\n",
              "    width: 32px;\n",
              "  }\n",
              "\n",
              "  .colab-df-quickchart:hover {\n",
              "    background-color: #E2EBFA;\n",
              "    box-shadow: 0px 1px 2px rgba(60, 64, 67, 0.3), 0px 1px 3px 1px rgba(60, 64, 67, 0.15);\n",
              "    fill: #174EA6;\n",
              "  }\n",
              "\n",
              "  [theme=dark] .colab-df-quickchart {\n",
              "    background-color: #3B4455;\n",
              "    fill: #D2E3FC;\n",
              "  }\n",
              "\n",
              "  [theme=dark] .colab-df-quickchart:hover {\n",
              "    background-color: #434B5C;\n",
              "    box-shadow: 0px 1px 3px 1px rgba(0, 0, 0, 0.15);\n",
              "    filter: drop-shadow(0px 1px 2px rgba(0, 0, 0, 0.3));\n",
              "    fill: #FFFFFF;\n",
              "  }\n",
              "</style>\n",
              "\n",
              "  <script>\n",
              "    async function quickchart(key) {\n",
              "      const charts = await google.colab.kernel.invokeFunction(\n",
              "          'suggestCharts', [key], {});\n",
              "    }\n",
              "    (() => {\n",
              "      let quickchartButtonEl =\n",
              "        document.querySelector('#df-34f24f5e-f663-4446-a272-8706a9fcc1e2 button');\n",
              "      quickchartButtonEl.style.display =\n",
              "        google.colab.kernel.accessAllowed ? 'block' : 'none';\n",
              "    })();\n",
              "  </script>\n",
              "</div>\n",
              "    </div>\n",
              "  </div>\n"
            ]
          },
          "metadata": {},
          "execution_count": 16
        }
      ]
    },
    {
      "cell_type": "code",
      "source": [
        "import matplotlib.pyplot as plt\n",
        "import seaborn as sns"
      ],
      "metadata": {
        "id": "M5bCZGrkW8lU"
      },
      "execution_count": null,
      "outputs": []
    },
    {
      "cell_type": "markdown",
      "source": [
        "Encoding the categorical values using Label Encoder"
      ],
      "metadata": {
        "id": "whlHfgC_KI2A"
      }
    },
    {
      "cell_type": "code",
      "source": [
        "from sklearn.preprocessing import LabelEncoder\n",
        "lb = LabelEncoder()\n",
        "data['enc_sentiment'] = lb.fit_transform(data['sentiment'])"
      ],
      "metadata": {
        "id": "IfLDnXfrXNtc"
      },
      "execution_count": null,
      "outputs": []
    },
    {
      "cell_type": "code",
      "source": [
        "data['enc_sentiment']"
      ],
      "metadata": {
        "colab": {
          "base_uri": "https://localhost:8080/"
        },
        "id": "nMeMUzvbXjoI",
        "outputId": "5d71f96b-4040-450a-b352-4c2df333f3ea"
      },
      "execution_count": null,
      "outputs": [
        {
          "output_type": "execute_result",
          "data": {
            "text/plain": [
              "0      0\n",
              "1      1\n",
              "2      0\n",
              "3      0\n",
              "4      0\n",
              "      ..\n",
              "145    1\n",
              "146    1\n",
              "147    1\n",
              "148    1\n",
              "149    1\n",
              "Name: enc_sentiment, Length: 150, dtype: int64"
            ]
          },
          "metadata": {},
          "execution_count": 131
        }
      ]
    },
    {
      "cell_type": "code",
      "source": [
        "data['enc_sentiment'].value_counts().plot(kind='bar')"
      ],
      "metadata": {
        "colab": {
          "base_uri": "https://localhost:8080/",
          "height": 442
        },
        "id": "IFgap5MFXBtl",
        "outputId": "e5b24473-e13e-418e-ca45-07999817a033"
      },
      "execution_count": null,
      "outputs": [
        {
          "output_type": "execute_result",
          "data": {
            "text/plain": [
              "<Axes: >"
            ]
          },
          "metadata": {},
          "execution_count": 132
        },
        {
          "output_type": "display_data",
          "data": {
            "text/plain": [
              "<Figure size 640x480 with 1 Axes>"
            ],
            "image/png": "[encoded data removed]"
          },
          "metadata": {}
        }
      ]
    },
    {
      "cell_type": "markdown",
      "source": [
        "## 2.7 Count Vectorization using Tf-Idf"
      ],
      "metadata": {
        "id": "zS344sJjw_Ah"
      }
    },
    {
      "cell_type": "code",
      "source": [
        "from sklearn.feature_extraction.text import TfidfVectorizer"
      ],
      "metadata": {
        "id": "zTBNyuSxw-NV"
      },
      "execution_count": null,
      "outputs": []
    },
    {
      "cell_type": "code",
      "source": [
        "bow_vector = TfidfVectorizer(max_df=0.90,\n",
        "                            min_df=2,\n",
        "                            max_features = 1000,\n",
        "                            stop_words = 'english')"
      ],
      "metadata": {
        "id": "gxAo2QyeAEdJ"
      },
      "execution_count": null,
      "outputs": []
    },
    {
      "cell_type": "code",
      "source": [
        "bow = bow_vector.fit_transform(data['cleaned_text'])"
      ],
      "metadata": {
        "id": "mQKjdcXGDkxh"
      },
      "execution_count": null,
      "outputs": []
    },
    {
      "cell_type": "code",
      "source": [
        "bow_vector_names = bow_vector.get_feature_names_out()"
      ],
      "metadata": {
        "id": "3hgr_14FDsX7"
      },
      "execution_count": null,
      "outputs": []
    },
    {
      "cell_type": "code",
      "source": [
        "model_data = pd.DataFrame(bow.toarray(),columns=bow_vector_names)"
      ],
      "metadata": {
        "id": "onVM1HzTD1_7"
      },
      "execution_count": null,
      "outputs": []
    },
    {
      "cell_type": "code",
      "source": [
        "model_data"
      ],
      "metadata": {
        "colab": {
          "base_uri": "https://localhost:8080/",
          "height": 443
        },
        "id": "sQJwj7drED_G",
        "outputId": "77aab38a-6603-440a-f033-045b114f5c05"
      },
      "execution_count": null,
      "outputs": [
        {
          "output_type": "execute_result",
          "data": {
            "text/plain": [
              "     abl  absolut  accept  accomplish       act    action  actor  actress  \\\n",
              "0    0.0      0.0     0.0    0.031808  0.040425  0.013103    0.0      0.0   \n",
              "1    0.0      0.0     0.0    0.000000  0.000000  0.053098    0.0      0.0   \n",
              "2    0.0      0.0     0.0    0.000000  0.000000  0.000000    0.0      0.0   \n",
              "3    0.0      0.0     0.0    0.000000  0.000000  0.110783    0.0      0.0   \n",
              "4    0.0      0.0     0.0    0.000000  0.000000  0.080649    0.0      0.0   \n",
              "..   ...      ...     ...         ...       ...       ...    ...      ...   \n",
              "145  0.0      0.0     0.0    0.000000  0.000000  0.000000    0.0      0.0   \n",
              "146  0.0      0.0     0.0    0.000000  0.000000  0.000000    0.0      0.0   \n",
              "147  0.0      0.0     0.0    0.000000  0.000000  0.179240    0.0      0.0   \n",
              "148  0.0      0.0     0.0    0.000000  0.211262  0.000000    0.0      0.0   \n",
              "149  0.0      0.0     0.0    0.000000  0.000000  0.000000    0.0      0.0   \n",
              "\n",
              "       actual        ad  ...    writer   written     wrong   ye      yeah  \\\n",
              "0    0.105328  0.000000  ...  0.000000  0.059286  0.000000  0.0  0.029643   \n",
              "1    0.000000  0.000000  ...  0.000000  0.000000  0.000000  0.0  0.000000   \n",
              "2    0.000000  0.168292  ...  0.000000  0.000000  0.000000  0.0  0.000000   \n",
              "3    0.000000  0.000000  ...  0.121566  0.000000  0.000000  0.0  0.000000   \n",
              "4    0.000000  0.000000  ...  0.000000  0.000000  0.088498  0.0  0.000000   \n",
              "..        ...       ...  ...       ...       ...       ...  ...       ...   \n",
              "145  0.000000  0.000000  ...  0.000000  0.000000  0.000000  0.0  0.000000   \n",
              "146  0.000000  0.000000  ...  0.000000  0.000000  0.000000  0.0  0.000000   \n",
              "147  0.000000  0.000000  ...  0.000000  0.000000  0.000000  0.0  0.000000   \n",
              "148  0.000000  0.000000  ...  0.000000  0.000000  0.000000  0.0  0.000000   \n",
              "149  0.000000  0.000000  ...  0.000000  0.000000  0.000000  0.0  0.000000   \n",
              "\n",
              "         year  youll     young  zero    zimmer  \n",
              "0    0.050949    0.0  0.033181   0.0  0.026591  \n",
              "1    0.000000    0.0  0.000000   0.0  0.000000  \n",
              "2    0.000000    0.0  0.000000   0.0  0.000000  \n",
              "3    0.000000    0.0  0.000000   0.0  0.000000  \n",
              "4    0.000000    0.0  0.000000   0.0  0.000000  \n",
              "..        ...    ...       ...   ...       ...  \n",
              "145  0.000000    0.0  0.000000   0.0  0.000000  \n",
              "146  0.000000    0.0  0.000000   0.0  0.000000  \n",
              "147  0.000000    0.0  0.000000   0.0  0.000000  \n",
              "148  0.000000    0.0  0.000000   0.0  0.000000  \n",
              "149  0.000000    0.0  0.000000   0.0  0.000000  \n",
              "\n",
              "[150 rows x 1000 columns]"
            ],
            "text/html": [
              "\n",
              "  <div id=\"df-9fe232fe-27bf-48db-97a2-61411a94459a\" class=\"colab-df-container\">\n",
              "    <div>\n",
              "<style scoped>\n",
              "    .dataframe tbody tr th:only-of-type {\n",
              "        vertical-align: middle;\n",
              "    }\n",
              "\n",
              "    .dataframe tbody tr th {\n",
              "        vertical-align: top;\n",
              "    }\n",
              "\n",
              "    .dataframe thead th {\n",
              "        text-align: right;\n",
              "    }\n",
              "</style>\n",
              "<table border=\"1\" class=\"dataframe\">\n",
              "  <thead>\n",
              "    <tr style=\"text-align: right;\">\n",
              "      <th></th>\n",
              "      <th>abl</th>\n",
              "      <th>absolut</th>\n",
              "      <th>accept</th>\n",
              "      <th>accomplish</th>\n",
              "      <th>act</th>\n",
              "      <th>action</th>\n",
              "      <th>actor</th>\n",
              "      <th>actress</th>\n",
              "      <th>actual</th>\n",
              "      <th>ad</th>\n",
              "      <th>...</th>\n",
              "      <th>writer</th>\n",
              "      <th>written</th>\n",
              "      <th>wrong</th>\n",
              "      <th>ye</th>\n",
              "      <th>yeah</th>\n",
              "      <th>year</th>\n",
              "      <th>youll</th>\n",
              "      <th>young</th>\n",
              "      <th>zero</th>\n",
              "      <th>zimmer</th>\n",
              "    </tr>\n",
              "  </thead>\n",
              "  <tbody>\n",
              "    <tr>\n",
              "      <th>0</th>\n",
              "      <td>0.0</td>\n",
              "      <td>0.0</td>\n",
              "      <td>0.0</td>\n",
              "      <td>0.031808</td>\n",
              "      <td>0.040425</td>\n",
              "      <td>0.013103</td>\n",
              "      <td>0.0</td>\n",
              "      <td>0.0</td>\n",
              "      <td>0.105328</td>\n",
              "      <td>0.000000</td>\n",
              "      <td>...</td>\n",
              "      <td>0.000000</td>\n",
              "      <td>0.059286</td>\n",
              "      <td>0.000000</td>\n",
              "      <td>0.0</td>\n",
              "      <td>0.029643</td>\n",
              "      <td>0.050949</td>\n",
              "      <td>0.0</td>\n",
              "      <td>0.033181</td>\n",
              "      <td>0.0</td>\n",
              "      <td>0.026591</td>\n",
              "    </tr>\n",
              "    <tr>\n",
              "      <th>1</th>\n",
              "      <td>0.0</td>\n",
              "      <td>0.0</td>\n",
              "      <td>0.0</td>\n",
              "      <td>0.000000</td>\n",
              "      <td>0.000000</td>\n",
              "      <td>0.053098</td>\n",
              "      <td>0.0</td>\n",
              "      <td>0.0</td>\n",
              "      <td>0.000000</td>\n",
              "      <td>0.000000</td>\n",
              "      <td>...</td>\n",
              "      <td>0.000000</td>\n",
              "      <td>0.000000</td>\n",
              "      <td>0.000000</td>\n",
              "      <td>0.0</td>\n",
              "      <td>0.000000</td>\n",
              "      <td>0.000000</td>\n",
              "      <td>0.0</td>\n",
              "      <td>0.000000</td>\n",
              "      <td>0.0</td>\n",
              "      <td>0.000000</td>\n",
              "    </tr>\n",
              "    <tr>\n",
              "      <th>2</th>\n",
              "      <td>0.0</td>\n",
              "      <td>0.0</td>\n",
              "      <td>0.0</td>\n",
              "      <td>0.000000</td>\n",
              "      <td>0.000000</td>\n",
              "      <td>0.000000</td>\n",
              "      <td>0.0</td>\n",
              "      <td>0.0</td>\n",
              "      <td>0.000000</td>\n",
              "      <td>0.168292</td>\n",
              "      <td>...</td>\n",
              "      <td>0.000000</td>\n",
              "      <td>0.000000</td>\n",
              "      <td>0.000000</td>\n",
              "      <td>0.0</td>\n",
              "      <td>0.000000</td>\n",
              "      <td>0.000000</td>\n",
              "      <td>0.0</td>\n",
              "      <td>0.000000</td>\n",
              "      <td>0.0</td>\n",
              "      <td>0.000000</td>\n",
              "    </tr>\n",
              "    <tr>\n",
              "      <th>3</th>\n",
              "      <td>0.0</td>\n",
              "      <td>0.0</td>\n",
              "      <td>0.0</td>\n",
              "      <td>0.000000</td>\n",
              "      <td>0.000000</td>\n",
              "      <td>0.110783</td>\n",
              "      <td>0.0</td>\n",
              "      <td>0.0</td>\n",
              "      <td>0.000000</td>\n",
              "      <td>0.000000</td>\n",
              "      <td>...</td>\n",
              "      <td>0.121566</td>\n",
              "      <td>0.000000</td>\n",
              "      <td>0.000000</td>\n",
              "      <td>0.0</td>\n",
              "      <td>0.000000</td>\n",
              "      <td>0.000000</td>\n",
              "      <td>0.0</td>\n",
              "      <td>0.000000</td>\n",
              "      <td>0.0</td>\n",
              "      <td>0.000000</td>\n",
              "    </tr>\n",
              "    <tr>\n",
              "      <th>4</th>\n",
              "      <td>0.0</td>\n",
              "      <td>0.0</td>\n",
              "      <td>0.0</td>\n",
              "      <td>0.000000</td>\n",
              "      <td>0.000000</td>\n",
              "      <td>0.080649</td>\n",
              "      <td>0.0</td>\n",
              "      <td>0.0</td>\n",
              "      <td>0.000000</td>\n",
              "      <td>0.000000</td>\n",
              "      <td>...</td>\n",
              "      <td>0.000000</td>\n",
              "      <td>0.000000</td>\n",
              "      <td>0.088498</td>\n",
              "      <td>0.0</td>\n",
              "      <td>0.000000</td>\n",
              "      <td>0.000000</td>\n",
              "      <td>0.0</td>\n",
              "      <td>0.000000</td>\n",
              "      <td>0.0</td>\n",
              "      <td>0.000000</td>\n",
              "    </tr>\n",
              "    <tr>\n",
              "      <th>...</th>\n",
              "      <td>...</td>\n",
              "      <td>...</td>\n",
              "      <td>...</td>\n",
              "      <td>...</td>\n",
              "      <td>...</td>\n",
              "      <td>...</td>\n",
              "      <td>...</td>\n",
              "      <td>...</td>\n",
              "      <td>...</td>\n",
              "      <td>...</td>\n",
              "      <td>...</td>\n",
              "      <td>...</td>\n",
              "      <td>...</td>\n",
              "      <td>...</td>\n",
              "      <td>...</td>\n",
              "      <td>...</td>\n",
              "      <td>...</td>\n",
              "      <td>...</td>\n",
              "      <td>...</td>\n",
              "      <td>...</td>\n",
              "      <td>...</td>\n",
              "    </tr>\n",
              "    <tr>\n",
              "      <th>145</th>\n",
              "      <td>0.0</td>\n",
              "      <td>0.0</td>\n",
              "      <td>0.0</td>\n",
              "      <td>0.000000</td>\n",
              "      <td>0.000000</td>\n",
              "      <td>0.000000</td>\n",
              "      <td>0.0</td>\n",
              "      <td>0.0</td>\n",
              "      <td>0.000000</td>\n",
              "      <td>0.000000</td>\n",
              "      <td>...</td>\n",
              "      <td>0.000000</td>\n",
              "      <td>0.000000</td>\n",
              "      <td>0.000000</td>\n",
              "      <td>0.0</td>\n",
              "      <td>0.000000</td>\n",
              "      <td>0.000000</td>\n",
              "      <td>0.0</td>\n",
              "      <td>0.000000</td>\n",
              "      <td>0.0</td>\n",
              "      <td>0.000000</td>\n",
              "    </tr>\n",
              "    <tr>\n",
              "      <th>146</th>\n",
              "      <td>0.0</td>\n",
              "      <td>0.0</td>\n",
              "      <td>0.0</td>\n",
              "      <td>0.000000</td>\n",
              "      <td>0.000000</td>\n",
              "      <td>0.000000</td>\n",
              "      <td>0.0</td>\n",
              "      <td>0.0</td>\n",
              "      <td>0.000000</td>\n",
              "      <td>0.000000</td>\n",
              "      <td>...</td>\n",
              "      <td>0.000000</td>\n",
              "      <td>0.000000</td>\n",
              "      <td>0.000000</td>\n",
              "      <td>0.0</td>\n",
              "      <td>0.000000</td>\n",
              "      <td>0.000000</td>\n",
              "      <td>0.0</td>\n",
              "      <td>0.000000</td>\n",
              "      <td>0.0</td>\n",
              "      <td>0.000000</td>\n",
              "    </tr>\n",
              "    <tr>\n",
              "      <th>147</th>\n",
              "      <td>0.0</td>\n",
              "      <td>0.0</td>\n",
              "      <td>0.0</td>\n",
              "      <td>0.000000</td>\n",
              "      <td>0.000000</td>\n",
              "      <td>0.179240</td>\n",
              "      <td>0.0</td>\n",
              "      <td>0.0</td>\n",
              "      <td>0.000000</td>\n",
              "      <td>0.000000</td>\n",
              "      <td>...</td>\n",
              "      <td>0.000000</td>\n",
              "      <td>0.000000</td>\n",
              "      <td>0.000000</td>\n",
              "      <td>0.0</td>\n",
              "      <td>0.000000</td>\n",
              "      <td>0.000000</td>\n",
              "      <td>0.0</td>\n",
              "      <td>0.000000</td>\n",
              "      <td>0.0</td>\n",
              "      <td>0.000000</td>\n",
              "    </tr>\n",
              "    <tr>\n",
              "      <th>148</th>\n",
              "      <td>0.0</td>\n",
              "      <td>0.0</td>\n",
              "      <td>0.0</td>\n",
              "      <td>0.000000</td>\n",
              "      <td>0.211262</td>\n",
              "      <td>0.000000</td>\n",
              "      <td>0.0</td>\n",
              "      <td>0.0</td>\n",
              "      <td>0.000000</td>\n",
              "      <td>0.000000</td>\n",
              "      <td>...</td>\n",
              "      <td>0.000000</td>\n",
              "      <td>0.000000</td>\n",
              "      <td>0.000000</td>\n",
              "      <td>0.0</td>\n",
              "      <td>0.000000</td>\n",
              "      <td>0.000000</td>\n",
              "      <td>0.0</td>\n",
              "      <td>0.000000</td>\n",
              "      <td>0.0</td>\n",
              "      <td>0.000000</td>\n",
              "    </tr>\n",
              "    <tr>\n",
              "      <th>149</th>\n",
              "      <td>0.0</td>\n",
              "      <td>0.0</td>\n",
              "      <td>0.0</td>\n",
              "      <td>0.000000</td>\n",
              "      <td>0.000000</td>\n",
              "      <td>0.000000</td>\n",
              "      <td>0.0</td>\n",
              "      <td>0.0</td>\n",
              "      <td>0.000000</td>\n",
              "      <td>0.000000</td>\n",
              "      <td>...</td>\n",
              "      <td>0.000000</td>\n",
              "      <td>0.000000</td>\n",
              "      <td>0.000000</td>\n",
              "      <td>0.0</td>\n",
              "      <td>0.000000</td>\n",
              "      <td>0.000000</td>\n",
              "      <td>0.0</td>\n",
              "      <td>0.000000</td>\n",
              "      <td>0.0</td>\n",
              "      <td>0.000000</td>\n",
              "    </tr>\n",
              "  </tbody>\n",
              "</table>\n",
              "<p>150 rows × 1000 columns</p>\n",
              "</div>\n",
              "    <div class=\"colab-df-buttons\">\n",
              "\n",
              "  <div class=\"colab-df-container\">\n",
              "    <button class=\"colab-df-convert\" onclick=\"convertToInteractive('df-9fe232fe-27bf-48db-97a2-61411a94459a')\"\n",
              "            title=\"Convert this dataframe to an interactive table.\"\n",
              "            style=\"display:none;\">\n",
              "\n",
              "  <svg xmlns=\"http://www.w3.org/2000/svg\" height=\"24px\" viewBox=\"0 -960 960 960\">\n",
              "    <path d=\"M120-120v-720h720v720H120Zm60-500h600v-160H180v160Zm220 220h160v-160H400v160Zm0 220h160v-160H400v160ZM180-400h160v-160H180v160Zm440 0h160v-160H620v160ZM180-180h160v-160H180v160Zm440 0h160v-160H620v160Z\"/>\n",
              "  </svg>\n",
              "    </button>\n",
              "\n",
              "  <style>\n",
              "    .colab-df-container {\n",
              "      display:flex;\n",
              "      gap: 12px;\n",
              "    }\n",
              "\n",
              "    .colab-df-convert {\n",
              "      background-color: #E8F0FE;\n",
              "      border: none;\n",
              "      border-radius: 50%;\n",
              "      cursor: pointer;\n",
              "      display: none;\n",
              "      fill: #1967D2;\n",
              "      height: 32px;\n",
              "      padding: 0 0 0 0;\n",
              "      width: 32px;\n",
              "    }\n",
              "\n",
              "    .colab-df-convert:hover {\n",
              "      background-color: #E2EBFA;\n",
              "      box-shadow: 0px 1px 2px rgba(60, 64, 67, 0.3), 0px 1px 3px 1px rgba(60, 64, 67, 0.15);\n",
              "      fill: #174EA6;\n",
              "    }\n",
              "\n",
              "    .colab-df-buttons div {\n",
              "      margin-bottom: 4px;\n",
              "    }\n",
              "\n",
              "    [theme=dark] .colab-df-convert {\n",
              "      background-color: #3B4455;\n",
              "      fill: #D2E3FC;\n",
              "    }\n",
              "\n",
              "    [theme=dark] .colab-df-convert:hover {\n",
              "      background-color: #434B5C;\n",
              "      box-shadow: 0px 1px 3px 1px rgba(0, 0, 0, 0.15);\n",
              "      filter: drop-shadow(0px 1px 2px rgba(0, 0, 0, 0.3));\n",
              "      fill: #FFFFFF;\n",
              "    }\n",
              "  </style>\n",
              "\n",
              "    <script>\n",
              "      const buttonEl =\n",
              "        document.querySelector('#df-9fe232fe-27bf-48db-97a2-61411a94459a button.colab-df-convert');\n",
              "      buttonEl.style.display =\n",
              "        google.colab.kernel.accessAllowed ? 'block' : 'none';\n",
              "\n",
              "      async function convertToInteractive(key) {\n",
              "        const element = document.querySelector('#df-9fe232fe-27bf-48db-97a2-61411a94459a');\n",
              "        const dataTable =\n",
              "          await google.colab.kernel.invokeFunction('convertToInteractive',\n",
              "                                                    [key], {});\n",
              "        if (!dataTable) return;\n",
              "\n",
              "        const docLinkHtml = 'Like what you see? Visit the ' +\n",
              "          '<a target=\"_blank\" href=https://colab.research.google.com/notebooks/data_table.ipynb>data table notebook</a>'\n",
              "          + ' to learn more about interactive tables.';\n",
              "        element.innerHTML = '';\n",
              "        dataTable['output_type'] = 'display_data';\n",
              "        await google.colab.output.renderOutput(dataTable, element);\n",
              "        const docLink = document.createElement('div');\n",
              "        docLink.innerHTML = docLinkHtml;\n",
              "        element.appendChild(docLink);\n",
              "      }\n",
              "    </script>\n",
              "  </div>\n",
              "\n",
              "\n",
              "<div id=\"df-6e40c317-7605-48e6-8c35-5e50c8b25e7b\">\n",
              "  <button class=\"colab-df-quickchart\" onclick=\"quickchart('df-6e40c317-7605-48e6-8c35-5e50c8b25e7b')\"\n",
              "            title=\"Suggest charts.\"\n",
              "            style=\"display:none;\">\n",
              "\n",
              "<svg xmlns=\"http://www.w3.org/2000/svg\" height=\"24px\"viewBox=\"0 0 24 24\"\n",
              "     width=\"24px\">\n",
              "    <g>\n",
              "        <path d=\"M19 3H5c-1.1 0-2 .9-2 2v14c0 1.1.9 2 2 2h14c1.1 0 2-.9 2-2V5c0-1.1-.9-2-2-2zM9 17H7v-7h2v7zm4 0h-2V7h2v10zm4 0h-2v-4h2v4z\"/>\n",
              "    </g>\n",
              "</svg>\n",
              "  </button>\n",
              "\n",
              "<style>\n",
              "  .colab-df-quickchart {\n",
              "    background-color: #E8F0FE;\n",
              "    border: none;\n",
              "    border-radius: 50%;\n",
              "    cursor: pointer;\n",
              "    display: none;\n",
              "    fill: #1967D2;\n",
              "    height: 32px;\n",
              "    padding: 0 0 0 0;\n",
              "    width: 32px;\n",
              "  }\n",
              "\n",
              "  .colab-df-quickchart:hover {\n",
              "    background-color: #E2EBFA;\n",
              "    box-shadow: 0px 1px 2px rgba(60, 64, 67, 0.3), 0px 1px 3px 1px rgba(60, 64, 67, 0.15);\n",
              "    fill: #174EA6;\n",
              "  }\n",
              "\n",
              "  [theme=dark] .colab-df-quickchart {\n",
              "    background-color: #3B4455;\n",
              "    fill: #D2E3FC;\n",
              "  }\n",
              "\n",
              "  [theme=dark] .colab-df-quickchart:hover {\n",
              "    background-color: #434B5C;\n",
              "    box-shadow: 0px 1px 3px 1px rgba(0, 0, 0, 0.15);\n",
              "    filter: drop-shadow(0px 1px 2px rgba(0, 0, 0, 0.3));\n",
              "    fill: #FFFFFF;\n",
              "  }\n",
              "</style>\n",
              "\n",
              "  <script>\n",
              "    async function quickchart(key) {\n",
              "      const charts = await google.colab.kernel.invokeFunction(\n",
              "          'suggestCharts', [key], {});\n",
              "    }\n",
              "    (() => {\n",
              "      let quickchartButtonEl =\n",
              "        document.querySelector('#df-6e40c317-7605-48e6-8c35-5e50c8b25e7b button');\n",
              "      quickchartButtonEl.style.display =\n",
              "        google.colab.kernel.accessAllowed ? 'block' : 'none';\n",
              "    })();\n",
              "  </script>\n",
              "</div>\n",
              "    </div>\n",
              "  </div>\n"
            ]
          },
          "metadata": {},
          "execution_count": 137
        }
      ]
    },
    {
      "cell_type": "markdown",
      "source": [
        "## 2.8 Train-Test Split"
      ],
      "metadata": {
        "id": "d309p0JuERSh"
      }
    },
    {
      "cell_type": "code",
      "source": [
        "from sklearn.model_selection import train_test_split"
      ],
      "metadata": {
        "id": "9UcnQyPhEQv8"
      },
      "execution_count": null,
      "outputs": []
    },
    {
      "cell_type": "code",
      "source": [
        "from sklearn.preprocessing import OneHotEncoder"
      ],
      "metadata": {
        "id": "Rxd_eSI7Ip8M"
      },
      "execution_count": null,
      "outputs": []
    },
    {
      "cell_type": "code",
      "source": [
        "y = pd.get_dummies(data['sentiment'],drop_first=True)"
      ],
      "metadata": {
        "id": "S_3huds5EtW0"
      },
      "execution_count": null,
      "outputs": []
    },
    {
      "cell_type": "code",
      "source": [
        "y"
      ],
      "metadata": {
        "colab": {
          "base_uri": "https://localhost:8080/",
          "height": 423
        },
        "id": "yspuSy9CUmgL",
        "outputId": "d57c6cf4-02aa-4f03-f748-004cf53f150b"
      },
      "execution_count": null,
      "outputs": [
        {
          "output_type": "execute_result",
          "data": {
            "text/plain": [
              "     Positive\n",
              "0           0\n",
              "1           1\n",
              "2           0\n",
              "3           0\n",
              "4           0\n",
              "..        ...\n",
              "145         1\n",
              "146         1\n",
              "147         1\n",
              "148         1\n",
              "149         1\n",
              "\n",
              "[150 rows x 1 columns]"
            ],
            "text/html": [
              "\n",
              "  <div id=\"df-efe3d3df-1625-43c5-9ff9-c9b23ea3a818\" class=\"colab-df-container\">\n",
              "    <div>\n",
              "<style scoped>\n",
              "    .dataframe tbody tr th:only-of-type {\n",
              "        vertical-align: middle;\n",
              "    }\n",
              "\n",
              "    .dataframe tbody tr th {\n",
              "        vertical-align: top;\n",
              "    }\n",
              "\n",
              "    .dataframe thead th {\n",
              "        text-align: right;\n",
              "    }\n",
              "</style>\n",
              "<table border=\"1\" class=\"dataframe\">\n",
              "  <thead>\n",
              "    <tr style=\"text-align: right;\">\n",
              "      <th></th>\n",
              "      <th>Positive</th>\n",
              "    </tr>\n",
              "  </thead>\n",
              "  <tbody>\n",
              "    <tr>\n",
              "      <th>0</th>\n",
              "      <td>0</td>\n",
              "    </tr>\n",
              "    <tr>\n",
              "      <th>1</th>\n",
              "      <td>1</td>\n",
              "    </tr>\n",
              "    <tr>\n",
              "      <th>2</th>\n",
              "      <td>0</td>\n",
              "    </tr>\n",
              "    <tr>\n",
              "      <th>3</th>\n",
              "      <td>0</td>\n",
              "    </tr>\n",
              "    <tr>\n",
              "      <th>4</th>\n",
              "      <td>0</td>\n",
              "    </tr>\n",
              "    <tr>\n",
              "      <th>...</th>\n",
              "      <td>...</td>\n",
              "    </tr>\n",
              "    <tr>\n",
              "      <th>145</th>\n",
              "      <td>1</td>\n",
              "    </tr>\n",
              "    <tr>\n",
              "      <th>146</th>\n",
              "      <td>1</td>\n",
              "    </tr>\n",
              "    <tr>\n",
              "      <th>147</th>\n",
              "      <td>1</td>\n",
              "    </tr>\n",
              "    <tr>\n",
              "      <th>148</th>\n",
              "      <td>1</td>\n",
              "    </tr>\n",
              "    <tr>\n",
              "      <th>149</th>\n",
              "      <td>1</td>\n",
              "    </tr>\n",
              "  </tbody>\n",
              "</table>\n",
              "<p>150 rows × 1 columns</p>\n",
              "</div>\n",
              "    <div class=\"colab-df-buttons\">\n",
              "\n",
              "  <div class=\"colab-df-container\">\n",
              "    <button class=\"colab-df-convert\" onclick=\"convertToInteractive('df-efe3d3df-1625-43c5-9ff9-c9b23ea3a818')\"\n",
              "            title=\"Convert this dataframe to an interactive table.\"\n",
              "            style=\"display:none;\">\n",
              "\n",
              "  <svg xmlns=\"http://www.w3.org/2000/svg\" height=\"24px\" viewBox=\"0 -960 960 960\">\n",
              "    <path d=\"M120-120v-720h720v720H120Zm60-500h600v-160H180v160Zm220 220h160v-160H400v160Zm0 220h160v-160H400v160ZM180-400h160v-160H180v160Zm440 0h160v-160H620v160ZM180-180h160v-160H180v160Zm440 0h160v-160H620v160Z\"/>\n",
              "  </svg>\n",
              "    </button>\n",
              "\n",
              "  <style>\n",
              "    .colab-df-container {\n",
              "      display:flex;\n",
              "      gap: 12px;\n",
              "    }\n",
              "\n",
              "    .colab-df-convert {\n",
              "      background-color: #E8F0FE;\n",
              "      border: none;\n",
              "      border-radius: 50%;\n",
              "      cursor: pointer;\n",
              "      display: none;\n",
              "      fill: #1967D2;\n",
              "      height: 32px;\n",
              "      padding: 0 0 0 0;\n",
              "      width: 32px;\n",
              "    }\n",
              "\n",
              "    .colab-df-convert:hover {\n",
              "      background-color: #E2EBFA;\n",
              "      box-shadow: 0px 1px 2px rgba(60, 64, 67, 0.3), 0px 1px 3px 1px rgba(60, 64, 67, 0.15);\n",
              "      fill: #174EA6;\n",
              "    }\n",
              "\n",
              "    .colab-df-buttons div {\n",
              "      margin-bottom: 4px;\n",
              "    }\n",
              "\n",
              "    [theme=dark] .colab-df-convert {\n",
              "      background-color: #3B4455;\n",
              "      fill: #D2E3FC;\n",
              "    }\n",
              "\n",
              "    [theme=dark] .colab-df-convert:hover {\n",
              "      background-color: #434B5C;\n",
              "      box-shadow: 0px 1px 3px 1px rgba(0, 0, 0, 0.15);\n",
              "      filter: drop-shadow(0px 1px 2px rgba(0, 0, 0, 0.3));\n",
              "      fill: #FFFFFF;\n",
              "    }\n",
              "  </style>\n",
              "\n",
              "    <script>\n",
              "      const buttonEl =\n",
              "        document.querySelector('#df-efe3d3df-1625-43c5-9ff9-c9b23ea3a818 button.colab-df-convert');\n",
              "      buttonEl.style.display =\n",
              "        google.colab.kernel.accessAllowed ? 'block' : 'none';\n",
              "\n",
              "      async function convertToInteractive(key) {\n",
              "        const element = document.querySelector('#df-efe3d3df-1625-43c5-9ff9-c9b23ea3a818');\n",
              "        const dataTable =\n",
              "          await google.colab.kernel.invokeFunction('convertToInteractive',\n",
              "                                                    [key], {});\n",
              "        if (!dataTable) return;\n",
              "\n",
              "        const docLinkHtml = 'Like what you see? Visit the ' +\n",
              "          '<a target=\"_blank\" href=https://colab.research.google.com/notebooks/data_table.ipynb>data table notebook</a>'\n",
              "          + ' to learn more about interactive tables.';\n",
              "        element.innerHTML = '';\n",
              "        dataTable['output_type'] = 'display_data';\n",
              "        await google.colab.output.renderOutput(dataTable, element);\n",
              "        const docLink = document.createElement('div');\n",
              "        docLink.innerHTML = docLinkHtml;\n",
              "        element.appendChild(docLink);\n",
              "      }\n",
              "    </script>\n",
              "  </div>\n",
              "\n",
              "\n",
              "<div id=\"df-08ecdeb2-3b80-47c5-949c-ede85d462bea\">\n",
              "  <button class=\"colab-df-quickchart\" onclick=\"quickchart('df-08ecdeb2-3b80-47c5-949c-ede85d462bea')\"\n",
              "            title=\"Suggest charts.\"\n",
              "            style=\"display:none;\">\n",
              "\n",
              "<svg xmlns=\"http://www.w3.org/2000/svg\" height=\"24px\"viewBox=\"0 0 24 24\"\n",
              "     width=\"24px\">\n",
              "    <g>\n",
              "        <path d=\"M19 3H5c-1.1 0-2 .9-2 2v14c0 1.1.9 2 2 2h14c1.1 0 2-.9 2-2V5c0-1.1-.9-2-2-2zM9 17H7v-7h2v7zm4 0h-2V7h2v10zm4 0h-2v-4h2v4z\"/>\n",
              "    </g>\n",
              "</svg>\n",
              "  </button>\n",
              "\n",
              "<style>\n",
              "  .colab-df-quickchart {\n",
              "    background-color: #E8F0FE;\n",
              "    border: none;\n",
              "    border-radius: 50%;\n",
              "    cursor: pointer;\n",
              "    display: none;\n",
              "    fill: #1967D2;\n",
              "    height: 32px;\n",
              "    padding: 0 0 0 0;\n",
              "    width: 32px;\n",
              "  }\n",
              "\n",
              "  .colab-df-quickchart:hover {\n",
              "    background-color: #E2EBFA;\n",
              "    box-shadow: 0px 1px 2px rgba(60, 64, 67, 0.3), 0px 1px 3px 1px rgba(60, 64, 67, 0.15);\n",
              "    fill: #174EA6;\n",
              "  }\n",
              "\n",
              "  [theme=dark] .colab-df-quickchart {\n",
              "    background-color: #3B4455;\n",
              "    fill: #D2E3FC;\n",
              "  }\n",
              "\n",
              "  [theme=dark] .colab-df-quickchart:hover {\n",
              "    background-color: #434B5C;\n",
              "    box-shadow: 0px 1px 3px 1px rgba(0, 0, 0, 0.15);\n",
              "    filter: drop-shadow(0px 1px 2px rgba(0, 0, 0, 0.3));\n",
              "    fill: #FFFFFF;\n",
              "  }\n",
              "</style>\n",
              "\n",
              "  <script>\n",
              "    async function quickchart(key) {\n",
              "      const charts = await google.colab.kernel.invokeFunction(\n",
              "          'suggestCharts', [key], {});\n",
              "    }\n",
              "    (() => {\n",
              "      let quickchartButtonEl =\n",
              "        document.querySelector('#df-08ecdeb2-3b80-47c5-949c-ede85d462bea button');\n",
              "      quickchartButtonEl.style.display =\n",
              "        google.colab.kernel.accessAllowed ? 'block' : 'none';\n",
              "    })();\n",
              "  </script>\n",
              "</div>\n",
              "    </div>\n",
              "  </div>\n"
            ]
          },
          "metadata": {},
          "execution_count": 139
        }
      ]
    },
    {
      "cell_type": "code",
      "source": [
        "data['sentiment']"
      ],
      "metadata": {
        "colab": {
          "base_uri": "https://localhost:8080/"
        },
        "id": "j0YfOtCOaRq6",
        "outputId": "a2ecf5fd-5747-4026-fa6c-273e0dc16722"
      },
      "execution_count": null,
      "outputs": [
        {
          "output_type": "execute_result",
          "data": {
            "text/plain": [
              "0      Negative\n",
              "1      Positive\n",
              "2      Negative\n",
              "3      Negative\n",
              "4      Negative\n",
              "         ...   \n",
              "145    Positive\n",
              "146    Positive\n",
              "147    Positive\n",
              "148    Positive\n",
              "149    Positive\n",
              "Name: sentiment, Length: 150, dtype: object"
            ]
          },
          "metadata": {},
          "execution_count": 160
        }
      ]
    },
    {
      "cell_type": "code",
      "source": [
        "X_train, X_test, y_train, y_test = train_test_split(model_data,y,random_state=32,test_size=0.3)"
      ],
      "metadata": {
        "id": "7EUZTQPzEFMt"
      },
      "execution_count": null,
      "outputs": []
    },
    {
      "cell_type": "markdown",
      "source": [
        "## 2.9 Model Building"
      ],
      "metadata": {
        "id": "okH499zMF6GE"
      }
    },
    {
      "cell_type": "code",
      "source": [
        "from tensorflow.keras import Sequential\n",
        "from tensorflow.keras.layers import Dense\n",
        "from tensorflow import keras"
      ],
      "metadata": {
        "id": "7cNDTZldFFRO"
      },
      "execution_count": null,
      "outputs": []
    },
    {
      "cell_type": "code",
      "source": [
        "#initialize the model\n",
        "model = Sequential()\n",
        "\n",
        "model.add(Dense(1000,activation='relu',input_dim=1000))\n",
        "model.add(Dense(500,activation='sigmoid'))\n",
        "model.add(Dense(100,activation='relu'))\n",
        "model.add(Dense(1,activation='sigmoid'))\n",
        "\n",
        "model.compile(optimizer=keras.optimizers.Adam(learning_rate=0.001),loss='binary_crossentropy',metrics=['accuracy'])\n",
        "\n",
        "model.fit(X_train,y_train,epochs=10,batch_size=8)"
      ],
      "metadata": {
        "colab": {
          "base_uri": "https://localhost:8080/"
        },
        "id": "5D1yZhQcGTKS",
        "outputId": "3ef0a7d9-7790-4aa3-b67a-7cbc029920d7"
      },
      "execution_count": null,
      "outputs": [
        {
          "output_type": "stream",
          "name": "stdout",
          "text": [
            "Epoch 1/10\n",
            "14/14 [==============================] - 2s 22ms/step - loss: 0.6404 - accuracy: 0.7238\n",
            "Epoch 2/10\n",
            "14/14 [==============================] - 0s 20ms/step - loss: 0.4994 - accuracy: 0.7429\n",
            "Epoch 3/10\n",
            "14/14 [==============================] - 0s 18ms/step - loss: 0.2767 - accuracy: 0.8952\n",
            "Epoch 4/10\n",
            "14/14 [==============================] - 0s 18ms/step - loss: 0.0754 - accuracy: 1.0000\n",
            "Epoch 5/10\n",
            "14/14 [==============================] - 0s 19ms/step - loss: 0.0113 - accuracy: 1.0000\n",
            "Epoch 6/10\n",
            "14/14 [==============================] - 0s 19ms/step - loss: 0.0034 - accuracy: 1.0000\n",
            "Epoch 7/10\n",
            "14/14 [==============================] - 0s 20ms/step - loss: 0.0015 - accuracy: 1.0000\n",
            "Epoch 8/10\n",
            "14/14 [==============================] - 0s 18ms/step - loss: 8.8396e-04 - accuracy: 1.0000\n",
            "Epoch 9/10\n",
            "14/14 [==============================] - 0s 20ms/step - loss: 5.9395e-04 - accuracy: 1.0000\n",
            "Epoch 10/10\n",
            "14/14 [==============================] - 0s 18ms/step - loss: 4.4141e-04 - accuracy: 1.0000\n"
          ]
        },
        {
          "output_type": "execute_result",
          "data": {
            "text/plain": [
              "<keras.callbacks.History at 0x7f447d1e6500>"
            ]
          },
          "metadata": {},
          "execution_count": 153
        }
      ]
    },
    {
      "cell_type": "markdown",
      "source": [
        "## 2.10 Model Evaluation"
      ],
      "metadata": {
        "id": "psuxinNdegEo"
      }
    },
    {
      "cell_type": "code",
      "source": [
        "model.evaluate(X_test,y_test,batch_size=8)"
      ],
      "metadata": {
        "colab": {
          "base_uri": "https://localhost:8080/"
        },
        "id": "aBDM5uZHJRec",
        "outputId": "0780bcd6-01e1-495e-eabd-6354d91bb181"
      },
      "execution_count": null,
      "outputs": [
        {
          "output_type": "stream",
          "name": "stdout",
          "text": [
            "6/6 [==============================] - 0s 4ms/step - loss: 1.2962 - accuracy: 0.6667\n"
          ]
        },
        {
          "output_type": "execute_result",
          "data": {
            "text/plain": [
              "[1.2962336540222168, 0.6666666865348816]"
            ]
          },
          "metadata": {},
          "execution_count": 154
        }
      ]
    },
    {
      "cell_type": "code",
      "source": [
        "y_pred = model.predict(X_test,batch_size=8)"
      ],
      "metadata": {
        "colab": {
          "base_uri": "https://localhost:8080/"
        },
        "id": "o8QG6jiNQc-V",
        "outputId": "7daf1be5-5277-4bb5-d94f-ecc46a74d90d"
      },
      "execution_count": null,
      "outputs": [
        {
          "output_type": "stream",
          "name": "stdout",
          "text": [
            "6/6 [==============================] - 0s 3ms/step\n"
          ]
        }
      ]
    },
    {
      "cell_type": "code",
      "source": [
        "y_pred[0]"
      ],
      "metadata": {
        "colab": {
          "base_uri": "https://localhost:8080/"
        },
        "id": "nZhurJMNbEQz",
        "outputId": "deaca6f8-abb1-4906-d47e-755ab2f147b3"
      },
      "execution_count": null,
      "outputs": [
        {
          "output_type": "execute_result",
          "data": {
            "text/plain": [
              "array([ True])"
            ]
          },
          "metadata": {},
          "execution_count": 167
        }
      ]
    },
    {
      "cell_type": "code",
      "source": [
        "for i in range(0,len(y_pred)):\n",
        "  if(y_pred[i]>0.5):\n",
        "    y_pred[i] = 1\n",
        "  else:\n",
        "    y_pred[i] = 0"
      ],
      "metadata": {
        "id": "C14O-XUSaCKp"
      },
      "execution_count": null,
      "outputs": []
    },
    {
      "cell_type": "code",
      "source": [
        "from sklearn.metrics import confusion_matrix,classification_report"
      ],
      "metadata": {
        "id": "8qCiI1aDaM4o"
      },
      "execution_count": null,
      "outputs": []
    },
    {
      "cell_type": "code",
      "source": [
        "confusion_matrix(y_test,y_pred)"
      ],
      "metadata": {
        "colab": {
          "base_uri": "https://localhost:8080/"
        },
        "id": "uxUluIILbi4D",
        "outputId": "0cea6038-e13a-41d7-a2d8-bf3bcd3ac42f"
      },
      "execution_count": null,
      "outputs": [
        {
          "output_type": "execute_result",
          "data": {
            "text/plain": [
              "array([[ 3, 14],\n",
              "       [ 1, 27]])"
            ]
          },
          "metadata": {},
          "execution_count": 175
        }
      ]
    },
    {
      "cell_type": "code",
      "source": [
        "print(classification_report(y_test,y_pred))"
      ],
      "metadata": {
        "colab": {
          "base_uri": "https://localhost:8080/"
        },
        "id": "dXaZhxrwbmnm",
        "outputId": "22afa2b4-865f-41a2-ec0f-81fc21d730bf"
      },
      "execution_count": null,
      "outputs": [
        {
          "output_type": "stream",
          "name": "stdout",
          "text": [
            "              precision    recall  f1-score   support\n",
            "\n",
            "           0       0.75      0.18      0.29        17\n",
            "           1       0.66      0.96      0.78        28\n",
            "\n",
            "    accuracy                           0.67        45\n",
            "   macro avg       0.70      0.57      0.53        45\n",
            "weighted avg       0.69      0.67      0.59        45\n",
            "\n"
          ]
        }
      ]
    }
  ]
}